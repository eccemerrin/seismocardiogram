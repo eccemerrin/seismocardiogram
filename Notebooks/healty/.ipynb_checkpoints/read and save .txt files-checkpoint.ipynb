{
 "cells": [
  {
   "cell_type": "markdown",
   "id": "ef32bcac",
   "metadata": {},
   "source": [
    "### imports"
   ]
  },
  {
   "cell_type": "code",
   "execution_count": 1,
   "id": "564c67ff",
   "metadata": {},
   "outputs": [
    {
     "ename": "RuntimeError",
     "evalue": "module compiled against API version 0xe but this version of numpy is 0xd",
     "output_type": "error",
     "traceback": [
      "\u001b[0;31m---------------------------------------------------------------------------\u001b[0m",
      "\u001b[0;31mRuntimeError\u001b[0m                              Traceback (most recent call last)",
      "\u001b[0;31mRuntimeError\u001b[0m: module compiled against API version 0xe but this version of numpy is 0xd"
     ]
    }
   ],
   "source": [
    "import os\n",
    "import numpy as np\n",
    "import pandas as pd\n",
    "import warnings\n",
    "warnings.filterwarnings('ignore')"
   ]
  },
  {
   "cell_type": "markdown",
   "id": "e40ea7d9",
   "metadata": {},
   "source": [
    "For this part, you need to change dir_path to path of ypur directory which contains .csv files."
   ]
  },
  {
   "cell_type": "code",
   "execution_count": 2,
   "id": "75620186",
   "metadata": {},
   "outputs": [],
   "source": [
    "dir_path = \"/Users/ecem/Documents/GitHub/seismocardiogram/data/healty-dataset\""
   ]
  },
  {
   "cell_type": "code",
   "execution_count": 3,
   "id": "16a20eb7",
   "metadata": {},
   "outputs": [],
   "source": [
    "files, x, y, z = [],[], [], []"
   ]
  },
  {
   "cell_type": "code",
   "execution_count": 4,
   "id": "e8e9b615",
   "metadata": {},
   "outputs": [],
   "source": [
    "for file in os.listdir(dir_path):\n",
    "    if file.endswith(\".txt\"):\n",
    "        files.append(os.path.join(dir_path, file))"
   ]
  },
  {
   "cell_type": "code",
   "execution_count": 5,
   "id": "21100d5a",
   "metadata": {
    "scrolled": true
   },
   "outputs": [
    {
     "data": {
      "text/plain": [
       "['/Users/ecem/Documents/GitHub/seismocardiogram/data/healty-dataset/sub_1.txt',\n",
       " '/Users/ecem/Documents/GitHub/seismocardiogram/data/healty-dataset/sub_10.txt',\n",
       " '/Users/ecem/Documents/GitHub/seismocardiogram/data/healty-dataset/sub_11.txt',\n",
       " '/Users/ecem/Documents/GitHub/seismocardiogram/data/healty-dataset/sub_12.txt',\n",
       " '/Users/ecem/Documents/GitHub/seismocardiogram/data/healty-dataset/sub_13.txt',\n",
       " '/Users/ecem/Documents/GitHub/seismocardiogram/data/healty-dataset/sub_14.txt',\n",
       " '/Users/ecem/Documents/GitHub/seismocardiogram/data/healty-dataset/sub_15.txt',\n",
       " '/Users/ecem/Documents/GitHub/seismocardiogram/data/healty-dataset/sub_16.txt',\n",
       " '/Users/ecem/Documents/GitHub/seismocardiogram/data/healty-dataset/sub_17.txt',\n",
       " '/Users/ecem/Documents/GitHub/seismocardiogram/data/healty-dataset/sub_18.txt',\n",
       " '/Users/ecem/Documents/GitHub/seismocardiogram/data/healty-dataset/sub_19.txt',\n",
       " '/Users/ecem/Documents/GitHub/seismocardiogram/data/healty-dataset/sub_2.txt',\n",
       " '/Users/ecem/Documents/GitHub/seismocardiogram/data/healty-dataset/sub_20.txt',\n",
       " '/Users/ecem/Documents/GitHub/seismocardiogram/data/healty-dataset/sub_21.txt',\n",
       " '/Users/ecem/Documents/GitHub/seismocardiogram/data/healty-dataset/sub_22.txt',\n",
       " '/Users/ecem/Documents/GitHub/seismocardiogram/data/healty-dataset/sub_23.txt',\n",
       " '/Users/ecem/Documents/GitHub/seismocardiogram/data/healty-dataset/sub_24.txt',\n",
       " '/Users/ecem/Documents/GitHub/seismocardiogram/data/healty-dataset/sub_25.txt',\n",
       " '/Users/ecem/Documents/GitHub/seismocardiogram/data/healty-dataset/sub_26.txt',\n",
       " '/Users/ecem/Documents/GitHub/seismocardiogram/data/healty-dataset/sub_27.txt',\n",
       " '/Users/ecem/Documents/GitHub/seismocardiogram/data/healty-dataset/sub_28.txt',\n",
       " '/Users/ecem/Documents/GitHub/seismocardiogram/data/healty-dataset/sub_29.txt',\n",
       " '/Users/ecem/Documents/GitHub/seismocardiogram/data/healty-dataset/sub_3.txt',\n",
       " '/Users/ecem/Documents/GitHub/seismocardiogram/data/healty-dataset/sub_4.txt',\n",
       " '/Users/ecem/Documents/GitHub/seismocardiogram/data/healty-dataset/sub_5.txt',\n",
       " '/Users/ecem/Documents/GitHub/seismocardiogram/data/healty-dataset/sub_6.txt',\n",
       " '/Users/ecem/Documents/GitHub/seismocardiogram/data/healty-dataset/sub_7.txt',\n",
       " '/Users/ecem/Documents/GitHub/seismocardiogram/data/healty-dataset/sub_8.txt',\n",
       " '/Users/ecem/Documents/GitHub/seismocardiogram/data/healty-dataset/sub_9.txt']"
      ]
     },
     "execution_count": 5,
     "metadata": {},
     "output_type": "execute_result"
    }
   ],
   "source": [
    "files = sorted(files)\n",
    "files"
   ]
  },
  {
   "cell_type": "code",
   "execution_count": 6,
   "id": "4102ac02",
   "metadata": {},
   "outputs": [],
   "source": [
    "for i in range(len(files)):\n",
    "    t = pd.read_csv(files[i],header =  None, delimiter =' ')\n",
    "    \n",
    "    x.append((np.array(t.iloc[0:-1,1].astype(float))))\n",
    "    y.append(np.array(t.iloc[0:-1,2].astype(float)))\n",
    "    z.append(np.array(t.iloc[0:-1,3].astype(float)))"
   ]
  },
  {
   "cell_type": "code",
   "execution_count": 7,
   "id": "d64dc6f3",
   "metadata": {},
   "outputs": [
    {
     "data": {
      "text/plain": [
       "numpy.float64"
      ]
     },
     "execution_count": 7,
     "metadata": {},
     "output_type": "execute_result"
    }
   ],
   "source": [
    "type(x[0][0])"
   ]
  },
  {
   "cell_type": "code",
   "execution_count": 8,
   "id": "894b4008",
   "metadata": {},
   "outputs": [
    {
     "name": "stdout",
     "output_type": "stream",
     "text": [
      "29\n",
      "29\n",
      "29\n"
     ]
    }
   ],
   "source": [
    "print(len(x))\n",
    "print(len(y))\n",
    "print(len(z))"
   ]
  },
  {
   "cell_type": "code",
   "execution_count": 9,
   "id": "57e9e16a",
   "metadata": {},
   "outputs": [
    {
     "data": {
      "text/plain": [
       "array([6080., -712., -688., ..., -320., -312., -344.])"
      ]
     },
     "execution_count": 9,
     "metadata": {},
     "output_type": "execute_result"
    }
   ],
   "source": [
    "x[0]"
   ]
  },
  {
   "cell_type": "code",
   "execution_count": 10,
   "id": "5a1c553e",
   "metadata": {},
   "outputs": [
    {
     "data": {
      "text/plain": [
       "array([16892., -1160., -1056., ..., -1456., -1400., -1416.])"
      ]
     },
     "execution_count": 10,
     "metadata": {},
     "output_type": "execute_result"
    }
   ],
   "source": [
    "y[0]"
   ]
  },
  {
   "cell_type": "code",
   "execution_count": 11,
   "id": "393a3df5",
   "metadata": {},
   "outputs": [
    {
     "data": {
      "text/plain": [
       "array([ -1704., -16448., -16432., ..., -16248., -16312., -16320.])"
      ]
     },
     "execution_count": 11,
     "metadata": {},
     "output_type": "execute_result"
    }
   ],
   "source": [
    "z[0]"
   ]
  },
  {
   "cell_type": "code",
   "execution_count": 12,
   "id": "4cd3709c",
   "metadata": {},
   "outputs": [],
   "source": [
    "np.save(dir_path + \"/SCG_x\", x, allow_pickle= True)\n",
    "np.save(dir_path + \"/SCG_y\", y, allow_pickle= True)\n",
    "np.save(dir_path + \"/SCG_z\", z, allow_pickle= True)\n",
    "\n",
    "x = np.load(dir_path + \"/SCG_x.npy\", allow_pickle= True)"
   ]
  },
  {
   "cell_type": "code",
   "execution_count": 13,
   "id": "90d41986",
   "metadata": {},
   "outputs": [
    {
     "data": {
      "text/plain": [
       "(146687,)"
      ]
     },
     "execution_count": 13,
     "metadata": {},
     "output_type": "execute_result"
    }
   ],
   "source": [
    "x[0].shape"
   ]
  },
  {
   "cell_type": "code",
   "execution_count": null,
   "id": "5fb96f27",
   "metadata": {},
   "outputs": [],
   "source": []
  }
 ],
 "metadata": {
  "kernelspec": {
   "display_name": "Python 3 (ipykernel)",
   "language": "python",
   "name": "python3"
  },
  "language_info": {
   "codemirror_mode": {
    "name": "ipython",
    "version": 3
   },
   "file_extension": ".py",
   "mimetype": "text/x-python",
   "name": "python",
   "nbconvert_exporter": "python",
   "pygments_lexer": "ipython3",
   "version": "3.9.9"
  }
 },
 "nbformat": 4,
 "nbformat_minor": 5
}
