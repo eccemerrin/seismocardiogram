{
 "cells": [
  {
   "cell_type": "markdown",
   "id": "ef32bcac",
   "metadata": {},
   "source": [
    "### imports"
   ]
  },
  {
   "cell_type": "code",
   "execution_count": 1,
   "id": "564c67ff",
   "metadata": {},
   "outputs": [
    {
     "ename": "RuntimeError",
     "evalue": "module compiled against API version 0xe but this version of numpy is 0xd",
     "output_type": "error",
     "traceback": [
      "\u001b[0;31m---------------------------------------------------------------------------\u001b[0m",
      "\u001b[0;31mRuntimeError\u001b[0m                              Traceback (most recent call last)",
      "\u001b[0;31mRuntimeError\u001b[0m: module compiled against API version 0xe but this version of numpy is 0xd"
     ]
    }
   ],
   "source": [
    "import os\n",
    "import numpy as np\n",
    "import pandas as pd\n",
    "import warnings\n",
    "warnings.filterwarnings('ignore')"
   ]
  },
  {
   "cell_type": "markdown",
   "id": "e40ea7d9",
   "metadata": {},
   "source": [
    "For this part, you need to change dir_path to path of ypur directory which contains .csv files."
   ]
  },
  {
   "cell_type": "code",
   "execution_count": 2,
   "id": "75620186",
   "metadata": {},
   "outputs": [],
   "source": [
    "dir_path = \"/Users/ecem/Documents/GitHub/seismocardiogram/data/healty-dataset\""
   ]
  },
  {
   "cell_type": "code",
   "execution_count": 3,
   "id": "16a20eb7",
   "metadata": {},
   "outputs": [],
   "source": [
    "files, x, y, z = [],[], [], []"
   ]
  },
  {
   "cell_type": "code",
   "execution_count": 4,
   "id": "e8e9b615",
   "metadata": {},
   "outputs": [],
   "source": [
    "for file in os.listdir(dir_path):\n",
    "    if file.endswith(\".txt\"):\n",
    "        files.append(os.path.join(dir_path, file))"
   ]
  },
  {
   "cell_type": "code",
   "execution_count": 5,
   "id": "21100d5a",
   "metadata": {
    "scrolled": true
   },
   "outputs": [
    {
     "data": {
      "text/plain": [
       "['/Users/ecem/Documents/GitHub/seismocardiogram/data/healty-dataset/sub_1.txt',\n",
       " '/Users/ecem/Documents/GitHub/seismocardiogram/data/healty-dataset/sub_10.txt',\n",
       " '/Users/ecem/Documents/GitHub/seismocardiogram/data/healty-dataset/sub_11.txt',\n",
       " '/Users/ecem/Documents/GitHub/seismocardiogram/data/healty-dataset/sub_12.txt',\n",
       " '/Users/ecem/Documents/GitHub/seismocardiogram/data/healty-dataset/sub_13.txt',\n",
       " '/Users/ecem/Documents/GitHub/seismocardiogram/data/healty-dataset/sub_14.txt',\n",
       " '/Users/ecem/Documents/GitHub/seismocardiogram/data/healty-dataset/sub_15.txt',\n",
       " '/Users/ecem/Documents/GitHub/seismocardiogram/data/healty-dataset/sub_16.txt',\n",
       " '/Users/ecem/Documents/GitHub/seismocardiogram/data/healty-dataset/sub_17.txt',\n",
       " '/Users/ecem/Documents/GitHub/seismocardiogram/data/healty-dataset/sub_18.txt',\n",
       " '/Users/ecem/Documents/GitHub/seismocardiogram/data/healty-dataset/sub_19.txt',\n",
       " '/Users/ecem/Documents/GitHub/seismocardiogram/data/healty-dataset/sub_2.txt',\n",
       " '/Users/ecem/Documents/GitHub/seismocardiogram/data/healty-dataset/sub_20.txt',\n",
       " '/Users/ecem/Documents/GitHub/seismocardiogram/data/healty-dataset/sub_21.txt',\n",
       " '/Users/ecem/Documents/GitHub/seismocardiogram/data/healty-dataset/sub_22.txt',\n",
       " '/Users/ecem/Documents/GitHub/seismocardiogram/data/healty-dataset/sub_23.txt',\n",
       " '/Users/ecem/Documents/GitHub/seismocardiogram/data/healty-dataset/sub_24.txt',\n",
       " '/Users/ecem/Documents/GitHub/seismocardiogram/data/healty-dataset/sub_25.txt',\n",
       " '/Users/ecem/Documents/GitHub/seismocardiogram/data/healty-dataset/sub_26.txt',\n",
       " '/Users/ecem/Documents/GitHub/seismocardiogram/data/healty-dataset/sub_27.txt',\n",
       " '/Users/ecem/Documents/GitHub/seismocardiogram/data/healty-dataset/sub_28.txt',\n",
       " '/Users/ecem/Documents/GitHub/seismocardiogram/data/healty-dataset/sub_29.txt',\n",
       " '/Users/ecem/Documents/GitHub/seismocardiogram/data/healty-dataset/sub_3.txt',\n",
       " '/Users/ecem/Documents/GitHub/seismocardiogram/data/healty-dataset/sub_4.txt',\n",
       " '/Users/ecem/Documents/GitHub/seismocardiogram/data/healty-dataset/sub_5.txt',\n",
       " '/Users/ecem/Documents/GitHub/seismocardiogram/data/healty-dataset/sub_6.txt',\n",
       " '/Users/ecem/Documents/GitHub/seismocardiogram/data/healty-dataset/sub_7.txt',\n",
       " '/Users/ecem/Documents/GitHub/seismocardiogram/data/healty-dataset/sub_8.txt',\n",
       " '/Users/ecem/Documents/GitHub/seismocardiogram/data/healty-dataset/sub_9.txt']"
      ]
     },
     "execution_count": 5,
     "metadata": {},
     "output_type": "execute_result"
    }
   ],
   "source": [
    "files = sorted(files)\n",
    "files"
   ]
  },
  {
   "cell_type": "code",
   "execution_count": 8,
   "id": "e877bcaa",
   "metadata": {},
   "outputs": [
    {
     "data": {
      "text/html": [
       "<div>\n",
       "<style scoped>\n",
       "    .dataframe tbody tr th:only-of-type {\n",
       "        vertical-align: middle;\n",
       "    }\n",
       "\n",
       "    .dataframe tbody tr th {\n",
       "        vertical-align: top;\n",
       "    }\n",
       "\n",
       "    .dataframe thead th {\n",
       "        text-align: right;\n",
       "    }\n",
       "</style>\n",
       "<table border=\"1\" class=\"dataframe\">\n",
       "  <thead>\n",
       "    <tr style=\"text-align: right;\">\n",
       "      <th></th>\n",
       "      <th>0</th>\n",
       "      <th>1</th>\n",
       "      <th>2</th>\n",
       "      <th>3</th>\n",
       "      <th>4</th>\n",
       "      <th>5</th>\n",
       "      <th>6</th>\n",
       "      <th>7</th>\n",
       "    </tr>\n",
       "  </thead>\n",
       "  <tbody>\n",
       "    <tr>\n",
       "      <th>0</th>\n",
       "      <td>-436</td>\n",
       "      <td>6080</td>\n",
       "      <td>16892</td>\n",
       "      <td>-1704</td>\n",
       "      <td>0</td>\n",
       "      <td>0</td>\n",
       "      <td>0</td>\n",
       "      <td>NaN</td>\n",
       "    </tr>\n",
       "    <tr>\n",
       "      <th>1</th>\n",
       "      <td>446</td>\n",
       "      <td>-712</td>\n",
       "      <td>-1160</td>\n",
       "      <td>-16448</td>\n",
       "      <td>1024</td>\n",
       "      <td>1536</td>\n",
       "      <td>-256</td>\n",
       "      <td>NaN</td>\n",
       "    </tr>\n",
       "    <tr>\n",
       "      <th>2</th>\n",
       "      <td>-553</td>\n",
       "      <td>-688</td>\n",
       "      <td>-1056</td>\n",
       "      <td>-16432</td>\n",
       "      <td>1024</td>\n",
       "      <td>1792</td>\n",
       "      <td>0</td>\n",
       "      <td>NaN</td>\n",
       "    </tr>\n",
       "    <tr>\n",
       "      <th>3</th>\n",
       "      <td>-726</td>\n",
       "      <td>-736</td>\n",
       "      <td>-1072</td>\n",
       "      <td>-16408</td>\n",
       "      <td>2048</td>\n",
       "      <td>2048</td>\n",
       "      <td>-257</td>\n",
       "      <td>NaN</td>\n",
       "    </tr>\n",
       "    <tr>\n",
       "      <th>4</th>\n",
       "      <td>236</td>\n",
       "      <td>-712</td>\n",
       "      <td>-1112</td>\n",
       "      <td>-16408</td>\n",
       "      <td>1024</td>\n",
       "      <td>2048</td>\n",
       "      <td>-513</td>\n",
       "      <td>NaN</td>\n",
       "    </tr>\n",
       "    <tr>\n",
       "      <th>...</th>\n",
       "      <td>...</td>\n",
       "      <td>...</td>\n",
       "      <td>...</td>\n",
       "      <td>...</td>\n",
       "      <td>...</td>\n",
       "      <td>...</td>\n",
       "      <td>...</td>\n",
       "      <td>...</td>\n",
       "    </tr>\n",
       "    <tr>\n",
       "      <th>146683</th>\n",
       "      <td>819</td>\n",
       "      <td>-344</td>\n",
       "      <td>-1392</td>\n",
       "      <td>-16328</td>\n",
       "      <td>20736</td>\n",
       "      <td>-9729</td>\n",
       "      <td>9728</td>\n",
       "      <td>NaN</td>\n",
       "    </tr>\n",
       "    <tr>\n",
       "      <th>146684</th>\n",
       "      <td>509</td>\n",
       "      <td>-320</td>\n",
       "      <td>-1456</td>\n",
       "      <td>-16248</td>\n",
       "      <td>20736</td>\n",
       "      <td>-8705</td>\n",
       "      <td>9728</td>\n",
       "      <td>NaN</td>\n",
       "    </tr>\n",
       "    <tr>\n",
       "      <th>146685</th>\n",
       "      <td>-824</td>\n",
       "      <td>-312</td>\n",
       "      <td>-1400</td>\n",
       "      <td>-16312</td>\n",
       "      <td>19712</td>\n",
       "      <td>-7681</td>\n",
       "      <td>8704</td>\n",
       "      <td>NaN</td>\n",
       "    </tr>\n",
       "    <tr>\n",
       "      <th>146686</th>\n",
       "      <td>807</td>\n",
       "      <td>-344</td>\n",
       "      <td>-1416</td>\n",
       "      <td>-16320</td>\n",
       "      <td>19456</td>\n",
       "      <td>-7681</td>\n",
       "      <td>9728</td>\n",
       "      <td>NaN</td>\n",
       "    </tr>\n",
       "    <tr>\n",
       "      <th>146687</th>\n",
       "      <td>542</td>\n",
       "      <td>-368</td>\n",
       "      <td>-1432</td>\n",
       "      <td>-16352</td>\n",
       "      <td>19712</td>\n",
       "      <td>-5377</td>\n",
       "      <td>9472</td>\n",
       "      <td>NaN</td>\n",
       "    </tr>\n",
       "  </tbody>\n",
       "</table>\n",
       "<p>146688 rows × 8 columns</p>\n",
       "</div>"
      ],
      "text/plain": [
       "          0     1      2      3      4     5     6   7\n",
       "0      -436  6080  16892  -1704      0     0     0 NaN\n",
       "1       446  -712  -1160 -16448   1024  1536  -256 NaN\n",
       "2      -553  -688  -1056 -16432   1024  1792     0 NaN\n",
       "3      -726  -736  -1072 -16408   2048  2048  -257 NaN\n",
       "4       236  -712  -1112 -16408   1024  2048  -513 NaN\n",
       "...     ...   ...    ...    ...    ...   ...   ...  ..\n",
       "146683  819  -344  -1392 -16328  20736 -9729  9728 NaN\n",
       "146684  509  -320  -1456 -16248  20736 -8705  9728 NaN\n",
       "146685 -824  -312  -1400 -16312  19712 -7681  8704 NaN\n",
       "146686  807  -344  -1416 -16320  19456 -7681  9728 NaN\n",
       "146687  542  -368  -1432 -16352  19712 -5377  9472 NaN\n",
       "\n",
       "[146688 rows x 8 columns]"
      ]
     },
     "execution_count": 8,
     "metadata": {},
     "output_type": "execute_result"
    }
   ],
   "source": [
    "pd.read_csv(files[0],header =  None, delimiter =' ')"
   ]
  },
  {
   "cell_type": "code",
   "execution_count": 10,
   "id": "d31e8160",
   "metadata": {},
   "outputs": [
    {
     "data": {
      "text/plain": [
       "0         6080\n",
       "1         -712\n",
       "2         -688\n",
       "3         -736\n",
       "4         -712\n",
       "          ... \n",
       "146683    -344\n",
       "146684    -320\n",
       "146685    -312\n",
       "146686    -344\n",
       "146687    -368\n",
       "Name: 1, Length: 146688, dtype: int64"
      ]
     },
     "execution_count": 10,
     "metadata": {},
     "output_type": "execute_result"
    }
   ],
   "source": [
    "pd.read_csv(files[0],header =  None, delimiter =' ').iloc[0:,1]"
   ]
  },
  {
   "cell_type": "code",
   "execution_count": 12,
   "id": "5056843c",
   "metadata": {},
   "outputs": [
    {
     "data": {
      "text/plain": [
       "0         16892\n",
       "1         -1160\n",
       "2         -1056\n",
       "3         -1072\n",
       "4         -1112\n",
       "          ...  \n",
       "146683    -1392\n",
       "146684    -1456\n",
       "146685    -1400\n",
       "146686    -1416\n",
       "146687    -1432\n",
       "Name: 2, Length: 146688, dtype: int64"
      ]
     },
     "execution_count": 12,
     "metadata": {},
     "output_type": "execute_result"
    }
   ],
   "source": [
    "pd.read_csv(files[0],header =  None, delimiter =' ').iloc[0:,2]"
   ]
  },
  {
   "cell_type": "code",
   "execution_count": 13,
   "id": "f3665cc3",
   "metadata": {},
   "outputs": [
    {
     "data": {
      "text/plain": [
       "0         16892\n",
       "1         -1160\n",
       "2         -1056\n",
       "3         -1072\n",
       "4         -1112\n",
       "          ...  \n",
       "146683    -1392\n",
       "146684    -1456\n",
       "146685    -1400\n",
       "146686    -1416\n",
       "146687    -1432\n",
       "Name: 2, Length: 146688, dtype: int64"
      ]
     },
     "execution_count": 13,
     "metadata": {},
     "output_type": "execute_result"
    }
   ],
   "source": [
    "pd.read_csv(files[0],header =  None, delimiter =' ').iloc[0:,2]"
   ]
  },
  {
   "cell_type": "code",
   "execution_count": null,
   "id": "84d2011d",
   "metadata": {},
   "outputs": [],
   "source": []
  },
  {
   "cell_type": "code",
   "execution_count": 11,
   "id": "4102ac02",
   "metadata": {},
   "outputs": [],
   "source": [
    "for i in range(len(files)):\n",
    "    t = pd.read_csv(files[i],header =  None, delimiter =' ')\n",
    "    \n",
    "    x.append((np.array(t.iloc[0:,1].astype(float))))\n",
    "    y.append(np.array(t.iloc[0:,2].astype(float)))\n",
    "    z.append(np.array(t.iloc[0:,3].astype(float)))"
   ]
  },
  {
   "cell_type": "code",
   "execution_count": 7,
   "id": "d64dc6f3",
   "metadata": {},
   "outputs": [
    {
     "data": {
      "text/plain": [
       "numpy.float64"
      ]
     },
     "execution_count": 7,
     "metadata": {},
     "output_type": "execute_result"
    }
   ],
   "source": [
    "type(x[0][0])"
   ]
  },
  {
   "cell_type": "code",
   "execution_count": 8,
   "id": "894b4008",
   "metadata": {},
   "outputs": [
    {
     "name": "stdout",
     "output_type": "stream",
     "text": [
      "29\n",
      "29\n",
      "29\n"
     ]
    }
   ],
   "source": [
    "print(len(x))\n",
    "print(len(y))\n",
    "print(len(z))"
   ]
  },
  {
   "cell_type": "code",
   "execution_count": 9,
   "id": "57e9e16a",
   "metadata": {},
   "outputs": [
    {
     "data": {
      "text/plain": [
       "array([6080., -712., -688., ..., -320., -312., -344.])"
      ]
     },
     "execution_count": 9,
     "metadata": {},
     "output_type": "execute_result"
    }
   ],
   "source": [
    "x[0]"
   ]
  },
  {
   "cell_type": "code",
   "execution_count": 10,
   "id": "5a1c553e",
   "metadata": {},
   "outputs": [
    {
     "data": {
      "text/plain": [
       "array([16892., -1160., -1056., ..., -1456., -1400., -1416.])"
      ]
     },
     "execution_count": 10,
     "metadata": {},
     "output_type": "execute_result"
    }
   ],
   "source": [
    "y[0]"
   ]
  },
  {
   "cell_type": "code",
   "execution_count": 11,
   "id": "393a3df5",
   "metadata": {},
   "outputs": [
    {
     "data": {
      "text/plain": [
       "array([ -1704., -16448., -16432., ..., -16248., -16312., -16320.])"
      ]
     },
     "execution_count": 11,
     "metadata": {},
     "output_type": "execute_result"
    }
   ],
   "source": [
    "z[0]"
   ]
  },
  {
   "cell_type": "code",
   "execution_count": 12,
   "id": "4cd3709c",
   "metadata": {},
   "outputs": [],
   "source": [
    "np.save(dir_path + \"/SCG_x\", x, allow_pickle= True)\n",
    "np.save(dir_path + \"/SCG_y\", y, allow_pickle= True)\n",
    "np.save(dir_path + \"/SCG_z\", z, allow_pickle= True)\n",
    "\n",
    "x = np.load(dir_path + \"/SCG_x.npy\", allow_pickle= True)"
   ]
  },
  {
   "cell_type": "code",
   "execution_count": 13,
   "id": "90d41986",
   "metadata": {},
   "outputs": [
    {
     "data": {
      "text/plain": [
       "(146687,)"
      ]
     },
     "execution_count": 13,
     "metadata": {},
     "output_type": "execute_result"
    }
   ],
   "source": [
    "x[0].shape"
   ]
  },
  {
   "cell_type": "code",
   "execution_count": null,
   "id": "5fb96f27",
   "metadata": {},
   "outputs": [],
   "source": []
  }
 ],
 "metadata": {
  "kernelspec": {
   "display_name": "Python 3 (ipykernel)",
   "language": "python",
   "name": "python3"
  },
  "language_info": {
   "codemirror_mode": {
    "name": "ipython",
    "version": 3
   },
   "file_extension": ".py",
   "mimetype": "text/x-python",
   "name": "python",
   "nbconvert_exporter": "python",
   "pygments_lexer": "ipython3",
   "version": "3.9.9"
  }
 },
 "nbformat": 4,
 "nbformat_minor": 5
}
