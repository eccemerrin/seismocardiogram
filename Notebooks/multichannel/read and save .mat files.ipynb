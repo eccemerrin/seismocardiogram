{
 "cells": [
  {
   "cell_type": "markdown",
   "id": "ef32bcac",
   "metadata": {},
   "source": [
    "### imports"
   ]
  },
  {
   "cell_type": "code",
   "execution_count": 1,
   "id": "564c67ff",
   "metadata": {},
   "outputs": [],
   "source": [
    "import scipy.io\n",
    "import os\n",
    "import numpy as np"
   ]
  },
  {
   "cell_type": "markdown",
   "id": "e40ea7d9",
   "metadata": {},
   "source": [
    "For this part, you need to change dir_path to path of ypur directory which contains .mat files."
   ]
  },
  {
   "cell_type": "code",
   "execution_count": 2,
   "id": "75620186",
   "metadata": {},
   "outputs": [],
   "source": [
    "dir_path = \"/Users/ecem/Documents/GitHub/seismocardiogram/data/multichannel\""
   ]
  },
  {
   "cell_type": "code",
   "execution_count": 3,
   "id": "16a20eb7",
   "metadata": {},
   "outputs": [],
   "source": [
    "files, resp = [], []"
   ]
  },
  {
   "cell_type": "code",
   "execution_count": 4,
   "id": "e8e9b615",
   "metadata": {},
   "outputs": [],
   "source": [
    "for file in os.listdir(dir_path):\n",
    "    if file.endswith(\".mat\"):\n",
    "        files.append(os.path.join(dir_path, file))"
   ]
  },
  {
   "cell_type": "markdown",
   "id": "2ffba400",
   "metadata": {},
   "source": [
    "### save as numpy array"
   ]
  },
  {
   "cell_type": "code",
   "execution_count": 5,
   "id": "c4e99446",
   "metadata": {},
   "outputs": [],
   "source": [
    "for i in range(len(files)):\n",
    "    resp.append( scipy.io.loadmat(files[i])['ECG_1_1'][:,2])"
   ]
  },
  {
   "cell_type": "code",
   "execution_count": 7,
   "id": "fc0f117d",
   "metadata": {},
   "outputs": [],
   "source": [
    "np.save(dir_path + \"/resp\", resp)"
   ]
  },
  {
   "cell_type": "markdown",
   "id": "5e69f90e",
   "metadata": {},
   "source": [
    "#### sanity check"
   ]
  },
  {
   "cell_type": "code",
   "execution_count": 8,
   "id": "45f14e91",
   "metadata": {},
   "outputs": [],
   "source": [
    "x = np.load(dir_path + \"/resp.npy\", allow_pickle= True)"
   ]
  },
  {
   "cell_type": "code",
   "execution_count": 9,
   "id": "609c4fd9",
   "metadata": {},
   "outputs": [
    {
     "data": {
      "text/plain": [
       "(13,)"
      ]
     },
     "execution_count": 9,
     "metadata": {},
     "output_type": "execute_result"
    }
   ],
   "source": [
    "x.shape"
   ]
  },
  {
   "cell_type": "code",
   "execution_count": 10,
   "id": "bd98136b",
   "metadata": {},
   "outputs": [
    {
     "data": {
      "text/plain": [
       "(152445,)"
      ]
     },
     "execution_count": 10,
     "metadata": {},
     "output_type": "execute_result"
    }
   ],
   "source": [
    "x[1].shape"
   ]
  },
  {
   "cell_type": "code",
   "execution_count": null,
   "id": "aa482eac",
   "metadata": {},
   "outputs": [],
   "source": []
  },
  {
   "cell_type": "markdown",
   "id": "399cb571",
   "metadata": {},
   "source": [
    "## save scg files"
   ]
  },
  {
   "cell_type": "code",
   "execution_count": 5,
   "id": "ea8ff885",
   "metadata": {},
   "outputs": [
    {
     "data": {
      "text/plain": [
       "dict_keys(['ECG_1_1', 'SCG_1_1', 'SCG_1_2', 'SCG_1_3', 'SCG_1_4', 'SCG_1_5', 'SCG_1_6', 'SCG_1_7', 'SCG_1_8', 'SCG_2_1', 'SCG_2_2', 'SCG_2_3', 'SCG_2_4', 'SCG_2_5', 'SCG_2_6', 'SCG_2_7', 'SCG_2_8', 'FS'])"
      ]
     },
     "execution_count": 5,
     "metadata": {},
     "output_type": "execute_result"
    }
   ],
   "source": [
    "scipy.io.loadmat(files[1]).keys()"
   ]
  },
  {
   "cell_type": "code",
   "execution_count": 7,
   "id": "a2788fe2",
   "metadata": {},
   "outputs": [
    {
     "name": "stdout",
     "output_type": "stream",
     "text": [
      "(156779, 3)\n",
      "(156779, 3)\n",
      "(156779, 3)\n",
      "(156779, 3)\n",
      "(156779, 3)\n",
      "(156779, 3)\n",
      "(156779, 3)\n",
      "(156779, 3)\n",
      "(156779, 3)\n",
      "(156779, 3)\n",
      "(156779, 3)\n",
      "(156779, 3)\n",
      "(156779, 3)\n",
      "(156779, 3)\n",
      "(156779, 3)\n",
      "(156779, 3)\n",
      "(156779, 3)\n",
      "(1, 1)\n",
      "(152445, 3)\n",
      "(152445, 3)\n",
      "(152445, 3)\n",
      "(152445, 3)\n",
      "(152445, 3)\n",
      "(152445, 3)\n",
      "(152445, 3)\n",
      "(152445, 3)\n",
      "(152445, 3)\n",
      "(152445, 3)\n",
      "(152445, 3)\n",
      "(152445, 3)\n",
      "(152445, 3)\n",
      "(152445, 3)\n",
      "(152445, 3)\n",
      "(152445, 3)\n",
      "(152445, 3)\n",
      "(1, 1)\n",
      "(156519, 3)\n",
      "(156519, 3)\n",
      "(156519, 3)\n",
      "(156519, 3)\n",
      "(156519, 3)\n",
      "(156519, 3)\n",
      "(156519, 3)\n",
      "(156519, 3)\n",
      "(156519, 3)\n",
      "(156519, 3)\n",
      "(156519, 3)\n",
      "(156519, 3)\n",
      "(156519, 3)\n",
      "(156519, 3)\n",
      "(156519, 3)\n",
      "(156519, 3)\n",
      "(156519, 3)\n",
      "(1, 1)\n",
      "(151837, 3)\n",
      "(151837, 3)\n",
      "(151837, 3)\n",
      "(151837, 3)\n",
      "(151837, 3)\n",
      "(151837, 3)\n",
      "(151837, 3)\n",
      "(151837, 3)\n",
      "(151837, 3)\n",
      "(151837, 3)\n",
      "(151837, 3)\n",
      "(151837, 3)\n",
      "(151837, 3)\n",
      "(151837, 3)\n",
      "(151837, 3)\n",
      "(151837, 3)\n",
      "(151837, 3)\n",
      "(1, 1)\n",
      "(93237, 3)\n",
      "(93237, 3)\n",
      "(93237, 3)\n",
      "(93237, 3)\n",
      "(93237, 3)\n",
      "(93237, 3)\n",
      "(93237, 3)\n",
      "(93237, 3)\n",
      "(93237, 3)\n",
      "(93237, 3)\n",
      "(93237, 3)\n",
      "(93237, 3)\n",
      "(93237, 3)\n",
      "(93237, 3)\n",
      "(93237, 3)\n",
      "(93237, 3)\n",
      "(93237, 3)\n",
      "(1, 1)\n",
      "(151674, 3)\n",
      "(151674, 3)\n",
      "(151674, 3)\n",
      "(151674, 3)\n",
      "(151674, 3)\n",
      "(151674, 3)\n",
      "(151674, 3)\n",
      "(151674, 3)\n",
      "(151674, 3)\n",
      "(151674, 3)\n",
      "(151674, 3)\n",
      "(151674, 3)\n",
      "(151674, 3)\n",
      "(151674, 3)\n",
      "(151674, 3)\n",
      "(151674, 3)\n",
      "(151674, 3)\n",
      "(1, 1)\n",
      "(151613, 3)\n",
      "(151613, 3)\n",
      "(151613, 3)\n",
      "(151613, 3)\n",
      "(151613, 3)\n",
      "(151613, 3)\n",
      "(151613, 3)\n",
      "(151613, 3)\n",
      "(151613, 3)\n",
      "(151613, 3)\n",
      "(151613, 3)\n",
      "(151613, 3)\n",
      "(151613, 3)\n",
      "(151613, 3)\n",
      "(151613, 3)\n",
      "(151613, 3)\n",
      "(151613, 3)\n",
      "(1, 1)\n",
      "(90074, 3)\n",
      "(90074, 3)\n",
      "(90074, 3)\n",
      "(90074, 3)\n",
      "(90074, 3)\n",
      "(90074, 3)\n",
      "(90074, 3)\n",
      "(90074, 3)\n",
      "(90074, 3)\n",
      "(90074, 3)\n",
      "(90074, 3)\n",
      "(90074, 3)\n",
      "(90074, 3)\n",
      "(90074, 3)\n",
      "(90074, 3)\n",
      "(90074, 3)\n",
      "(90074, 3)\n",
      "(1, 1)\n",
      "(92127, 3)\n",
      "(92127, 3)\n",
      "(92127, 3)\n",
      "(92127, 3)\n",
      "(92127, 3)\n",
      "(92127, 3)\n",
      "(92127, 3)\n",
      "(92127, 3)\n",
      "(92127, 3)\n",
      "(92127, 3)\n",
      "(92127, 3)\n",
      "(92127, 3)\n",
      "(92127, 3)\n",
      "(92127, 3)\n",
      "(92127, 3)\n",
      "(92127, 3)\n",
      "(92127, 3)\n",
      "(1, 1)\n",
      "(91931, 3)\n",
      "(91931, 3)\n",
      "(91931, 3)\n",
      "(91931, 3)\n",
      "(91931, 3)\n",
      "(91931, 3)\n",
      "(91931, 3)\n",
      "(91931, 3)\n",
      "(91931, 3)\n",
      "(91931, 3)\n",
      "(91931, 3)\n",
      "(91931, 3)\n",
      "(91931, 3)\n",
      "(91931, 3)\n",
      "(91931, 3)\n",
      "(91931, 3)\n",
      "(91931, 3)\n",
      "(1, 1)\n",
      "(90783, 3)\n",
      "(90783, 3)\n",
      "(90783, 3)\n",
      "(90783, 3)\n",
      "(90783, 3)\n",
      "(90783, 3)\n",
      "(90783, 3)\n",
      "(90783, 3)\n",
      "(90783, 3)\n",
      "(90783, 3)\n",
      "(90783, 3)\n",
      "(90783, 3)\n",
      "(90783, 3)\n",
      "(90783, 3)\n",
      "(90783, 3)\n",
      "(90783, 3)\n",
      "(90783, 3)\n",
      "(1, 1)\n",
      "(90755, 3)\n",
      "(90755, 3)\n",
      "(90755, 3)\n",
      "(90755, 3)\n",
      "(90755, 3)\n",
      "(90755, 3)\n",
      "(90755, 3)\n",
      "(90755, 3)\n",
      "(90755, 3)\n",
      "(90755, 3)\n",
      "(90755, 3)\n",
      "(90755, 3)\n",
      "(90755, 3)\n",
      "(90755, 3)\n",
      "(90755, 3)\n",
      "(90755, 3)\n",
      "(90755, 3)\n",
      "(1, 1)\n",
      "(91174, 3)\n",
      "(91174, 3)\n",
      "(91174, 3)\n",
      "(91174, 3)\n",
      "(91174, 3)\n",
      "(91174, 3)\n",
      "(91174, 3)\n",
      "(91174, 3)\n",
      "(91174, 3)\n",
      "(91174, 3)\n",
      "(91174, 3)\n",
      "(91174, 3)\n",
      "(91174, 3)\n",
      "(91174, 3)\n",
      "(91174, 3)\n",
      "(91174, 3)\n",
      "(91174, 3)\n",
      "(1, 1)\n"
     ]
    }
   ],
   "source": [
    "for i in range(13):\n",
    "    for j in range(len(scipy.io.loadmat(files[i]).keys())):\n",
    "       print(scipy.io.loadmat(files[i])[list(scipy.io.loadmat(files[i]).keys())[j]].shape)"
   ]
  },
  {
   "cell_type": "code",
   "execution_count": 11,
   "id": "1480d11c",
   "metadata": {},
   "outputs": [],
   "source": [
    "scg = np.zeros([13, 16, 91174, 3])"
   ]
  },
  {
   "cell_type": "code",
   "execution_count": 12,
   "id": "5cea03e6",
   "metadata": {},
   "outputs": [
    {
     "ename": "ValueError",
     "evalue": "could not broadcast input array from shape (156779,3) into shape (15,91174,3)",
     "output_type": "error",
     "traceback": [
      "\u001b[0;31m---------------------------------------------------------------------------\u001b[0m",
      "\u001b[0;31mValueError\u001b[0m                                Traceback (most recent call last)",
      "\u001b[0;32m/var/folders/gd/3d6ckpdn4q30skhxnvs_p7b80000gn/T/ipykernel_1948/1216416681.py\u001b[0m in \u001b[0;36m<module>\u001b[0;34m\u001b[0m\n\u001b[1;32m      1\u001b[0m \u001b[0;32mfor\u001b[0m \u001b[0mi\u001b[0m \u001b[0;32min\u001b[0m \u001b[0mrange\u001b[0m\u001b[0;34m(\u001b[0m\u001b[0;36m13\u001b[0m\u001b[0;34m)\u001b[0m\u001b[0;34m:\u001b[0m\u001b[0;34m\u001b[0m\u001b[0;34m\u001b[0m\u001b[0m\n\u001b[1;32m      2\u001b[0m     \u001b[0;32mfor\u001b[0m \u001b[0mj\u001b[0m \u001b[0;32min\u001b[0m \u001b[0mrange\u001b[0m\u001b[0;34m(\u001b[0m\u001b[0;36m1\u001b[0m\u001b[0;34m,\u001b[0m\u001b[0mlen\u001b[0m\u001b[0;34m(\u001b[0m\u001b[0mscipy\u001b[0m\u001b[0;34m.\u001b[0m\u001b[0mio\u001b[0m\u001b[0;34m.\u001b[0m\u001b[0mloadmat\u001b[0m\u001b[0;34m(\u001b[0m\u001b[0mfiles\u001b[0m\u001b[0;34m[\u001b[0m\u001b[0mi\u001b[0m\u001b[0;34m]\u001b[0m\u001b[0;34m)\u001b[0m\u001b[0;34m.\u001b[0m\u001b[0mkeys\u001b[0m\u001b[0;34m(\u001b[0m\u001b[0;34m)\u001b[0m\u001b[0;34m)\u001b[0m\u001b[0;34m-\u001b[0m\u001b[0;36m1\u001b[0m\u001b[0;34m)\u001b[0m\u001b[0;34m:\u001b[0m\u001b[0;34m\u001b[0m\u001b[0;34m\u001b[0m\u001b[0m\n\u001b[0;32m----> 3\u001b[0;31m         \u001b[0mscg\u001b[0m\u001b[0;34m[\u001b[0m\u001b[0mi\u001b[0m\u001b[0;34m,\u001b[0m \u001b[0mj\u001b[0m\u001b[0;34m:\u001b[0m\u001b[0;34m,\u001b[0m \u001b[0;34m:\u001b[0m\u001b[0;34m,\u001b[0m \u001b[0;34m:\u001b[0m\u001b[0;34m]\u001b[0m \u001b[0;34m=\u001b[0m \u001b[0mscipy\u001b[0m\u001b[0;34m.\u001b[0m\u001b[0mio\u001b[0m\u001b[0;34m.\u001b[0m\u001b[0mloadmat\u001b[0m\u001b[0;34m(\u001b[0m\u001b[0mfiles\u001b[0m\u001b[0;34m[\u001b[0m\u001b[0mi\u001b[0m\u001b[0;34m]\u001b[0m\u001b[0;34m)\u001b[0m\u001b[0;34m[\u001b[0m\u001b[0mlist\u001b[0m\u001b[0;34m(\u001b[0m\u001b[0mscipy\u001b[0m\u001b[0;34m.\u001b[0m\u001b[0mio\u001b[0m\u001b[0;34m.\u001b[0m\u001b[0mloadmat\u001b[0m\u001b[0;34m(\u001b[0m\u001b[0mfiles\u001b[0m\u001b[0;34m[\u001b[0m\u001b[0mi\u001b[0m\u001b[0;34m]\u001b[0m\u001b[0;34m)\u001b[0m\u001b[0;34m.\u001b[0m\u001b[0mkeys\u001b[0m\u001b[0;34m(\u001b[0m\u001b[0;34m)\u001b[0m\u001b[0;34m)\u001b[0m\u001b[0;34m[\u001b[0m\u001b[0mj\u001b[0m\u001b[0;34m]\u001b[0m\u001b[0;34m]\u001b[0m\u001b[0;34m\u001b[0m\u001b[0;34m\u001b[0m\u001b[0m\n\u001b[0m",
      "\u001b[0;31mValueError\u001b[0m: could not broadcast input array from shape (156779,3) into shape (15,91174,3)"
     ]
    }
   ],
   "source": [
    "for i in range(13):\n",
    "    for j in range(1,len(scipy.io.loadmat(files[i]).keys())-1):\n",
    "        scg[i, j:, :, :] = scipy.io.loadmat(files[i])[list(scipy.io.loadmat(files[i]).keys())[j]]"
   ]
  },
  {
   "cell_type": "code",
   "execution_count": null,
   "id": "cdb0f540",
   "metadata": {},
   "outputs": [],
   "source": []
  }
 ],
 "metadata": {
  "kernelspec": {
   "display_name": "Python 3 (ipykernel)",
   "language": "python",
   "name": "python3"
  },
  "language_info": {
   "codemirror_mode": {
    "name": "ipython",
    "version": 3
   },
   "file_extension": ".py",
   "mimetype": "text/x-python",
   "name": "python",
   "nbconvert_exporter": "python",
   "pygments_lexer": "ipython3",
   "version": "3.9.9"
  }
 },
 "nbformat": 4,
 "nbformat_minor": 5
}
