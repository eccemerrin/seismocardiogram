{
 "cells": [
  {
   "cell_type": "markdown",
   "id": "a10707b4",
   "metadata": {},
   "source": [
    "## Imports:"
   ]
  },
  {
   "cell_type": "code",
   "execution_count": 1,
   "id": "5b0b2dcc",
   "metadata": {},
   "outputs": [
    {
     "ename": "RuntimeError",
     "evalue": "module compiled against API version 0xe but this version of numpy is 0xd",
     "output_type": "error",
     "traceback": [
      "\u001b[0;31m---------------------------------------------------------------------------\u001b[0m",
      "\u001b[0;31mRuntimeError\u001b[0m                              Traceback (most recent call last)",
      "\u001b[0;31mRuntimeError\u001b[0m: module compiled against API version 0xe but this version of numpy is 0xd"
     ]
    }
   ],
   "source": [
    "import scipy.io\n",
    "import os\n",
    "import pandas\n",
    "import numpy as np\n",
    "import matplotlib.pyplot as plt\n",
    "import matplotlib.pylab as plt_lab\n",
    "import matplotlib.gridspec as gridspec\n",
    "import obspy\n",
    "import pandas as pd"
   ]
  },
  {
   "cell_type": "code",
   "execution_count": 2,
   "id": "995724bf",
   "metadata": {},
   "outputs": [],
   "source": [
    "import warnings\n",
    "warnings.filterwarnings('ignore')"
   ]
  },
  {
   "cell_type": "markdown",
   "id": "41b4c77f",
   "metadata": {},
   "source": [
    "## Load data:\n",
    "We are going to use this data to plot spectograms of SCG signals. "
   ]
  },
  {
   "cell_type": "code",
   "execution_count": 3,
   "id": "75a415fd",
   "metadata": {},
   "outputs": [],
   "source": [
    "dir_path = \"/Users/ecem/Documents/GitHub/seismocardiogram/data/diseased-dataset/Raw_Recordings\""
   ]
  },
  {
   "cell_type": "code",
   "execution_count": 4,
   "id": "cff5b561",
   "metadata": {},
   "outputs": [],
   "source": [
    "x = np.load(dir_path + \"/tr_x.npy\", allow_pickle= True)\n",
    "y = np.load(dir_path + \"/tr_y.npy\", allow_pickle= True)\n",
    "z = np.load(dir_path + \"/tr_z.npy\", allow_pickle= True)"
   ]
  },
  {
   "cell_type": "code",
   "execution_count": 5,
   "id": "1a7b8403",
   "metadata": {},
   "outputs": [
    {
     "data": {
      "text/plain": [
       "(100,)"
      ]
     },
     "execution_count": 5,
     "metadata": {},
     "output_type": "execute_result"
    }
   ],
   "source": [
    "x.shape"
   ]
  },
  {
   "cell_type": "code",
   "execution_count": 6,
   "id": "5927b6f5",
   "metadata": {},
   "outputs": [
    {
     "name": "stdout",
     "output_type": "stream",
     "text": [
      "<class 'obspy.core.trace.Trace'>\n",
      "<class 'obspy.core.trace.Trace'>\n",
      "<class 'obspy.core.trace.Trace'>\n",
      "******************\n",
      "<class 'obspy.core.trace.Trace'>\n",
      "<class 'obspy.core.trace.Trace'>\n",
      "<class 'obspy.core.trace.Trace'>\n",
      "******************\n",
      "<class 'obspy.core.trace.Trace'>\n",
      "<class 'obspy.core.trace.Trace'>\n",
      "<class 'obspy.core.trace.Trace'>\n",
      "******************\n",
      "<class 'obspy.core.trace.Trace'>\n",
      "<class 'obspy.core.trace.Trace'>\n",
      "<class 'obspy.core.trace.Trace'>\n",
      "******************\n",
      "<class 'obspy.core.trace.Trace'>\n",
      "<class 'obspy.core.trace.Trace'>\n",
      "<class 'obspy.core.trace.Trace'>\n",
      "******************\n",
      "<class 'obspy.core.trace.Trace'>\n",
      "<class 'obspy.core.trace.Trace'>\n",
      "<class 'obspy.core.trace.Trace'>\n",
      "******************\n",
      "<class 'obspy.core.trace.Trace'>\n",
      "<class 'obspy.core.trace.Trace'>\n",
      "<class 'obspy.core.trace.Trace'>\n",
      "******************\n",
      "<class 'obspy.core.trace.Trace'>\n",
      "<class 'obspy.core.trace.Trace'>\n",
      "<class 'obspy.core.trace.Trace'>\n",
      "******************\n",
      "<class 'obspy.core.trace.Trace'>\n",
      "<class 'obspy.core.trace.Trace'>\n",
      "<class 'obspy.core.trace.Trace'>\n",
      "******************\n",
      "<class 'obspy.core.trace.Trace'>\n",
      "<class 'obspy.core.trace.Trace'>\n",
      "<class 'obspy.core.trace.Trace'>\n",
      "******************\n",
      "<class 'obspy.core.trace.Trace'>\n",
      "<class 'obspy.core.trace.Trace'>\n",
      "<class 'obspy.core.trace.Trace'>\n",
      "******************\n",
      "<class 'obspy.core.trace.Trace'>\n",
      "<class 'obspy.core.trace.Trace'>\n",
      "<class 'obspy.core.trace.Trace'>\n",
      "******************\n",
      "<class 'obspy.core.trace.Trace'>\n",
      "<class 'obspy.core.trace.Trace'>\n",
      "<class 'obspy.core.trace.Trace'>\n",
      "******************\n",
      "<class 'obspy.core.trace.Trace'>\n",
      "<class 'obspy.core.trace.Trace'>\n",
      "<class 'obspy.core.trace.Trace'>\n",
      "******************\n",
      "<class 'obspy.core.trace.Trace'>\n",
      "<class 'obspy.core.trace.Trace'>\n",
      "<class 'obspy.core.trace.Trace'>\n",
      "******************\n",
      "<class 'obspy.core.trace.Trace'>\n",
      "<class 'obspy.core.trace.Trace'>\n",
      "<class 'obspy.core.trace.Trace'>\n",
      "******************\n",
      "<class 'obspy.core.trace.Trace'>\n",
      "<class 'obspy.core.trace.Trace'>\n",
      "<class 'obspy.core.trace.Trace'>\n",
      "******************\n",
      "<class 'obspy.core.trace.Trace'>\n",
      "<class 'obspy.core.trace.Trace'>\n",
      "<class 'obspy.core.trace.Trace'>\n",
      "******************\n",
      "<class 'obspy.core.trace.Trace'>\n",
      "<class 'obspy.core.trace.Trace'>\n",
      "<class 'obspy.core.trace.Trace'>\n",
      "******************\n",
      "<class 'obspy.core.trace.Trace'>\n",
      "<class 'obspy.core.trace.Trace'>\n",
      "<class 'obspy.core.trace.Trace'>\n",
      "******************\n",
      "<class 'obspy.core.trace.Trace'>\n",
      "<class 'obspy.core.trace.Trace'>\n",
      "<class 'obspy.core.trace.Trace'>\n",
      "******************\n",
      "<class 'obspy.core.trace.Trace'>\n",
      "<class 'obspy.core.trace.Trace'>\n",
      "<class 'obspy.core.trace.Trace'>\n",
      "******************\n",
      "<class 'obspy.core.trace.Trace'>\n",
      "<class 'obspy.core.trace.Trace'>\n",
      "<class 'obspy.core.trace.Trace'>\n",
      "******************\n",
      "<class 'obspy.core.trace.Trace'>\n",
      "<class 'obspy.core.trace.Trace'>\n",
      "<class 'obspy.core.trace.Trace'>\n",
      "******************\n",
      "<class 'obspy.core.trace.Trace'>\n",
      "<class 'obspy.core.trace.Trace'>\n",
      "<class 'obspy.core.trace.Trace'>\n",
      "******************\n",
      "<class 'obspy.core.trace.Trace'>\n",
      "<class 'obspy.core.trace.Trace'>\n",
      "<class 'obspy.core.trace.Trace'>\n",
      "******************\n",
      "<class 'obspy.core.trace.Trace'>\n",
      "<class 'obspy.core.trace.Trace'>\n",
      "<class 'obspy.core.trace.Trace'>\n",
      "******************\n",
      "<class 'obspy.core.trace.Trace'>\n",
      "<class 'obspy.core.trace.Trace'>\n",
      "<class 'obspy.core.trace.Trace'>\n",
      "******************\n",
      "<class 'obspy.core.trace.Trace'>\n",
      "<class 'obspy.core.trace.Trace'>\n",
      "<class 'obspy.core.trace.Trace'>\n",
      "******************\n",
      "<class 'obspy.core.trace.Trace'>\n",
      "<class 'obspy.core.trace.Trace'>\n",
      "<class 'obspy.core.trace.Trace'>\n",
      "******************\n",
      "<class 'obspy.core.trace.Trace'>\n",
      "<class 'obspy.core.trace.Trace'>\n",
      "<class 'obspy.core.trace.Trace'>\n",
      "******************\n",
      "<class 'obspy.core.trace.Trace'>\n",
      "<class 'obspy.core.trace.Trace'>\n",
      "<class 'obspy.core.trace.Trace'>\n",
      "******************\n",
      "<class 'obspy.core.trace.Trace'>\n",
      "<class 'obspy.core.trace.Trace'>\n",
      "<class 'obspy.core.trace.Trace'>\n",
      "******************\n",
      "<class 'obspy.core.trace.Trace'>\n",
      "<class 'obspy.core.trace.Trace'>\n",
      "<class 'obspy.core.trace.Trace'>\n",
      "******************\n",
      "<class 'obspy.core.trace.Trace'>\n",
      "<class 'obspy.core.trace.Trace'>\n",
      "<class 'obspy.core.trace.Trace'>\n",
      "******************\n",
      "<class 'obspy.core.trace.Trace'>\n",
      "<class 'obspy.core.trace.Trace'>\n",
      "<class 'obspy.core.trace.Trace'>\n",
      "******************\n",
      "<class 'obspy.core.trace.Trace'>\n",
      "<class 'obspy.core.trace.Trace'>\n",
      "<class 'obspy.core.trace.Trace'>\n",
      "******************\n",
      "<class 'obspy.core.trace.Trace'>\n",
      "<class 'obspy.core.trace.Trace'>\n",
      "<class 'obspy.core.trace.Trace'>\n",
      "******************\n",
      "<class 'obspy.core.trace.Trace'>\n",
      "<class 'obspy.core.trace.Trace'>\n",
      "<class 'obspy.core.trace.Trace'>\n",
      "******************\n",
      "<class 'obspy.core.trace.Trace'>\n",
      "<class 'obspy.core.trace.Trace'>\n",
      "<class 'obspy.core.trace.Trace'>\n",
      "******************\n",
      "<class 'obspy.core.trace.Trace'>\n",
      "<class 'obspy.core.trace.Trace'>\n",
      "<class 'obspy.core.trace.Trace'>\n",
      "******************\n",
      "<class 'obspy.core.trace.Trace'>\n",
      "<class 'obspy.core.trace.Trace'>\n",
      "<class 'obspy.core.trace.Trace'>\n",
      "******************\n",
      "<class 'obspy.core.trace.Trace'>\n",
      "<class 'obspy.core.trace.Trace'>\n",
      "<class 'obspy.core.trace.Trace'>\n",
      "******************\n",
      "<class 'obspy.core.trace.Trace'>\n",
      "<class 'obspy.core.trace.Trace'>\n",
      "<class 'obspy.core.trace.Trace'>\n",
      "******************\n",
      "<class 'obspy.core.trace.Trace'>\n",
      "<class 'obspy.core.trace.Trace'>\n",
      "<class 'obspy.core.trace.Trace'>\n",
      "******************\n",
      "<class 'obspy.core.trace.Trace'>\n",
      "<class 'obspy.core.trace.Trace'>\n",
      "<class 'obspy.core.trace.Trace'>\n",
      "******************\n",
      "<class 'obspy.core.trace.Trace'>\n",
      "<class 'obspy.core.trace.Trace'>\n",
      "<class 'obspy.core.trace.Trace'>\n",
      "******************\n",
      "<class 'obspy.core.trace.Trace'>\n",
      "<class 'obspy.core.trace.Trace'>\n",
      "<class 'obspy.core.trace.Trace'>\n",
      "******************\n",
      "<class 'obspy.core.trace.Trace'>\n",
      "<class 'obspy.core.trace.Trace'>\n",
      "<class 'obspy.core.trace.Trace'>\n",
      "******************\n",
      "<class 'obspy.core.trace.Trace'>\n",
      "<class 'obspy.core.trace.Trace'>\n",
      "<class 'obspy.core.trace.Trace'>\n",
      "******************\n",
      "<class 'obspy.core.trace.Trace'>\n",
      "<class 'obspy.core.trace.Trace'>\n",
      "<class 'obspy.core.trace.Trace'>\n",
      "******************\n",
      "<class 'obspy.core.trace.Trace'>\n",
      "<class 'obspy.core.trace.Trace'>\n",
      "<class 'obspy.core.trace.Trace'>\n",
      "******************\n",
      "<class 'obspy.core.trace.Trace'>\n",
      "<class 'obspy.core.trace.Trace'>\n",
      "<class 'obspy.core.trace.Trace'>\n",
      "******************\n",
      "<class 'obspy.core.trace.Trace'>\n",
      "<class 'obspy.core.trace.Trace'>\n",
      "<class 'obspy.core.trace.Trace'>\n",
      "******************\n",
      "<class 'obspy.core.trace.Trace'>\n",
      "<class 'obspy.core.trace.Trace'>\n",
      "<class 'obspy.core.trace.Trace'>\n",
      "******************\n",
      "<class 'obspy.core.trace.Trace'>\n",
      "<class 'obspy.core.trace.Trace'>\n",
      "<class 'obspy.core.trace.Trace'>\n",
      "******************\n",
      "<class 'obspy.core.trace.Trace'>\n",
      "<class 'obspy.core.trace.Trace'>\n",
      "<class 'obspy.core.trace.Trace'>\n",
      "******************\n",
      "<class 'obspy.core.trace.Trace'>\n",
      "<class 'obspy.core.trace.Trace'>\n",
      "<class 'obspy.core.trace.Trace'>\n",
      "******************\n",
      "<class 'obspy.core.trace.Trace'>\n",
      "<class 'obspy.core.trace.Trace'>\n",
      "<class 'obspy.core.trace.Trace'>\n",
      "******************\n",
      "<class 'obspy.core.trace.Trace'>\n",
      "<class 'obspy.core.trace.Trace'>\n",
      "<class 'obspy.core.trace.Trace'>\n",
      "******************\n",
      "<class 'obspy.core.trace.Trace'>\n",
      "<class 'obspy.core.trace.Trace'>\n",
      "<class 'obspy.core.trace.Trace'>\n",
      "******************\n",
      "<class 'obspy.core.trace.Trace'>\n",
      "<class 'obspy.core.trace.Trace'>\n",
      "<class 'obspy.core.trace.Trace'>\n",
      "******************\n",
      "<class 'obspy.core.trace.Trace'>\n",
      "<class 'obspy.core.trace.Trace'>\n",
      "<class 'obspy.core.trace.Trace'>\n",
      "******************\n",
      "<class 'obspy.core.trace.Trace'>\n",
      "<class 'obspy.core.trace.Trace'>\n",
      "<class 'obspy.core.trace.Trace'>\n",
      "******************\n",
      "<class 'obspy.core.trace.Trace'>\n",
      "<class 'obspy.core.trace.Trace'>\n",
      "<class 'obspy.core.trace.Trace'>\n",
      "******************\n",
      "<class 'obspy.core.trace.Trace'>\n",
      "<class 'obspy.core.trace.Trace'>\n",
      "<class 'obspy.core.trace.Trace'>\n",
      "******************\n",
      "<class 'obspy.core.trace.Trace'>\n",
      "<class 'obspy.core.trace.Trace'>\n",
      "<class 'obspy.core.trace.Trace'>\n",
      "******************\n",
      "<class 'obspy.core.trace.Trace'>\n",
      "<class 'obspy.core.trace.Trace'>\n",
      "<class 'obspy.core.trace.Trace'>\n",
      "******************\n",
      "<class 'obspy.core.trace.Trace'>\n",
      "<class 'obspy.core.trace.Trace'>\n",
      "<class 'obspy.core.trace.Trace'>\n",
      "******************\n",
      "<class 'obspy.core.trace.Trace'>\n",
      "<class 'obspy.core.trace.Trace'>\n",
      "<class 'obspy.core.trace.Trace'>\n",
      "******************\n",
      "<class 'obspy.core.trace.Trace'>\n",
      "<class 'obspy.core.trace.Trace'>\n",
      "<class 'obspy.core.trace.Trace'>\n",
      "******************\n",
      "<class 'obspy.core.trace.Trace'>\n",
      "<class 'obspy.core.trace.Trace'>\n",
      "<class 'obspy.core.trace.Trace'>\n",
      "******************\n",
      "<class 'obspy.core.trace.Trace'>\n",
      "<class 'obspy.core.trace.Trace'>\n",
      "<class 'obspy.core.trace.Trace'>\n",
      "******************\n",
      "<class 'obspy.core.trace.Trace'>\n",
      "<class 'obspy.core.trace.Trace'>\n",
      "<class 'obspy.core.trace.Trace'>\n",
      "******************\n",
      "<class 'obspy.core.trace.Trace'>\n",
      "<class 'obspy.core.trace.Trace'>\n",
      "<class 'obspy.core.trace.Trace'>\n",
      "******************\n",
      "<class 'obspy.core.trace.Trace'>\n",
      "<class 'obspy.core.trace.Trace'>\n",
      "<class 'obspy.core.trace.Trace'>\n",
      "******************\n",
      "<class 'obspy.core.trace.Trace'>\n",
      "<class 'obspy.core.trace.Trace'>\n",
      "<class 'obspy.core.trace.Trace'>\n",
      "******************\n",
      "<class 'obspy.core.trace.Trace'>\n",
      "<class 'obspy.core.trace.Trace'>\n",
      "<class 'obspy.core.trace.Trace'>\n",
      "******************\n",
      "<class 'obspy.core.trace.Trace'>\n",
      "<class 'obspy.core.trace.Trace'>\n",
      "<class 'obspy.core.trace.Trace'>\n",
      "******************\n",
      "<class 'obspy.core.trace.Trace'>\n",
      "<class 'obspy.core.trace.Trace'>\n",
      "<class 'obspy.core.trace.Trace'>\n",
      "******************\n",
      "<class 'obspy.core.trace.Trace'>\n",
      "<class 'obspy.core.trace.Trace'>\n",
      "<class 'obspy.core.trace.Trace'>\n",
      "******************\n",
      "<class 'obspy.core.trace.Trace'>\n",
      "<class 'obspy.core.trace.Trace'>\n",
      "<class 'obspy.core.trace.Trace'>\n",
      "******************\n",
      "<class 'obspy.core.trace.Trace'>\n",
      "<class 'obspy.core.trace.Trace'>\n",
      "<class 'obspy.core.trace.Trace'>\n",
      "******************\n",
      "<class 'obspy.core.trace.Trace'>\n",
      "<class 'obspy.core.trace.Trace'>\n",
      "<class 'obspy.core.trace.Trace'>\n",
      "******************\n",
      "<class 'obspy.core.trace.Trace'>\n",
      "<class 'obspy.core.trace.Trace'>\n",
      "<class 'obspy.core.trace.Trace'>\n",
      "******************\n",
      "<class 'obspy.core.trace.Trace'>\n",
      "<class 'obspy.core.trace.Trace'>\n",
      "<class 'obspy.core.trace.Trace'>\n",
      "******************\n",
      "<class 'obspy.core.trace.Trace'>\n",
      "<class 'obspy.core.trace.Trace'>\n",
      "<class 'obspy.core.trace.Trace'>\n",
      "******************\n",
      "<class 'obspy.core.trace.Trace'>\n",
      "<class 'obspy.core.trace.Trace'>\n",
      "<class 'obspy.core.trace.Trace'>\n",
      "******************\n",
      "<class 'obspy.core.trace.Trace'>\n",
      "<class 'obspy.core.trace.Trace'>\n",
      "<class 'obspy.core.trace.Trace'>\n",
      "******************\n",
      "<class 'obspy.core.trace.Trace'>\n",
      "<class 'obspy.core.trace.Trace'>\n",
      "<class 'obspy.core.trace.Trace'>\n",
      "******************\n",
      "<class 'obspy.core.trace.Trace'>\n",
      "<class 'obspy.core.trace.Trace'>\n",
      "<class 'obspy.core.trace.Trace'>\n",
      "******************\n",
      "<class 'obspy.core.trace.Trace'>\n",
      "<class 'obspy.core.trace.Trace'>\n",
      "<class 'obspy.core.trace.Trace'>\n",
      "******************\n",
      "<class 'obspy.core.trace.Trace'>\n",
      "<class 'obspy.core.trace.Trace'>\n",
      "<class 'obspy.core.trace.Trace'>\n",
      "******************\n",
      "<class 'obspy.core.trace.Trace'>\n",
      "<class 'obspy.core.trace.Trace'>\n",
      "<class 'obspy.core.trace.Trace'>\n",
      "******************\n",
      "<class 'obspy.core.trace.Trace'>\n",
      "<class 'obspy.core.trace.Trace'>\n",
      "<class 'obspy.core.trace.Trace'>\n",
      "******************\n",
      "<class 'obspy.core.trace.Trace'>\n",
      "<class 'obspy.core.trace.Trace'>\n",
      "<class 'obspy.core.trace.Trace'>\n",
      "******************\n",
      "<class 'obspy.core.trace.Trace'>\n",
      "<class 'obspy.core.trace.Trace'>\n",
      "<class 'obspy.core.trace.Trace'>\n",
      "******************\n",
      "<class 'obspy.core.trace.Trace'>\n",
      "<class 'obspy.core.trace.Trace'>\n",
      "<class 'obspy.core.trace.Trace'>\n",
      "******************\n",
      "<class 'obspy.core.trace.Trace'>\n",
      "<class 'obspy.core.trace.Trace'>\n",
      "<class 'obspy.core.trace.Trace'>\n",
      "******************\n",
      "<class 'obspy.core.trace.Trace'>\n",
      "<class 'obspy.core.trace.Trace'>\n",
      "<class 'obspy.core.trace.Trace'>\n",
      "******************\n"
     ]
    }
   ],
   "source": [
    "for i in range(len(x)):\n",
    "    print(type(x[i]))\n",
    "    print(type(y[i]))\n",
    "    print(type(z[i]))\n",
    "    print(\"******************\")"
   ]
  },
  {
   "cell_type": "markdown",
   "id": "45e75421",
   "metadata": {},
   "source": [
    "## Load csv and create two seperate dataframe:\n",
    "We are going to use heart dataframe to differentiate healty people from the people with diaseaes. Data's of healty people will be stored in the healty dataset while diseased people will be in diseased dataset."
   ]
  },
  {
   "cell_type": "code",
   "execution_count": 7,
   "id": "d770eb2f",
   "metadata": {},
   "outputs": [],
   "source": [
    "heart = pd.read_excel(\"/Users/ecem/Documents/GitHub/seismocardiogram/data/diseased-dataset/Summary_Pub_Deidentified.xlsx\")\n",
    "df = heart.copy().fillna(0)"
   ]
  },
  {
   "cell_type": "markdown",
   "id": "651352d7",
   "metadata": {},
   "source": [
    "I have dropped some columns because they didnt have much information. ????????"
   ]
  },
  {
   "cell_type": "code",
   "execution_count": 8,
   "id": "386d808a",
   "metadata": {},
   "outputs": [],
   "source": [
    "df.drop([\"Mitral valve Peak velocity (m/sec)\",\n",
    "         \"Mitral valve Mean gradient(mmHg)\", \n",
    "         \"Echo available\",\n",
    "        \"Date of collection\",\n",
    "        \"Date of echo\"], \n",
    "        inplace = True, axis = 1)\n",
    "df.drop(df.tail(1).index,inplace=True)"
   ]
  },
  {
   "cell_type": "markdown",
   "id": "dbd6f79f",
   "metadata": {},
   "source": [
    "## MS "
   ]
  },
  {
   "cell_type": "code",
   "execution_count": 9,
   "id": "31039361",
   "metadata": {},
   "outputs": [],
   "source": [
    "idx_MS_AS = np.where((df['Moderate or greater MS'] == 1.0)  \n",
    "                  &(df['Moderate or greater MR'] == 0.0)  \n",
    "                  & (df['Moderate or greater AR'] == 0.0)\n",
    "                  &(df['Moderate or greater AS'] == 1.0)  \n",
    "                  & (df['moderate or greater TR'] == 0.0))\n"
   ]
  },
  {
   "cell_type": "code",
   "execution_count": 10,
   "id": "a6e21993",
   "metadata": {},
   "outputs": [
    {
     "data": {
      "text/plain": [
       "(array([79, 81, 83]),)"
      ]
     },
     "execution_count": 10,
     "metadata": {},
     "output_type": "execute_result"
    }
   ],
   "source": [
    "idx_MS_AS"
   ]
  },
  {
   "cell_type": "code",
   "execution_count": 11,
   "id": "2f279480",
   "metadata": {},
   "outputs": [],
   "source": [
    "diseased_MS_AS = df.loc[idx_MS_AS]"
   ]
  },
  {
   "cell_type": "code",
   "execution_count": 12,
   "id": "d1f0658c",
   "metadata": {},
   "outputs": [],
   "source": [
    "idx_MS_AR = np.where((df['Moderate or greater MS'] == 1.0)  \n",
    "                  &(df['Moderate or greater MR'] == 0.0)  \n",
    "                  & (df['Moderate or greater AR'] == 1.0)\n",
    "                  &(df['Moderate or greater AS'] == 0.0)  \n",
    "                  & (df['moderate or greater TR'] == 0.0))"
   ]
  },
  {
   "cell_type": "code",
   "execution_count": 13,
   "id": "32cfdaef",
   "metadata": {},
   "outputs": [
    {
     "data": {
      "text/plain": [
       "(array([], dtype=int64),)"
      ]
     },
     "execution_count": 13,
     "metadata": {},
     "output_type": "execute_result"
    }
   ],
   "source": [
    "idx_MS_AR"
   ]
  },
  {
   "cell_type": "code",
   "execution_count": 14,
   "id": "edd8530e",
   "metadata": {},
   "outputs": [],
   "source": [
    "idx_MS_MR = np.where((df['Moderate or greater MS'] == 1.0)  \n",
    "                  &(df['Moderate or greater MR'] == 1.0)  \n",
    "                  & (df['Moderate or greater AR'] == 0.0)\n",
    "                  &(df['Moderate or greater AS'] == 0.0)  \n",
    "                  & (df['moderate or greater TR'] == 0.0))"
   ]
  },
  {
   "cell_type": "code",
   "execution_count": 15,
   "id": "e68b5d71",
   "metadata": {},
   "outputs": [
    {
     "data": {
      "text/plain": [
       "(array([46]),)"
      ]
     },
     "execution_count": 15,
     "metadata": {},
     "output_type": "execute_result"
    }
   ],
   "source": [
    "idx_MS_MR"
   ]
  },
  {
   "cell_type": "code",
   "execution_count": 16,
   "id": "d9e050c2",
   "metadata": {},
   "outputs": [],
   "source": [
    "diseased_MS_MR = df.loc[idx_MS_MR]"
   ]
  },
  {
   "cell_type": "markdown",
   "id": "971f10b5",
   "metadata": {},
   "source": [
    "## MR"
   ]
  },
  {
   "cell_type": "code",
   "execution_count": 17,
   "id": "042d86cc",
   "metadata": {},
   "outputs": [],
   "source": [
    "idx_MR_AR = np.where((df['Moderate or greater MS'] == 0.0)  \n",
    "                  &(df['Moderate or greater MR'] == 1.0)  \n",
    "                  & (df['Moderate or greater AR'] == 1.0)\n",
    "                  &(df['Moderate or greater AS'] == 0.0)  \n",
    "                  & (df['moderate or greater TR'] == 0.0))"
   ]
  },
  {
   "cell_type": "code",
   "execution_count": 18,
   "id": "bd646ff1",
   "metadata": {},
   "outputs": [
    {
     "data": {
      "text/plain": [
       "(array([25, 36, 38, 43, 58, 64]),)"
      ]
     },
     "execution_count": 18,
     "metadata": {},
     "output_type": "execute_result"
    }
   ],
   "source": [
    "idx_MR_AR"
   ]
  },
  {
   "cell_type": "code",
   "execution_count": 19,
   "id": "33f5cc42",
   "metadata": {},
   "outputs": [],
   "source": [
    "diseased_MR_AR = df.loc[idx_MR_AR]"
   ]
  },
  {
   "cell_type": "code",
   "execution_count": 20,
   "id": "71e8bc9a",
   "metadata": {},
   "outputs": [],
   "source": [
    "idx_MR_AS = np.where((df['Moderate or greater MS'] == 0.0)  \n",
    "                  &(df['Moderate or greater MR'] == 1.0)  \n",
    "                  & (df['Moderate or greater AR'] == 0.0)\n",
    "                  &(df['Moderate or greater AS'] == 1.0)  \n",
    "                  & (df['moderate or greater TR'] == 0.0))"
   ]
  },
  {
   "cell_type": "code",
   "execution_count": 21,
   "id": "334fa163",
   "metadata": {},
   "outputs": [
    {
     "data": {
      "text/plain": [
       "(array([82, 89, 94]),)"
      ]
     },
     "execution_count": 21,
     "metadata": {},
     "output_type": "execute_result"
    }
   ],
   "source": [
    "idx_MR_AS"
   ]
  },
  {
   "cell_type": "code",
   "execution_count": 22,
   "id": "5ce161db",
   "metadata": {},
   "outputs": [],
   "source": [
    "diseased_MR_AS = df.loc[idx_MR_AS]"
   ]
  },
  {
   "cell_type": "markdown",
   "id": "83512e8c",
   "metadata": {},
   "source": [
    "## AR"
   ]
  },
  {
   "cell_type": "code",
   "execution_count": 23,
   "id": "f4899092",
   "metadata": {},
   "outputs": [],
   "source": [
    "idx_AR_AS = np.where((df['Moderate or greater MS'] == 0.0)  \n",
    "                  &(df['Moderate or greater MR'] == 0.0)  \n",
    "                  & (df['Moderate or greater AR'] == 1.0)\n",
    "                  &(df['Moderate or greater AS'] == 1.0)  \n",
    "                  & (df['moderate or greater TR'] == 0.0))"
   ]
  },
  {
   "cell_type": "code",
   "execution_count": 24,
   "id": "fb21b402",
   "metadata": {},
   "outputs": [
    {
     "data": {
      "text/plain": [
       "(array([4]),)"
      ]
     },
     "execution_count": 24,
     "metadata": {},
     "output_type": "execute_result"
    }
   ],
   "source": [
    "idx_AR_AS"
   ]
  },
  {
   "cell_type": "code",
   "execution_count": 25,
   "id": "5cf40717",
   "metadata": {},
   "outputs": [],
   "source": [
    "diseased_AR_AS = df.loc[idx_AR_AS]"
   ]
  },
  {
   "cell_type": "markdown",
   "id": "0cdd6918",
   "metadata": {},
   "source": [
    "Now its a time to seperate their waveform too."
   ]
  },
  {
   "cell_type": "markdown",
   "id": "2bcbbef5",
   "metadata": {},
   "source": [
    "These empty list will be used to store array values."
   ]
  },
  {
   "cell_type": "code",
   "execution_count": 26,
   "id": "7a2c2752",
   "metadata": {},
   "outputs": [],
   "source": [
    "MS_AS_x, MS_AS_y, MS_AS_z = [],[],[]\n",
    "MS_MR_x, MS_MR_y, MS_MR_z = [],[],[]\n",
    "\n",
    "MR_AS_x, MR_AS_y, MR_AS_z = [],[],[]\n",
    "MR_AR_x, MR_AR_y, MR_AR_z = [],[],[]\n",
    "\n",
    "AR_AS_x, AR_AS_y, AR_AS_z = [],[],[]"
   ]
  },
  {
   "cell_type": "code",
   "execution_count": 27,
   "id": "46add168",
   "metadata": {},
   "outputs": [],
   "source": [
    "for i in range(len(diseased_MS_AS['Patient ID'].index)):\n",
    "    x_ = x[diseased_MS_AS['Patient ID'].index[i]]\n",
    "    y_ = y[diseased_MS_AS['Patient ID'].index[i]]\n",
    "    z_ = z[diseased_MS_AS['Patient ID'].index[i]]\n",
    "    \n",
    "    MS_AS_x.append(x_)\n",
    "    MS_AS_y.append(y_) \n",
    "    MS_AS_z.append(z_) \n",
    "del x_, y_, z_"
   ]
  },
  {
   "cell_type": "code",
   "execution_count": 28,
   "id": "10b51068",
   "metadata": {},
   "outputs": [
    {
     "ename": "NameError",
     "evalue": "name 'diseased_MS_AR' is not defined",
     "output_type": "error",
     "traceback": [
      "\u001b[0;31m---------------------------------------------------------------------------\u001b[0m",
      "\u001b[0;31mNameError\u001b[0m                                 Traceback (most recent call last)",
      "\u001b[0;32m/var/folders/gd/3d6ckpdn4q30skhxnvs_p7b80000gn/T/ipykernel_11907/3147025412.py\u001b[0m in \u001b[0;36m<module>\u001b[0;34m\u001b[0m\n\u001b[0;32m----> 1\u001b[0;31m \u001b[0;32mfor\u001b[0m \u001b[0mi\u001b[0m \u001b[0;32min\u001b[0m \u001b[0mrange\u001b[0m\u001b[0;34m(\u001b[0m\u001b[0mlen\u001b[0m\u001b[0;34m(\u001b[0m\u001b[0mdiseased_MS_AR\u001b[0m\u001b[0;34m[\u001b[0m\u001b[0;34m'Patient ID'\u001b[0m\u001b[0;34m]\u001b[0m\u001b[0;34m.\u001b[0m\u001b[0mindex\u001b[0m\u001b[0;34m)\u001b[0m\u001b[0;34m)\u001b[0m\u001b[0;34m:\u001b[0m\u001b[0;34m\u001b[0m\u001b[0;34m\u001b[0m\u001b[0m\n\u001b[0m\u001b[1;32m      2\u001b[0m     \u001b[0mx_\u001b[0m \u001b[0;34m=\u001b[0m \u001b[0mx\u001b[0m\u001b[0;34m[\u001b[0m\u001b[0mdiseased_MS_AR\u001b[0m\u001b[0;34m[\u001b[0m\u001b[0;34m'Patient ID'\u001b[0m\u001b[0;34m]\u001b[0m\u001b[0;34m.\u001b[0m\u001b[0mindex\u001b[0m\u001b[0;34m[\u001b[0m\u001b[0mi\u001b[0m\u001b[0;34m]\u001b[0m\u001b[0;34m]\u001b[0m\u001b[0;34m\u001b[0m\u001b[0;34m\u001b[0m\u001b[0m\n\u001b[1;32m      3\u001b[0m     \u001b[0my_\u001b[0m \u001b[0;34m=\u001b[0m \u001b[0my\u001b[0m\u001b[0;34m[\u001b[0m\u001b[0mdiseased_MS_AR\u001b[0m\u001b[0;34m[\u001b[0m\u001b[0;34m'Patient ID'\u001b[0m\u001b[0;34m]\u001b[0m\u001b[0;34m.\u001b[0m\u001b[0mindex\u001b[0m\u001b[0;34m[\u001b[0m\u001b[0mi\u001b[0m\u001b[0;34m]\u001b[0m\u001b[0;34m]\u001b[0m\u001b[0;34m\u001b[0m\u001b[0;34m\u001b[0m\u001b[0m\n\u001b[1;32m      4\u001b[0m     \u001b[0mz_\u001b[0m \u001b[0;34m=\u001b[0m \u001b[0mz\u001b[0m\u001b[0;34m[\u001b[0m\u001b[0mdiseased_MS_AR\u001b[0m\u001b[0;34m[\u001b[0m\u001b[0;34m'Patient ID'\u001b[0m\u001b[0;34m]\u001b[0m\u001b[0;34m.\u001b[0m\u001b[0mindex\u001b[0m\u001b[0;34m[\u001b[0m\u001b[0mi\u001b[0m\u001b[0;34m]\u001b[0m\u001b[0;34m]\u001b[0m\u001b[0;34m\u001b[0m\u001b[0;34m\u001b[0m\u001b[0m\n\u001b[1;32m      5\u001b[0m \u001b[0;34m\u001b[0m\u001b[0m\n",
      "\u001b[0;31mNameError\u001b[0m: name 'diseased_MS_AR' is not defined"
     ]
    }
   ],
   "source": [
    "for i in range(len(diseased_MS_AR['Patient ID'].index)):\n",
    "    x_ = x[diseased_MS_AR['Patient ID'].index[i]]\n",
    "    y_ = y[diseased_MS_AR['Patient ID'].index[i]]\n",
    "    z_ = z[diseased_MS_AR['Patient ID'].index[i]]\n",
    "    \n",
    "    MS_AR_x.append(x_)\n",
    "    MS_AR_y.append(y_) \n",
    "    MS_AR_z.append(z_) \n",
    "del x_, y_, z_"
   ]
  },
  {
   "cell_type": "code",
   "execution_count": 29,
   "id": "4abe8deb",
   "metadata": {},
   "outputs": [],
   "source": [
    "for i in range(len(diseased_MS_MR['Patient ID'].index)):\n",
    "    x_ = x[diseased_MS_MR['Patient ID'].index]\n",
    "    y_ = y[diseased_MS_MR['Patient ID'].index]\n",
    "    z_ = z[diseased_MS_MR['Patient ID'].index]\n",
    "    \n",
    "    MS_MR_x.append(x_)\n",
    "    MS_MR_y.append(y_) \n",
    "    MS_MR_z.append(z_) \n",
    "del x_, y_, z_"
   ]
  },
  {
   "cell_type": "code",
   "execution_count": 30,
   "id": "998e3cc0",
   "metadata": {},
   "outputs": [
    {
     "name": "stdout",
     "output_type": "stream",
     "text": [
      "[array([<obspy.core.trace.Trace object at 0x117fda760>], dtype=object)]\n",
      "[array([<obspy.core.trace.Trace object at 0x117fecf40>], dtype=object)]\n",
      "[array([<obspy.core.trace.Trace object at 0x12600d250>], dtype=object)]\n"
     ]
    }
   ],
   "source": [
    "print(MS_MR_x)\n",
    "print(MS_MR_y)\n",
    "print(MS_MR_z)"
   ]
  },
  {
   "cell_type": "code",
   "execution_count": 32,
   "id": "87e74b29",
   "metadata": {},
   "outputs": [],
   "source": [
    "for i in range(len(diseased_MR_AS['Patient ID'].index)):\n",
    "    x_ = x[diseased_MR_AS['Patient ID'].index[i]]\n",
    "    y_ = y[diseased_MR_AS['Patient ID'].index[i]]\n",
    "    z_ = z[diseased_MR_AS['Patient ID'].index[i]]\n",
    "    \n",
    "    MR_AS_x.append(x_)\n",
    "    MR_AS_y.append(y_) \n",
    "    MR_AS_z.append(z_) \n",
    "del x_, y_, z_"
   ]
  },
  {
   "cell_type": "code",
   "execution_count": 33,
   "id": "d9c0f1b4",
   "metadata": {},
   "outputs": [],
   "source": [
    "for i in range(len(diseased_MR_AR['Patient ID'].index)):\n",
    "    x_ = x[diseased_MR_AR['Patient ID'].index[i]]\n",
    "    y_ = y[diseased_MR_AR['Patient ID'].index[i]]\n",
    "    z_ = z[diseased_MR_AR['Patient ID'].index[i]]\n",
    "    \n",
    "    MR_AR_x.append(x_)\n",
    "    MR_AR_y.append(y_) \n",
    "    MR_AR_z.append(z_) \n",
    "del x_, y_, z_"
   ]
  },
  {
   "cell_type": "code",
   "execution_count": 34,
   "id": "4b04784d",
   "metadata": {},
   "outputs": [
    {
     "data": {
      "text/plain": [
       "array([<obspy.core.trace.Trace object at 0x103f5bbb0>], dtype=object)"
      ]
     },
     "execution_count": 34,
     "metadata": {},
     "output_type": "execute_result"
    }
   ],
   "source": [
    "x[diseased_AR_AS['Patient ID'].index]"
   ]
  },
  {
   "cell_type": "code",
   "execution_count": 35,
   "id": "c129a45c",
   "metadata": {},
   "outputs": [],
   "source": [
    "AR_AS_x.append(x[diseased_AR_AS['Patient ID'].index])\n",
    "AR_AS_y.append(y[diseased_AR_AS['Patient ID'].index]) \n",
    "AR_AS_z.append(z[diseased_AR_AS['Patient ID'].index]) \n"
   ]
  },
  {
   "cell_type": "code",
   "execution_count": null,
   "id": "1bf3af36",
   "metadata": {},
   "outputs": [],
   "source": []
  },
  {
   "cell_type": "code",
   "execution_count": 36,
   "id": "130fcfe3",
   "metadata": {},
   "outputs": [],
   "source": [
    "stacked_MS_AS = np.stack((MS_AS_x, MS_AS_y, MS_AS_z), axis = -1)\n",
    "stacked_MS_MR = np.hstack((MS_MR_x ,MS_MR_y, MS_MR_z))\n",
    "\n",
    "stacked_MR_AS = np.stack((MR_AS_x, MR_AS_y, MR_AS_z), axis = -1)\n",
    "stacked_MR_AR = np.stack((MR_AR_x, MR_AR_y, MR_AR_z), axis = -1)\n",
    "\n",
    "stacked_AR_AS = np.hstack((AR_AS_x, AR_AS_y, AR_AS_z))"
   ]
  },
  {
   "cell_type": "code",
   "execution_count": 37,
   "id": "34f617a4",
   "metadata": {},
   "outputs": [
    {
     "name": "stdout",
     "output_type": "stream",
     "text": [
      "(3, 3)\n",
      "(1, 3)\n",
      "(3, 3)\n",
      "(6, 3)\n",
      "(1, 3)\n"
     ]
    }
   ],
   "source": [
    "print(stacked_MS_AS.shape)\n",
    "print(stacked_MS_MR.shape)\n",
    "print(stacked_MR_AS.shape)\n",
    "print(stacked_MR_AR.shape)\n",
    "print(stacked_AR_AS.shape)"
   ]
  },
  {
   "cell_type": "code",
   "execution_count": 38,
   "id": "97e2496d",
   "metadata": {},
   "outputs": [
    {
     "data": {
      "text/plain": [
       "         network: \n",
       "         station: \n",
       "        location: \n",
       "         channel: \n",
       "       starttime: 1970-01-01T00:00:00.000000Z\n",
       "         endtime: 1970-01-01T00:07:01.007812Z\n",
       "   sampling_rate: 256.0\n",
       "           delta: 0.00390625\n",
       "            npts: 107779\n",
       "           calib: 1.0\n",
       "      processing: [\"ObsPy 1.3.0: detrend(options={}::type='linear')\", \"ObsPy 1.3.0: taper(max_length=None::max_percentage=0.05::side='both'::type='hann')\"]"
      ]
     },
     "execution_count": 38,
     "metadata": {},
     "output_type": "execute_result"
    }
   ],
   "source": [
    "stacked_MS_MR[0][1].stats"
   ]
  },
  {
   "cell_type": "code",
   "execution_count": 39,
   "id": "28f0b265",
   "metadata": {},
   "outputs": [],
   "source": [
    "np.save(dir_path + \"/MS_AS\", stacked_MS_AS, allow_pickle= True)\n",
    "np.save(dir_path + \"/MS_MR\", stacked_MS_MR, allow_pickle= True)\n",
    "\n",
    "np.save(dir_path + \"/MR_AS\", stacked_MR_AS, allow_pickle= True)\n",
    "np.save(dir_path + \"/MR_AR\", stacked_MR_AS, allow_pickle= True)\n",
    "\n",
    "np.save(dir_path + \"/AR_AS\", stacked_AR_AS, allow_pickle= True)\n"
   ]
  },
  {
   "cell_type": "code",
   "execution_count": null,
   "id": "2ae00edc",
   "metadata": {},
   "outputs": [],
   "source": []
  },
  {
   "cell_type": "code",
   "execution_count": null,
   "id": "0a2244a7",
   "metadata": {},
   "outputs": [],
   "source": []
  }
 ],
 "metadata": {
  "kernelspec": {
   "display_name": "Python 3 (ipykernel)",
   "language": "python",
   "name": "python3"
  },
  "language_info": {
   "codemirror_mode": {
    "name": "ipython",
    "version": 3
   },
   "file_extension": ".py",
   "mimetype": "text/x-python",
   "name": "python",
   "nbconvert_exporter": "python",
   "pygments_lexer": "ipython3",
   "version": "3.9.9"
  }
 },
 "nbformat": 4,
 "nbformat_minor": 5
}
