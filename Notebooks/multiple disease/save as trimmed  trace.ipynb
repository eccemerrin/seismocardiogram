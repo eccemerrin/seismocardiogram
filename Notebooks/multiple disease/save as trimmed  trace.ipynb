{
 "cells": [
  {
   "cell_type": "code",
   "execution_count": 1,
   "id": "ed8956c7",
   "metadata": {},
   "outputs": [
    {
     "ename": "RuntimeError",
     "evalue": "module compiled against API version 0xe but this version of numpy is 0xd",
     "output_type": "error",
     "traceback": [
      "\u001b[0;31m---------------------------------------------------------------------------\u001b[0m",
      "\u001b[0;31mRuntimeError\u001b[0m                              Traceback (most recent call last)",
      "\u001b[0;31mRuntimeError\u001b[0m: module compiled against API version 0xe but this version of numpy is 0xd"
     ]
    }
   ],
   "source": [
    "import scipy.io\n",
    "import os\n",
    "import pandas\n",
    "import numpy as np\n",
    "import obspy"
   ]
  },
  {
   "cell_type": "code",
   "execution_count": 2,
   "id": "cfdf48a5",
   "metadata": {},
   "outputs": [
    {
     "name": "stdout",
     "output_type": "stream",
     "text": [
      "1.19.5\n"
     ]
    }
   ],
   "source": [
    "print(np.__version__)"
   ]
  },
  {
   "cell_type": "code",
   "execution_count": 3,
   "id": "e104b3c9",
   "metadata": {},
   "outputs": [],
   "source": [
    "dir_path = \"/Users/ecem/Documents/GitHub/seismocardiogram/data/diseased-dataset/Raw_Recordings\""
   ]
  },
  {
   "cell_type": "code",
   "execution_count": 4,
   "id": "a2d09b08",
   "metadata": {},
   "outputs": [],
   "source": [
    "ms_ = np.load(dir_path + \"/MS-t.npy\", allow_pickle= True)\n",
    "mr_ = np.load(dir_path + \"/MR-t.npy\", allow_pickle= True)\n",
    "as_ = np.load(dir_path + \"/AS-t.npy\", allow_pickle= True)\n",
    "ar_ = np.load(dir_path + \"/AR-t.npy\", allow_pickle= True)"
   ]
  },
  {
   "cell_type": "code",
   "execution_count": 5,
   "id": "fcc77fbc",
   "metadata": {},
   "outputs": [],
   "source": [
    "tr_ms_x, tr_ms_y, tr_ms_z = [],[],[]\n",
    "\n",
    "for i in range(ms_.shape[1]):\n",
    "    x_ = obspy.core.trace.Trace(ms_[0][i]).detrend(\"linear\").taper(max_percentage=0.05, type=\"hann\")\n",
    "    y_ = obspy.core.trace.Trace(ms_[1][i]).detrend(\"linear\").taper(max_percentage=0.05, type=\"hann\")\n",
    "    z_ = obspy.core.trace.Trace(ms_[2][i]).detrend(\"linear\").taper(max_percentage=0.05, type=\"hann\")\n",
    "\n",
    "    x_.stats.sampling_rate = 256\n",
    "    y_.stats.sampling_rate = 256\n",
    "    z_.stats.sampling_rate = 256\n",
    "\n",
    "    tr_ms_x.append(x_)\n",
    "    tr_ms_y.append(y_)\n",
    "    tr_ms_z.append(z_)\n",
    "    \n"
   ]
  },
  {
   "cell_type": "code",
   "execution_count": 6,
   "id": "bcc5d578",
   "metadata": {},
   "outputs": [],
   "source": [
    "tr_mr_x, tr_mr_y, tr_mr_z = [],[],[]\n",
    "\n",
    "for i in range(mr_.shape[1]):\n",
    "    y_ = obspy.core.trace.Trace(mr_[1][i])\n",
    "    z_ = obspy.core.trace.Trace(mr_[2][i])\n",
    "    x_ = obspy.core.trace.Trace(mr_[0][i])\n",
    "    \n",
    "    x_.stats.sampling_rate = 256\n",
    "    y_.stats.sampling_rate = 256\n",
    "    z_.stats.sampling_rate = 256\n",
    "\n",
    "    tr_mr_x.append(x_)\n",
    "    tr_mr_y.append(y_)\n",
    "    tr_mr_z.append(z_)"
   ]
  },
  {
   "cell_type": "code",
   "execution_count": 7,
   "id": "c2828719",
   "metadata": {},
   "outputs": [],
   "source": [
    "tr_ar_x, tr_ar_y, tr_ar_z = [],[],[]\n",
    "\n",
    "for i in range(ar_.shape[1]):\n",
    "    x_ = obspy.core.trace.Trace(ar_[0][i])\n",
    "    y_ = obspy.core.trace.Trace(ar_[1][i])\n",
    "    z_ = obspy.core.trace.Trace(ar_[2][i])\n",
    "\n",
    "    x_.stats.sampling_rate = 256\n",
    "    y_.stats.sampling_rate = 256\n",
    "    z_.stats.sampling_rate = 256\n",
    "\n",
    "    tr_ar_x.append(x_)\n",
    "    tr_ar_y.append(y_)\n",
    "    tr_ar_z.append(z_)"
   ]
  },
  {
   "cell_type": "code",
   "execution_count": 8,
   "id": "b99270b5",
   "metadata": {},
   "outputs": [],
   "source": [
    "tr_as_x, tr_as_y, tr_as_z = [],[],[]\n",
    "\n",
    "for i in range(as_.shape[1]):\n",
    "    x_ = obspy.core.trace.Trace(mr_[0][i])\n",
    "    y_ = obspy.core.trace.Trace(mr_[1][i])\n",
    "    z_ = obspy.core.trace.Trace(mr_[2][i])\n",
    "    \n",
    "    x_.stats.sampling_rate = 256\n",
    "    y_.stats.sampling_rate = 256\n",
    "    z_.stats.sampling_rate = 256\n",
    "\n",
    "    tr_as_x.append(x_)\n",
    "    tr_as_y.append(y_)\n",
    "    tr_as_z.append(z_)\n",
    "    \n",
    "    "
   ]
  },
  {
   "cell_type": "code",
   "execution_count": 9,
   "id": "55ac815d",
   "metadata": {},
   "outputs": [],
   "source": [
    "tr_mr = np.stack((tr_mr_x, tr_mr_y, tr_mr_z), axis=0)\n",
    "tr_ms = np.stack((tr_ms_x, tr_ms_y, tr_ms_z), axis=0)\n",
    "tr_as = np.stack((tr_as_x, tr_as_y, tr_as_z), axis=0)\n",
    "tr_ar = np.stack((tr_ar_x, tr_ar_y, tr_ar_z), axis=0)"
   ]
  },
  {
   "cell_type": "code",
   "execution_count": 10,
   "id": "4f6ea489",
   "metadata": {},
   "outputs": [
    {
     "data": {
      "text/plain": [
       "numpy.ndarray"
      ]
     },
     "execution_count": 10,
     "metadata": {},
     "output_type": "execute_result"
    }
   ],
   "source": [
    "type(tr_as[0][0])"
   ]
  },
  {
   "cell_type": "code",
   "execution_count": 11,
   "id": "542e4b05",
   "metadata": {},
   "outputs": [],
   "source": [
    "np.save(dir_path + \"/trimmed_t_mr\", tr_mr, allow_pickle= True)\n",
    "np.save(dir_path + \"/trimmed_t_ms\", tr_ms, allow_pickle= True)\n",
    "np.save(dir_path + \"/trimmed_t_as\", tr_as, allow_pickle= True)\n",
    "np.save(dir_path + \"/trimmed_t_ar\", tr_ar, allow_pickle= True)\n",
    "\n",
    "x = np.load(dir_path + \"/trimmed_t_mr.npy\", allow_pickle= True)"
   ]
  },
  {
   "cell_type": "code",
   "execution_count": 12,
   "id": "7aeb7cbd",
   "metadata": {},
   "outputs": [
    {
     "data": {
      "text/plain": [
       "numpy.ndarray"
      ]
     },
     "execution_count": 12,
     "metadata": {},
     "output_type": "execute_result"
    }
   ],
   "source": [
    "type(x[0][0])"
   ]
  },
  {
   "cell_type": "code",
   "execution_count": null,
   "id": "10e50692",
   "metadata": {},
   "outputs": [],
   "source": []
  }
 ],
 "metadata": {
  "kernelspec": {
   "display_name": "Python 3 (ipykernel)",
   "language": "python",
   "name": "python3"
  },
  "language_info": {
   "codemirror_mode": {
    "name": "ipython",
    "version": 3
   },
   "file_extension": ".py",
   "mimetype": "text/x-python",
   "name": "python",
   "nbconvert_exporter": "python",
   "pygments_lexer": "ipython3",
   "version": "3.9.9"
  }
 },
 "nbformat": 4,
 "nbformat_minor": 5
}
