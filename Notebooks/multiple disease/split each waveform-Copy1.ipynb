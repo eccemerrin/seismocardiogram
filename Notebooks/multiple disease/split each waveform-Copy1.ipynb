{
 "cells": [
  {
   "cell_type": "code",
   "execution_count": 1,
   "id": "466a2dc2",
   "metadata": {},
   "outputs": [],
   "source": [
    "import numpy as np"
   ]
  },
  {
   "cell_type": "code",
   "execution_count": 2,
   "id": "ce06ed57",
   "metadata": {},
   "outputs": [],
   "source": [
    "dir_path = \"/Users/ecem/Documents/GitHub/seismocardiogram/data/diseased-dataset/Raw_Recordings\""
   ]
  },
  {
   "cell_type": "code",
   "execution_count": 3,
   "id": "1ccbf715",
   "metadata": {},
   "outputs": [],
   "source": [
    "ms_as = np.load(dir_path + \"/MS_AS.npy\", allow_pickle= True)\n",
    "ms_mr = np.load(dir_path + \"/MS_MR.npy\", allow_pickle= True)\n",
    "\n",
    "mr_as = np.load(dir_path + \"/MR_AS.npy\", allow_pickle= True)\n",
    "mr_ar = np.load(dir_path + \"/MR_AR.npy\", allow_pickle= True)\n",
    "\n",
    "ar_as = np.load(dir_path + \"/AR_AS.npy\", allow_pickle= True)"
   ]
  },
  {
   "cell_type": "code",
   "execution_count": 4,
   "id": "ad5672a3",
   "metadata": {},
   "outputs": [
    {
     "data": {
      "text/plain": [
       "(3, 3)"
      ]
     },
     "execution_count": 4,
     "metadata": {},
     "output_type": "execute_result"
    }
   ],
   "source": [
    "mr_as.shape"
   ]
  },
  {
   "cell_type": "code",
   "execution_count": 5,
   "id": "45cb241e",
   "metadata": {},
   "outputs": [
    {
     "data": {
      "text/plain": [
       "obspy.core.trace.Trace"
      ]
     },
     "execution_count": 5,
     "metadata": {},
     "output_type": "execute_result"
    }
   ],
   "source": [
    "type(ar_as[0][1])"
   ]
  },
  {
   "cell_type": "code",
   "execution_count": 6,
   "id": "15d47046",
   "metadata": {},
   "outputs": [
    {
     "name": "stdout",
     "output_type": "stream",
     "text": [
      "256.0\n",
      "256.0\n",
      "256.0\n"
     ]
    }
   ],
   "source": [
    "#sanity check\n",
    "for i in range(ms_as.shape[0]):\n",
    "    print(ms_as[i][0].stats.sampling_rate)"
   ]
  },
  {
   "cell_type": "code",
   "execution_count": 7,
   "id": "a5cd1e24",
   "metadata": {},
   "outputs": [],
   "source": [
    "def splitter(array, slicing_point = 10000, duration = 10):\n",
    "    \n",
    "    wanted_npts = int(array[0].stats.sampling_rate * duration) \n",
    "    npts = int(array[0].stats.npts - 10000)\n",
    "    lenght = npts // wanted_npts\n",
    "    remainder = int(np.around((((npts / wanted_npts - lenght)) * wanted_npts), 0))\n",
    "    \n",
    "    return [np.array_split(array[0][slicing_point + remainder:],lenght),\n",
    "           np.array_split(array[1][slicing_point + remainder:],lenght),\n",
    "           np.array_split(array[2][slicing_point + remainder:],lenght)]\n",
    "    "
   ]
  },
  {
   "cell_type": "code",
   "execution_count": 8,
   "id": "fccd5a1c",
   "metadata": {},
   "outputs": [],
   "source": [
    "def merger(array, slicing_point = 10000, duration = 10):\n",
    "    _x, _y, _z  = [], [], []\n",
    "    for i in range(len(array)):\n",
    "        a, b, c = splitter(array[i], slicing_point = slicing_point, duration = duration)\n",
    "        _x = _x + a\n",
    "        _y = _y + b\n",
    "        _z = _z + c\n",
    "        \n",
    "    return [_x,_y,_z]"
   ]
  },
  {
   "cell_type": "code",
   "execution_count": 9,
   "id": "d1c621e5",
   "metadata": {},
   "outputs": [
    {
     "name": "stdout",
     "output_type": "stream",
     "text": [
      "<class 'numpy.ndarray'>\n"
     ]
    }
   ],
   "source": [
    "a,b,c = splitter(ms_as[0])\n",
    "print(type(a[0]))\n"
   ]
  },
  {
   "cell_type": "markdown",
   "id": "e725c48e",
   "metadata": {},
   "source": [
    "## MS"
   ]
  },
  {
   "cell_type": "markdown",
   "id": "1ef82d82",
   "metadata": {},
   "source": [
    "### MS-AS"
   ]
  },
  {
   "cell_type": "code",
   "execution_count": 10,
   "id": "d3b59fd5",
   "metadata": {},
   "outputs": [],
   "source": [
    "ms_as_x, ms_as_y, ms_as_z = merger(ms_as, duration = 10)"
   ]
  },
  {
   "cell_type": "code",
   "execution_count": 11,
   "id": "b31e8c03",
   "metadata": {},
   "outputs": [
    {
     "data": {
      "text/plain": [
       "numpy.ndarray"
      ]
     },
     "execution_count": 11,
     "metadata": {},
     "output_type": "execute_result"
    }
   ],
   "source": [
    "type(ms_as_x[0])"
   ]
  },
  {
   "cell_type": "code",
   "execution_count": 12,
   "id": "7e2ed0a5",
   "metadata": {},
   "outputs": [
    {
     "data": {
      "text/plain": [
       "82"
      ]
     },
     "execution_count": 12,
     "metadata": {},
     "output_type": "execute_result"
    }
   ],
   "source": [
    "#sanity check\n",
    "len(ms_as_x)"
   ]
  },
  {
   "cell_type": "code",
   "execution_count": 13,
   "id": "fb6f25dc",
   "metadata": {},
   "outputs": [
    {
     "name": "stdout",
     "output_type": "stream",
     "text": [
      "82\n",
      "82\n"
     ]
    }
   ],
   "source": [
    "print(len(ms_as_y))\n",
    "print(len(ms_as_z))"
   ]
  },
  {
   "cell_type": "code",
   "execution_count": 14,
   "id": "6a666bcf",
   "metadata": {},
   "outputs": [
    {
     "name": "stdout",
     "output_type": "stream",
     "text": [
      "2560\n",
      "2560\n",
      "2560\n"
     ]
    }
   ],
   "source": [
    "# sanity check\n",
    "print(len(ms_as_x[0]))\n",
    "print(len(ms_as_y[20]))\n",
    "print(len(ms_as_z[19]))"
   ]
  },
  {
   "cell_type": "markdown",
   "id": "fb87836f",
   "metadata": {},
   "source": [
    "### MS-MR"
   ]
  },
  {
   "cell_type": "code",
   "execution_count": 15,
   "id": "ef79beac",
   "metadata": {},
   "outputs": [
    {
     "data": {
      "text/plain": [
       "obspy.core.trace.Trace"
      ]
     },
     "execution_count": 15,
     "metadata": {},
     "output_type": "execute_result"
    }
   ],
   "source": [
    "type(ms_mr[0][0])"
   ]
  },
  {
   "cell_type": "code",
   "execution_count": 16,
   "id": "19e73e2c",
   "metadata": {},
   "outputs": [],
   "source": [
    "ms_mr_x, ms_mr_y, ms_mr_z = merger(ms_mr, duration = 10)"
   ]
  },
  {
   "cell_type": "code",
   "execution_count": 19,
   "id": "a427a90c",
   "metadata": {},
   "outputs": [
    {
     "name": "stdout",
     "output_type": "stream",
     "text": [
      "38\n",
      "38\n",
      "38\n"
     ]
    }
   ],
   "source": [
    "print(len(ms_mr_x))\n",
    "print(len(ms_mr_y))\n",
    "print(len(ms_mr_z))"
   ]
  },
  {
   "cell_type": "code",
   "execution_count": 20,
   "id": "3aa07860",
   "metadata": {},
   "outputs": [
    {
     "name": "stdout",
     "output_type": "stream",
     "text": [
      "2560\n",
      "2560\n",
      "2560\n"
     ]
    }
   ],
   "source": [
    "# sanity check\n",
    "print(len(ms_mr_x[0]))\n",
    "print(len(ms_mr_y[20]))\n",
    "print(len(ms_mr_z[19]))"
   ]
  },
  {
   "cell_type": "markdown",
   "id": "ec20f014",
   "metadata": {},
   "source": [
    "### MR-AS"
   ]
  },
  {
   "cell_type": "code",
   "execution_count": 21,
   "id": "dbfd0c04",
   "metadata": {},
   "outputs": [],
   "source": [
    "mr_as_x, mr_as_y, mr_as_z = merger(mr_as, duration = 10)"
   ]
  },
  {
   "cell_type": "code",
   "execution_count": 22,
   "id": "8ebb2542",
   "metadata": {},
   "outputs": [
    {
     "data": {
      "text/plain": [
       "96"
      ]
     },
     "execution_count": 22,
     "metadata": {},
     "output_type": "execute_result"
    }
   ],
   "source": [
    "#sanity check \n",
    "len(mr_as_x)"
   ]
  },
  {
   "cell_type": "code",
   "execution_count": 23,
   "id": "340ee5ce",
   "metadata": {},
   "outputs": [
    {
     "name": "stdout",
     "output_type": "stream",
     "text": [
      "2560\n",
      "2560\n",
      "2560\n"
     ]
    }
   ],
   "source": [
    "# sanity check\n",
    "print(len(mr_as_x[0]))\n",
    "print(len(mr_as_y[39]))\n",
    "print(len(mr_as_z[76]))"
   ]
  },
  {
   "cell_type": "markdown",
   "id": "4f3fbdec",
   "metadata": {},
   "source": [
    "### MR-AR"
   ]
  },
  {
   "cell_type": "code",
   "execution_count": 24,
   "id": "80c9a677",
   "metadata": {},
   "outputs": [],
   "source": [
    "mr_ar_x, mr_ar_y, mr_ar_z = merger(mr_ar, duration = 10)"
   ]
  },
  {
   "cell_type": "code",
   "execution_count": 25,
   "id": "02a78288",
   "metadata": {},
   "outputs": [
    {
     "data": {
      "text/plain": [
       "96"
      ]
     },
     "execution_count": 25,
     "metadata": {},
     "output_type": "execute_result"
    }
   ],
   "source": [
    "#sanity check\n",
    "len(mr_ar_x)"
   ]
  },
  {
   "cell_type": "code",
   "execution_count": 26,
   "id": "dfd5b82c",
   "metadata": {},
   "outputs": [
    {
     "name": "stdout",
     "output_type": "stream",
     "text": [
      "2560\n",
      "2560\n",
      "2560\n"
     ]
    }
   ],
   "source": [
    "# sanity check\n",
    "print(len(mr_ar_x[0]))\n",
    "print(len(mr_ar_y[39]))\n",
    "print(len(mr_ar_z[76]))"
   ]
  },
  {
   "cell_type": "markdown",
   "id": "d75c6099",
   "metadata": {},
   "source": [
    "### AR-AS"
   ]
  },
  {
   "cell_type": "code",
   "execution_count": 27,
   "id": "5e3e85ca",
   "metadata": {},
   "outputs": [],
   "source": [
    "ar_as_x, ar_as_y, ar_as_z = merger(ar_as, duration = 10)"
   ]
  },
  {
   "cell_type": "code",
   "execution_count": 28,
   "id": "375e63c7",
   "metadata": {},
   "outputs": [
    {
     "data": {
      "text/plain": [
       "43"
      ]
     },
     "execution_count": 28,
     "metadata": {},
     "output_type": "execute_result"
    }
   ],
   "source": [
    "#sanity check\n",
    "len(ar_as_x)"
   ]
  },
  {
   "cell_type": "code",
   "execution_count": 29,
   "id": "cc545d4e",
   "metadata": {},
   "outputs": [
    {
     "name": "stdout",
     "output_type": "stream",
     "text": [
      "2560\n",
      "2560\n",
      "2560\n"
     ]
    }
   ],
   "source": [
    "# sanity check\n",
    "print(len(ar_as_x[0]))\n",
    "print(len(ar_as_y[39]))\n",
    "print(len(ar_as_z[20]))"
   ]
  },
  {
   "cell_type": "code",
   "execution_count": 30,
   "id": "52cdac70",
   "metadata": {},
   "outputs": [],
   "source": [
    "stacked_MS_AS = np.stack((ms_as_x, ms_as_y, ms_as_z),axis = 0)\n",
    "stacked_MS_MR = np.stack((ms_mr_x, ms_mr_y, ms_mr_z),axis = 0)\n",
    "\n",
    "stacked_MR_AS = np.stack((mr_as_x, mr_as_y, mr_as_z),axis = 0)\n",
    "stacked_MR_AR = np.stack((mr_ar_x, mr_ar_y, mr_ar_z),axis = 0)\n",
    "\n",
    "stacked_AR_AS = np.stack((ar_as_x,ar_as_y, ar_as_z),axis = 0)"
   ]
  },
  {
   "cell_type": "code",
   "execution_count": 31,
   "id": "5eed2d4f",
   "metadata": {},
   "outputs": [
    {
     "name": "stdout",
     "output_type": "stream",
     "text": [
      "(3, 82, 2560)\n",
      "(3, 38, 2560)\n",
      "(3, 96, 2560)\n",
      "(3, 96, 2560)\n",
      "(3, 43, 2560)\n"
     ]
    }
   ],
   "source": [
    "print(stacked_MS_AS.shape)\n",
    "print(stacked_MS_MR.shape)\n",
    "print(stacked_MR_AS.shape)\n",
    "print(stacked_MR_AR.shape)\n",
    "print(stacked_AR_AS.shape)\n"
   ]
  },
  {
   "cell_type": "code",
   "execution_count": 32,
   "id": "a1c02d07",
   "metadata": {},
   "outputs": [],
   "source": [
    "np.save(dir_path + \"/MS-AS-10sec\", stacked_MS_AS, allow_pickle= True)\n",
    "np.save(dir_path + \"/MS-MR-10sec\", stacked_MS_MR, allow_pickle= True)\n",
    "\n",
    "np.save(dir_path + \"/MR-AS-10sec\", stacked_MR_AS, allow_pickle= True)\n",
    "np.save(dir_path + \"/MR-AR-10sec\", stacked_MR_AR, allow_pickle= True)\n",
    "\n",
    "np.save(dir_path + \"/AR-AS-10sec\", stacked_AR_AS, allow_pickle= True)"
   ]
  },
  {
   "cell_type": "code",
   "execution_count": null,
   "id": "57703a2e",
   "metadata": {},
   "outputs": [],
   "source": []
  },
  {
   "cell_type": "code",
   "execution_count": null,
   "id": "5198f6dc",
   "metadata": {},
   "outputs": [],
   "source": []
  },
  {
   "cell_type": "code",
   "execution_count": null,
   "id": "6c9d085f",
   "metadata": {},
   "outputs": [],
   "source": []
  },
  {
   "cell_type": "code",
   "execution_count": null,
   "id": "ed3e25a8",
   "metadata": {},
   "outputs": [],
   "source": []
  }
 ],
 "metadata": {
  "kernelspec": {
   "display_name": "Python 3 (ipykernel)",
   "language": "python",
   "name": "python3"
  },
  "language_info": {
   "codemirror_mode": {
    "name": "ipython",
    "version": 3
   },
   "file_extension": ".py",
   "mimetype": "text/x-python",
   "name": "python",
   "nbconvert_exporter": "python",
   "pygments_lexer": "ipython3",
   "version": "3.9.9"
  }
 },
 "nbformat": 4,
 "nbformat_minor": 5
}
