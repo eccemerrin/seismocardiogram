{
 "cells": [
  {
   "cell_type": "markdown",
   "id": "ef32bcac",
   "metadata": {},
   "source": [
    "### imports"
   ]
  },
  {
   "cell_type": "code",
   "execution_count": 1,
   "id": "564c67ff",
   "metadata": {},
   "outputs": [],
   "source": [
    "import scipy.io\n",
    "import os\n",
    "import numpy as np"
   ]
  },
  {
   "cell_type": "markdown",
   "id": "e40ea7d9",
   "metadata": {},
   "source": [
    "For this part, you need to change dir_path to path of ypur directory which contains .mat files."
   ]
  },
  {
   "cell_type": "code",
   "execution_count": 2,
   "id": "75620186",
   "metadata": {},
   "outputs": [],
   "source": [
    "dir_path = \"/Users/ecem/Documents/GitHub/seismocardiogram/data/diseased-dataset\""
   ]
  },
  {
   "cell_type": "code",
   "execution_count": 3,
   "id": "16a20eb7",
   "metadata": {},
   "outputs": [],
   "source": [
    "files, x, y, z = [],[], [], []"
   ]
  },
  {
   "cell_type": "code",
   "execution_count": 4,
   "id": "e8e9b615",
   "metadata": {},
   "outputs": [],
   "source": [
    "for file in os.listdir(dir_path):\n",
    "    if file.endswith(\"SCG.mat\"):\n",
    "        files.append(os.path.join(dir_path, file))"
   ]
  },
  {
   "cell_type": "code",
   "execution_count": 5,
   "id": "daefdac5",
   "metadata": {},
   "outputs": [],
   "source": [
    "for i in range(len(files)):\n",
    "    x.append(scipy.io.loadmat(files[i])['data'][0][0][1][0][0][0])\n",
    "    y.append(scipy.io.loadmat(files[i])['data'][0][0][1][0][1][0])\n",
    "    z.append(scipy.io.loadmat(files[i])['data'][0][0][1][0][2][0])"
   ]
  },
  {
   "cell_type": "markdown",
   "id": "2ffba400",
   "metadata": {},
   "source": [
    "### save as numpy array"
   ]
  },
  {
   "cell_type": "code",
   "execution_count": null,
   "id": "fc0f117d",
   "metadata": {},
   "outputs": [],
   "source": [
    "np.save(dir_path + \"/SCG_x\", x)\n",
    "np.save(dir_path + \"/SCG_y\", y)\n",
    "np.save(dir_path + \"/SCG_z\", z)"
   ]
  },
  {
   "cell_type": "code",
   "execution_count": 6,
   "id": "c8129d10",
   "metadata": {},
   "outputs": [
    {
     "name": "stderr",
     "output_type": "stream",
     "text": [
      "/Users/ecem/miniforge3/envs/tf-metal/lib/python3.9/site-packages/numpy/core/_asarray.py:136: VisibleDeprecationWarning: Creating an ndarray from ragged nested sequences (which is a list-or-tuple of lists-or-tuples-or ndarrays with different lengths or shapes) is deprecated. If you meant to do this, you must specify 'dtype=object' when creating the ndarray\n",
      "  return array(a, dtype, copy=False, order=order, subok=True)\n"
     ]
    }
   ],
   "source": [
    "np.save(dir_path + \"/SCG_x\", x, allow_pickle= True)\n",
    "np.save(dir_path + \"/SCG_y\", y, allow_pickle= True)\n",
    "np.save(dir_path + \"/SCG_z\", z, allow_pickle= True)"
   ]
  },
  {
   "cell_type": "markdown",
   "id": "5e69f90e",
   "metadata": {},
   "source": [
    "#### sanity check"
   ]
  },
  {
   "cell_type": "code",
   "execution_count": 9,
   "id": "45f14e91",
   "metadata": {},
   "outputs": [],
   "source": [
    "x = np.load(dir_path + \"/SCG_x.npy\", allow_pickle= True)"
   ]
  },
  {
   "cell_type": "code",
   "execution_count": 11,
   "id": "609c4fd9",
   "metadata": {},
   "outputs": [
    {
     "data": {
      "text/plain": [
       "(100,)"
      ]
     },
     "execution_count": 11,
     "metadata": {},
     "output_type": "execute_result"
    }
   ],
   "source": [
    "x.shape"
   ]
  },
  {
   "cell_type": "code",
   "execution_count": 13,
   "id": "bd98136b",
   "metadata": {},
   "outputs": [
    {
     "data": {
      "text/plain": [
       "(595,)"
      ]
     },
     "execution_count": 13,
     "metadata": {},
     "output_type": "execute_result"
    }
   ],
   "source": [
    "x[1].shape"
   ]
  },
  {
   "cell_type": "code",
   "execution_count": null,
   "id": "3f32aa33",
   "metadata": {},
   "outputs": [],
   "source": []
  }
 ],
 "metadata": {
  "kernelspec": {
   "display_name": "Python 3 (ipykernel)",
   "language": "python",
   "name": "python3"
  },
  "language_info": {
   "codemirror_mode": {
    "name": "ipython",
    "version": 3
   },
   "file_extension": ".py",
   "mimetype": "text/x-python",
   "name": "python",
   "nbconvert_exporter": "python",
   "pygments_lexer": "ipython3",
   "version": "3.9.9"
  }
 },
 "nbformat": 4,
 "nbformat_minor": 5
}
