{
 "cells": [
  {
   "cell_type": "markdown",
   "id": "ef32bcac",
   "metadata": {},
   "source": [
    "### imports"
   ]
  },
  {
   "cell_type": "code",
   "execution_count": 1,
   "id": "564c67ff",
   "metadata": {},
   "outputs": [
    {
     "ename": "RuntimeError",
     "evalue": "module compiled against API version 0xe but this version of numpy is 0xd",
     "output_type": "error",
     "traceback": [
      "\u001b[0;31m---------------------------------------------------------------------------\u001b[0m",
      "\u001b[0;31mRuntimeError\u001b[0m                              Traceback (most recent call last)",
      "\u001b[0;31mRuntimeError\u001b[0m: module compiled against API version 0xe but this version of numpy is 0xd"
     ]
    }
   ],
   "source": [
    "import os\n",
    "import numpy as np\n",
    "import pandas as pd\n",
    "import warnings\n",
    "warnings.filterwarnings('ignore')"
   ]
  },
  {
   "cell_type": "markdown",
   "id": "e40ea7d9",
   "metadata": {},
   "source": [
    "For this part, you need to change dir_path to path of ypur directory which contains .csv files."
   ]
  },
  {
   "cell_type": "code",
   "execution_count": 2,
   "id": "75620186",
   "metadata": {},
   "outputs": [],
   "source": [
    "dir_path = \"/Users/ecem/Documents/GitHub/seismocardiogram/data/diseased-dataset/Raw_Recordings\""
   ]
  },
  {
   "cell_type": "code",
   "execution_count": 3,
   "id": "16a20eb7",
   "metadata": {},
   "outputs": [],
   "source": [
    "files_cp, files_up, x, y, z = [],[], [], [], []"
   ]
  },
  {
   "cell_type": "code",
   "execution_count": 4,
   "id": "e8e9b615",
   "metadata": {},
   "outputs": [],
   "source": [
    "for file in os.listdir(dir_path):\n",
    "    if file.startswith(\"CP\"):\n",
    "        files_cp.append(os.path.join(dir_path, file))"
   ]
  },
  {
   "cell_type": "code",
   "execution_count": 5,
   "id": "a43e4ddc",
   "metadata": {},
   "outputs": [],
   "source": [
    "for file in os.listdir(dir_path):\n",
    "    if file.startswith(\"UP\"):\n",
    "        files_up.append(os.path.join(dir_path, file))"
   ]
  },
  {
   "cell_type": "code",
   "execution_count": 6,
   "id": "21100d5a",
   "metadata": {
    "scrolled": true
   },
   "outputs": [
    {
     "data": {
      "text/plain": [
       "['/Users/ecem/Documents/GitHub/seismocardiogram/data/diseased-dataset/Raw_Recordings/CP-01-Raw.csv',\n",
       " '/Users/ecem/Documents/GitHub/seismocardiogram/data/diseased-dataset/Raw_Recordings/CP-02-Raw.csv',\n",
       " '/Users/ecem/Documents/GitHub/seismocardiogram/data/diseased-dataset/Raw_Recordings/CP-03-Raw.csv',\n",
       " '/Users/ecem/Documents/GitHub/seismocardiogram/data/diseased-dataset/Raw_Recordings/CP-04-Raw.csv',\n",
       " '/Users/ecem/Documents/GitHub/seismocardiogram/data/diseased-dataset/Raw_Recordings/CP-05-Raw.csv',\n",
       " '/Users/ecem/Documents/GitHub/seismocardiogram/data/diseased-dataset/Raw_Recordings/CP-06-Raw.csv',\n",
       " '/Users/ecem/Documents/GitHub/seismocardiogram/data/diseased-dataset/Raw_Recordings/CP-07-Raw.csv',\n",
       " '/Users/ecem/Documents/GitHub/seismocardiogram/data/diseased-dataset/Raw_Recordings/CP-08-Raw.csv',\n",
       " '/Users/ecem/Documents/GitHub/seismocardiogram/data/diseased-dataset/Raw_Recordings/CP-09-Raw.csv',\n",
       " '/Users/ecem/Documents/GitHub/seismocardiogram/data/diseased-dataset/Raw_Recordings/CP-10-Raw.csv',\n",
       " '/Users/ecem/Documents/GitHub/seismocardiogram/data/diseased-dataset/Raw_Recordings/CP-11-Raw.csv',\n",
       " '/Users/ecem/Documents/GitHub/seismocardiogram/data/diseased-dataset/Raw_Recordings/CP-12-Raw.csv',\n",
       " '/Users/ecem/Documents/GitHub/seismocardiogram/data/diseased-dataset/Raw_Recordings/CP-13-Raw.csv',\n",
       " '/Users/ecem/Documents/GitHub/seismocardiogram/data/diseased-dataset/Raw_Recordings/CP-14-Raw.csv',\n",
       " '/Users/ecem/Documents/GitHub/seismocardiogram/data/diseased-dataset/Raw_Recordings/CP-15-Raw.csv',\n",
       " '/Users/ecem/Documents/GitHub/seismocardiogram/data/diseased-dataset/Raw_Recordings/CP-16-Raw.csv',\n",
       " '/Users/ecem/Documents/GitHub/seismocardiogram/data/diseased-dataset/Raw_Recordings/CP-17-Raw.csv',\n",
       " '/Users/ecem/Documents/GitHub/seismocardiogram/data/diseased-dataset/Raw_Recordings/CP-18-Raw.csv',\n",
       " '/Users/ecem/Documents/GitHub/seismocardiogram/data/diseased-dataset/Raw_Recordings/CP-19-Raw.csv',\n",
       " '/Users/ecem/Documents/GitHub/seismocardiogram/data/diseased-dataset/Raw_Recordings/CP-20-Raw.csv',\n",
       " '/Users/ecem/Documents/GitHub/seismocardiogram/data/diseased-dataset/Raw_Recordings/CP-21-Raw.csv',\n",
       " '/Users/ecem/Documents/GitHub/seismocardiogram/data/diseased-dataset/Raw_Recordings/CP-22-Raw.csv',\n",
       " '/Users/ecem/Documents/GitHub/seismocardiogram/data/diseased-dataset/Raw_Recordings/CP-23-Raw.csv',\n",
       " '/Users/ecem/Documents/GitHub/seismocardiogram/data/diseased-dataset/Raw_Recordings/CP-24-Raw.csv',\n",
       " '/Users/ecem/Documents/GitHub/seismocardiogram/data/diseased-dataset/Raw_Recordings/CP-25-Raw.csv',\n",
       " '/Users/ecem/Documents/GitHub/seismocardiogram/data/diseased-dataset/Raw_Recordings/CP-26-Raw.csv',\n",
       " '/Users/ecem/Documents/GitHub/seismocardiogram/data/diseased-dataset/Raw_Recordings/CP-27-Raw.csv',\n",
       " '/Users/ecem/Documents/GitHub/seismocardiogram/data/diseased-dataset/Raw_Recordings/CP-28-Raw.csv',\n",
       " '/Users/ecem/Documents/GitHub/seismocardiogram/data/diseased-dataset/Raw_Recordings/CP-29-Raw.csv',\n",
       " '/Users/ecem/Documents/GitHub/seismocardiogram/data/diseased-dataset/Raw_Recordings/CP-30-Raw.csv',\n",
       " '/Users/ecem/Documents/GitHub/seismocardiogram/data/diseased-dataset/Raw_Recordings/CP-31-Raw.csv',\n",
       " '/Users/ecem/Documents/GitHub/seismocardiogram/data/diseased-dataset/Raw_Recordings/CP-32-Raw.csv',\n",
       " '/Users/ecem/Documents/GitHub/seismocardiogram/data/diseased-dataset/Raw_Recordings/CP-33-Raw.csv',\n",
       " '/Users/ecem/Documents/GitHub/seismocardiogram/data/diseased-dataset/Raw_Recordings/CP-34-Raw.csv',\n",
       " '/Users/ecem/Documents/GitHub/seismocardiogram/data/diseased-dataset/Raw_Recordings/CP-35-Raw.csv',\n",
       " '/Users/ecem/Documents/GitHub/seismocardiogram/data/diseased-dataset/Raw_Recordings/CP-36-Raw.csv',\n",
       " '/Users/ecem/Documents/GitHub/seismocardiogram/data/diseased-dataset/Raw_Recordings/CP-37-Raw.csv',\n",
       " '/Users/ecem/Documents/GitHub/seismocardiogram/data/diseased-dataset/Raw_Recordings/CP-38-Raw.csv',\n",
       " '/Users/ecem/Documents/GitHub/seismocardiogram/data/diseased-dataset/Raw_Recordings/CP-39-Raw.csv',\n",
       " '/Users/ecem/Documents/GitHub/seismocardiogram/data/diseased-dataset/Raw_Recordings/CP-40-Raw.csv',\n",
       " '/Users/ecem/Documents/GitHub/seismocardiogram/data/diseased-dataset/Raw_Recordings/CP-41-Raw.csv',\n",
       " '/Users/ecem/Documents/GitHub/seismocardiogram/data/diseased-dataset/Raw_Recordings/CP-42-Raw.csv',\n",
       " '/Users/ecem/Documents/GitHub/seismocardiogram/data/diseased-dataset/Raw_Recordings/CP-43-Raw.csv',\n",
       " '/Users/ecem/Documents/GitHub/seismocardiogram/data/diseased-dataset/Raw_Recordings/CP-44-Raw.csv',\n",
       " '/Users/ecem/Documents/GitHub/seismocardiogram/data/diseased-dataset/Raw_Recordings/CP-45-Raw.csv',\n",
       " '/Users/ecem/Documents/GitHub/seismocardiogram/data/diseased-dataset/Raw_Recordings/CP-46-Raw.csv',\n",
       " '/Users/ecem/Documents/GitHub/seismocardiogram/data/diseased-dataset/Raw_Recordings/CP-47-Raw.csv',\n",
       " '/Users/ecem/Documents/GitHub/seismocardiogram/data/diseased-dataset/Raw_Recordings/CP-48-Raw.csv',\n",
       " '/Users/ecem/Documents/GitHub/seismocardiogram/data/diseased-dataset/Raw_Recordings/CP-49-Raw.csv',\n",
       " '/Users/ecem/Documents/GitHub/seismocardiogram/data/diseased-dataset/Raw_Recordings/CP-50-Raw.csv',\n",
       " '/Users/ecem/Documents/GitHub/seismocardiogram/data/diseased-dataset/Raw_Recordings/CP-51-Raw.csv',\n",
       " '/Users/ecem/Documents/GitHub/seismocardiogram/data/diseased-dataset/Raw_Recordings/CP-52-Raw.csv',\n",
       " '/Users/ecem/Documents/GitHub/seismocardiogram/data/diseased-dataset/Raw_Recordings/CP-53-Raw.csv',\n",
       " '/Users/ecem/Documents/GitHub/seismocardiogram/data/diseased-dataset/Raw_Recordings/CP-54-Raw.csv',\n",
       " '/Users/ecem/Documents/GitHub/seismocardiogram/data/diseased-dataset/Raw_Recordings/CP-55-Raw.csv',\n",
       " '/Users/ecem/Documents/GitHub/seismocardiogram/data/diseased-dataset/Raw_Recordings/CP-56-Raw.csv',\n",
       " '/Users/ecem/Documents/GitHub/seismocardiogram/data/diseased-dataset/Raw_Recordings/CP-57-Raw.csv',\n",
       " '/Users/ecem/Documents/GitHub/seismocardiogram/data/diseased-dataset/Raw_Recordings/CP-58-Raw.csv',\n",
       " '/Users/ecem/Documents/GitHub/seismocardiogram/data/diseased-dataset/Raw_Recordings/CP-59-Raw.csv',\n",
       " '/Users/ecem/Documents/GitHub/seismocardiogram/data/diseased-dataset/Raw_Recordings/CP-60-Raw.csv',\n",
       " '/Users/ecem/Documents/GitHub/seismocardiogram/data/diseased-dataset/Raw_Recordings/CP-61-Raw.csv',\n",
       " '/Users/ecem/Documents/GitHub/seismocardiogram/data/diseased-dataset/Raw_Recordings/CP-62-Raw.csv',\n",
       " '/Users/ecem/Documents/GitHub/seismocardiogram/data/diseased-dataset/Raw_Recordings/CP-63-Raw.csv',\n",
       " '/Users/ecem/Documents/GitHub/seismocardiogram/data/diseased-dataset/Raw_Recordings/CP-64-Raw.csv',\n",
       " '/Users/ecem/Documents/GitHub/seismocardiogram/data/diseased-dataset/Raw_Recordings/CP-65-Raw.csv',\n",
       " '/Users/ecem/Documents/GitHub/seismocardiogram/data/diseased-dataset/Raw_Recordings/CP-66-Raw.csv',\n",
       " '/Users/ecem/Documents/GitHub/seismocardiogram/data/diseased-dataset/Raw_Recordings/CP-67-Raw.csv',\n",
       " '/Users/ecem/Documents/GitHub/seismocardiogram/data/diseased-dataset/Raw_Recordings/CP-68-Raw.csv',\n",
       " '/Users/ecem/Documents/GitHub/seismocardiogram/data/diseased-dataset/Raw_Recordings/CP-69-Raw.csv',\n",
       " '/Users/ecem/Documents/GitHub/seismocardiogram/data/diseased-dataset/Raw_Recordings/CP-70-Raw.csv']"
      ]
     },
     "execution_count": 6,
     "metadata": {},
     "output_type": "execute_result"
    }
   ],
   "source": [
    "files_cp = sorted(files_cp)\n",
    "files_cp"
   ]
  },
  {
   "cell_type": "code",
   "execution_count": 7,
   "id": "5abc2e3e",
   "metadata": {},
   "outputs": [
    {
     "data": {
      "text/plain": [
       "['/Users/ecem/Documents/GitHub/seismocardiogram/data/diseased-dataset/Raw_Recordings/UP-01-Raw.csv',\n",
       " '/Users/ecem/Documents/GitHub/seismocardiogram/data/diseased-dataset/Raw_Recordings/UP-02-Raw.csv',\n",
       " '/Users/ecem/Documents/GitHub/seismocardiogram/data/diseased-dataset/Raw_Recordings/UP-03-Raw.csv',\n",
       " '/Users/ecem/Documents/GitHub/seismocardiogram/data/diseased-dataset/Raw_Recordings/UP-04-Raw.csv',\n",
       " '/Users/ecem/Documents/GitHub/seismocardiogram/data/diseased-dataset/Raw_Recordings/UP-05-Raw.csv',\n",
       " '/Users/ecem/Documents/GitHub/seismocardiogram/data/diseased-dataset/Raw_Recordings/UP-06-Raw.csv',\n",
       " '/Users/ecem/Documents/GitHub/seismocardiogram/data/diseased-dataset/Raw_Recordings/UP-07-Raw.csv',\n",
       " '/Users/ecem/Documents/GitHub/seismocardiogram/data/diseased-dataset/Raw_Recordings/UP-08-Raw.csv',\n",
       " '/Users/ecem/Documents/GitHub/seismocardiogram/data/diseased-dataset/Raw_Recordings/UP-09-Raw.csv',\n",
       " '/Users/ecem/Documents/GitHub/seismocardiogram/data/diseased-dataset/Raw_Recordings/UP-10-Raw.csv',\n",
       " '/Users/ecem/Documents/GitHub/seismocardiogram/data/diseased-dataset/Raw_Recordings/UP-11-Raw.csv',\n",
       " '/Users/ecem/Documents/GitHub/seismocardiogram/data/diseased-dataset/Raw_Recordings/UP-12-Raw.csv',\n",
       " '/Users/ecem/Documents/GitHub/seismocardiogram/data/diseased-dataset/Raw_Recordings/UP-13-Raw.csv',\n",
       " '/Users/ecem/Documents/GitHub/seismocardiogram/data/diseased-dataset/Raw_Recordings/UP-14-Raw.csv',\n",
       " '/Users/ecem/Documents/GitHub/seismocardiogram/data/diseased-dataset/Raw_Recordings/UP-15-Raw.csv',\n",
       " '/Users/ecem/Documents/GitHub/seismocardiogram/data/diseased-dataset/Raw_Recordings/UP-16-Raw.csv',\n",
       " '/Users/ecem/Documents/GitHub/seismocardiogram/data/diseased-dataset/Raw_Recordings/UP-17-Raw.csv',\n",
       " '/Users/ecem/Documents/GitHub/seismocardiogram/data/diseased-dataset/Raw_Recordings/UP-18-Raw.csv',\n",
       " '/Users/ecem/Documents/GitHub/seismocardiogram/data/diseased-dataset/Raw_Recordings/UP-19-Raw.csv',\n",
       " '/Users/ecem/Documents/GitHub/seismocardiogram/data/diseased-dataset/Raw_Recordings/UP-20-Raw.csv',\n",
       " '/Users/ecem/Documents/GitHub/seismocardiogram/data/diseased-dataset/Raw_Recordings/UP-21-Raw.csv',\n",
       " '/Users/ecem/Documents/GitHub/seismocardiogram/data/diseased-dataset/Raw_Recordings/UP-22-Raw.csv',\n",
       " '/Users/ecem/Documents/GitHub/seismocardiogram/data/diseased-dataset/Raw_Recordings/UP-23-Raw.csv',\n",
       " '/Users/ecem/Documents/GitHub/seismocardiogram/data/diseased-dataset/Raw_Recordings/UP-24-Raw.csv',\n",
       " '/Users/ecem/Documents/GitHub/seismocardiogram/data/diseased-dataset/Raw_Recordings/UP-25-Raw.csv',\n",
       " '/Users/ecem/Documents/GitHub/seismocardiogram/data/diseased-dataset/Raw_Recordings/UP-26-Raw.csv',\n",
       " '/Users/ecem/Documents/GitHub/seismocardiogram/data/diseased-dataset/Raw_Recordings/UP-27-Raw.csv',\n",
       " '/Users/ecem/Documents/GitHub/seismocardiogram/data/diseased-dataset/Raw_Recordings/UP-28-Raw.csv',\n",
       " '/Users/ecem/Documents/GitHub/seismocardiogram/data/diseased-dataset/Raw_Recordings/UP-29-Raw.csv',\n",
       " '/Users/ecem/Documents/GitHub/seismocardiogram/data/diseased-dataset/Raw_Recordings/UP-30-Raw.csv']"
      ]
     },
     "execution_count": 7,
     "metadata": {},
     "output_type": "execute_result"
    }
   ],
   "source": [
    "files_up = sorted(files_up)\n",
    "files_up"
   ]
  },
  {
   "cell_type": "code",
   "execution_count": 8,
   "id": "ec5e221d",
   "metadata": {},
   "outputs": [],
   "source": [
    "time_cp, time_up = [], []"
   ]
  },
  {
   "cell_type": "code",
   "execution_count": 9,
   "id": "4102ac02",
   "metadata": {},
   "outputs": [],
   "source": [
    "for i in range(len(files_cp)):\n",
    "    t = pd.read_csv(files_cp[i], dtype='unicode', engine='python')\n",
    "    \n",
    "    time_cp.append(np.array(t.iloc[0:-1, 0].drop([0], axis = 0)))\n",
    "    \n",
    "    df = t.iloc[0:-1,0:4].drop([0], axis = 0)\n",
    "    \n",
    "    x.append((np.array(df['Shimmer_D0CD_Accel_LN_X_CAL'].astype(float))))\n",
    "    y.append(np.array(df['Shimmer_D0CD_Accel_LN_Y_CAL'].astype(float)))\n",
    "    z.append(np.array(df['Shimmer_D0CD_Accel_LN_Z_CAL'].astype(float)))"
   ]
  },
  {
   "cell_type": "code",
   "execution_count": 10,
   "id": "d64dc6f3",
   "metadata": {},
   "outputs": [
    {
     "data": {
      "text/plain": [
       "numpy.float64"
      ]
     },
     "execution_count": 10,
     "metadata": {},
     "output_type": "execute_result"
    }
   ],
   "source": [
    "type(x[0][0])"
   ]
  },
  {
   "cell_type": "code",
   "execution_count": 11,
   "id": "1531d8e9",
   "metadata": {
    "scrolled": true
   },
   "outputs": [],
   "source": [
    "for i in range(1, len(files_up)): \n",
    "    k = pd.read_csv(files_up[i], dtype='unicode', sep ='\\s+|,|\\t')\n",
    "    \n",
    "    time_up.append(np.array(k.iloc[0:-1, 0].drop([0], axis = 0)))\n",
    "    \n",
    "    df = k.iloc[0:-1,0:4].drop([0], axis = 0)\n",
    "    \n",
    "    x.append(np.array(df['ECG_Accel_LN_X_CAL'].astype(float)))\n",
    "    y.append(np.array(df['ECG_Accel_LN_Y_CAL'].astype(float)))\n",
    "    z.append(np.array(df['ECG_Accel_LN_Z_CAL'].astype(float)))"
   ]
  },
  {
   "cell_type": "code",
   "execution_count": 12,
   "id": "4cd3709c",
   "metadata": {},
   "outputs": [],
   "source": [
    "np.save(dir_path + \"/SCG_x\", x, allow_pickle= True)\n",
    "np.save(dir_path + \"/SCG_y\", y, allow_pickle= True)\n",
    "np.save(dir_path + \"/SCG_z\", z, allow_pickle= True)\n",
    "\n",
    "x = np.load(dir_path + \"/SCG_x.npy\", allow_pickle= True)"
   ]
  },
  {
   "cell_type": "code",
   "execution_count": 13,
   "id": "90d41986",
   "metadata": {},
   "outputs": [
    {
     "data": {
      "text/plain": [
       "(124837,)"
      ]
     },
     "execution_count": 13,
     "metadata": {},
     "output_type": "execute_result"
    }
   ],
   "source": [
    "x[0].shape"
   ]
  },
  {
   "cell_type": "code",
   "execution_count": null,
   "id": "5fb96f27",
   "metadata": {},
   "outputs": [],
   "source": []
  }
 ],
 "metadata": {
  "kernelspec": {
   "display_name": "Python 3 (ipykernel)",
   "language": "python",
   "name": "python3"
  },
  "language_info": {
   "codemirror_mode": {
    "name": "ipython",
    "version": 3
   },
   "file_extension": ".py",
   "mimetype": "text/x-python",
   "name": "python",
   "nbconvert_exporter": "python",
   "pygments_lexer": "ipython3",
   "version": "3.9.9"
  }
 },
 "nbformat": 4,
 "nbformat_minor": 5
}
