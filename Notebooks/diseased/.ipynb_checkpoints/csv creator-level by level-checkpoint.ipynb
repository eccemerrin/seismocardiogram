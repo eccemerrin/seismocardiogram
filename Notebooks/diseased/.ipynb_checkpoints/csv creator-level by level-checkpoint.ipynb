{
 "cells": [
  {
   "cell_type": "code",
   "execution_count": 1,
   "id": "2bc0ce10",
   "metadata": {},
   "outputs": [
    {
     "ename": "RuntimeError",
     "evalue": "module compiled against API version 0xe but this version of numpy is 0xd",
     "output_type": "error",
     "traceback": [
      "\u001b[0;31m---------------------------------------------------------------------------\u001b[0m",
      "\u001b[0;31mRuntimeError\u001b[0m                              Traceback (most recent call last)",
      "\u001b[0;31mRuntimeError\u001b[0m: module compiled against API version 0xe but this version of numpy is 0xd"
     ]
    }
   ],
   "source": [
    "import pandas as pd \n",
    "import numpy as np"
   ]
  },
  {
   "cell_type": "code",
   "execution_count": 2,
   "id": "87f847bf",
   "metadata": {},
   "outputs": [],
   "source": [
    "diseased_path = \"/Users/ecem/Documents/GitHub/seismocardiogram/data/diseased-dataset/Raw_Recordings\""
   ]
  },
  {
   "cell_type": "code",
   "execution_count": 3,
   "id": "4605fe9d",
   "metadata": {},
   "outputs": [],
   "source": [
    "def column_namer(level = 0, lenght = 48):\n",
    "    x, y, z = [], [], []\n",
    "    for i in range(lenght):\n",
    "        x.append(\"lvl{0}_x{1}\".format(level, i))\n",
    "        y.append(\"lvl{0}_y{1}\".format(level, i))\n",
    "        z.append(\"lvl{0}_z{1}\".format(level, i))\n",
    "    \n",
    "    return x + y + z"
   ]
  },
  {
   "cell_type": "code",
   "execution_count": 4,
   "id": "d398f5ff",
   "metadata": {},
   "outputs": [],
   "source": [
    "def dataframe_creator(path,  disease = \"None\", df = pd.DataFrame(), level = 0):\n",
    "    values, dis  = [], [] \n",
    "    dis.append(disease)\n",
    "    array = np.load(path + \"/\" + disease + \"_lvl_{}.npy\".format(level), allow_pickle = True)\n",
    "    columns = column_namer(level = level, lenght = array.shape[2])\n",
    "    \n",
    "    for i in range(array.shape[1]):\n",
    "        values.append(array[0][i].tolist()+ array[1][i].tolist()+ array[2][i].tolist() + dis) \n",
    "\n",
    "        medium = pd.DataFrame([values[i]], columns = columns + [\"disease\"])\n",
    "        \n",
    "        df = pd.concat([df, medium], axis = 0, ignore_index=True)\n",
    "        \n",
    "    \n",
    "    return df\n"
   ]
  },
  {
   "cell_type": "markdown",
   "id": "80e35d03",
   "metadata": {},
   "source": [
    "### Level 0"
   ]
  },
  {
   "cell_type": "code",
   "execution_count": 5,
   "id": "5b0fdb72",
   "metadata": {},
   "outputs": [],
   "source": [
    "df_lvl0 = dataframe_creator(diseased_path, 'MR',  level =0 )\n",
    "df_lvl0 = dataframe_creator(diseased_path, 'AR', df = df_lvl0, level =0 )\n",
    "df_lvl0 = dataframe_creator(diseased_path, 'MS', df = df_lvl0, level =0 )\n",
    "df_lvl0 = dataframe_creator(diseased_path, 'AS', df = df_lvl0, level =0 )"
   ]
  },
  {
   "cell_type": "code",
   "execution_count": 6,
   "id": "cb8a1b97",
   "metadata": {},
   "outputs": [
    {
     "data": {
      "text/html": [
       "<div>\n",
       "<style scoped>\n",
       "    .dataframe tbody tr th:only-of-type {\n",
       "        vertical-align: middle;\n",
       "    }\n",
       "\n",
       "    .dataframe tbody tr th {\n",
       "        vertical-align: top;\n",
       "    }\n",
       "\n",
       "    .dataframe thead th {\n",
       "        text-align: right;\n",
       "    }\n",
       "</style>\n",
       "<table border=\"1\" class=\"dataframe\">\n",
       "  <thead>\n",
       "    <tr style=\"text-align: right;\">\n",
       "      <th></th>\n",
       "      <th>lvl0_x0</th>\n",
       "      <th>lvl0_x1</th>\n",
       "      <th>lvl0_x2</th>\n",
       "      <th>lvl0_x3</th>\n",
       "      <th>lvl0_x4</th>\n",
       "      <th>lvl0_x5</th>\n",
       "      <th>lvl0_x6</th>\n",
       "      <th>lvl0_x7</th>\n",
       "      <th>lvl0_x8</th>\n",
       "      <th>lvl0_x9</th>\n",
       "      <th>...</th>\n",
       "      <th>lvl0_z39</th>\n",
       "      <th>lvl0_z40</th>\n",
       "      <th>lvl0_z41</th>\n",
       "      <th>lvl0_z42</th>\n",
       "      <th>lvl0_z43</th>\n",
       "      <th>lvl0_z44</th>\n",
       "      <th>lvl0_z45</th>\n",
       "      <th>lvl0_z46</th>\n",
       "      <th>lvl0_z47</th>\n",
       "      <th>disease</th>\n",
       "    </tr>\n",
       "  </thead>\n",
       "  <tbody>\n",
       "    <tr>\n",
       "      <th>0</th>\n",
       "      <td>-0.503078</td>\n",
       "      <td>-0.508493</td>\n",
       "      <td>-0.495124</td>\n",
       "      <td>-0.461686</td>\n",
       "      <td>-0.327573</td>\n",
       "      <td>-0.463505</td>\n",
       "      <td>-0.319357</td>\n",
       "      <td>-0.290070</td>\n",
       "      <td>-0.372214</td>\n",
       "      <td>-0.670804</td>\n",
       "      <td>...</td>\n",
       "      <td>-0.009975</td>\n",
       "      <td>-0.013297</td>\n",
       "      <td>0.031506</td>\n",
       "      <td>0.034660</td>\n",
       "      <td>0.121152</td>\n",
       "      <td>0.158909</td>\n",
       "      <td>0.128339</td>\n",
       "      <td>0.134332</td>\n",
       "      <td>0.149062</td>\n",
       "      <td>MR</td>\n",
       "    </tr>\n",
       "    <tr>\n",
       "      <th>1</th>\n",
       "      <td>-0.337088</td>\n",
       "      <td>-0.358658</td>\n",
       "      <td>-0.344212</td>\n",
       "      <td>-0.297174</td>\n",
       "      <td>-0.193528</td>\n",
       "      <td>-0.346729</td>\n",
       "      <td>-0.177544</td>\n",
       "      <td>-0.201896</td>\n",
       "      <td>-0.263341</td>\n",
       "      <td>-0.287319</td>\n",
       "      <td>...</td>\n",
       "      <td>-0.044484</td>\n",
       "      <td>-0.025730</td>\n",
       "      <td>0.040819</td>\n",
       "      <td>-0.007631</td>\n",
       "      <td>-0.004883</td>\n",
       "      <td>-0.056402</td>\n",
       "      <td>-0.067213</td>\n",
       "      <td>-0.057641</td>\n",
       "      <td>-0.039950</td>\n",
       "      <td>MR</td>\n",
       "    </tr>\n",
       "    <tr>\n",
       "      <th>2</th>\n",
       "      <td>-0.382271</td>\n",
       "      <td>-0.409044</td>\n",
       "      <td>-0.397055</td>\n",
       "      <td>-0.353910</td>\n",
       "      <td>-0.297396</td>\n",
       "      <td>-0.389712</td>\n",
       "      <td>-0.234055</td>\n",
       "      <td>-0.194504</td>\n",
       "      <td>-0.231223</td>\n",
       "      <td>-0.298895</td>\n",
       "      <td>...</td>\n",
       "      <td>0.029110</td>\n",
       "      <td>0.004084</td>\n",
       "      <td>-0.041428</td>\n",
       "      <td>-0.044852</td>\n",
       "      <td>-0.034972</td>\n",
       "      <td>0.053526</td>\n",
       "      <td>0.039660</td>\n",
       "      <td>0.035398</td>\n",
       "      <td>0.031143</td>\n",
       "      <td>MR</td>\n",
       "    </tr>\n",
       "    <tr>\n",
       "      <th>3</th>\n",
       "      <td>0.071162</td>\n",
       "      <td>0.089320</td>\n",
       "      <td>0.064081</td>\n",
       "      <td>-0.037265</td>\n",
       "      <td>-0.353574</td>\n",
       "      <td>-0.289820</td>\n",
       "      <td>-0.397483</td>\n",
       "      <td>-0.365879</td>\n",
       "      <td>-0.382827</td>\n",
       "      <td>-0.204690</td>\n",
       "      <td>...</td>\n",
       "      <td>-0.078633</td>\n",
       "      <td>-0.044265</td>\n",
       "      <td>-0.024217</td>\n",
       "      <td>-0.029692</td>\n",
       "      <td>0.051737</td>\n",
       "      <td>0.043672</td>\n",
       "      <td>0.048377</td>\n",
       "      <td>0.047015</td>\n",
       "      <td>0.038573</td>\n",
       "      <td>MR</td>\n",
       "    </tr>\n",
       "    <tr>\n",
       "      <th>4</th>\n",
       "      <td>-0.790181</td>\n",
       "      <td>-0.790978</td>\n",
       "      <td>-0.778167</td>\n",
       "      <td>-0.723883</td>\n",
       "      <td>-0.509830</td>\n",
       "      <td>-0.586515</td>\n",
       "      <td>-0.283325</td>\n",
       "      <td>-0.336158</td>\n",
       "      <td>-0.268263</td>\n",
       "      <td>-0.318504</td>\n",
       "      <td>...</td>\n",
       "      <td>0.017597</td>\n",
       "      <td>-0.019702</td>\n",
       "      <td>-0.037006</td>\n",
       "      <td>0.019880</td>\n",
       "      <td>0.066369</td>\n",
       "      <td>0.091973</td>\n",
       "      <td>0.078102</td>\n",
       "      <td>0.079841</td>\n",
       "      <td>0.083903</td>\n",
       "      <td>MR</td>\n",
       "    </tr>\n",
       "    <tr>\n",
       "      <th>...</th>\n",
       "      <td>...</td>\n",
       "      <td>...</td>\n",
       "      <td>...</td>\n",
       "      <td>...</td>\n",
       "      <td>...</td>\n",
       "      <td>...</td>\n",
       "      <td>...</td>\n",
       "      <td>...</td>\n",
       "      <td>...</td>\n",
       "      <td>...</td>\n",
       "      <td>...</td>\n",
       "      <td>...</td>\n",
       "      <td>...</td>\n",
       "      <td>...</td>\n",
       "      <td>...</td>\n",
       "      <td>...</td>\n",
       "      <td>...</td>\n",
       "      <td>...</td>\n",
       "      <td>...</td>\n",
       "      <td>...</td>\n",
       "      <td>...</td>\n",
       "    </tr>\n",
       "    <tr>\n",
       "      <th>1455</th>\n",
       "      <td>0.254162</td>\n",
       "      <td>0.256369</td>\n",
       "      <td>0.261570</td>\n",
       "      <td>0.288534</td>\n",
       "      <td>0.391812</td>\n",
       "      <td>0.492755</td>\n",
       "      <td>0.414114</td>\n",
       "      <td>0.194791</td>\n",
       "      <td>-0.130332</td>\n",
       "      <td>-0.118806</td>\n",
       "      <td>...</td>\n",
       "      <td>0.009703</td>\n",
       "      <td>0.038727</td>\n",
       "      <td>0.016893</td>\n",
       "      <td>0.051154</td>\n",
       "      <td>0.023889</td>\n",
       "      <td>0.014518</td>\n",
       "      <td>0.018233</td>\n",
       "      <td>0.018315</td>\n",
       "      <td>0.018180</td>\n",
       "      <td>AS</td>\n",
       "    </tr>\n",
       "    <tr>\n",
       "      <th>1456</th>\n",
       "      <td>0.349622</td>\n",
       "      <td>0.321284</td>\n",
       "      <td>0.310296</td>\n",
       "      <td>0.278119</td>\n",
       "      <td>0.003263</td>\n",
       "      <td>-0.149820</td>\n",
       "      <td>-0.205826</td>\n",
       "      <td>-0.210372</td>\n",
       "      <td>-0.252378</td>\n",
       "      <td>-0.305266</td>\n",
       "      <td>...</td>\n",
       "      <td>-0.028282</td>\n",
       "      <td>-0.056236</td>\n",
       "      <td>-0.020658</td>\n",
       "      <td>-0.042306</td>\n",
       "      <td>-0.025261</td>\n",
       "      <td>0.045890</td>\n",
       "      <td>0.026822</td>\n",
       "      <td>0.025429</td>\n",
       "      <td>0.030637</td>\n",
       "      <td>AS</td>\n",
       "    </tr>\n",
       "    <tr>\n",
       "      <th>1457</th>\n",
       "      <td>-0.163857</td>\n",
       "      <td>-0.138495</td>\n",
       "      <td>-0.157529</td>\n",
       "      <td>-0.233442</td>\n",
       "      <td>-0.414839</td>\n",
       "      <td>-0.340551</td>\n",
       "      <td>-0.398183</td>\n",
       "      <td>-0.368650</td>\n",
       "      <td>-0.085265</td>\n",
       "      <td>0.094994</td>\n",
       "      <td>...</td>\n",
       "      <td>-0.088121</td>\n",
       "      <td>-0.051529</td>\n",
       "      <td>-0.048913</td>\n",
       "      <td>-0.070555</td>\n",
       "      <td>-0.049824</td>\n",
       "      <td>-0.080925</td>\n",
       "      <td>-0.069791</td>\n",
       "      <td>-0.070239</td>\n",
       "      <td>-0.077539</td>\n",
       "      <td>AS</td>\n",
       "    </tr>\n",
       "    <tr>\n",
       "      <th>1458</th>\n",
       "      <td>-0.383882</td>\n",
       "      <td>-0.363848</td>\n",
       "      <td>-0.364389</td>\n",
       "      <td>-0.366114</td>\n",
       "      <td>-0.272939</td>\n",
       "      <td>0.017750</td>\n",
       "      <td>0.177799</td>\n",
       "      <td>0.347536</td>\n",
       "      <td>0.578930</td>\n",
       "      <td>0.653146</td>\n",
       "      <td>...</td>\n",
       "      <td>-0.042704</td>\n",
       "      <td>-0.035764</td>\n",
       "      <td>-0.022767</td>\n",
       "      <td>0.005606</td>\n",
       "      <td>0.042350</td>\n",
       "      <td>0.034094</td>\n",
       "      <td>0.036432</td>\n",
       "      <td>0.035644</td>\n",
       "      <td>0.033274</td>\n",
       "      <td>AS</td>\n",
       "    </tr>\n",
       "    <tr>\n",
       "      <th>1459</th>\n",
       "      <td>0.058736</td>\n",
       "      <td>0.077297</td>\n",
       "      <td>0.081598</td>\n",
       "      <td>0.094160</td>\n",
       "      <td>0.236699</td>\n",
       "      <td>0.330723</td>\n",
       "      <td>0.371080</td>\n",
       "      <td>0.244699</td>\n",
       "      <td>0.064612</td>\n",
       "      <td>-0.091168</td>\n",
       "      <td>...</td>\n",
       "      <td>0.000416</td>\n",
       "      <td>0.000087</td>\n",
       "      <td>0.000207</td>\n",
       "      <td>-0.000013</td>\n",
       "      <td>-0.000031</td>\n",
       "      <td>-0.000060</td>\n",
       "      <td>-0.000053</td>\n",
       "      <td>-0.000051</td>\n",
       "      <td>-0.000051</td>\n",
       "      <td>AS</td>\n",
       "    </tr>\n",
       "  </tbody>\n",
       "</table>\n",
       "<p>1460 rows × 145 columns</p>\n",
       "</div>"
      ],
      "text/plain": [
       "       lvl0_x0   lvl0_x1   lvl0_x2   lvl0_x3   lvl0_x4   lvl0_x5   lvl0_x6  \\\n",
       "0    -0.503078 -0.508493 -0.495124 -0.461686 -0.327573 -0.463505 -0.319357   \n",
       "1    -0.337088 -0.358658 -0.344212 -0.297174 -0.193528 -0.346729 -0.177544   \n",
       "2    -0.382271 -0.409044 -0.397055 -0.353910 -0.297396 -0.389712 -0.234055   \n",
       "3     0.071162  0.089320  0.064081 -0.037265 -0.353574 -0.289820 -0.397483   \n",
       "4    -0.790181 -0.790978 -0.778167 -0.723883 -0.509830 -0.586515 -0.283325   \n",
       "...        ...       ...       ...       ...       ...       ...       ...   \n",
       "1455  0.254162  0.256369  0.261570  0.288534  0.391812  0.492755  0.414114   \n",
       "1456  0.349622  0.321284  0.310296  0.278119  0.003263 -0.149820 -0.205826   \n",
       "1457 -0.163857 -0.138495 -0.157529 -0.233442 -0.414839 -0.340551 -0.398183   \n",
       "1458 -0.383882 -0.363848 -0.364389 -0.366114 -0.272939  0.017750  0.177799   \n",
       "1459  0.058736  0.077297  0.081598  0.094160  0.236699  0.330723  0.371080   \n",
       "\n",
       "       lvl0_x7   lvl0_x8   lvl0_x9  ...  lvl0_z39  lvl0_z40  lvl0_z41  \\\n",
       "0    -0.290070 -0.372214 -0.670804  ... -0.009975 -0.013297  0.031506   \n",
       "1    -0.201896 -0.263341 -0.287319  ... -0.044484 -0.025730  0.040819   \n",
       "2    -0.194504 -0.231223 -0.298895  ...  0.029110  0.004084 -0.041428   \n",
       "3    -0.365879 -0.382827 -0.204690  ... -0.078633 -0.044265 -0.024217   \n",
       "4    -0.336158 -0.268263 -0.318504  ...  0.017597 -0.019702 -0.037006   \n",
       "...        ...       ...       ...  ...       ...       ...       ...   \n",
       "1455  0.194791 -0.130332 -0.118806  ...  0.009703  0.038727  0.016893   \n",
       "1456 -0.210372 -0.252378 -0.305266  ... -0.028282 -0.056236 -0.020658   \n",
       "1457 -0.368650 -0.085265  0.094994  ... -0.088121 -0.051529 -0.048913   \n",
       "1458  0.347536  0.578930  0.653146  ... -0.042704 -0.035764 -0.022767   \n",
       "1459  0.244699  0.064612 -0.091168  ...  0.000416  0.000087  0.000207   \n",
       "\n",
       "      lvl0_z42  lvl0_z43  lvl0_z44  lvl0_z45  lvl0_z46  lvl0_z47  disease  \n",
       "0     0.034660  0.121152  0.158909  0.128339  0.134332  0.149062       MR  \n",
       "1    -0.007631 -0.004883 -0.056402 -0.067213 -0.057641 -0.039950       MR  \n",
       "2    -0.044852 -0.034972  0.053526  0.039660  0.035398  0.031143       MR  \n",
       "3    -0.029692  0.051737  0.043672  0.048377  0.047015  0.038573       MR  \n",
       "4     0.019880  0.066369  0.091973  0.078102  0.079841  0.083903       MR  \n",
       "...        ...       ...       ...       ...       ...       ...      ...  \n",
       "1455  0.051154  0.023889  0.014518  0.018233  0.018315  0.018180       AS  \n",
       "1456 -0.042306 -0.025261  0.045890  0.026822  0.025429  0.030637       AS  \n",
       "1457 -0.070555 -0.049824 -0.080925 -0.069791 -0.070239 -0.077539       AS  \n",
       "1458  0.005606  0.042350  0.034094  0.036432  0.035644  0.033274       AS  \n",
       "1459 -0.000013 -0.000031 -0.000060 -0.000053 -0.000051 -0.000051       AS  \n",
       "\n",
       "[1460 rows x 145 columns]"
      ]
     },
     "execution_count": 6,
     "metadata": {},
     "output_type": "execute_result"
    }
   ],
   "source": [
    "df_lvl0"
   ]
  },
  {
   "cell_type": "code",
   "execution_count": 7,
   "id": "f795f5f1",
   "metadata": {},
   "outputs": [],
   "source": [
    "df_lvl0.to_csv(diseased_path + '/wavelet_lvl0.csv')"
   ]
  },
  {
   "cell_type": "markdown",
   "id": "4622b683",
   "metadata": {},
   "source": [
    "### Level 1"
   ]
  },
  {
   "cell_type": "code",
   "execution_count": 8,
   "id": "7d9f8954",
   "metadata": {},
   "outputs": [],
   "source": [
    "df_lvl1 = dataframe_creator(diseased_path, 'MR',  level = 1 )\n",
    "df_lvl1 = dataframe_creator(diseased_path, 'AR', df = df_lvl1, level =1 )\n",
    "df_lvl1 = dataframe_creator(diseased_path, 'MS', df = df_lvl1, level =1 )\n",
    "df_lvl1 = dataframe_creator(diseased_path, 'AS', df = df_lvl1, level =1 )"
   ]
  },
  {
   "cell_type": "code",
   "execution_count": 9,
   "id": "3190ea27",
   "metadata": {},
   "outputs": [],
   "source": [
    "#df_lvl1"
   ]
  },
  {
   "cell_type": "code",
   "execution_count": 10,
   "id": "93227e5c",
   "metadata": {},
   "outputs": [],
   "source": [
    "df_lvl1.to_csv(diseased_path + '/wavelet_lvl1.csv')"
   ]
  },
  {
   "cell_type": "markdown",
   "id": "fecbf281",
   "metadata": {},
   "source": [
    "### Level 2"
   ]
  },
  {
   "cell_type": "code",
   "execution_count": 11,
   "id": "5e05315f",
   "metadata": {},
   "outputs": [],
   "source": [
    "df_lvl2 = dataframe_creator(diseased_path, 'MR',  level = 2)\n",
    "df_lvl2 = dataframe_creator(diseased_path, 'AR', df = df_lvl2, level = 2)\n",
    "df_lvl2 = dataframe_creator(diseased_path, 'MS', df = df_lvl2, level = 2)\n",
    "df_lvl2 = dataframe_creator(diseased_path, 'AS', df = df_lvl2, level = 2)"
   ]
  },
  {
   "cell_type": "code",
   "execution_count": 12,
   "id": "a117f242",
   "metadata": {},
   "outputs": [],
   "source": [
    "#df_lvl2"
   ]
  },
  {
   "cell_type": "code",
   "execution_count": 13,
   "id": "33179cff",
   "metadata": {},
   "outputs": [],
   "source": [
    "df_lvl2.to_csv(diseased_path + '/wavelet_lvl2.csv')"
   ]
  },
  {
   "cell_type": "markdown",
   "id": "fef13274",
   "metadata": {},
   "source": [
    "### Level 3"
   ]
  },
  {
   "cell_type": "code",
   "execution_count": 14,
   "id": "204bec86",
   "metadata": {},
   "outputs": [],
   "source": [
    "df_lvl3 = dataframe_creator(diseased_path, 'MR',  level = 3)\n",
    "df_lvl3 = dataframe_creator(diseased_path, 'AR', df = df_lvl3, level = 3)\n",
    "df_lvl3 = dataframe_creator(diseased_path, 'MS', df = df_lvl3, level = 3)\n",
    "df_lvl3 = dataframe_creator(diseased_path, 'AS', df = df_lvl3, level = 3)"
   ]
  },
  {
   "cell_type": "code",
   "execution_count": 15,
   "id": "3337a681",
   "metadata": {},
   "outputs": [],
   "source": [
    "#df_lvl3"
   ]
  },
  {
   "cell_type": "code",
   "execution_count": 16,
   "id": "d1b018bb",
   "metadata": {},
   "outputs": [],
   "source": [
    "df_lvl3.to_csv(diseased_path + '/wavelet_lvl3.csv')"
   ]
  },
  {
   "cell_type": "markdown",
   "id": "ef001422",
   "metadata": {},
   "source": [
    "### Level 4"
   ]
  },
  {
   "cell_type": "code",
   "execution_count": 17,
   "id": "257970cc",
   "metadata": {},
   "outputs": [],
   "source": [
    "df_lvl4 = dataframe_creator(diseased_path, 'MR',  level = 4)\n",
    "df_lvl4 = dataframe_creator(diseased_path, 'AR', df = df_lvl4, level = 4)\n",
    "df_lvl4 = dataframe_creator(diseased_path, 'MS', df = df_lvl4, level = 4)\n",
    "df_lvl4 = dataframe_creator(diseased_path, 'AS', df = df_lvl4, level = 4)"
   ]
  },
  {
   "cell_type": "code",
   "execution_count": 18,
   "id": "4d195535",
   "metadata": {},
   "outputs": [],
   "source": [
    "#df_lvl4"
   ]
  },
  {
   "cell_type": "code",
   "execution_count": 19,
   "id": "ec36c7a7",
   "metadata": {},
   "outputs": [],
   "source": [
    "df_lvl4.to_csv(diseased_path + '/wavelet_lvl4.csv')"
   ]
  },
  {
   "cell_type": "markdown",
   "id": "2be4b135",
   "metadata": {},
   "source": [
    "### Level 5"
   ]
  },
  {
   "cell_type": "code",
   "execution_count": 20,
   "id": "75ee70c3",
   "metadata": {},
   "outputs": [],
   "source": [
    "df_lvl5 = dataframe_creator(diseased_path, 'MR',  level = 5)\n",
    "df_lvl5 = dataframe_creator(diseased_path, 'AR', df = df_lvl5, level = 5)\n",
    "df_lvl5 = dataframe_creator(diseased_path, 'MS', df = df_lvl5, level = 5)\n",
    "df_lvl5 = dataframe_creator(diseased_path, 'AS', df = df_lvl5, level = 5)"
   ]
  },
  {
   "cell_type": "code",
   "execution_count": 21,
   "id": "369ed60a",
   "metadata": {},
   "outputs": [],
   "source": [
    "#df_lvl5"
   ]
  },
  {
   "cell_type": "code",
   "execution_count": 22,
   "id": "25c25954",
   "metadata": {},
   "outputs": [],
   "source": [
    "df_lvl5.to_csv(diseased_path + '/wavelet_lvl5.csv')"
   ]
  },
  {
   "cell_type": "markdown",
   "id": "4f90c80e",
   "metadata": {},
   "source": [
    "### Level 6"
   ]
  },
  {
   "cell_type": "code",
   "execution_count": 23,
   "id": "91cd0925",
   "metadata": {},
   "outputs": [],
   "source": [
    "df_lvl6 = dataframe_creator(diseased_path, 'MR',  level = 6)\n",
    "df_lvl6 = dataframe_creator(diseased_path, 'AR', df = df_lvl6, level = 6)\n",
    "df_lvl6 = dataframe_creator(diseased_path, 'MS', df = df_lvl6, level = 6)\n",
    "df_lvl6 = dataframe_creator(diseased_path, 'AS', df = df_lvl6, level = 6)"
   ]
  },
  {
   "cell_type": "code",
   "execution_count": 24,
   "id": "1cb57be8",
   "metadata": {},
   "outputs": [],
   "source": [
    "#df_lvl6"
   ]
  },
  {
   "cell_type": "code",
   "execution_count": 25,
   "id": "7d39cd57",
   "metadata": {},
   "outputs": [],
   "source": [
    "df_lvl6.to_csv(diseased_path + '/wavelet_lvl6.csv')"
   ]
  },
  {
   "cell_type": "code",
   "execution_count": null,
   "id": "afd7400c",
   "metadata": {},
   "outputs": [],
   "source": []
  }
 ],
 "metadata": {
  "kernelspec": {
   "display_name": "Python 3 (ipykernel)",
   "language": "python",
   "name": "python3"
  },
  "language_info": {
   "codemirror_mode": {
    "name": "ipython",
    "version": 3
   },
   "file_extension": ".py",
   "mimetype": "text/x-python",
   "name": "python",
   "nbconvert_exporter": "python",
   "pygments_lexer": "ipython3",
   "version": "3.9.9"
  }
 },
 "nbformat": 4,
 "nbformat_minor": 5
}
