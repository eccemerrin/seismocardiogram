{
 "cells": [
  {
   "cell_type": "markdown",
   "id": "a10707b4",
   "metadata": {},
   "source": [
    "## Imports:"
   ]
  },
  {
   "cell_type": "code",
   "execution_count": null,
   "id": "5b0b2dcc",
   "metadata": {},
   "outputs": [],
   "source": [
    "import scipy.io\n",
    "import os\n",
    "import pandas\n",
    "import numpy as np\n",
    "import matplotlib.pyplot as plt\n",
    "import matplotlib.pylab as plt_lab\n",
    "import matplotlib.gridspec as gridspec\n",
    "import obspy\n",
    "import pandas as pd"
   ]
  },
  {
   "cell_type": "markdown",
   "id": "41b4c77f",
   "metadata": {},
   "source": [
    "## Load data:\n",
    "We are going to use this data to plot spectograms of SCG signals. "
   ]
  },
  {
   "cell_type": "code",
   "execution_count": null,
   "id": "75a415fd",
   "metadata": {},
   "outputs": [],
   "source": [
    "dir_path = \"/Users/ecem/Documents/GitHub/seismocardiogram/data/diseased-dataset/Raw_Recordings\""
   ]
  },
  {
   "cell_type": "code",
   "execution_count": null,
   "id": "eb10ff44",
   "metadata": {},
   "outputs": [],
   "source": [
    "mr_ = np.load(dir_path + \"/trimmed_t_mr.npy\", allow_pickle= True)\n",
    "ms_ = np.load(dir_path + \"/trimmed_t_ms.npy\", allow_pickle= True)\n",
    "as_ = np.load(dir_path + \"/trimmed_t_as.npy\", allow_pickle= True)\n",
    "ar_ = np.load(dir_path + \"/trimmed_t_ar.npy\", allow_pickle= True)"
   ]
  },
  {
   "cell_type": "code",
   "execution_count": null,
   "id": "f6c1178a",
   "metadata": {},
   "outputs": [],
   "source": [
    "mr_.shape"
   ]
  },
  {
   "cell_type": "code",
   "execution_count": null,
   "id": "21ed0a7e",
   "metadata": {},
   "outputs": [],
   "source": [
    "d = obspy.core.trace.Trace(mr_[0][0])\n",
    "type(d)"
   ]
  },
  {
   "cell_type": "code",
   "execution_count": null,
   "id": "e1d59219",
   "metadata": {},
   "outputs": [],
   "source": [
    "def converter(array):\n",
    "    x,y,z = [],[],[]\n",
    "    for i in range(array.shape[1]):\n",
    "        x.append(obspy.core.trace.Trace(array[0][i]))\n",
    "        y.append(obspy.core.trace.Trace(array[1][i]))\n",
    "        z.append(obspy.core.trace.Trace(array[2][i]))\n",
    "        \n",
    "        x[i].stats.sampling_rate = 256\n",
    "        y[i].stats.sampling_rate = 256\n",
    "        z[i].stats.sampling_rate = 256\n",
    "    return [x,y,z]"
   ]
  },
  {
   "cell_type": "code",
   "execution_count": null,
   "id": "9cbf9437",
   "metadata": {},
   "outputs": [],
   "source": [
    "mr_ = converter(mr_)\n",
    "ms_ = converter(ms_)\n",
    "as_ = converter(as_)\n",
    "ar_ = converter(ar_)"
   ]
  },
  {
   "cell_type": "code",
   "execution_count": null,
   "id": "b0cca324",
   "metadata": {},
   "outputs": [],
   "source": [
    "#sanity check\n",
    "for i in range(len(ar_[1])):\n",
    "    print(ar_[0][0] == ar_[0][i])"
   ]
  },
  {
   "cell_type": "markdown",
   "id": "8df87e77",
   "metadata": {},
   "source": [
    "## comparison of two dataset:\n",
    "\n",
    "Now we will to try visualize spectograms. So far we have used Obspy to visualize SCG signals. However, with obspy we are not able to plot spectograms side by side. This is important for us because we want to see spectograms of x,y and z components simultaneously for both healty and diseased people. So, from now on I will refer to those plots, for 3 components of healty and diseased (in total six plot, as \"PAIR\".\n",
    "\n",
    "\n",
    "I have mentioned that Obpsy has a problem in side by side plotting. So I changed it source code. I have added and deleted some part to operate according to my need. ???????????\n",
    "\n",
    "Thats why from now on we are going to use **output_spectogram** function to get values needed to plot spectogram."
   ]
  },
  {
   "cell_type": "markdown",
   "id": "0e61264a",
   "metadata": {},
   "source": [
    "These are the imports for output_spectogram function to work."
   ]
  },
  {
   "cell_type": "code",
   "execution_count": null,
   "id": "d37506c8",
   "metadata": {},
   "outputs": [],
   "source": [
    "from obspy.imaging.cm import obspy_sequential\n",
    "import math\n",
    "from matplotlib import mlab\n",
    "from matplotlib.colors import Normalize"
   ]
  },
  {
   "cell_type": "code",
   "execution_count": null,
   "id": "7422b887",
   "metadata": {},
   "outputs": [],
   "source": [
    "def _nearest_pow_2(x):\n",
    "    a = math.pow(2, math.ceil(np.log2(x)))\n",
    "    b = math.pow(2, math.floor(np.log2(x)))\n",
    "    if abs(a - x) < abs(b - x):\n",
    "        return a\n",
    "    else:\n",
    "        return b"
   ]
  },
  {
   "cell_type": "code",
   "execution_count": null,
   "id": "abafe36e",
   "metadata": {},
   "outputs": [],
   "source": [
    "def output_spectrogram(data, samp_rate, per_lap=0.9, wlen=None, log=False,\n",
    "                outfile=None, fmt=None, axes=None, dbscale=False,\n",
    "                mult=8.0, cmap=obspy_sequential, zorder=None, title=None,\n",
    "                show=True, clip=[0.0, 1.0]):\n",
    " \n",
    "    import matplotlib.pyplot as plt\n",
    "    \n",
    "    # enforce float for samp_rate\n",
    "    samp_rate = float(samp_rate)\n",
    "\n",
    "    # set wlen from samp_rate if not specified otherwise\n",
    "    if not wlen:\n",
    "        wlen = samp_rate / 100.\n",
    "\n",
    "    npts = len(data)\n",
    "    # nfft needs to be an integer, otherwise a deprecation will be raised\n",
    "    # XXX add condition for too many windows => calculation takes for ever\n",
    "    nfft = int(_nearest_pow_2(wlen * samp_rate))\n",
    "    if nfft > npts:\n",
    "        nfft = int(_nearest_pow_2(npts / 8.0))\n",
    "\n",
    "    if mult is not None:\n",
    "        mult = int(_nearest_pow_2(mult))\n",
    "        mult = mult * nfft\n",
    "    nlap = int(nfft * float(per_lap))\n",
    "\n",
    "    data = data - np.array(data).mean()\n",
    "    end = npts / samp_rate\n",
    "\n",
    "    # Here we call not plt.specgram as this already produces a plot\n",
    "    # matplotlib.mlab.specgram should be faster as it computes only the\n",
    "    # arrays\n",
    "    # XXX mlab.specgram uses fft, would be better and faster use rfft\n",
    "    specgram, freq, time = mlab.specgram(data, Fs=samp_rate, NFFT=nfft,\n",
    "                                         pad_to=mult, noverlap=nlap, mode = 'psd')\n",
    "\n",
    "    # db scale and remove zero/offset for amplitude\n",
    "    if dbscale:\n",
    "        specgram = 10 * np.log10(specgram[1:, :])\n",
    "    else:\n",
    "        specgram = np.sqrt(specgram[1:, :])\n",
    "    freq = freq[1:]\n",
    "    \n",
    "    vmin, vmax = clip\n",
    "    if vmin < 0 or vmax > 1 or vmin >= vmax:\n",
    "        msg = \"Invalid parameters for clip option.\"\n",
    "        raise ValueError(msg)\n",
    "    _range = float(specgram.max() - specgram.min())\n",
    "    vmin = specgram.min() + vmin * _range\n",
    "    vmax = specgram.min() + vmax * _range\n",
    "    norm = Normalize(vmin, vmax, clip=True)\n",
    "\n",
    "    # calculate half bin width\n",
    "    halfbin_time = (time[1] - time[0]) / 2.0\n",
    "    halfbin_freq = (freq[1] - freq[0]) / 2.0\n",
    "\n",
    "    # argument None is not allowed for kwargs on matplotlib python 3.3\n",
    "    kwargs = {k: v for k, v in (('cmap', cmap), ('zorder', zorder))\n",
    "              if v is not None}\n",
    "\n",
    "    if log:\n",
    "        # pcolor expects one bin more at the right end\n",
    "        freq = np.concatenate((freq, [freq[-1] + 2 * halfbin_freq]))\n",
    "        time = np.concatenate((time, [time[-1] + 2 * halfbin_time]))\n",
    "        # center bin\n",
    "        time -= halfbin_time\n",
    "        freq -= halfbin_freq\n",
    "        # Log scaling for frequency values (y-axis)\n",
    "        ax.set_yscale('log')\n",
    "        # Plot times\n",
    "        ax.pcolormesh(time, freq, specgram, norm=norm, **kwargs)\n",
    "    else:\n",
    "        # this method is much much faster!\n",
    "        specgram = np.flipud(specgram)\n",
    "        # center bin\n",
    "        extent = (time[0] - halfbin_time, time[-1] + halfbin_time,\n",
    "                  freq[0] - halfbin_freq, freq[-1] + halfbin_freq)\n",
    "    return [specgram, extent, end]\n",
    "\n",
    "    \n",
    "\n"
   ]
  },
  {
   "cell_type": "markdown",
   "id": "ed4bb35c",
   "metadata": {},
   "source": [
    "## Plotting spectogram:"
   ]
  },
  {
   "cell_type": "markdown",
   "id": "029b8674",
   "metadata": {},
   "source": [
    "f is the frequency array, containing the frequencies of every band of the fft. Which can be used as the labels for a graph\n",
    "\n",
    "t is the time array, containing the time at which this FFT was made relative to the source signal. Again can be used for labels.\n",
    "\n",
    "The Sxx array contains the amplitudes and is a 2d array whose shape is the length of f by the length of t.\n",
    "\n",
    "\n",
    " The purpose of a spectogram is to take the FFT of small, equal-sized time chunks. This produces a 2D fourier transform where the X axis is the start time of the time chunk and the Y axis is the energy (or power, etc.) in each frequency in that time chunk. This allows you to see how the frequency components change over time.\n",
    " \n",
    "  A spectrogram is a representation of frequency over time with the addition of amplitude as a third dimension, denoting the intensity or volume of the signal at a frequency and a time."
   ]
  },
  {
   "cell_type": "code",
   "execution_count": null,
   "id": "374525ba",
   "metadata": {},
   "outputs": [],
   "source": [
    "specgram, extent, end =  output_spectrogram(ms_[0][56].data, 256)"
   ]
  },
  {
   "cell_type": "markdown",
   "id": "01945a21",
   "metadata": {},
   "source": [
    "#### extent = (left, right, bottom, top), optional"
   ]
  },
  {
   "cell_type": "code",
   "execution_count": null,
   "id": "bc6f1cf1",
   "metadata": {},
   "outputs": [],
   "source": [
    "extent"
   ]
  },
  {
   "cell_type": "code",
   "execution_count": null,
   "id": "c91a858c",
   "metadata": {},
   "outputs": [],
   "source": [
    "end"
   ]
  },
  {
   "cell_type": "code",
   "execution_count": null,
   "id": "9bd0fa78",
   "metadata": {},
   "outputs": [],
   "source": [
    "specgram.shape #[freq, time]"
   ]
  },
  {
   "cell_type": "code",
   "execution_count": null,
   "id": "c306c286",
   "metadata": {},
   "outputs": [],
   "source": [
    "specgram[0:2048,0].mean() # average of frequency values at a time"
   ]
  },
  {
   "cell_type": "code",
   "execution_count": null,
   "id": "8fef1de0",
   "metadata": {},
   "outputs": [],
   "source": [
    "specgram[0:2048,8].shape"
   ]
  },
  {
   "cell_type": "markdown",
   "id": "0acad65d",
   "metadata": {},
   "source": [
    "###  MS"
   ]
  },
  {
   "cell_type": "code",
   "execution_count": null,
   "id": "a8e00575",
   "metadata": {},
   "outputs": [],
   "source": [
    "for i in range(len(ms_[0])):\n",
    "    \n",
    "        MS_s_x, MS_e_x, MS_end_x = output_spectrogram(ms_[0][i].data, 256)\n",
    "        MS_s_y, MS_e_y, MS_end_y = output_spectrogram(ms_[1][i].data, 256)\n",
    "        MS_s_z, MS_e_z, MS_end_z = output_spectrogram(ms_[2][i].data, 256)\n",
    "        \n",
    "        fig, (ax1, ax2, ax3) = plt.subplots(1, 3, figsize = (18,4))\n",
    "\n",
    "        ax1.imshow(MS_s_x, interpolation=\"nearest\", extent= MS_e_x, vmin =0)\n",
    "        ax1.axis('tight')\n",
    "        ax1.set_xlim(0, MS_end_x)\n",
    "        ax1.title.set_text('x comp. of MS subject {} SCG'.format(i))\n",
    "        ax1.grid(False)\n",
    "        fig.colorbar(ax1.images[0], ax = ax1)\n",
    "       \n",
    "        \n",
    "        ax2.imshow(MS_s_y, interpolation=\"nearest\", extent= MS_e_y, vmin = 0)\n",
    "        ax2.axis('tight')\n",
    "        ax2.set_xlim(0, MS_end_y)\n",
    "        ax2.title.set_text('y comp. of MS subject {} SCG'.format(i))\n",
    "        ax2.grid(False)\n",
    "        fig.colorbar(ax2.images[0], ax = ax2)\n",
    "        \n",
    "        ax3.imshow(MS_s_z, interpolation=\"nearest\", extent= MS_e_z, vmin =0)\n",
    "        ax3.axis('tight')\n",
    "        ax3.set_xlim(0, MS_end_z)\n",
    "        ax3.title.set_text('z comp. of MS subject {} SCG'.format(i))\n",
    "        ax3.grid(False)\n",
    "        fig.colorbar(ax3.images[0], ax = ax3)\n",
    "        \n",
    "        #0.4"
   ]
  },
  {
   "cell_type": "markdown",
   "id": "6d11bd83",
   "metadata": {},
   "source": [
    "## MR"
   ]
  },
  {
   "cell_type": "code",
   "execution_count": null,
   "id": "9968d2d0",
   "metadata": {
    "scrolled": true
   },
   "outputs": [],
   "source": [
    "for i in range(len(mr_[0])):\n",
    "        \n",
    "        MR_s_x, MR_e_x, MR_end_x = output_spectrogram(mr_[0][i].data, mr_[0][i].stats.sampling_rate)\n",
    "        MR_s_y, MR_e_y, MR_end_y = output_spectrogram(mr_[1][i].data, mr_[1][i].stats.sampling_rate)\n",
    "        MR_s_z, MR_e_z, MR_end_z = output_spectrogram(mr_[2][i].data, mr_[2][i].stats.sampling_rate)\n",
    "\n",
    "        fig, (ax4, ax5, ax6) = plt.subplots(1, 3, figsize = (18,4))\n",
    "\n",
    "        ax4.imshow(MR_s_x, interpolation=\"nearest\", extent= MR_e_x, vmin = 0)\n",
    "        ax4.axis('tight')\n",
    "        ax4.set_xlim(0, MR_end_x)\n",
    "        ax4.title.set_text('x comp. of MR subject {} SCG '.format(i))\n",
    "        ax4.grid(False)\n",
    "        fig.colorbar(ax4.images[0], ax = ax4)\n",
    "        \n",
    "        ax5.imshow(MR_s_y, interpolation=\"nearest\", extent= MR_e_y, vmin = 0)\n",
    "        ax5.axis('tight')\n",
    "        ax5.set_xlim(0, MR_end_y)\n",
    "        ax5.title.set_text('y comp. of MR subject {} SCG '.format(i))\n",
    "        ax5.grid(False)\n",
    "        fig.colorbar(ax5.images[0], ax = ax5)\n",
    "    \n",
    "        ax6.imshow(MR_s_z, interpolation=\"nearest\", extent= MR_e_z, vmin = 0)\n",
    "        ax6.axis('tight')\n",
    "        ax6.set_xlim(0, MR_end_z)\n",
    "        ax6.title.set_text('z comp. of MR subject {} SCG '.format(i))\n",
    "        ax6.grid(False)\n",
    "        fig.colorbar(ax6.images[0], ax = ax6)\n",
    "        ### 335-334 1 bandında outlier ?\n",
    "        #0.4-0.5"
   ]
  },
  {
   "cell_type": "markdown",
   "id": "b698e96d",
   "metadata": {},
   "source": [
    "###  AS"
   ]
  },
  {
   "cell_type": "code",
   "execution_count": null,
   "id": "003c2861",
   "metadata": {},
   "outputs": [],
   "source": [
    "for i in range(len(as_[0])):\n",
    "        \n",
    "        AS_s_x, AS_e_x, AS_end_x = output_spectrogram(as_[0][i].data, as_[0][i].stats.sampling_rate)\n",
    "        AS_s_y, AS_e_y, AS_end_y = output_spectrogram(as_[1][i].data, as_[1][i].stats.sampling_rate)\n",
    "        AS_s_z, AS_e_z, AS_end_z = output_spectrogram(as_[2][i].data, as_[2][i].stats.sampling_rate)\n",
    "        \n",
    "        fig, (ax4, ax5, ax6) = plt.subplots(1, 3,  figsize=(18,4))\n",
    "\n",
    "        ax4.imshow(AS_s_x, interpolation=\"nearest\", extent= AS_e_x, vmin = 0)\n",
    "        ax4.axis('tight')\n",
    "        ax4.set_xlim(0, AS_end_x)\n",
    "        ax4.title.set_text('x comp. of AS subject {} SCG '.format(i))\n",
    "        ax4.grid(False)\n",
    "        fig.colorbar(ax4.images[0], ax = ax4)\n",
    "        \n",
    "        ax5.imshow(AS_s_y, interpolation=\"nearest\", extent= AS_e_y, vmin = 0)\n",
    "        ax5.axis('tight')\n",
    "        ax5.set_xlim(0, AS_end_y)\n",
    "        ax5.title.set_text('y comp. of AS subject {} SCG '.format(i))\n",
    "        ax5.grid(False)\n",
    "        fig.colorbar(ax5.images[0], ax = ax5)\n",
    "    \n",
    "        ax6.imshow(AS_s_z, interpolation=\"nearest\", extent= AS_e_z, vmin = 0)\n",
    "        ax6.axis('tight')\n",
    "        ax6.set_xlim(0, AS_end_z)\n",
    "        ax6.title.set_text('z comp. of AS subject {} SCG '.format(i))\n",
    "        ax6.grid(False)\n",
    "        fig.colorbar(ax6.images[0], ax = ax6)\n",
    "        #one 0.8 outlier_\n",
    "        #0.4"
   ]
  },
  {
   "cell_type": "markdown",
   "id": "eb7084fe",
   "metadata": {},
   "source": [
    "###  AR"
   ]
  },
  {
   "cell_type": "code",
   "execution_count": null,
   "id": "7f551315",
   "metadata": {},
   "outputs": [],
   "source": [
    "for i in range(len(ar_[0])):\n",
    "        \n",
    "        AR_s_x, AR_e_x, AR_end_x = output_spectrogram(ar_[0][i].data, ar_[0][i].stats.sampling_rate)\n",
    "        AR_s_y, AR_e_y, AR_end_y = output_spectrogram(ar_[1][i].data, ar_[1][i].stats.sampling_rate)\n",
    "        AR_s_z, AR_e_z, AR_end_z = output_spectrogram(ar_[2][i].data, ar_[2][i].stats.sampling_rate)\n",
    "        \n",
    "        fig, (ax4, ax5, ax6) = plt.subplots(1, 3,  figsize=(18,4))\n",
    "\n",
    "        ax4.imshow(AR_s_x, interpolation=\"nearest\", extent= AR_e_x, vmin = 0)\n",
    "        ax4.axis('tight')\n",
    "        ax4.set_xlim(0, AR_end_x)\n",
    "        ax4.title.set_text('x comp. of AR subject {} SCG '.format(i))\n",
    "        ax4.grid(False)\n",
    "        fig.colorbar(ax4.images[0], ax = ax4)\n",
    "        \n",
    "        ax5.imshow(AR_s_y, interpolation=\"nearest\", extent= AR_e_y, vmin = 0)\n",
    "        ax5.axis('tight')\n",
    "        ax5.set_xlim(0, AR_end_y)\n",
    "        ax5.title.set_text('y comp. of AR subject {} SCG '.format(i))\n",
    "        ax5.grid(False)\n",
    "        fig.colorbar(ax5.images[0], ax = ax5)\n",
    "    \n",
    "        ax6.imshow(AR_s_z, interpolation=\"nearest\", extent= AR_e_z, vmin = 0)\n",
    "        ax6.axis('tight')\n",
    "        ax6.set_xlim(0, AR_end_z)\n",
    "        ax6.title.set_text('z comp. of AR subject {} SCG '.format(i))\n",
    "        ax6.grid(False)\n",
    "        fig.colorbar(ax6.images[0], ax = ax6)\n",
    "        #2 ?\n",
    "        # bir tane 12 var outlier?\n",
    "        #1.2, 1.75\n",
    "        "
   ]
  },
  {
   "cell_type": "markdown",
   "id": "642cc997",
   "metadata": {},
   "source": [
    "### Now it is time for us to get averaged freq values over time\n",
    "## Bu iki methoddan hangisini seçmeliyiz?  Değerler bayağı değişiyor gibi\n"
   ]
  },
  {
   "cell_type": "code",
   "execution_count": null,
   "id": "db97ffde",
   "metadata": {},
   "outputs": [],
   "source": [
    "def divide_equal_bins(num_of_bins = 5, array= None):\n",
    "    means = []\n",
    "    pieces = np.array_split(array[0:2048], num_of_bins, axis =1)\n",
    "    #5, 2048, 8\n",
    "    \n",
    "    for i in range(num_of_bins):\n",
    "        ssum = 0\n",
    "        for j in range((np.array(pieces).shape)[-1]):\n",
    "            ssum = pieces[i][0:2048][j]\n",
    "        \n",
    "        means.append(ssum.mean())\n",
    "        \n",
    "        \n",
    "    return np.array(means)"
   ]
  },
  {
   "cell_type": "code",
   "execution_count": null,
   "id": "fcac455f",
   "metadata": {},
   "outputs": [],
   "source": [
    "divide_equal_bins(array = output_spectrogram(ms_[0][0].data, 256)[0])"
   ]
  },
  {
   "cell_type": "code",
   "execution_count": null,
   "id": "5a8385a3",
   "metadata": {},
   "outputs": [],
   "source": [
    "def divide_(num_of_bins = 5, array= None):\n",
    "    means = []\n",
    "    pieces = np.array_split(array[0:2048], num_of_bins, axis =1)\n",
    "    #5, 2048, 8\n",
    "    \n",
    "    for i in range(num_of_bins):\n",
    "        ssum = 0\n",
    "        for j in range((np.array(pieces).shape)[-1]):\n",
    "            mean = pieces[i][0:2048][j].mean()\n",
    "            ssum += mean\n",
    "        means.append(ssum)\n",
    "        \n",
    "        \n",
    "    return np.array(means)"
   ]
  },
  {
   "cell_type": "code",
   "execution_count": null,
   "id": "4eea91ec",
   "metadata": {},
   "outputs": [],
   "source": [
    "divide_(array = output_spectrogram(ms_[0][0].data, 256)[0])"
   ]
  },
  {
   "cell_type": "code",
   "execution_count": null,
   "id": "58055a89",
   "metadata": {},
   "outputs": [],
   "source": [
    "def spec_values(array):\n",
    "    x_, y_, z_ = [],[],[]\n",
    "    for i in range(len(array[0])):\n",
    "        _x = output_spectrogram(array[0][i].data, 256)[0]\n",
    "        _y = output_spectrogram(array[1][i].data, 256)[0]\n",
    "        _z = output_spectrogram(array[2][i].data, 256)[0]\n",
    "\n",
    "        x_.append(divide_equal_bins(array = _x))\n",
    "        y_.append(divide_equal_bins(array = _y))\n",
    "        z_.append(divide_equal_bins(array = _z)) \n",
    "        \n",
    "        \n",
    "    return np.stack((x_, y_, z_), axis = 0)"
   ]
  },
  {
   "cell_type": "code",
   "execution_count": null,
   "id": "298423aa",
   "metadata": {},
   "outputs": [],
   "source": [
    "ms = spec_values(ms_)\n",
    "mr = spec_values(mr_)\n",
    "ar = spec_values(ar_)\n",
    "ass = spec_values(as_)"
   ]
  },
  {
   "cell_type": "code",
   "execution_count": null,
   "id": "33ff627a",
   "metadata": {},
   "outputs": [],
   "source": [
    "ar[0][0]"
   ]
  },
  {
   "cell_type": "code",
   "execution_count": null,
   "id": "213176d8",
   "metadata": {},
   "outputs": [],
   "source": [
    "ar[0][70]"
   ]
  },
  {
   "cell_type": "code",
   "execution_count": null,
   "id": "a525dcf1",
   "metadata": {},
   "outputs": [],
   "source": [
    "print(ms.shape)\n",
    "print(mr.shape)\n",
    "print(ar.shape)\n",
    "print(ass.shape)"
   ]
  },
  {
   "cell_type": "code",
   "execution_count": null,
   "id": "7e49321f",
   "metadata": {},
   "outputs": [],
   "source": [
    "mr[0][1]"
   ]
  },
  {
   "cell_type": "code",
   "execution_count": null,
   "id": "c6294905",
   "metadata": {},
   "outputs": [],
   "source": [
    "def dataframe_creator(array, disease = \"None\", df = pd.DataFrame()):\n",
    "    values = []\n",
    "    for i in range(len(array[1])):\n",
    "        values.append([[array[0][i][0], array[0][i][1], array[0][i][2], array[0][i][3], array[0][i][4], \n",
    "                   array[1][i][0], array[1][i][1], array[1][i][2], array[1][i][3], array[1][i][4],\n",
    "                   array[2][i][0], array[2][i][1], array[2][i][2], array[2][i][3], array[2][i][4],\n",
    "                   disease]])\n",
    "\n",
    "\n",
    "        medium = pd.DataFrame(values[i], columns =[\"spec_x1\", \"spec_x2\", \"spec_x3\", \"spec_x4\", \"spec_x5\",\n",
    "                                                \"spec_y1\", \"spec_y2\", \"spec_y3\", \"spec_y4\", \"spec_y5\",\n",
    "                                                \"spec_z1\", \"spec_z2\", \"spec_z3\", \"spec_z4\", \"spec_z5\",\n",
    "                                                   \"disease\"])\n",
    "        \n",
    "        df = pd.concat([df, medium], axis = 0)\n",
    "    return df "
   ]
  },
  {
   "cell_type": "code",
   "execution_count": null,
   "id": "d718b1eb",
   "metadata": {},
   "outputs": [],
   "source": [
    "df = dataframe_creator(mr, disease = \"MR\", \n",
    "                         df =pd.DataFrame(columns =[\"spec_x1\", \"spec_x2\", \"spec_x3\", \"spec_x4\", \"spec_x5\",\n",
    "                                                \"spec_y1\", \"spec_y2\", \"spec_y3\", \"spec_y4\", \"spec_y5\",\n",
    "                                                \"spec_z1\", \"spec_z2\", \"spec_z3\", \"spec_z4\", \"spec_z5\",\n",
    "                                                 \"disease\"]))\n",
    "\n",
    "df = dataframe_creator(ar, disease = \"AR\", df = df )\n",
    "df = dataframe_creator(ms, disease = \"MS\", df = df )\n",
    "df = dataframe_creator(as_, disease = \"AS\", df = df )\n",
    "\n",
    "df.reset_index(drop = True, inplace = True)"
   ]
  },
  {
   "cell_type": "code",
   "execution_count": null,
   "id": "2987cce7",
   "metadata": {},
   "outputs": [],
   "source": [
    "df"
   ]
  },
  {
   "cell_type": "code",
   "execution_count": null,
   "id": "f37816e7",
   "metadata": {},
   "outputs": [],
   "source": [
    "df.to_csv(dir_path + '/spectogram_coef.csv')"
   ]
  },
  {
   "cell_type": "code",
   "execution_count": null,
   "id": "b16403a3",
   "metadata": {},
   "outputs": [],
   "source": []
  }
 ],
 "metadata": {
  "kernelspec": {
   "display_name": "Python 3 (ipykernel)",
   "language": "python",
   "name": "python3"
  },
  "language_info": {
   "codemirror_mode": {
    "name": "ipython",
    "version": 3
   },
   "file_extension": ".py",
   "mimetype": "text/x-python",
   "name": "python",
   "nbconvert_exporter": "python",
   "pygments_lexer": "ipython3",
   "version": "3.9.9"
  }
 },
 "nbformat": 4,
 "nbformat_minor": 5
}
