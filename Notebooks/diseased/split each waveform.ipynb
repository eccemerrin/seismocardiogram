{
 "cells": [
  {
   "cell_type": "code",
   "execution_count": 1,
   "id": "466a2dc2",
   "metadata": {},
   "outputs": [],
   "source": [
    "import numpy as np"
   ]
  },
  {
   "cell_type": "code",
   "execution_count": 2,
   "id": "ce06ed57",
   "metadata": {},
   "outputs": [],
   "source": [
    "dir_path = \"/Users/ecem/Documents/GitHub/seismocardiogram/data/diseased-dataset/Raw_Recordings\""
   ]
  },
  {
   "cell_type": "code",
   "execution_count": 3,
   "id": "1ccbf715",
   "metadata": {},
   "outputs": [],
   "source": [
    "ms_ = np.load(dir_path + \"/ms.npy\", allow_pickle= True)\n",
    "mr_ = np.load(dir_path + \"/mr.npy\", allow_pickle= True)\n",
    "as_ = np.load(dir_path + \"/as.npy\", allow_pickle= True)\n",
    "ar_ = np.load(dir_path + \"/ar.npy\", allow_pickle= True)"
   ]
  },
  {
   "cell_type": "code",
   "execution_count": 4,
   "id": "ad5672a3",
   "metadata": {},
   "outputs": [
    {
     "data": {
      "text/plain": [
       "(13, 3)"
      ]
     },
     "execution_count": 4,
     "metadata": {},
     "output_type": "execute_result"
    }
   ],
   "source": [
    "mr_.shape"
   ]
  },
  {
   "cell_type": "code",
   "execution_count": 5,
   "id": "45cb241e",
   "metadata": {},
   "outputs": [
    {
     "data": {
      "text/plain": [
       "obspy.core.trace.Trace"
      ]
     },
     "execution_count": 5,
     "metadata": {},
     "output_type": "execute_result"
    }
   ],
   "source": [
    "type(ms_[0][0])"
   ]
  },
  {
   "cell_type": "code",
   "execution_count": 6,
   "id": "15d47046",
   "metadata": {},
   "outputs": [
    {
     "name": "stdout",
     "output_type": "stream",
     "text": [
      "256.0\n",
      "256.0\n",
      "256.0\n",
      "256.0\n",
      "256.0\n",
      "256.0\n",
      "256.0\n",
      "256.0\n",
      "256.0\n",
      "256.0\n",
      "256.0\n",
      "256.0\n",
      "256.0\n",
      "256.0\n",
      "256.0\n",
      "256.0\n"
     ]
    }
   ],
   "source": [
    "#sanity check\n",
    "for i in range(as_.shape[0]):\n",
    "    print(as_[i][0].stats.sampling_rate)"
   ]
  },
  {
   "cell_type": "code",
   "execution_count": 7,
   "id": "a5cd1e24",
   "metadata": {},
   "outputs": [],
   "source": [
    "def splitter(array, slicing_point = 10000, duration = 10):\n",
    "    \n",
    "    wanted_npts = int(array[0].stats.sampling_rate * duration) \n",
    "    npts = int(array[0].stats.npts - 10000)\n",
    "    lenght = npts // wanted_npts\n",
    "    remainder = int(np.around((((npts / wanted_npts - lenght)) * wanted_npts), 0))\n",
    "    \n",
    "    return [np.array_split(array[0][slicing_point + remainder:],lenght),\n",
    "           np.array_split(array[1][slicing_point + remainder:],lenght),\n",
    "           np.array_split(array[2][slicing_point + remainder:],lenght)]\n",
    "    "
   ]
  },
  {
   "cell_type": "code",
   "execution_count": 8,
   "id": "fccd5a1c",
   "metadata": {},
   "outputs": [],
   "source": [
    "def merger(array, slicing_point = 10000, duration = 10):\n",
    "    _x, _y, _z  = [], [], []\n",
    "    for i in range(len(array)):\n",
    "        a, b, c = splitter(array[i], slicing_point = slicing_point, duration = duration)\n",
    "        _x = _x + a\n",
    "        _y = _y + b\n",
    "        _z = _z + c\n",
    "        \n",
    "    return [_x,_y,_z]"
   ]
  },
  {
   "cell_type": "code",
   "execution_count": 9,
   "id": "d1c621e5",
   "metadata": {},
   "outputs": [
    {
     "name": "stdout",
     "output_type": "stream",
     "text": [
      "<class 'numpy.ndarray'>\n"
     ]
    }
   ],
   "source": [
    "a,b,c = splitter(ms_[0])\n",
    "print(type(a[0]))\n"
   ]
  },
  {
   "cell_type": "markdown",
   "id": "e725c48e",
   "metadata": {},
   "source": [
    "### MS"
   ]
  },
  {
   "cell_type": "code",
   "execution_count": 10,
   "id": "d3b59fd5",
   "metadata": {},
   "outputs": [],
   "source": [
    "ms_x, ms_y, ms_z = merger(ms_, duration = 60)"
   ]
  },
  {
   "cell_type": "code",
   "execution_count": 11,
   "id": "b31e8c03",
   "metadata": {},
   "outputs": [
    {
     "data": {
      "text/plain": [
       "numpy.ndarray"
      ]
     },
     "execution_count": 11,
     "metadata": {},
     "output_type": "execute_result"
    }
   ],
   "source": [
    "type(ms_x[0])"
   ]
  },
  {
   "cell_type": "code",
   "execution_count": 12,
   "id": "7e2ed0a5",
   "metadata": {},
   "outputs": [
    {
     "data": {
      "text/plain": [
       "22"
      ]
     },
     "execution_count": 12,
     "metadata": {},
     "output_type": "execute_result"
    }
   ],
   "source": [
    "#sanity check\n",
    "len(ms_x)"
   ]
  },
  {
   "cell_type": "code",
   "execution_count": 13,
   "id": "fb6f25dc",
   "metadata": {},
   "outputs": [
    {
     "name": "stdout",
     "output_type": "stream",
     "text": [
      "22\n",
      "22\n"
     ]
    }
   ],
   "source": [
    "print(len(ms_y))\n",
    "print(len(ms_z))"
   ]
  },
  {
   "cell_type": "code",
   "execution_count": 14,
   "id": "6a666bcf",
   "metadata": {},
   "outputs": [
    {
     "name": "stdout",
     "output_type": "stream",
     "text": [
      "15360\n",
      "15360\n",
      "15360\n"
     ]
    }
   ],
   "source": [
    "# sanity check\n",
    "print(len(ms_x[0]))\n",
    "print(len(ms_y[20]))\n",
    "print(len(ms_z[19]))"
   ]
  },
  {
   "cell_type": "markdown",
   "id": "ec20f014",
   "metadata": {},
   "source": [
    "### MR"
   ]
  },
  {
   "cell_type": "code",
   "execution_count": 15,
   "id": "dbfd0c04",
   "metadata": {},
   "outputs": [],
   "source": [
    "mr_x, mr_y, mr_z = merger(mr_, duration = 60)"
   ]
  },
  {
   "cell_type": "code",
   "execution_count": 16,
   "id": "8ebb2542",
   "metadata": {},
   "outputs": [
    {
     "data": {
      "text/plain": [
       "94"
      ]
     },
     "execution_count": 16,
     "metadata": {},
     "output_type": "execute_result"
    }
   ],
   "source": [
    "#sanity check \n",
    "len(mr_x)"
   ]
  },
  {
   "cell_type": "code",
   "execution_count": 17,
   "id": "340ee5ce",
   "metadata": {},
   "outputs": [
    {
     "name": "stdout",
     "output_type": "stream",
     "text": [
      "15360\n",
      "15360\n",
      "15360\n"
     ]
    }
   ],
   "source": [
    "# sanity check\n",
    "print(len(mr_x[0]))\n",
    "print(len(mr_y[39]))\n",
    "print(len(mr_z[76]))"
   ]
  },
  {
   "cell_type": "markdown",
   "id": "4f3fbdec",
   "metadata": {},
   "source": [
    "### AR"
   ]
  },
  {
   "cell_type": "code",
   "execution_count": 18,
   "id": "80c9a677",
   "metadata": {},
   "outputs": [],
   "source": [
    "ar_x, ar_y, ar_z = merger(ar_, duration = 60)"
   ]
  },
  {
   "cell_type": "code",
   "execution_count": 19,
   "id": "02a78288",
   "metadata": {},
   "outputs": [
    {
     "data": {
      "text/plain": [
       "39"
      ]
     },
     "execution_count": 19,
     "metadata": {},
     "output_type": "execute_result"
    }
   ],
   "source": [
    "#sanity check\n",
    "len(ar_x)"
   ]
  },
  {
   "cell_type": "code",
   "execution_count": 20,
   "id": "dfd5b82c",
   "metadata": {},
   "outputs": [
    {
     "name": "stdout",
     "output_type": "stream",
     "text": [
      "15360\n",
      "15360\n",
      "15360\n"
     ]
    }
   ],
   "source": [
    "# sanity check\n",
    "print(len(mr_x[0]))\n",
    "print(len(mr_y[39]))\n",
    "print(len(mr_z[76]))"
   ]
  },
  {
   "cell_type": "markdown",
   "id": "d75c6099",
   "metadata": {},
   "source": [
    "### AS"
   ]
  },
  {
   "cell_type": "code",
   "execution_count": 21,
   "id": "5e3e85ca",
   "metadata": {},
   "outputs": [],
   "source": [
    "as_x, as_y, as_z = merger(as_, duration = 60)"
   ]
  },
  {
   "cell_type": "code",
   "execution_count": 22,
   "id": "375e63c7",
   "metadata": {},
   "outputs": [
    {
     "data": {
      "text/plain": [
       "74"
      ]
     },
     "execution_count": 22,
     "metadata": {},
     "output_type": "execute_result"
    }
   ],
   "source": [
    "#sanity check\n",
    "len(as_x)"
   ]
  },
  {
   "cell_type": "code",
   "execution_count": 23,
   "id": "cc545d4e",
   "metadata": {},
   "outputs": [
    {
     "name": "stdout",
     "output_type": "stream",
     "text": [
      "15360\n",
      "15360\n",
      "15360\n"
     ]
    }
   ],
   "source": [
    "# sanity check\n",
    "print(len(as_x[0]))\n",
    "print(len(as_y[39]))\n",
    "print(len(as_z[67]))"
   ]
  },
  {
   "cell_type": "code",
   "execution_count": 24,
   "id": "52cdac70",
   "metadata": {},
   "outputs": [],
   "source": [
    "stacked_MS = np.stack((ms_x,ms_y, ms_z),axis = 0)\n",
    "stacked_MR = np.stack((mr_x,mr_y, mr_z),axis = 0)\n",
    "stacked_AS = np.stack((as_x,as_y, as_z),axis = 0)\n",
    "stacked_AR = np.stack((ar_x,ar_y, ar_z),axis = 0)"
   ]
  },
  {
   "cell_type": "code",
   "execution_count": 25,
   "id": "5eed2d4f",
   "metadata": {},
   "outputs": [
    {
     "name": "stdout",
     "output_type": "stream",
     "text": [
      "(3, 22, 15360)\n",
      "(3, 94, 15360)\n"
     ]
    }
   ],
   "source": [
    "print(stacked_MS.shape)\n",
    "print(stacked_MR.shape)"
   ]
  },
  {
   "cell_type": "code",
   "execution_count": 26,
   "id": "a1c02d07",
   "metadata": {},
   "outputs": [],
   "source": [
    "np.save(dir_path + \"/MS-60second\", stacked_MS, allow_pickle= True)\n",
    "np.save(dir_path + \"/MR-60second\", stacked_MR, allow_pickle= True)\n",
    "np.save(dir_path + \"/AS-60second\", stacked_AS, allow_pickle= True)\n",
    "np.save(dir_path + \"/AR-60second\", stacked_AR, allow_pickle= True)"
   ]
  },
  {
   "cell_type": "code",
   "execution_count": null,
   "id": "57703a2e",
   "metadata": {},
   "outputs": [],
   "source": []
  },
  {
   "cell_type": "code",
   "execution_count": null,
   "id": "5198f6dc",
   "metadata": {},
   "outputs": [],
   "source": []
  },
  {
   "cell_type": "code",
   "execution_count": null,
   "id": "6c9d085f",
   "metadata": {},
   "outputs": [],
   "source": []
  },
  {
   "cell_type": "code",
   "execution_count": null,
   "id": "ed3e25a8",
   "metadata": {},
   "outputs": [],
   "source": []
  }
 ],
 "metadata": {
  "kernelspec": {
   "display_name": "Python 3 (ipykernel)",
   "language": "python",
   "name": "python3"
  },
  "language_info": {
   "codemirror_mode": {
    "name": "ipython",
    "version": 3
   },
   "file_extension": ".py",
   "mimetype": "text/x-python",
   "name": "python",
   "nbconvert_exporter": "python",
   "pygments_lexer": "ipython3",
   "version": "3.9.9"
  }
 },
 "nbformat": 4,
 "nbformat_minor": 5
}
