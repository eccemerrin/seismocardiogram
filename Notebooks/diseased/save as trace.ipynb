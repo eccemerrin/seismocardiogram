{
 "cells": [
  {
   "cell_type": "code",
   "execution_count": 1,
   "id": "ed8956c7",
   "metadata": {},
   "outputs": [
    {
     "ename": "RuntimeError",
     "evalue": "module compiled against API version 0xe but this version of numpy is 0xd",
     "output_type": "error",
     "traceback": [
      "\u001b[0;31m---------------------------------------------------------------------------\u001b[0m",
      "\u001b[0;31mRuntimeError\u001b[0m                              Traceback (most recent call last)",
      "\u001b[0;31mRuntimeError\u001b[0m: module compiled against API version 0xe but this version of numpy is 0xd"
     ]
    }
   ],
   "source": [
    "import scipy.io\n",
    "import os\n",
    "import pandas\n",
    "import numpy as np\n",
    "import obspy"
   ]
  },
  {
   "cell_type": "code",
   "execution_count": 2,
   "id": "e104b3c9",
   "metadata": {},
   "outputs": [],
   "source": [
    "dir_path = \"/Users/ecem/Documents/GitHub/seismocardiogram/data/diseased-dataset/Raw_Recordings\""
   ]
  },
  {
   "cell_type": "code",
   "execution_count": 3,
   "id": "a2d09b08",
   "metadata": {},
   "outputs": [],
   "source": [
    "x = np.load(dir_path + \"/SCG_x.npy\", allow_pickle= True)\n",
    "y = np.load(dir_path + \"/SCG_z.npy\", allow_pickle= True)\n",
    "z = np.load(dir_path + \"/SCG_y.npy\", allow_pickle= True)"
   ]
  },
  {
   "cell_type": "code",
   "execution_count": null,
   "id": "8743cff6",
   "metadata": {},
   "outputs": [],
   "source": [
    "99 98 97 96 95 94 93 92 91 90"
   ]
  },
  {
   "cell_type": "code",
   "execution_count": 4,
   "id": "fcc77fbc",
   "metadata": {},
   "outputs": [],
   "source": [
    "tr_x, tr_y, tr_z = [],[],[]\n",
    "\n",
    "for i in range(90):\n",
    "    x_ = obspy.core.trace.Trace(x[i]).detrend(\"linear\").taper(max_percentage=0.05, type=\"hann\")\n",
    "    y_ = obspy.core.trace.Trace(y[i]).detrend(\"linear\").taper(max_percentage=0.05, type=\"hann\")\n",
    "    z_ = obspy.core.trace.Trace(z[i]).detrend(\"linear\").taper(max_percentage=0.05, type=\"hann\")\n",
    "\n",
    "    x_.stats.sampling_rate = 256\n",
    "    y_.stats.sampling_rate = 256\n",
    "    z_.stats.sampling_rate = 256\n",
    "\n",
    "    tr_x.append(x_)\n",
    "    tr_y.append(y_)\n",
    "    tr_z.append(z_)\n",
    "    \n"
   ]
  },
  {
   "cell_type": "code",
   "execution_count": 5,
   "id": "0d440416",
   "metadata": {},
   "outputs": [],
   "source": [
    "for i in range(90,99):\n",
    "    x_ = obspy.core.trace.Trace(x[i]).detrend(\"linear\").taper(max_percentage=0.05, type=\"hann\")\n",
    "    y_ = obspy.core.trace.Trace(y[i]).detrend(\"linear\").taper(max_percentage=0.05, type=\"hann\")\n",
    "    z_ = obspy.core.trace.Trace(z[i]).detrend(\"linear\").taper(max_percentage=0.05, type=\"hann\")\n",
    "\n",
    "    x_.stats.sampling_rate = 512\n",
    "    y_.stats.sampling_rate = 512\n",
    "    z_.stats.sampling_rate = 512\n",
    "\n",
    "    tr_x.append(x_)\n",
    "    tr_y.append(y_)\n",
    "    tr_z.append(z_)"
   ]
  },
  {
   "cell_type": "code",
   "execution_count": 6,
   "id": "a70efd57",
   "metadata": {},
   "outputs": [
    {
     "name": "stderr",
     "output_type": "stream",
     "text": [
      "/var/folders/gd/3d6ckpdn4q30skhxnvs_p7b80000gn/T/ipykernel_11126/1435633774.py:1: VisibleDeprecationWarning: Creating an ndarray from ragged nested sequences (which is a list-or-tuple of lists-or-tuples-or ndarrays with different lengths or shapes) is deprecated. If you meant to do this, you must specify 'dtype=object' when creating the ndarray\n",
      "  tr_x = np.array(tr_x)\n",
      "/var/folders/gd/3d6ckpdn4q30skhxnvs_p7b80000gn/T/ipykernel_11126/1435633774.py:2: VisibleDeprecationWarning: Creating an ndarray from ragged nested sequences (which is a list-or-tuple of lists-or-tuples-or ndarrays with different lengths or shapes) is deprecated. If you meant to do this, you must specify 'dtype=object' when creating the ndarray\n",
      "  tr_y = np.array(tr_y)\n",
      "/var/folders/gd/3d6ckpdn4q30skhxnvs_p7b80000gn/T/ipykernel_11126/1435633774.py:3: VisibleDeprecationWarning: Creating an ndarray from ragged nested sequences (which is a list-or-tuple of lists-or-tuples-or ndarrays with different lengths or shapes) is deprecated. If you meant to do this, you must specify 'dtype=object' when creating the ndarray\n",
      "  tr_z = np.array(tr_z)\n"
     ]
    }
   ],
   "source": [
    "tr_x = np.array(tr_x)\n",
    "tr_y = np.array(tr_y)\n",
    "tr_z = np.array(tr_z)"
   ]
  },
  {
   "cell_type": "code",
   "execution_count": 7,
   "id": "a2f44f63",
   "metadata": {},
   "outputs": [
    {
     "data": {
      "text/plain": [
       "... | 1970-01-01T00:00:00.000000Z - 1970-01-01T00:08:07.640625Z | 256.0 Hz, 124837 samples"
      ]
     },
     "execution_count": 7,
     "metadata": {},
     "output_type": "execute_result"
    }
   ],
   "source": [
    "tr_x[0]"
   ]
  },
  {
   "cell_type": "code",
   "execution_count": 8,
   "id": "542e4b05",
   "metadata": {},
   "outputs": [],
   "source": [
    "np.save(dir_path + \"/tr_x\", tr_x, allow_pickle= True)\n",
    "np.save(dir_path + \"/tr_y\", tr_y, allow_pickle= True)\n",
    "np.save(dir_path + \"/tr_z\", tr_z, allow_pickle= True)\n",
    "\n",
    "x = np.load(dir_path + \"/tr_x.npy\", allow_pickle= True)"
   ]
  },
  {
   "cell_type": "code",
   "execution_count": 9,
   "id": "7aeb7cbd",
   "metadata": {},
   "outputs": [
    {
     "data": {
      "text/plain": [
       "... | 1970-01-01T00:00:00.000000Z - 1970-01-01T00:08:07.640625Z | 256.0 Hz, 124837 samples"
      ]
     },
     "execution_count": 9,
     "metadata": {},
     "output_type": "execute_result"
    }
   ],
   "source": [
    "tr_x[0]"
   ]
  },
  {
   "cell_type": "code",
   "execution_count": 10,
   "id": "12043ac0",
   "metadata": {},
   "outputs": [
    {
     "data": {
      "text/plain": [
       "... | 1970-01-01T00:00:00.000000Z - 1970-01-01T00:04:59.625000Z | 512.0 Hz, 153409 samples"
      ]
     },
     "execution_count": 10,
     "metadata": {},
     "output_type": "execute_result"
    }
   ],
   "source": [
    "tr_x[98]"
   ]
  },
  {
   "cell_type": "code",
   "execution_count": null,
   "id": "10e50692",
   "metadata": {},
   "outputs": [],
   "source": []
  }
 ],
 "metadata": {
  "kernelspec": {
   "display_name": "Python 3 (ipykernel)",
   "language": "python",
   "name": "python3"
  },
  "language_info": {
   "codemirror_mode": {
    "name": "ipython",
    "version": 3
   },
   "file_extension": ".py",
   "mimetype": "text/x-python",
   "name": "python",
   "nbconvert_exporter": "python",
   "pygments_lexer": "ipython3",
   "version": "3.9.9"
  }
 },
 "nbformat": 4,
 "nbformat_minor": 5
}
