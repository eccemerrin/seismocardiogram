{
 "cells": [
  {
   "cell_type": "markdown",
   "id": "a10707b4",
   "metadata": {},
   "source": [
    "## Imports:"
   ]
  },
  {
   "cell_type": "code",
   "execution_count": 1,
   "id": "5b0b2dcc",
   "metadata": {},
   "outputs": [
    {
     "ename": "RuntimeError",
     "evalue": "module compiled against API version 0xe but this version of numpy is 0xd",
     "output_type": "error",
     "traceback": [
      "\u001b[0;31m---------------------------------------------------------------------------\u001b[0m",
      "\u001b[0;31mRuntimeError\u001b[0m                              Traceback (most recent call last)",
      "\u001b[0;31mRuntimeError\u001b[0m: module compiled against API version 0xe but this version of numpy is 0xd"
     ]
    }
   ],
   "source": [
    "import scipy.io\n",
    "import os\n",
    "import pandas\n",
    "import numpy as np\n",
    "import matplotlib.pyplot as plt\n",
    "import matplotlib.pylab as plt_lab\n",
    "import matplotlib.gridspec as gridspec\n",
    "import obspy\n",
    "import pandas as pd"
   ]
  },
  {
   "cell_type": "code",
   "execution_count": 2,
   "id": "995724bf",
   "metadata": {},
   "outputs": [],
   "source": [
    "import warnings\n",
    "warnings.filterwarnings('ignore')"
   ]
  },
  {
   "cell_type": "markdown",
   "id": "41b4c77f",
   "metadata": {},
   "source": [
    "## Load data:\n",
    "We are going to use this data to plot spectograms of SCG signals. "
   ]
  },
  {
   "cell_type": "code",
   "execution_count": 3,
   "id": "75a415fd",
   "metadata": {},
   "outputs": [],
   "source": [
    "dir_path = \"/Users/ecem/Documents/GitHub/seismocardiogram/data/diseased-dataset/Raw_Recordings\""
   ]
  },
  {
   "cell_type": "code",
   "execution_count": 4,
   "id": "cff5b561",
   "metadata": {},
   "outputs": [],
   "source": [
    "x = np.load(dir_path + \"/tr_x.npy\", allow_pickle= True)\n",
    "y = np.load(dir_path + \"/tr_y.npy\", allow_pickle= True)\n",
    "z = np.load(dir_path + \"/tr_z.npy\", allow_pickle= True)"
   ]
  },
  {
   "cell_type": "code",
   "execution_count": 5,
   "id": "1a7b8403",
   "metadata": {},
   "outputs": [
    {
     "data": {
      "text/plain": [
       "(100,)"
      ]
     },
     "execution_count": 5,
     "metadata": {},
     "output_type": "execute_result"
    }
   ],
   "source": [
    "x.shape"
   ]
  },
  {
   "cell_type": "markdown",
   "id": "45e75421",
   "metadata": {},
   "source": [
    "## Load csv and create two seperate dataframe:\n",
    "We are going to use heart dataframe to differentiate healty people from the people with diaseaes. Data's of healty people will be stored in the healty dataset while diseased people will be in diseased dataset."
   ]
  },
  {
   "cell_type": "code",
   "execution_count": 6,
   "id": "d770eb2f",
   "metadata": {},
   "outputs": [],
   "source": [
    "heart = pd.read_excel(\"/Users/ecem/Documents/GitHub/seismocardiogram/data/diseased-dataset/Summary_Pub_Deidentified.xlsx\")\n",
    "df = heart.copy().fillna(0)"
   ]
  },
  {
   "cell_type": "markdown",
   "id": "651352d7",
   "metadata": {},
   "source": [
    "I have dropped some columns because they didnt have much information. ????????"
   ]
  },
  {
   "cell_type": "code",
   "execution_count": 7,
   "id": "386d808a",
   "metadata": {},
   "outputs": [],
   "source": [
    "df.drop([\"Mitral valve Peak velocity (m/sec)\",\n",
    "         \"Mitral valve Mean gradient(mmHg)\", \n",
    "         \"Echo available\",\n",
    "        \"Date of collection\",\n",
    "        \"Date of echo\"], \n",
    "        inplace = True, axis = 1)\n",
    "df.drop(df.tail(1).index,inplace=True)"
   ]
  },
  {
   "cell_type": "code",
   "execution_count": 8,
   "id": "d385722e",
   "metadata": {},
   "outputs": [
    {
     "data": {
      "text/plain": [
       "99"
      ]
     },
     "execution_count": 8,
     "metadata": {},
     "output_type": "execute_result"
    }
   ],
   "source": [
    "df.index[-1]"
   ]
  },
  {
   "cell_type": "code",
   "execution_count": 9,
   "id": "ed27656a",
   "metadata": {},
   "outputs": [
    {
     "data": {
      "text/plain": [
       "... | 1970-01-01T00:00:00.000000Z - 1970-01-01T00:04:59.621094Z | 256.0 Hz, 76704 samples"
      ]
     },
     "execution_count": 9,
     "metadata": {},
     "output_type": "execute_result"
    }
   ],
   "source": [
    "x[99]"
   ]
  },
  {
   "cell_type": "markdown",
   "id": "dbd6f79f",
   "metadata": {},
   "source": [
    "## MS "
   ]
  },
  {
   "cell_type": "code",
   "execution_count": 10,
   "id": "31039361",
   "metadata": {},
   "outputs": [],
   "source": [
    "idx_MS = np.where((df['Moderate or greater MS'] == 1.0)  \n",
    "                  &(df['Moderate or greater MR'] == 0.0)  \n",
    "                  & (df['Moderate or greater AR'] == 0.0)\n",
    "                  &(df['Moderate or greater AS'] == 0.0)  \n",
    "                  & (df['moderate or greater TR'] == 0.0))\n"
   ]
  },
  {
   "cell_type": "code",
   "execution_count": 11,
   "id": "a6e21993",
   "metadata": {},
   "outputs": [
    {
     "data": {
      "text/plain": [
       "(array([ 8, 28, 62]),)"
      ]
     },
     "execution_count": 11,
     "metadata": {},
     "output_type": "execute_result"
    }
   ],
   "source": [
    "idx_MS"
   ]
  },
  {
   "cell_type": "code",
   "execution_count": 12,
   "id": "2f279480",
   "metadata": {},
   "outputs": [],
   "source": [
    "diseased_MS = df.loc[idx_MS]"
   ]
  },
  {
   "cell_type": "code",
   "execution_count": 13,
   "id": "d1f0658c",
   "metadata": {},
   "outputs": [],
   "source": [
    "idx_AR = np.where((df['Moderate or greater MS'] == 0.0)  \n",
    "                  &(df['Moderate or greater MR'] == 0.0)  \n",
    "                  & (df['Moderate or greater AR'] == 1.0)\n",
    "                  &(df['Moderate or greater AS'] == 0.0)  \n",
    "                  & (df['moderate or greater TR'] == 0.0))"
   ]
  },
  {
   "cell_type": "code",
   "execution_count": 14,
   "id": "32cfdaef",
   "metadata": {},
   "outputs": [
    {
     "data": {
      "text/plain": [
       "(array([17, 21, 26, 39, 68]),)"
      ]
     },
     "execution_count": 14,
     "metadata": {},
     "output_type": "execute_result"
    }
   ],
   "source": [
    "idx_AR"
   ]
  },
  {
   "cell_type": "code",
   "execution_count": 15,
   "id": "30ad9ef0",
   "metadata": {},
   "outputs": [],
   "source": [
    "diseased_AR = df.loc[idx_AR]"
   ]
  },
  {
   "cell_type": "code",
   "execution_count": 16,
   "id": "edd8530e",
   "metadata": {},
   "outputs": [],
   "source": [
    "idx_MR = np.where((df['Moderate or greater MS'] == 0.0)  \n",
    "                  &(df['Moderate or greater MR'] == 1.0)  \n",
    "                  & (df['Moderate or greater AR'] == 0.0)\n",
    "                  &(df['Moderate or greater AS'] == 0.0)  \n",
    "                  & (df['moderate or greater TR'] == 0.0))"
   ]
  },
  {
   "cell_type": "code",
   "execution_count": 17,
   "id": "e68b5d71",
   "metadata": {},
   "outputs": [
    {
     "data": {
      "text/plain": [
       "(array([ 0,  2, 12, 19, 27, 31, 32, 37, 45, 50, 54, 60, 65]),)"
      ]
     },
     "execution_count": 17,
     "metadata": {},
     "output_type": "execute_result"
    }
   ],
   "source": [
    "idx_MR"
   ]
  },
  {
   "cell_type": "code",
   "execution_count": 18,
   "id": "d9e050c2",
   "metadata": {},
   "outputs": [],
   "source": [
    "diseased_MR = df.loc[idx_MR]"
   ]
  },
  {
   "cell_type": "code",
   "execution_count": 19,
   "id": "48f7fffc",
   "metadata": {},
   "outputs": [],
   "source": [
    "idx_AS = np.where((df['Moderate or greater MS'] == 0.0)  \n",
    "                  &(df['Moderate or greater MR'] == 0.0)  \n",
    "                  & (df['Moderate or greater AR'] == 0.0)\n",
    "                  &(df['Moderate or greater AS'] == 1.0)  \n",
    "                  & (df['moderate or greater TR'] == 0.0))"
   ]
  },
  {
   "cell_type": "code",
   "execution_count": 20,
   "id": "c0aba641",
   "metadata": {},
   "outputs": [
    {
     "data": {
      "text/plain": [
       "(array([44, 71, 73, 76, 78, 80, 84, 85, 87, 88, 92, 95, 96, 97, 98, 99]),)"
      ]
     },
     "execution_count": 20,
     "metadata": {},
     "output_type": "execute_result"
    }
   ],
   "source": [
    "idx_AS"
   ]
  },
  {
   "cell_type": "code",
   "execution_count": 21,
   "id": "a0691bd5",
   "metadata": {},
   "outputs": [],
   "source": [
    "diseased_AS = df.loc[idx_AS]"
   ]
  },
  {
   "cell_type": "code",
   "execution_count": 22,
   "id": "5847772e",
   "metadata": {},
   "outputs": [
    {
     "data": {
      "text/html": [
       "<div>\n",
       "<style scoped>\n",
       "    .dataframe tbody tr th:only-of-type {\n",
       "        vertical-align: middle;\n",
       "    }\n",
       "\n",
       "    .dataframe tbody tr th {\n",
       "        vertical-align: top;\n",
       "    }\n",
       "\n",
       "    .dataframe thead th {\n",
       "        text-align: right;\n",
       "    }\n",
       "</style>\n",
       "<table border=\"1\" class=\"dataframe\">\n",
       "  <thead>\n",
       "    <tr style=\"text-align: right;\">\n",
       "      <th></th>\n",
       "      <th>Patient ID</th>\n",
       "      <th>Start</th>\n",
       "      <th>Duration</th>\n",
       "      <th>Sampling rate(Hz)</th>\n",
       "      <th>Age</th>\n",
       "      <th>Gender</th>\n",
       "      <th>Height (cm)</th>\n",
       "      <th>Weight (kg)</th>\n",
       "      <th>History of MI</th>\n",
       "      <th>History of CABG</th>\n",
       "      <th>...</th>\n",
       "      <th>TAPSE</th>\n",
       "      <th>Aortic valve area (cm2)</th>\n",
       "      <th>Aortic valve area Mean gradient(mmHg)</th>\n",
       "      <th>Aortic valve area Peak velocity (m/sec)</th>\n",
       "      <th>Mitral valve area (cm2)</th>\n",
       "      <th>Moderate or greater MS</th>\n",
       "      <th>Moderate or greater MR</th>\n",
       "      <th>Moderate or greater AR</th>\n",
       "      <th>Moderate or greater AS</th>\n",
       "      <th>moderate or greater TR</th>\n",
       "    </tr>\n",
       "  </thead>\n",
       "  <tbody>\n",
       "    <tr>\n",
       "      <th>44</th>\n",
       "      <td>CP-45</td>\n",
       "      <td>00:00:33</td>\n",
       "      <td>00:06:19</td>\n",
       "      <td>256.000000</td>\n",
       "      <td>70.0</td>\n",
       "      <td>M</td>\n",
       "      <td>170.0</td>\n",
       "      <td>80.0</td>\n",
       "      <td>0.0</td>\n",
       "      <td>0.0</td>\n",
       "      <td>...</td>\n",
       "      <td>21.0</td>\n",
       "      <td>0.90</td>\n",
       "      <td>39.0</td>\n",
       "      <td>4.3</td>\n",
       "      <td>0.0</td>\n",
       "      <td>0.0</td>\n",
       "      <td>0.0</td>\n",
       "      <td>0.0</td>\n",
       "      <td>1.0</td>\n",
       "      <td>0.0</td>\n",
       "    </tr>\n",
       "    <tr>\n",
       "      <th>71</th>\n",
       "      <td>UP-02</td>\n",
       "      <td>00:00:00</td>\n",
       "      <td>00:06:10</td>\n",
       "      <td>256.000000</td>\n",
       "      <td>89.0</td>\n",
       "      <td>M</td>\n",
       "      <td>170.2</td>\n",
       "      <td>82.0</td>\n",
       "      <td>1.0</td>\n",
       "      <td>1.0</td>\n",
       "      <td>...</td>\n",
       "      <td>0.0</td>\n",
       "      <td>1.00</td>\n",
       "      <td>24.6</td>\n",
       "      <td>3.2</td>\n",
       "      <td>0.0</td>\n",
       "      <td>0.0</td>\n",
       "      <td>0.0</td>\n",
       "      <td>0.0</td>\n",
       "      <td>1.0</td>\n",
       "      <td>0.0</td>\n",
       "    </tr>\n",
       "    <tr>\n",
       "      <th>73</th>\n",
       "      <td>UP-04</td>\n",
       "      <td>00:00:00</td>\n",
       "      <td>00:05:36</td>\n",
       "      <td>256.000000</td>\n",
       "      <td>84.0</td>\n",
       "      <td>M</td>\n",
       "      <td>152.4</td>\n",
       "      <td>65.0</td>\n",
       "      <td>0.0</td>\n",
       "      <td>1.0</td>\n",
       "      <td>...</td>\n",
       "      <td>0.0</td>\n",
       "      <td>0.90</td>\n",
       "      <td>34.6</td>\n",
       "      <td>4.2</td>\n",
       "      <td>0.0</td>\n",
       "      <td>0.0</td>\n",
       "      <td>0.0</td>\n",
       "      <td>0.0</td>\n",
       "      <td>1.0</td>\n",
       "      <td>0.0</td>\n",
       "    </tr>\n",
       "    <tr>\n",
       "      <th>76</th>\n",
       "      <td>UP-07</td>\n",
       "      <td>00:00:00</td>\n",
       "      <td>00:06:03</td>\n",
       "      <td>256.000000</td>\n",
       "      <td>84.0</td>\n",
       "      <td>M</td>\n",
       "      <td>162.5</td>\n",
       "      <td>79.0</td>\n",
       "      <td>0.0</td>\n",
       "      <td>1.0</td>\n",
       "      <td>...</td>\n",
       "      <td>0.0</td>\n",
       "      <td>0.40</td>\n",
       "      <td>51.3</td>\n",
       "      <td>4.7</td>\n",
       "      <td>0.0</td>\n",
       "      <td>0.0</td>\n",
       "      <td>0.0</td>\n",
       "      <td>0.0</td>\n",
       "      <td>1.0</td>\n",
       "      <td>0.0</td>\n",
       "    </tr>\n",
       "    <tr>\n",
       "      <th>78</th>\n",
       "      <td>UP-09</td>\n",
       "      <td>00:00:00</td>\n",
       "      <td>00:05:15</td>\n",
       "      <td>256.000000</td>\n",
       "      <td>89.0</td>\n",
       "      <td>M</td>\n",
       "      <td>182.8</td>\n",
       "      <td>90.7</td>\n",
       "      <td>0.0</td>\n",
       "      <td>1.0</td>\n",
       "      <td>...</td>\n",
       "      <td>0.0</td>\n",
       "      <td>0.75</td>\n",
       "      <td>59.8</td>\n",
       "      <td>5.1</td>\n",
       "      <td>0.0</td>\n",
       "      <td>0.0</td>\n",
       "      <td>0.0</td>\n",
       "      <td>0.0</td>\n",
       "      <td>1.0</td>\n",
       "      <td>0.0</td>\n",
       "    </tr>\n",
       "    <tr>\n",
       "      <th>80</th>\n",
       "      <td>UP-11</td>\n",
       "      <td>00:00:00</td>\n",
       "      <td>00:05:06</td>\n",
       "      <td>256.000000</td>\n",
       "      <td>68.0</td>\n",
       "      <td>M</td>\n",
       "      <td>177.8</td>\n",
       "      <td>79.0</td>\n",
       "      <td>0.0</td>\n",
       "      <td>1.0</td>\n",
       "      <td>...</td>\n",
       "      <td>0.0</td>\n",
       "      <td>0.93</td>\n",
       "      <td>54.4</td>\n",
       "      <td>4.9</td>\n",
       "      <td>0.0</td>\n",
       "      <td>0.0</td>\n",
       "      <td>0.0</td>\n",
       "      <td>0.0</td>\n",
       "      <td>1.0</td>\n",
       "      <td>0.0</td>\n",
       "    </tr>\n",
       "    <tr>\n",
       "      <th>84</th>\n",
       "      <td>UP-15</td>\n",
       "      <td>00:00:00</td>\n",
       "      <td>00:05:34</td>\n",
       "      <td>256.000000</td>\n",
       "      <td>84.0</td>\n",
       "      <td>F</td>\n",
       "      <td>175.0</td>\n",
       "      <td>76.0</td>\n",
       "      <td>0.0</td>\n",
       "      <td>1.0</td>\n",
       "      <td>...</td>\n",
       "      <td>0.0</td>\n",
       "      <td>0.90</td>\n",
       "      <td>33.8</td>\n",
       "      <td>3.8</td>\n",
       "      <td>0.0</td>\n",
       "      <td>0.0</td>\n",
       "      <td>0.0</td>\n",
       "      <td>0.0</td>\n",
       "      <td>1.0</td>\n",
       "      <td>0.0</td>\n",
       "    </tr>\n",
       "    <tr>\n",
       "      <th>85</th>\n",
       "      <td>UP-16</td>\n",
       "      <td>00:00:00</td>\n",
       "      <td>00:05:44</td>\n",
       "      <td>256.000000</td>\n",
       "      <td>97.0</td>\n",
       "      <td>M</td>\n",
       "      <td>157.0</td>\n",
       "      <td>77.0</td>\n",
       "      <td>0.0</td>\n",
       "      <td>1.0</td>\n",
       "      <td>...</td>\n",
       "      <td>0.0</td>\n",
       "      <td>0.98</td>\n",
       "      <td>22.8</td>\n",
       "      <td>3.3</td>\n",
       "      <td>0.0</td>\n",
       "      <td>0.0</td>\n",
       "      <td>0.0</td>\n",
       "      <td>0.0</td>\n",
       "      <td>1.0</td>\n",
       "      <td>0.0</td>\n",
       "    </tr>\n",
       "    <tr>\n",
       "      <th>87</th>\n",
       "      <td>UP-18</td>\n",
       "      <td>00:00:00</td>\n",
       "      <td>00:05:09</td>\n",
       "      <td>256.000000</td>\n",
       "      <td>90.0</td>\n",
       "      <td>F</td>\n",
       "      <td>152.4</td>\n",
       "      <td>92.0</td>\n",
       "      <td>0.0</td>\n",
       "      <td>1.0</td>\n",
       "      <td>...</td>\n",
       "      <td>0.0</td>\n",
       "      <td>1.00</td>\n",
       "      <td>11.1</td>\n",
       "      <td>2.4</td>\n",
       "      <td>0.0</td>\n",
       "      <td>0.0</td>\n",
       "      <td>0.0</td>\n",
       "      <td>0.0</td>\n",
       "      <td>1.0</td>\n",
       "      <td>0.0</td>\n",
       "    </tr>\n",
       "    <tr>\n",
       "      <th>88</th>\n",
       "      <td>UP-19</td>\n",
       "      <td>00:00:00</td>\n",
       "      <td>00:05:17</td>\n",
       "      <td>256.000000</td>\n",
       "      <td>78.0</td>\n",
       "      <td>M</td>\n",
       "      <td>170.1</td>\n",
       "      <td>78.0</td>\n",
       "      <td>0.0</td>\n",
       "      <td>1.0</td>\n",
       "      <td>...</td>\n",
       "      <td>0.0</td>\n",
       "      <td>0.99</td>\n",
       "      <td>27.3</td>\n",
       "      <td>3.8</td>\n",
       "      <td>0.0</td>\n",
       "      <td>0.0</td>\n",
       "      <td>0.0</td>\n",
       "      <td>0.0</td>\n",
       "      <td>1.0</td>\n",
       "      <td>0.0</td>\n",
       "    </tr>\n",
       "    <tr>\n",
       "      <th>92</th>\n",
       "      <td>UP-23</td>\n",
       "      <td>00:00:00</td>\n",
       "      <td>00:09:59</td>\n",
       "      <td>512.041667</td>\n",
       "      <td>84.0</td>\n",
       "      <td>F</td>\n",
       "      <td>139.7</td>\n",
       "      <td>70.3</td>\n",
       "      <td>0.0</td>\n",
       "      <td>0.0</td>\n",
       "      <td>...</td>\n",
       "      <td>0.0</td>\n",
       "      <td>0.00</td>\n",
       "      <td>38.2</td>\n",
       "      <td>4.3</td>\n",
       "      <td>0.0</td>\n",
       "      <td>0.0</td>\n",
       "      <td>0.0</td>\n",
       "      <td>0.0</td>\n",
       "      <td>1.0</td>\n",
       "      <td>0.0</td>\n",
       "    </tr>\n",
       "    <tr>\n",
       "      <th>95</th>\n",
       "      <td>UP-26</td>\n",
       "      <td>00:00:00</td>\n",
       "      <td>00:05:08</td>\n",
       "      <td>512.166667</td>\n",
       "      <td>80.0</td>\n",
       "      <td>M</td>\n",
       "      <td>175.3</td>\n",
       "      <td>85.7</td>\n",
       "      <td>0.0</td>\n",
       "      <td>0.0</td>\n",
       "      <td>...</td>\n",
       "      <td>0.0</td>\n",
       "      <td>0.90</td>\n",
       "      <td>29.7</td>\n",
       "      <td>4.2</td>\n",
       "      <td>0.0</td>\n",
       "      <td>0.0</td>\n",
       "      <td>0.0</td>\n",
       "      <td>0.0</td>\n",
       "      <td>1.0</td>\n",
       "      <td>0.0</td>\n",
       "    </tr>\n",
       "    <tr>\n",
       "      <th>96</th>\n",
       "      <td>UP-27</td>\n",
       "      <td>00:00:00</td>\n",
       "      <td>00:05:05</td>\n",
       "      <td>512.208333</td>\n",
       "      <td>82.0</td>\n",
       "      <td>M</td>\n",
       "      <td>180.0</td>\n",
       "      <td>118.0</td>\n",
       "      <td>0.0</td>\n",
       "      <td>0.0</td>\n",
       "      <td>...</td>\n",
       "      <td>0.0</td>\n",
       "      <td>0.40</td>\n",
       "      <td>30.1</td>\n",
       "      <td>3.9</td>\n",
       "      <td>0.0</td>\n",
       "      <td>0.0</td>\n",
       "      <td>0.0</td>\n",
       "      <td>0.0</td>\n",
       "      <td>1.0</td>\n",
       "      <td>0.0</td>\n",
       "    </tr>\n",
       "    <tr>\n",
       "      <th>97</th>\n",
       "      <td>UP-28</td>\n",
       "      <td>00:00:00</td>\n",
       "      <td>00:05:02</td>\n",
       "      <td>512.250000</td>\n",
       "      <td>71.0</td>\n",
       "      <td>M</td>\n",
       "      <td>175.0</td>\n",
       "      <td>117.0</td>\n",
       "      <td>0.0</td>\n",
       "      <td>0.0</td>\n",
       "      <td>...</td>\n",
       "      <td>0.0</td>\n",
       "      <td>0.50</td>\n",
       "      <td>56.0</td>\n",
       "      <td>4.9</td>\n",
       "      <td>0.0</td>\n",
       "      <td>0.0</td>\n",
       "      <td>0.0</td>\n",
       "      <td>0.0</td>\n",
       "      <td>1.0</td>\n",
       "      <td>0.0</td>\n",
       "    </tr>\n",
       "    <tr>\n",
       "      <th>98</th>\n",
       "      <td>UP-29</td>\n",
       "      <td>00:00:00</td>\n",
       "      <td>00:04:58</td>\n",
       "      <td>512.291667</td>\n",
       "      <td>80.0</td>\n",
       "      <td>M</td>\n",
       "      <td>168.9</td>\n",
       "      <td>65.8</td>\n",
       "      <td>0.0</td>\n",
       "      <td>0.0</td>\n",
       "      <td>...</td>\n",
       "      <td>0.0</td>\n",
       "      <td>0.40</td>\n",
       "      <td>49.3</td>\n",
       "      <td>4.7</td>\n",
       "      <td>0.0</td>\n",
       "      <td>0.0</td>\n",
       "      <td>0.0</td>\n",
       "      <td>0.0</td>\n",
       "      <td>1.0</td>\n",
       "      <td>0.0</td>\n",
       "    </tr>\n",
       "    <tr>\n",
       "      <th>99</th>\n",
       "      <td>UP-30</td>\n",
       "      <td>00:00:00</td>\n",
       "      <td>00:04:59</td>\n",
       "      <td>512.333333</td>\n",
       "      <td>71.0</td>\n",
       "      <td>M</td>\n",
       "      <td>177.8</td>\n",
       "      <td>81.6</td>\n",
       "      <td>0.0</td>\n",
       "      <td>0.0</td>\n",
       "      <td>...</td>\n",
       "      <td>0.0</td>\n",
       "      <td>0.60</td>\n",
       "      <td>60.7</td>\n",
       "      <td>5.4</td>\n",
       "      <td>0.0</td>\n",
       "      <td>0.0</td>\n",
       "      <td>0.0</td>\n",
       "      <td>0.0</td>\n",
       "      <td>1.0</td>\n",
       "      <td>0.0</td>\n",
       "    </tr>\n",
       "  </tbody>\n",
       "</table>\n",
       "<p>16 rows × 31 columns</p>\n",
       "</div>"
      ],
      "text/plain": [
       "   Patient ID     Start  Duration  Sampling rate(Hz)   Age Gender  \\\n",
       "44      CP-45  00:00:33  00:06:19         256.000000  70.0      M   \n",
       "71      UP-02  00:00:00  00:06:10         256.000000  89.0      M   \n",
       "73      UP-04  00:00:00  00:05:36         256.000000  84.0      M   \n",
       "76      UP-07  00:00:00  00:06:03         256.000000  84.0      M   \n",
       "78      UP-09  00:00:00  00:05:15         256.000000  89.0      M   \n",
       "80      UP-11  00:00:00  00:05:06         256.000000  68.0      M   \n",
       "84      UP-15  00:00:00  00:05:34         256.000000  84.0      F   \n",
       "85      UP-16  00:00:00  00:05:44         256.000000  97.0      M   \n",
       "87      UP-18  00:00:00  00:05:09         256.000000  90.0      F   \n",
       "88      UP-19  00:00:00  00:05:17         256.000000  78.0      M   \n",
       "92      UP-23  00:00:00  00:09:59         512.041667  84.0      F   \n",
       "95      UP-26  00:00:00  00:05:08         512.166667  80.0      M   \n",
       "96      UP-27  00:00:00  00:05:05         512.208333  82.0      M   \n",
       "97      UP-28  00:00:00  00:05:02         512.250000  71.0      M   \n",
       "98      UP-29  00:00:00  00:04:58         512.291667  80.0      M   \n",
       "99      UP-30  00:00:00  00:04:59         512.333333  71.0      M   \n",
       "\n",
       "    Height (cm)  Weight (kg)  History of MI  History of CABG  ...  TAPSE  \\\n",
       "44        170.0         80.0            0.0              0.0  ...   21.0   \n",
       "71        170.2         82.0            1.0              1.0  ...    0.0   \n",
       "73        152.4         65.0            0.0              1.0  ...    0.0   \n",
       "76        162.5         79.0            0.0              1.0  ...    0.0   \n",
       "78        182.8         90.7            0.0              1.0  ...    0.0   \n",
       "80        177.8         79.0            0.0              1.0  ...    0.0   \n",
       "84        175.0         76.0            0.0              1.0  ...    0.0   \n",
       "85        157.0         77.0            0.0              1.0  ...    0.0   \n",
       "87        152.4         92.0            0.0              1.0  ...    0.0   \n",
       "88        170.1         78.0            0.0              1.0  ...    0.0   \n",
       "92        139.7         70.3            0.0              0.0  ...    0.0   \n",
       "95        175.3         85.7            0.0              0.0  ...    0.0   \n",
       "96        180.0        118.0            0.0              0.0  ...    0.0   \n",
       "97        175.0        117.0            0.0              0.0  ...    0.0   \n",
       "98        168.9         65.8            0.0              0.0  ...    0.0   \n",
       "99        177.8         81.6            0.0              0.0  ...    0.0   \n",
       "\n",
       "    Aortic valve area (cm2)  Aortic valve area Mean gradient(mmHg)  \\\n",
       "44                     0.90                                   39.0   \n",
       "71                     1.00                                   24.6   \n",
       "73                     0.90                                   34.6   \n",
       "76                     0.40                                   51.3   \n",
       "78                     0.75                                   59.8   \n",
       "80                     0.93                                   54.4   \n",
       "84                     0.90                                   33.8   \n",
       "85                     0.98                                   22.8   \n",
       "87                     1.00                                   11.1   \n",
       "88                     0.99                                   27.3   \n",
       "92                     0.00                                   38.2   \n",
       "95                     0.90                                   29.7   \n",
       "96                     0.40                                   30.1   \n",
       "97                     0.50                                   56.0   \n",
       "98                     0.40                                   49.3   \n",
       "99                     0.60                                   60.7   \n",
       "\n",
       "    Aortic valve area Peak velocity (m/sec)  Mitral valve area (cm2)  \\\n",
       "44                                      4.3                      0.0   \n",
       "71                                      3.2                      0.0   \n",
       "73                                      4.2                      0.0   \n",
       "76                                      4.7                      0.0   \n",
       "78                                      5.1                      0.0   \n",
       "80                                      4.9                      0.0   \n",
       "84                                      3.8                      0.0   \n",
       "85                                      3.3                      0.0   \n",
       "87                                      2.4                      0.0   \n",
       "88                                      3.8                      0.0   \n",
       "92                                      4.3                      0.0   \n",
       "95                                      4.2                      0.0   \n",
       "96                                      3.9                      0.0   \n",
       "97                                      4.9                      0.0   \n",
       "98                                      4.7                      0.0   \n",
       "99                                      5.4                      0.0   \n",
       "\n",
       "    Moderate or greater MS  Moderate or greater MR  Moderate or greater AR  \\\n",
       "44                     0.0                     0.0                     0.0   \n",
       "71                     0.0                     0.0                     0.0   \n",
       "73                     0.0                     0.0                     0.0   \n",
       "76                     0.0                     0.0                     0.0   \n",
       "78                     0.0                     0.0                     0.0   \n",
       "80                     0.0                     0.0                     0.0   \n",
       "84                     0.0                     0.0                     0.0   \n",
       "85                     0.0                     0.0                     0.0   \n",
       "87                     0.0                     0.0                     0.0   \n",
       "88                     0.0                     0.0                     0.0   \n",
       "92                     0.0                     0.0                     0.0   \n",
       "95                     0.0                     0.0                     0.0   \n",
       "96                     0.0                     0.0                     0.0   \n",
       "97                     0.0                     0.0                     0.0   \n",
       "98                     0.0                     0.0                     0.0   \n",
       "99                     0.0                     0.0                     0.0   \n",
       "\n",
       "    Moderate or greater AS  moderate or greater TR  \n",
       "44                     1.0                     0.0  \n",
       "71                     1.0                     0.0  \n",
       "73                     1.0                     0.0  \n",
       "76                     1.0                     0.0  \n",
       "78                     1.0                     0.0  \n",
       "80                     1.0                     0.0  \n",
       "84                     1.0                     0.0  \n",
       "85                     1.0                     0.0  \n",
       "87                     1.0                     0.0  \n",
       "88                     1.0                     0.0  \n",
       "92                     1.0                     0.0  \n",
       "95                     1.0                     0.0  \n",
       "96                     1.0                     0.0  \n",
       "97                     1.0                     0.0  \n",
       "98                     1.0                     0.0  \n",
       "99                     1.0                     0.0  \n",
       "\n",
       "[16 rows x 31 columns]"
      ]
     },
     "execution_count": 22,
     "metadata": {},
     "output_type": "execute_result"
    }
   ],
   "source": [
    "diseased_AS"
   ]
  },
  {
   "cell_type": "code",
   "execution_count": 23,
   "id": "7a2c2752",
   "metadata": {},
   "outputs": [],
   "source": [
    "MS_x, MS_y, MS_z = [],[],[]\n",
    "MR_x, MR_y, MR_z = [],[],[]\n",
    "\n",
    "AS_x, AS_y, AS_z = [],[],[]\n",
    "AR_x, AR_y, AR_z = [],[],[]\n"
   ]
  },
  {
   "cell_type": "code",
   "execution_count": 24,
   "id": "46add168",
   "metadata": {},
   "outputs": [],
   "source": [
    "for i in range(len(diseased_MS['Patient ID'].index)):\n",
    "    x_ = x[diseased_MS['Patient ID'].index[i]]\n",
    "    y_ = y[diseased_MS['Patient ID'].index[i]]\n",
    "    z_ = z[diseased_MS['Patient ID'].index[i]]\n",
    "    \n",
    "    MS_x.append(x_)\n",
    "    MS_y.append(y_) \n",
    "    MS_z.append(z_) \n",
    "del x_, y_, z_"
   ]
  },
  {
   "cell_type": "code",
   "execution_count": 25,
   "id": "10b51068",
   "metadata": {},
   "outputs": [],
   "source": [
    "for i in range(len(diseased_AR['Patient ID'].index)):\n",
    "    x_ = x[diseased_AR['Patient ID'].index[i]]\n",
    "    y_ = y[diseased_AR['Patient ID'].index[i]]\n",
    "    z_ = z[diseased_AR['Patient ID'].index[i]]\n",
    "    \n",
    "    AR_x.append(x_)\n",
    "    AR_y.append(y_) \n",
    "    AR_z.append(z_) \n",
    "del x_, y_, z_"
   ]
  },
  {
   "cell_type": "code",
   "execution_count": 26,
   "id": "4abe8deb",
   "metadata": {},
   "outputs": [],
   "source": [
    "for i in range(len(diseased_MR['Patient ID'].index)):\n",
    "    x_ = x[diseased_MR['Patient ID'].index[i]]\n",
    "    y_ = y[diseased_MR['Patient ID'].index[i]]\n",
    "    z_ = z[diseased_MR['Patient ID'].index[i]]\n",
    "    \n",
    "    MR_x.append(x_)\n",
    "    MR_y.append(y_) \n",
    "    MR_z.append(z_) \n",
    "del x_, y_, z_"
   ]
  },
  {
   "cell_type": "code",
   "execution_count": 27,
   "id": "000947ee",
   "metadata": {},
   "outputs": [],
   "source": [
    "for i in range(len(diseased_AS['Patient ID'].index)):\n",
    "    x_ = x[diseased_AS['Patient ID'].index[i]]\n",
    "    y_ = y[diseased_AS['Patient ID'].index[i]]\n",
    "    z_ = z[diseased_AS['Patient ID'].index[i]]\n",
    "    \n",
    "    AS_x.append(x_)\n",
    "    AS_y.append(y_) \n",
    "    AS_z.append(z_) \n",
    "del x_, y_, z_"
   ]
  },
  {
   "cell_type": "code",
   "execution_count": 28,
   "id": "b8988522",
   "metadata": {},
   "outputs": [
    {
     "data": {
      "text/plain": [
       "[... | 1970-01-01T00:00:00.000000Z - 1970-01-01T00:07:18.679688Z | 256.0 Hz, 112303 samples,\n",
       " ... | 1970-01-01T00:00:00.000000Z - 1970-01-01T00:06:10.062500Z | 256.0 Hz, 94737 samples,\n",
       " ... | 1970-01-01T00:00:00.000000Z - 1970-01-01T00:05:36.863281Z | 256.0 Hz, 86238 samples,\n",
       " ... | 1970-01-01T00:00:00.000000Z - 1970-01-01T00:06:03.011719Z | 256.0 Hz, 92932 samples,\n",
       " ... | 1970-01-01T00:00:00.000000Z - 1970-01-01T00:05:15.605469Z | 256.0 Hz, 80796 samples,\n",
       " ... | 1970-01-01T00:00:00.000000Z - 1970-01-01T00:05:06.742188Z | 256.0 Hz, 78527 samples,\n",
       " ... | 1970-01-01T00:00:00.000000Z - 1970-01-01T00:05:34.824219Z | 256.0 Hz, 85716 samples,\n",
       " ... | 1970-01-01T00:00:00.000000Z - 1970-01-01T00:05:44.816406Z | 256.0 Hz, 88274 samples,\n",
       " ... | 1970-01-01T00:00:00.000000Z - 1970-01-01T00:05:09.382812Z | 256.0 Hz, 79203 samples,\n",
       " ... | 1970-01-01T00:00:00.000000Z - 1970-01-01T00:05:17.289062Z | 256.0 Hz, 81227 samples,\n",
       " ... | 1970-01-01T00:00:00.000000Z - 1970-01-01T00:09:59.757812Z | 256.0 Hz, 153539 samples,\n",
       " ... | 1970-01-01T00:00:00.000000Z - 1970-01-01T00:05:08.324219Z | 256.0 Hz, 78932 samples,\n",
       " ... | 1970-01-01T00:00:00.000000Z - 1970-01-01T00:05:05.828125Z | 256.0 Hz, 78293 samples,\n",
       " ... | 1970-01-01T00:00:00.000000Z - 1970-01-01T00:05:02.531250Z | 256.0 Hz, 77449 samples,\n",
       " ... | 1970-01-01T00:00:00.000000Z - 1970-01-01T00:04:58.808594Z | 256.0 Hz, 76496 samples,\n",
       " ... | 1970-01-01T00:00:00.000000Z - 1970-01-01T00:04:59.621094Z | 256.0 Hz, 76704 samples]"
      ]
     },
     "execution_count": 28,
     "metadata": {},
     "output_type": "execute_result"
    }
   ],
   "source": [
    "AS_x"
   ]
  },
  {
   "cell_type": "code",
   "execution_count": 29,
   "id": "b931ae78",
   "metadata": {},
   "outputs": [
    {
     "data": {
      "text/plain": [
       "100"
      ]
     },
     "execution_count": 29,
     "metadata": {},
     "output_type": "execute_result"
    }
   ],
   "source": [
    "len(x)"
   ]
  },
  {
   "cell_type": "code",
   "execution_count": 30,
   "id": "130fcfe3",
   "metadata": {},
   "outputs": [],
   "source": [
    "#note to myself: do not change order\n",
    "dataset1 = np.stack((MR_x, MR_y, MR_z), axis=-1)\n",
    "dataset2 = np.stack((AR_x, AR_y, AR_z), axis=-1)\n",
    "dataset3 = np.stack((AS_x, AS_y, AS_z), axis=-1)\n",
    "dataset4 = np.stack((MS_x, MS_y, MS_z), axis=-1)"
   ]
  },
  {
   "cell_type": "code",
   "execution_count": 31,
   "id": "34f617a4",
   "metadata": {},
   "outputs": [
    {
     "name": "stdout",
     "output_type": "stream",
     "text": [
      "(13, 3)\n",
      "(5, 3)\n",
      "(16, 3)\n",
      "(3, 3)\n"
     ]
    }
   ],
   "source": [
    "print(dataset1.shape)\n",
    "print(dataset2.shape)\n",
    "print(dataset3.shape)\n",
    "print(dataset4.shape)\n"
   ]
  },
  {
   "cell_type": "code",
   "execution_count": 32,
   "id": "e85b87f4",
   "metadata": {},
   "outputs": [],
   "source": [
    "ms_w = np.load(dir_path + \"/ms-without-detrend-taper.npy\", allow_pickle= True)\n",
    "mr_w = np.load(dir_path + \"/mr-without-detrend-taper.npy\", allow_pickle= True)\n",
    "as_w = np.load(dir_path + \"/as-without-detrend-taper.npy\", allow_pickle= True)\n",
    "ar_w = np.load(dir_path + \"/ar-without-detrend-taper.npy\", allow_pickle= True)"
   ]
  },
  {
   "cell_type": "code",
   "execution_count": 33,
   "id": "c2b28baf",
   "metadata": {},
   "outputs": [],
   "source": [
    "ms_ = np.load(dir_path + \"/MS.npy\", allow_pickle= True)\n",
    "mr_ = np.load(dir_path + \"/MR.npy\", allow_pickle= True)\n",
    "as_ = np.load(dir_path + \"/AS.npy\", allow_pickle= True)\n",
    "ar_ = np.load(dir_path + \"/AR.npy\", allow_pickle= True)"
   ]
  },
  {
   "cell_type": "code",
   "execution_count": 34,
   "id": "109f6065",
   "metadata": {},
   "outputs": [
    {
     "data": {
      "text/plain": [
       "(13, 3)"
      ]
     },
     "execution_count": 34,
     "metadata": {},
     "output_type": "execute_result"
    }
   ],
   "source": [
    "mr_.shape"
   ]
  },
  {
   "cell_type": "code",
   "execution_count": 35,
   "id": "f96f658d",
   "metadata": {},
   "outputs": [
    {
     "name": "stdout",
     "output_type": "stream",
     "text": [
      "***************0\n",
      "with ... | 1970-01-01T00:00:00.000000Z - 1970-01-01T00:08:07.640625Z | 256.0 Hz, 124837 samples\n",
      "without ... | 1970-01-01T00:00:00.000000Z - 1970-01-01T00:08:07.640625Z | 256.0 Hz, 124837 samples\n",
      "***************1\n",
      "with ... | 1970-01-01T00:00:00.000000Z - 1970-01-01T00:09:56.785156Z | 256.0 Hz, 152778 samples\n",
      "without ... | 1970-01-01T00:00:00.000000Z - 1970-01-01T00:09:56.785156Z | 256.0 Hz, 152778 samples\n",
      "***************2\n",
      "with ... | 1970-01-01T00:00:00.000000Z - 1970-01-01T00:08:56.488281Z | 256.0 Hz, 137342 samples\n",
      "without ... | 1970-01-01T00:00:00.000000Z - 1970-01-01T00:08:56.488281Z | 256.0 Hz, 137342 samples\n",
      "***************3\n",
      "with ... | 1970-01-01T00:00:00.000000Z - 1970-01-01T00:07:56.722656Z | 256.0 Hz, 122042 samples\n",
      "without ... | 1970-01-01T00:00:00.000000Z - 1970-01-01T00:07:56.722656Z | 256.0 Hz, 122042 samples\n",
      "***************4\n",
      "with ... | 1970-01-01T00:00:00.000000Z - 1970-01-01T00:08:38.730469Z | 256.0 Hz, 132796 samples\n",
      "without ... | 1970-01-01T00:00:00.000000Z - 1970-01-01T00:08:38.730469Z | 256.0 Hz, 132796 samples\n",
      "***************5\n",
      "with ... | 1970-01-01T00:00:00.000000Z - 1970-01-01T00:08:02.148438Z | 256.0 Hz, 123431 samples\n",
      "without ... | 1970-01-01T00:00:00.000000Z - 1970-01-01T00:08:02.148438Z | 256.0 Hz, 123431 samples\n",
      "***************6\n",
      "with ... | 1970-01-01T00:00:00.000000Z - 1970-01-01T00:09:57.902344Z | 256.0 Hz, 153064 samples\n",
      "without ... | 1970-01-01T00:00:00.000000Z - 1970-01-01T00:09:57.902344Z | 256.0 Hz, 153064 samples\n",
      "***************7\n",
      "with ... | 1970-01-01T00:00:00.000000Z - 1970-01-01T00:07:42.617188Z | 256.0 Hz, 118431 samples\n",
      "without ... | 1970-01-01T00:00:00.000000Z - 1970-01-01T00:07:42.617188Z | 256.0 Hz, 118431 samples\n",
      "***************8\n",
      "with ... | 1970-01-01T00:00:00.000000Z - 1970-01-01T00:06:58.320312Z | 256.0 Hz, 107091 samples\n",
      "without ... | 1970-01-01T00:00:00.000000Z - 1970-01-01T00:06:58.320312Z | 256.0 Hz, 107091 samples\n",
      "***************9\n",
      "with ... | 1970-01-01T00:00:00.000000Z - 1970-01-01T00:07:35.851562Z | 256.0 Hz, 116699 samples\n",
      "without ... | 1970-01-01T00:00:00.000000Z - 1970-01-01T00:07:35.851562Z | 256.0 Hz, 116699 samples\n",
      "***************10\n",
      "with ... | 1970-01-01T00:00:00.000000Z - 1970-01-01T00:07:51.769531Z | 256.0 Hz, 120774 samples\n",
      "without ... | 1970-01-01T00:00:00.000000Z - 1970-01-01T00:07:51.769531Z | 256.0 Hz, 120774 samples\n",
      "***************11\n",
      "with ... | 1970-01-01T00:00:00.000000Z - 1970-01-01T00:08:09.660156Z | 256.0 Hz, 125354 samples\n",
      "without ... | 1970-01-01T00:00:00.000000Z - 1970-01-01T00:08:09.660156Z | 256.0 Hz, 125354 samples\n",
      "***************12\n",
      "with ... | 1970-01-01T00:00:00.000000Z - 1970-01-01T00:08:25.585938Z | 256.0 Hz, 129431 samples\n",
      "without ... | 1970-01-01T00:00:00.000000Z - 1970-01-01T00:08:25.585938Z | 256.0 Hz, 129431 samples\n"
     ]
    }
   ],
   "source": [
    "for i in range(13):\n",
    "    print(\"***************{}\".format(i))\n",
    "    print(\"with\", mr_[i][0])\n",
    "    print(\"without\", mr_w[i][0])"
   ]
  },
  {
   "cell_type": "code",
   "execution_count": 36,
   "id": "49a5f566",
   "metadata": {},
   "outputs": [
    {
     "name": "stdout",
     "output_type": "stream",
     "text": [
      "***************0\n",
      "with ... | 1970-01-01T00:00:00.000000Z - 1970-01-01T00:10:21.855469Z | 256.0 Hz, 159196 samples\n",
      "without ... | 1970-01-01T00:00:00.000000Z - 1970-01-01T00:10:21.855469Z | 256.0 Hz, 159196 samples\n",
      "***************1\n",
      "with ... | 1970-01-01T00:00:00.000000Z - 1970-01-01T00:07:57.121094Z | 256.0 Hz, 122144 samples\n",
      "without ... | 1970-01-01T00:00:00.000000Z - 1970-01-01T00:07:57.121094Z | 256.0 Hz, 122144 samples\n",
      "***************2\n",
      "with ... | 1970-01-01T00:00:00.000000Z - 1970-01-01T00:08:59.531250Z | 256.0 Hz, 138121 samples\n",
      "without ... | 1970-01-01T00:00:00.000000Z - 1970-01-01T00:08:59.531250Z | 256.0 Hz, 138121 samples\n",
      "***************3\n",
      "with ... | 1970-01-01T00:00:00.000000Z - 1970-01-01T00:08:45.871094Z | 256.0 Hz, 134624 samples\n",
      "without ... | 1970-01-01T00:00:00.000000Z - 1970-01-01T00:08:45.871094Z | 256.0 Hz, 134624 samples\n",
      "***************4\n",
      "with ... | 1970-01-01T00:00:00.000000Z - 1970-01-01T00:07:55.304688Z | 256.0 Hz, 121679 samples\n",
      "without ... | 1970-01-01T00:00:00.000000Z - 1970-01-01T00:07:55.304688Z | 256.0 Hz, 121679 samples\n"
     ]
    }
   ],
   "source": [
    "for i in range(5):\n",
    "    print(\"***************{}\".format(i))\n",
    "    print(\"with\", ar_[i][0])\n",
    "    print(\"without\", ar_w[i][0])"
   ]
  },
  {
   "cell_type": "code",
   "execution_count": 37,
   "id": "1f6242ca",
   "metadata": {},
   "outputs": [
    {
     "name": "stdout",
     "output_type": "stream",
     "text": [
      "***************0\n",
      "with ... | 1970-01-01T00:00:00.000000Z - 1970-01-01T00:08:56.488281Z | 256.0 Hz, 137342 samples\n",
      "without ... | 1970-01-01T00:00:00.000000Z - 1970-01-01T00:08:56.488281Z | 256.0 Hz, 137342 samples\n",
      "***************1\n",
      "with ... | 1970-01-01T00:00:00.000000Z - 1970-01-01T00:09:33.109375Z | 256.0 Hz, 146717 samples\n",
      "without ... | 1970-01-01T00:00:00.000000Z - 1970-01-01T00:09:33.109375Z | 256.0 Hz, 146717 samples\n",
      "***************2\n",
      "with ... | 1970-01-01T00:00:00.000000Z - 1970-01-01T00:07:31.902344Z | 256.0 Hz, 115688 samples\n",
      "without ... | 1970-01-01T00:00:00.000000Z - 1970-01-01T00:07:31.902344Z | 256.0 Hz, 115688 samples\n"
     ]
    }
   ],
   "source": [
    "for i in range(3):\n",
    "    print(\"***************{}\".format(i))\n",
    "    print(\"with\", ms_[i][0])\n",
    "    print(\"without\", ms_w[i][0])"
   ]
  },
  {
   "cell_type": "code",
   "execution_count": 38,
   "id": "ed64a8eb",
   "metadata": {},
   "outputs": [
    {
     "name": "stdout",
     "output_type": "stream",
     "text": [
      "***************0\n",
      "with ... | 1970-01-01T00:00:00.000000Z - 1970-01-01T00:07:18.679688Z | 256.0 Hz, 112303 samples\n",
      "without ... | 1970-01-01T00:00:00.000000Z - 1970-01-01T00:07:18.679688Z | 256.0 Hz, 112303 samples\n",
      "***************1\n",
      "with ... | 1970-01-01T00:00:00.000000Z - 1970-01-01T00:06:10.062500Z | 256.0 Hz, 94737 samples\n",
      "without ... | 1970-01-01T00:00:00.000000Z - 1970-01-01T00:06:10.062500Z | 256.0 Hz, 94737 samples\n",
      "***************2\n",
      "with ... | 1970-01-01T00:00:00.000000Z - 1970-01-01T00:05:36.863281Z | 256.0 Hz, 86238 samples\n",
      "without ... | 1970-01-01T00:00:00.000000Z - 1970-01-01T00:05:36.863281Z | 256.0 Hz, 86238 samples\n",
      "***************3\n",
      "with ... | 1970-01-01T00:00:00.000000Z - 1970-01-01T00:06:03.011719Z | 256.0 Hz, 92932 samples\n",
      "without ... | 1970-01-01T00:00:00.000000Z - 1970-01-01T00:06:03.011719Z | 256.0 Hz, 92932 samples\n",
      "***************4\n",
      "with ... | 1970-01-01T00:00:00.000000Z - 1970-01-01T00:05:15.605469Z | 256.0 Hz, 80796 samples\n",
      "without ... | 1970-01-01T00:00:00.000000Z - 1970-01-01T00:05:15.605469Z | 256.0 Hz, 80796 samples\n",
      "***************5\n",
      "with ... | 1970-01-01T00:00:00.000000Z - 1970-01-01T00:05:06.742188Z | 256.0 Hz, 78527 samples\n",
      "without ... | 1970-01-01T00:00:00.000000Z - 1970-01-01T00:05:06.742188Z | 256.0 Hz, 78527 samples\n",
      "***************6\n",
      "with ... | 1970-01-01T00:00:00.000000Z - 1970-01-01T00:05:34.824219Z | 256.0 Hz, 85716 samples\n",
      "without ... | 1970-01-01T00:00:00.000000Z - 1970-01-01T00:05:34.824219Z | 256.0 Hz, 85716 samples\n",
      "***************7\n",
      "with ... | 1970-01-01T00:00:00.000000Z - 1970-01-01T00:05:44.816406Z | 256.0 Hz, 88274 samples\n",
      "without ... | 1970-01-01T00:00:00.000000Z - 1970-01-01T00:05:44.816406Z | 256.0 Hz, 88274 samples\n",
      "***************8\n",
      "with ... | 1970-01-01T00:00:00.000000Z - 1970-01-01T00:05:09.382812Z | 256.0 Hz, 79203 samples\n",
      "without ... | 1970-01-01T00:00:00.000000Z - 1970-01-01T00:05:09.382812Z | 256.0 Hz, 79203 samples\n",
      "***************9\n",
      "with ... | 1970-01-01T00:00:00.000000Z - 1970-01-01T00:05:17.289062Z | 256.0 Hz, 81227 samples\n",
      "without ... | 1970-01-01T00:00:00.000000Z - 1970-01-01T00:05:17.289062Z | 256.0 Hz, 81227 samples\n",
      "***************10\n",
      "with ... | 1970-01-01T00:00:00.000000Z - 1970-01-01T00:09:59.757812Z | 256.0 Hz, 153539 samples\n",
      "without ... | 1970-01-01T00:00:00.000000Z - 1970-01-01T00:09:59.757812Z | 256.0 Hz, 153539 samples\n",
      "***************11\n",
      "with ... | 1970-01-01T00:00:00.000000Z - 1970-01-01T00:05:08.324219Z | 256.0 Hz, 78932 samples\n",
      "without ... | 1970-01-01T00:00:00.000000Z - 1970-01-01T00:05:08.324219Z | 256.0 Hz, 78932 samples\n",
      "***************12\n",
      "with ... | 1970-01-01T00:00:00.000000Z - 1970-01-01T00:05:05.828125Z | 256.0 Hz, 78293 samples\n",
      "without ... | 1970-01-01T00:00:00.000000Z - 1970-01-01T00:05:05.828125Z | 256.0 Hz, 78293 samples\n",
      "***************13\n",
      "with ... | 1970-01-01T00:00:00.000000Z - 1970-01-01T00:05:02.531250Z | 256.0 Hz, 77449 samples\n",
      "without ... | 1970-01-01T00:00:00.000000Z - 1970-01-01T00:05:02.531250Z | 256.0 Hz, 77449 samples\n",
      "***************14\n",
      "with ... | 1970-01-01T00:00:00.000000Z - 1970-01-01T00:04:58.808594Z | 256.0 Hz, 76496 samples\n",
      "without ... | 1970-01-01T00:00:00.000000Z - 1970-01-01T00:04:58.808594Z | 256.0 Hz, 76496 samples\n",
      "***************15\n",
      "with ... | 1970-01-01T00:00:00.000000Z - 1970-01-01T00:04:59.621094Z | 256.0 Hz, 76704 samples\n",
      "without ... | 1970-01-01T00:00:00.000000Z - 1970-01-01T00:04:59.621094Z | 256.0 Hz, 76704 samples\n"
     ]
    }
   ],
   "source": [
    "for i in range(16):\n",
    "    print(\"***************{}\".format(i))\n",
    "    print(\"with\", as_[i][0])\n",
    "    print(\"without\", as_w[i][0])"
   ]
  },
  {
   "cell_type": "code",
   "execution_count": null,
   "id": "490bd498",
   "metadata": {},
   "outputs": [],
   "source": []
  },
  {
   "cell_type": "code",
   "execution_count": null,
   "id": "f7c16cc3",
   "metadata": {},
   "outputs": [],
   "source": []
  },
  {
   "cell_type": "code",
   "execution_count": null,
   "id": "0d182002",
   "metadata": {},
   "outputs": [],
   "source": []
  },
  {
   "cell_type": "code",
   "execution_count": 39,
   "id": "d62f3b1d",
   "metadata": {},
   "outputs": [],
   "source": [
    "np.save(dir_path + \"/MR.npy\", dataset1, allow_pickle= True)\n",
    "np.save(dir_path + \"/AR.npy\", dataset2, allow_pickle= True)\n",
    "np.save(dir_path + \"/AS.npy\", dataset3, allow_pickle= True)\n",
    "np.save(dir_path + \"/MS.npy\", dataset4, allow_pickle= True)"
   ]
  },
  {
   "cell_type": "code",
   "execution_count": null,
   "id": "2ae00edc",
   "metadata": {},
   "outputs": [],
   "source": []
  },
  {
   "cell_type": "code",
   "execution_count": null,
   "id": "0a2244a7",
   "metadata": {},
   "outputs": [],
   "source": []
  }
 ],
 "metadata": {
  "kernelspec": {
   "display_name": "Python 3 (ipykernel)",
   "language": "python",
   "name": "python3"
  },
  "language_info": {
   "codemirror_mode": {
    "name": "ipython",
    "version": 3
   },
   "file_extension": ".py",
   "mimetype": "text/x-python",
   "name": "python",
   "nbconvert_exporter": "python",
   "pygments_lexer": "ipython3",
   "version": "3.9.9"
  }
 },
 "nbformat": 4,
 "nbformat_minor": 5
}
