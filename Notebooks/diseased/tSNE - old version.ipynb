{
 "cells": [
  {
   "cell_type": "markdown",
   "id": "a10707b4",
   "metadata": {},
   "source": [
    "## Imports:"
   ]
  },
  {
   "cell_type": "code",
   "execution_count": 1,
   "id": "5b0b2dcc",
   "metadata": {},
   "outputs": [
    {
     "ename": "RuntimeError",
     "evalue": "module compiled against API version 0xe but this version of numpy is 0xd",
     "output_type": "error",
     "traceback": [
      "\u001b[0;31m---------------------------------------------------------------------------\u001b[0m",
      "\u001b[0;31mRuntimeError\u001b[0m                              Traceback (most recent call last)",
      "\u001b[0;31mRuntimeError\u001b[0m: module compiled against API version 0xe but this version of numpy is 0xd"
     ]
    }
   ],
   "source": [
    "import scipy\n",
    "import os\n",
    "import pandas\n",
    "import numpy as np\n",
    "import matplotlib.pyplot as plt\n",
    "import matplotlib.pylab as plt_lab\n",
    "import matplotlib.gridspec as gridspec\n",
    "import obspy\n",
    "import pandas as pd"
   ]
  },
  {
   "cell_type": "code",
   "execution_count": 2,
   "id": "2643959d",
   "metadata": {},
   "outputs": [],
   "source": [
    "import warnings\n",
    "warnings.filterwarnings('ignore')"
   ]
  },
  {
   "cell_type": "markdown",
   "id": "41b4c77f",
   "metadata": {},
   "source": [
    "## Load data:\n",
    "We are going to use this data to plot spectograms of SCG signals. "
   ]
  },
  {
   "cell_type": "code",
   "execution_count": 3,
   "id": "75a415fd",
   "metadata": {},
   "outputs": [],
   "source": [
    "dir_path = \"/Users/ecem/Documents/GitHub/seismocardiogram/data/diseased-dataset/Raw_Recordings\""
   ]
  },
  {
   "cell_type": "code",
   "execution_count": 4,
   "id": "cff5b561",
   "metadata": {},
   "outputs": [],
   "source": [
    "ms_ = np.load(dir_path + \"/ms.npy\", allow_pickle= True)\n",
    "mr_ = np.load(dir_path + \"/mr.npy\", allow_pickle= True)\n",
    "as_ = np.load(dir_path + \"/as.npy\", allow_pickle= True)\n",
    "ar_ = np.load(dir_path + \"/ar.npy\", allow_pickle= True)"
   ]
  },
  {
   "cell_type": "code",
   "execution_count": 5,
   "id": "b1036d99",
   "metadata": {},
   "outputs": [
    {
     "data": {
      "text/plain": [
       "array([<obspy.core.trace.Trace object at 0x1042adc10>,\n",
       "       <obspy.core.trace.Trace object at 0x12e660790>,\n",
       "       <obspy.core.trace.Trace object at 0x12e671d00>], dtype=object)"
      ]
     },
     "execution_count": 5,
     "metadata": {},
     "output_type": "execute_result"
    }
   ],
   "source": [
    "ms_[0]"
   ]
  },
  {
   "cell_type": "code",
   "execution_count": 6,
   "id": "10702751",
   "metadata": {},
   "outputs": [
    {
     "data": {
      "text/plain": [
       "         network: \n",
       "         station: \n",
       "        location: \n",
       "         channel: \n",
       "       starttime: 1970-01-01T00:00:00.000000Z\n",
       "         endtime: 1970-01-01T00:08:56.488281Z\n",
       "   sampling_rate: 256.0\n",
       "           delta: 0.00390625\n",
       "            npts: 137342\n",
       "           calib: 1.0\n",
       "      processing: [\"ObsPy 1.3.0: detrend(options={}::type='linear')\", \"ObsPy 1.3.0: taper(max_length=None::max_percentage=0.05::side='both'::type='hann')\"]"
      ]
     },
     "execution_count": 6,
     "metadata": {},
     "output_type": "execute_result"
    }
   ],
   "source": [
    "ms_[0][0].stats"
   ]
  },
  {
   "cell_type": "markdown",
   "id": "3b1583ff",
   "metadata": {},
   "source": [
    "## Trim "
   ]
  },
  {
   "cell_type": "code",
   "execution_count": 7,
   "id": "a76c2b34",
   "metadata": {},
   "outputs": [
    {
     "name": "stdout",
     "output_type": "stream",
     "text": [
      "115688\n",
      "146717\n"
     ]
    }
   ],
   "source": [
    "npts = []\n",
    "for i in range(len(ms_)):\n",
    "    npts.append(ms_[i][0].stats.npts)\n",
    "\n",
    "    \n",
    "print(min(npts))\n",
    "print(max(npts))"
   ]
  },
  {
   "cell_type": "code",
   "execution_count": 8,
   "id": "0f90b682",
   "metadata": {},
   "outputs": [
    {
     "name": "stdout",
     "output_type": "stream",
     "text": [
      "107091\n",
      "153064\n"
     ]
    }
   ],
   "source": [
    "npts = []\n",
    "for i in range(len(mr_)):\n",
    "    npts.append(mr_[i][0].stats.npts)\n",
    "    \n",
    "print(min(npts))\n",
    "print(max(npts))"
   ]
  },
  {
   "cell_type": "code",
   "execution_count": 9,
   "id": "dfbfb493",
   "metadata": {},
   "outputs": [
    {
     "name": "stdout",
     "output_type": "stream",
     "text": [
      "78527\n",
      "307078\n"
     ]
    }
   ],
   "source": [
    "npts = []\n",
    "for i in range(len(as_)):\n",
    "    npts.append(as_[i][0].stats.npts)\n",
    "    \n",
    "print(min(npts))\n",
    "print(max(npts))"
   ]
  },
  {
   "cell_type": "code",
   "execution_count": 10,
   "id": "15f1f433",
   "metadata": {},
   "outputs": [
    {
     "name": "stdout",
     "output_type": "stream",
     "text": [
      "121679\n",
      "159196\n"
     ]
    }
   ],
   "source": [
    "npts = []\n",
    "for i in range(len(ar_)):\n",
    "    npts.append(ar_[i][0].stats.npts)\n",
    "    \n",
    "print(min(npts))\n",
    "print(max(npts))"
   ]
  },
  {
   "cell_type": "code",
   "execution_count": 11,
   "id": "f97f85e6",
   "metadata": {},
   "outputs": [],
   "source": [
    "for i in range(len(ms_)):\n",
    "    ms_[i][0] = ms_[i][0].trim(ms_[i][0].stats.starttime , \n",
    "                          ms_[i][0].stats.starttime + 3000 * ms_[i][0].stats.delta)\n",
    "    ms_[i][1] = ms_[i][1].trim(ms_[i][1].stats.starttime , \n",
    "                          ms_[i][1].stats.starttime + 3000 * ms_[i][0].stats.delta)\n",
    "    ms_[i][2] = ms_[i][2].trim(ms_[i][2].stats.starttime , \n",
    "                          ms_[i][2].stats.starttime + 3000 * ms_[i][0].stats.delta)"
   ]
  },
  {
   "cell_type": "code",
   "execution_count": 12,
   "id": "e01416a1",
   "metadata": {},
   "outputs": [],
   "source": [
    "for i in range(len(mr_)):\n",
    "    mr_[i][0] = mr_[i][0].trim(mr_[i][0].stats.starttime , \n",
    "                          mr_[i][0].stats.starttime + 3000 * mr_[i][0].stats.delta)\n",
    "    mr_[i][1] = mr_[i][1].trim(mr_[i][1].stats.starttime , \n",
    "                          mr_[i][1].stats.starttime + 3000 * mr_[i][0].stats.delta)\n",
    "    mr_[i][2]  = mr_[i][2].trim(mr_[i][2].stats.starttime , \n",
    "                          mr_[i][2].stats.starttime + 3000 * mr_[i][0].stats.delta)\n",
    "    "
   ]
  },
  {
   "cell_type": "code",
   "execution_count": 13,
   "id": "208fd905",
   "metadata": {},
   "outputs": [],
   "source": [
    "for i in range(len(as_)):\n",
    "    as_[i][0] = as_[i][0].trim(as_[i][0].stats.starttime , \n",
    "                          as_[i][0].stats.starttime + 3000 * as_[i][0].stats.delta)\n",
    "    as_[i][1] = as_[i][1].trim(as_[i][1].stats.starttime , \n",
    "                          as_[i][1].stats.starttime + 3000 * as_[i][0].stats.delta)\n",
    "    as_[i][2] = as_[i][2].trim(as_[i][2].stats.starttime , \n",
    "                          as_[i][2].stats.starttime + 3000 * as_[i][0].stats.delta)"
   ]
  },
  {
   "cell_type": "code",
   "execution_count": 14,
   "id": "3e025f40",
   "metadata": {},
   "outputs": [],
   "source": [
    "for i in range(len(ar_)):    \n",
    "    ar_[i][0] = ar_[i][0].trim(as_[i][0].stats.starttime , \n",
    "                          as_[i][0].stats.starttime + 3000 * ar_[i][0].stats.delta)\n",
    "    ar_[i][1] = ar_[i][1].trim(as_[i][1].stats.starttime , \n",
    "                          as_[i][1].stats.starttime + 3000 * ar_[i][0].stats.delta)\n",
    "    ar_[i][2]  = ar_[i][2].trim(as_[i][2].stats.starttime , \n",
    "                          as_[i][2].stats.starttime + 3000 * ar_[i][0].stats.delta)"
   ]
  },
  {
   "cell_type": "markdown",
   "id": "8df87e77",
   "metadata": {},
   "source": [
    "## comparison of two dataset:\n",
    "\n",
    "Now we will to try visualize spectograms. So far we have used Obspy to visualize SCG signals. However, with obspy we are not able to plot spectograms side by side. This is important for us because we want to see spectograms of x,y and z components simultaneously for both healty and diseased people. So, from now on I will refer to those plots, for 3 components of healty and diseased (in total six plot, as \"PAIR\").\n",
    "\n",
    "\n",
    "I have mentioned that Obpsy has a problem in side by side plotting. So I changed it's source code. \n",
    "\n",
    "Thats why from now on we are going to use **output_spectogram** function to get the coefficients needed to plot spectogram."
   ]
  },
  {
   "cell_type": "markdown",
   "id": "0e61264a",
   "metadata": {},
   "source": [
    "These are the imports needed for output_spectogram function to work."
   ]
  },
  {
   "cell_type": "code",
   "execution_count": 15,
   "id": "d37506c8",
   "metadata": {},
   "outputs": [],
   "source": [
    "from obspy.imaging.cm import obspy_sequential\n",
    "import math\n",
    "from matplotlib import mlab\n",
    "from matplotlib.colors import Normalize"
   ]
  },
  {
   "cell_type": "code",
   "execution_count": 16,
   "id": "7422b887",
   "metadata": {},
   "outputs": [],
   "source": [
    "def _nearest_pow_2(x):\n",
    "    a = math.pow(2, math.ceil(np.log2(x)))\n",
    "    b = math.pow(2, math.floor(np.log2(x)))\n",
    "    if abs(a - x) < abs(b - x):\n",
    "        return a\n",
    "    else:\n",
    "        return b"
   ]
  },
  {
   "cell_type": "code",
   "execution_count": 17,
   "id": "abafe36e",
   "metadata": {},
   "outputs": [],
   "source": [
    "def output_spectrogram(data, samp_rate, per_lap=0.9, wlen=None, log=False,\n",
    "                outfile=None, fmt=None, axes=None, dbscale=False,\n",
    "                mult=8.0, cmap=obspy_sequential, zorder=None, title=None,\n",
    "                show=True, clip=[0.0, 1.0]):\n",
    " \n",
    "    import matplotlib.pyplot as plt\n",
    "    \n",
    "    # enforce float for samp_rate\n",
    "    samp_rate = float(samp_rate)\n",
    "\n",
    "    # set wlen from samp_rate if not specified otherwise\n",
    "    if not wlen:\n",
    "        wlen = samp_rate / 100.\n",
    "\n",
    "    npts = len(data)\n",
    "    # nfft needs to be an integer, otherwise a deprecation will be raised\n",
    "    # XXX add condition for too many windows => calculation takes for ever\n",
    "    nfft = int(_nearest_pow_2(wlen * samp_rate))\n",
    "    if nfft > npts:\n",
    "        nfft = int(_nearest_pow_2(npts / 8.0))\n",
    "\n",
    "    if mult is not None:\n",
    "        mult = int(_nearest_pow_2(mult))\n",
    "        mult = mult * nfft\n",
    "    nlap = int(nfft * float(per_lap))\n",
    "\n",
    "    data = data - data.mean()\n",
    "    end = npts / samp_rate\n",
    "\n",
    "    # Here we call not plt.specgram as this already produces a plot\n",
    "    # matplotlib.mlab.specgram should be faster as it computes only the\n",
    "    # arrays\n",
    "    # XXX mlab.specgram uses fft, would be better and faster use rfft\n",
    "    specgram, freq, time = mlab.specgram(data, Fs=samp_rate, NFFT=nfft,\n",
    "                                         pad_to=mult, noverlap=nlap)\n",
    "    # db scale and remove zero/offset for amplitude\n",
    "    if dbscale:\n",
    "        specgram = 10 * np.log10(specgram[1:, :])\n",
    "    else:\n",
    "        specgram = np.sqrt(specgram[1:, :])\n",
    "    freq = freq[1:]\n",
    "    \n",
    "    vmin, vmax = clip\n",
    "    if vmin < 0 or vmax > 1 or vmin >= vmax:\n",
    "        msg = \"Invalid parameters for clip option.\"\n",
    "        raise ValueError(msg)\n",
    "    _range = float(specgram.max() - specgram.min())\n",
    "    vmin = specgram.min() + vmin * _range\n",
    "    vmax = specgram.min() + vmax * _range\n",
    "    norm = Normalize(vmin, vmax, clip=True)\n",
    "\n",
    "    # calculate half bin width\n",
    "    halfbin_time = (time[1] - time[0]) / 2.0\n",
    "    halfbin_freq = (freq[1] - freq[0]) / 2.0\n",
    "\n",
    "    # argument None is not allowed for kwargs on matplotlib python 3.3\n",
    "    kwargs = {k: v for k, v in (('cmap', cmap), ('zorder', zorder))\n",
    "              if v is not None}\n",
    "\n",
    "    if log:\n",
    "        # pcolor expects one bin more at the right end\n",
    "        freq = np.concatenate((freq, [freq[-1] + 2 * halfbin_freq]))\n",
    "        time = np.concatenate((time, [time[-1] + 2 * halfbin_time]))\n",
    "        # center bin\n",
    "        time -= halfbin_time\n",
    "        freq -= halfbin_freq\n",
    "        # Log scaling for frequency values (y-axis)\n",
    "        ax.set_yscale('log')\n",
    "        # Plot times\n",
    "        ax.pcolormesh(time, freq, specgram, norm=norm, **kwargs)\n",
    "    else:\n",
    "        # this method is much much faster!\n",
    "        specgram = np.flipud(specgram)\n",
    "        # center bin\n",
    "        extent = (time[0] - halfbin_time, time[-1] + halfbin_time,\n",
    "                  freq[0] - halfbin_freq, freq[-1] + halfbin_freq)\n",
    "    return [specgram, extent, end]\n",
    "\n",
    "    \n",
    "\n"
   ]
  },
  {
   "cell_type": "markdown",
   "id": "5111f9fa",
   "metadata": {},
   "source": [
    "specgram : array-like\n",
    "\n",
    "\n",
    "        2D array, columns are the periodograms of successive segments."
   ]
  },
  {
   "cell_type": "code",
   "execution_count": 18,
   "id": "105ce0ec",
   "metadata": {},
   "outputs": [],
   "source": [
    "import scipy.signal"
   ]
  },
  {
   "cell_type": "code",
   "execution_count": 19,
   "id": "f781aa38",
   "metadata": {
    "scrolled": true
   },
   "outputs": [
    {
     "name": "stdout",
     "output_type": "stream",
     "text": [
      "(8192, 5)\n",
      "(8192, 5)\n",
      "(8192, 5)\n"
     ]
    }
   ],
   "source": [
    "for i in range(len(ms_)):\n",
    "    print( output_spectrogram(ms_[i][0].data, ms_[i][0].stats.sampling_rate, wlen=10)[0].shape)"
   ]
  },
  {
   "cell_type": "code",
   "execution_count": 20,
   "id": "45c09f19",
   "metadata": {},
   "outputs": [
    {
     "name": "stdout",
     "output_type": "stream",
     "text": [
      "(8192, 5)\n",
      "(8192, 5)\n",
      "(8192, 5)\n",
      "(8192, 5)\n",
      "(8192, 5)\n",
      "(8192, 5)\n",
      "(8192, 5)\n",
      "(8192, 5)\n",
      "(8192, 5)\n",
      "(8192, 5)\n",
      "(8192, 5)\n",
      "(8192, 5)\n",
      "(8192, 5)\n"
     ]
    }
   ],
   "source": [
    "for i in range(len(mr_)):\n",
    "    print( output_spectrogram(mr_[i][0].data, mr_[i][0].stats.sampling_rate, wlen=10)[0].shape)"
   ]
  },
  {
   "cell_type": "code",
   "execution_count": 21,
   "id": "ba08aee4",
   "metadata": {},
   "outputs": [
    {
     "name": "stdout",
     "output_type": "stream",
     "text": [
      "(8192, 5)\n",
      "(8192, 5)\n",
      "(8192, 5)\n",
      "(8192, 5)\n",
      "(8192, 5)\n",
      "(8192, 5)\n",
      "(8192, 5)\n",
      "(8192, 5)\n",
      "(8192, 5)\n",
      "(8192, 5)\n",
      "(1024, 106)\n",
      "(1024, 106)\n",
      "(1024, 106)\n",
      "(1024, 106)\n",
      "(1024, 106)\n",
      "(1024, 106)\n"
     ]
    }
   ],
   "source": [
    "for i in range(len(as_)):\n",
    "    print( output_spectrogram(as_[i][0].data, as_[i][0].stats.sampling_rate, wlen=10)[0].shape)"
   ]
  },
  {
   "cell_type": "code",
   "execution_count": 22,
   "id": "4bf2647d",
   "metadata": {},
   "outputs": [
    {
     "name": "stdout",
     "output_type": "stream",
     "text": [
      "(8192, 5)\n",
      "(8192, 5)\n",
      "(8192, 5)\n",
      "(8192, 5)\n",
      "(8192, 5)\n"
     ]
    }
   ],
   "source": [
    "for i in range(len(ar_)):\n",
    "    print( output_spectrogram(ar_[i][0].data, ar_[i][0].stats.sampling_rate, wlen=10)[0].shape)"
   ]
  },
  {
   "cell_type": "code",
   "execution_count": 23,
   "id": "6f154459",
   "metadata": {},
   "outputs": [],
   "source": [
    "from sklearn.manifold import TSNE"
   ]
  },
  {
   "cell_type": "code",
   "execution_count": 24,
   "id": "7c9b734f",
   "metadata": {},
   "outputs": [],
   "source": [
    "tsne = TSNE(random_state =42, perplexity = 30, init = \"pca\", learning_rate = 50, n_iter = 5000)"
   ]
  },
  {
   "cell_type": "code",
   "execution_count": 25,
   "id": "39daec76",
   "metadata": {},
   "outputs": [],
   "source": [
    "x = []\n",
    "for i in range(len(ms_)):\n",
    "    x.append(output_spectrogram(ms_[i][0].data, ms_[i][0].stats.sampling_rate, wlen=10)[0])\n",
    "#x (100,128,50)"
   ]
  },
  {
   "cell_type": "code",
   "execution_count": 26,
   "id": "069212a7",
   "metadata": {},
   "outputs": [
    {
     "data": {
      "text/plain": [
       "(3, 8192, 5)"
      ]
     },
     "execution_count": 26,
     "metadata": {},
     "output_type": "execute_result"
    }
   ],
   "source": [
    "x = np.array(x)\n",
    "x.shape"
   ]
  },
  {
   "cell_type": "code",
   "execution_count": 27,
   "id": "36f7870f",
   "metadata": {},
   "outputs": [
    {
     "ename": "KeyboardInterrupt",
     "evalue": "",
     "output_type": "error",
     "traceback": [
      "\u001b[0;31m---------------------------------------------------------------------------\u001b[0m",
      "\u001b[0;31mKeyboardInterrupt\u001b[0m                         Traceback (most recent call last)",
      "\u001b[0;32m/var/folders/gd/3d6ckpdn4q30skhxnvs_p7b80000gn/T/ipykernel_16471/3881265738.py\u001b[0m in \u001b[0;36m<module>\u001b[0;34m\u001b[0m\n\u001b[1;32m      1\u001b[0m \u001b[0mt\u001b[0m \u001b[0;34m=\u001b[0m \u001b[0;34m[\u001b[0m\u001b[0;34m]\u001b[0m\u001b[0;34m\u001b[0m\u001b[0;34m\u001b[0m\u001b[0m\n\u001b[1;32m      2\u001b[0m \u001b[0;32mfor\u001b[0m \u001b[0mi\u001b[0m \u001b[0;32min\u001b[0m \u001b[0mrange\u001b[0m\u001b[0;34m(\u001b[0m\u001b[0mlen\u001b[0m\u001b[0;34m(\u001b[0m\u001b[0mms_\u001b[0m\u001b[0;34m)\u001b[0m\u001b[0;34m)\u001b[0m\u001b[0;34m:\u001b[0m\u001b[0;34m\u001b[0m\u001b[0;34m\u001b[0m\u001b[0m\n\u001b[0;32m----> 3\u001b[0;31m     \u001b[0mt\u001b[0m\u001b[0;34m.\u001b[0m\u001b[0mappend\u001b[0m\u001b[0;34m(\u001b[0m\u001b[0mtsne\u001b[0m\u001b[0;34m.\u001b[0m\u001b[0mfit_transform\u001b[0m\u001b[0;34m(\u001b[0m\u001b[0mx\u001b[0m\u001b[0;34m[\u001b[0m\u001b[0mi\u001b[0m\u001b[0;34m]\u001b[0m\u001b[0;34m)\u001b[0m\u001b[0;34m)\u001b[0m\u001b[0;34m\u001b[0m\u001b[0;34m\u001b[0m\u001b[0m\n\u001b[0m",
      "\u001b[0;32m~/miniforge3/envs/tf-metal/lib/python3.9/site-packages/sklearn/manifold/_t_sne.py\u001b[0m in \u001b[0;36mfit_transform\u001b[0;34m(self, X, y)\u001b[0m\n\u001b[1;32m   1115\u001b[0m             \u001b[0mEmbedding\u001b[0m \u001b[0mof\u001b[0m \u001b[0mthe\u001b[0m \u001b[0mtraining\u001b[0m \u001b[0mdata\u001b[0m \u001b[0;32min\u001b[0m \u001b[0mlow\u001b[0m\u001b[0;34m-\u001b[0m\u001b[0mdimensional\u001b[0m \u001b[0mspace\u001b[0m\u001b[0;34m.\u001b[0m\u001b[0;34m\u001b[0m\u001b[0;34m\u001b[0m\u001b[0m\n\u001b[1;32m   1116\u001b[0m         \"\"\"\n\u001b[0;32m-> 1117\u001b[0;31m         \u001b[0membedding\u001b[0m \u001b[0;34m=\u001b[0m \u001b[0mself\u001b[0m\u001b[0;34m.\u001b[0m\u001b[0m_fit\u001b[0m\u001b[0;34m(\u001b[0m\u001b[0mX\u001b[0m\u001b[0;34m)\u001b[0m\u001b[0;34m\u001b[0m\u001b[0;34m\u001b[0m\u001b[0m\n\u001b[0m\u001b[1;32m   1118\u001b[0m         \u001b[0mself\u001b[0m\u001b[0;34m.\u001b[0m\u001b[0membedding_\u001b[0m \u001b[0;34m=\u001b[0m \u001b[0membedding\u001b[0m\u001b[0;34m\u001b[0m\u001b[0;34m\u001b[0m\u001b[0m\n\u001b[1;32m   1119\u001b[0m         \u001b[0;32mreturn\u001b[0m \u001b[0mself\u001b[0m\u001b[0;34m.\u001b[0m\u001b[0membedding_\u001b[0m\u001b[0;34m\u001b[0m\u001b[0;34m\u001b[0m\u001b[0m\n",
      "\u001b[0;32m~/miniforge3/envs/tf-metal/lib/python3.9/site-packages/sklearn/manifold/_t_sne.py\u001b[0m in \u001b[0;36m_fit\u001b[0;34m(self, X, skip_num_points)\u001b[0m\n\u001b[1;32m   1011\u001b[0m         \u001b[0mdegrees_of_freedom\u001b[0m \u001b[0;34m=\u001b[0m \u001b[0mmax\u001b[0m\u001b[0;34m(\u001b[0m\u001b[0mself\u001b[0m\u001b[0;34m.\u001b[0m\u001b[0mn_components\u001b[0m \u001b[0;34m-\u001b[0m \u001b[0;36m1\u001b[0m\u001b[0;34m,\u001b[0m \u001b[0;36m1\u001b[0m\u001b[0;34m)\u001b[0m\u001b[0;34m\u001b[0m\u001b[0;34m\u001b[0m\u001b[0m\n\u001b[1;32m   1012\u001b[0m \u001b[0;34m\u001b[0m\u001b[0m\n\u001b[0;32m-> 1013\u001b[0;31m         return self._tsne(\n\u001b[0m\u001b[1;32m   1014\u001b[0m             \u001b[0mP\u001b[0m\u001b[0;34m,\u001b[0m\u001b[0;34m\u001b[0m\u001b[0;34m\u001b[0m\u001b[0m\n\u001b[1;32m   1015\u001b[0m             \u001b[0mdegrees_of_freedom\u001b[0m\u001b[0;34m,\u001b[0m\u001b[0;34m\u001b[0m\u001b[0;34m\u001b[0m\u001b[0m\n",
      "\u001b[0;32m~/miniforge3/envs/tf-metal/lib/python3.9/site-packages/sklearn/manifold/_t_sne.py\u001b[0m in \u001b[0;36m_tsne\u001b[0;34m(self, P, degrees_of_freedom, n_samples, X_embedded, neighbors, skip_num_points)\u001b[0m\n\u001b[1;32m   1063\u001b[0m         \u001b[0;31m# higher learning rate controlled via the early exaggeration parameter\u001b[0m\u001b[0;34m\u001b[0m\u001b[0;34m\u001b[0m\u001b[0m\n\u001b[1;32m   1064\u001b[0m         \u001b[0mP\u001b[0m \u001b[0;34m*=\u001b[0m \u001b[0mself\u001b[0m\u001b[0;34m.\u001b[0m\u001b[0mearly_exaggeration\u001b[0m\u001b[0;34m\u001b[0m\u001b[0;34m\u001b[0m\u001b[0m\n\u001b[0;32m-> 1065\u001b[0;31m         \u001b[0mparams\u001b[0m\u001b[0;34m,\u001b[0m \u001b[0mkl_divergence\u001b[0m\u001b[0;34m,\u001b[0m \u001b[0mit\u001b[0m \u001b[0;34m=\u001b[0m \u001b[0m_gradient_descent\u001b[0m\u001b[0;34m(\u001b[0m\u001b[0mobj_func\u001b[0m\u001b[0;34m,\u001b[0m \u001b[0mparams\u001b[0m\u001b[0;34m,\u001b[0m \u001b[0;34m**\u001b[0m\u001b[0mopt_args\u001b[0m\u001b[0;34m)\u001b[0m\u001b[0;34m\u001b[0m\u001b[0;34m\u001b[0m\u001b[0m\n\u001b[0m\u001b[1;32m   1066\u001b[0m         \u001b[0;32mif\u001b[0m \u001b[0mself\u001b[0m\u001b[0;34m.\u001b[0m\u001b[0mverbose\u001b[0m\u001b[0;34m:\u001b[0m\u001b[0;34m\u001b[0m\u001b[0;34m\u001b[0m\u001b[0m\n\u001b[1;32m   1067\u001b[0m             print(\n",
      "\u001b[0;32m~/miniforge3/envs/tf-metal/lib/python3.9/site-packages/sklearn/manifold/_t_sne.py\u001b[0m in \u001b[0;36m_gradient_descent\u001b[0;34m(objective, p0, it, n_iter, n_iter_check, n_iter_without_progress, momentum, learning_rate, min_gain, min_grad_norm, verbose, args, kwargs)\u001b[0m\n\u001b[1;32m    396\u001b[0m         \u001b[0mkwargs\u001b[0m\u001b[0;34m[\u001b[0m\u001b[0;34m\"compute_error\"\u001b[0m\u001b[0;34m]\u001b[0m \u001b[0;34m=\u001b[0m \u001b[0mcheck_convergence\u001b[0m \u001b[0;32mor\u001b[0m \u001b[0mi\u001b[0m \u001b[0;34m==\u001b[0m \u001b[0mn_iter\u001b[0m \u001b[0;34m-\u001b[0m \u001b[0;36m1\u001b[0m\u001b[0;34m\u001b[0m\u001b[0;34m\u001b[0m\u001b[0m\n\u001b[1;32m    397\u001b[0m \u001b[0;34m\u001b[0m\u001b[0m\n\u001b[0;32m--> 398\u001b[0;31m         \u001b[0merror\u001b[0m\u001b[0;34m,\u001b[0m \u001b[0mgrad\u001b[0m \u001b[0;34m=\u001b[0m \u001b[0mobjective\u001b[0m\u001b[0;34m(\u001b[0m\u001b[0mp\u001b[0m\u001b[0;34m,\u001b[0m \u001b[0;34m*\u001b[0m\u001b[0margs\u001b[0m\u001b[0;34m,\u001b[0m \u001b[0;34m**\u001b[0m\u001b[0mkwargs\u001b[0m\u001b[0;34m)\u001b[0m\u001b[0;34m\u001b[0m\u001b[0;34m\u001b[0m\u001b[0m\n\u001b[0m\u001b[1;32m    399\u001b[0m         \u001b[0mgrad_norm\u001b[0m \u001b[0;34m=\u001b[0m \u001b[0mlinalg\u001b[0m\u001b[0;34m.\u001b[0m\u001b[0mnorm\u001b[0m\u001b[0;34m(\u001b[0m\u001b[0mgrad\u001b[0m\u001b[0;34m)\u001b[0m\u001b[0;34m\u001b[0m\u001b[0;34m\u001b[0m\u001b[0m\n\u001b[1;32m    400\u001b[0m \u001b[0;34m\u001b[0m\u001b[0m\n",
      "\u001b[0;32m~/miniforge3/envs/tf-metal/lib/python3.9/site-packages/sklearn/manifold/_t_sne.py\u001b[0m in \u001b[0;36m_kl_divergence_bh\u001b[0;34m(params, P, degrees_of_freedom, n_samples, n_components, angle, skip_num_points, verbose, compute_error, num_threads)\u001b[0m\n\u001b[1;32m    277\u001b[0m \u001b[0;34m\u001b[0m\u001b[0m\n\u001b[1;32m    278\u001b[0m     \u001b[0mgrad\u001b[0m \u001b[0;34m=\u001b[0m \u001b[0mnp\u001b[0m\u001b[0;34m.\u001b[0m\u001b[0mzeros\u001b[0m\u001b[0;34m(\u001b[0m\u001b[0mX_embedded\u001b[0m\u001b[0;34m.\u001b[0m\u001b[0mshape\u001b[0m\u001b[0;34m,\u001b[0m \u001b[0mdtype\u001b[0m\u001b[0;34m=\u001b[0m\u001b[0mnp\u001b[0m\u001b[0;34m.\u001b[0m\u001b[0mfloat32\u001b[0m\u001b[0;34m)\u001b[0m\u001b[0;34m\u001b[0m\u001b[0;34m\u001b[0m\u001b[0m\n\u001b[0;32m--> 279\u001b[0;31m     error = _barnes_hut_tsne.gradient(\n\u001b[0m\u001b[1;32m    280\u001b[0m         \u001b[0mval_P\u001b[0m\u001b[0;34m,\u001b[0m\u001b[0;34m\u001b[0m\u001b[0;34m\u001b[0m\u001b[0m\n\u001b[1;32m    281\u001b[0m         \u001b[0mX_embedded\u001b[0m\u001b[0;34m,\u001b[0m\u001b[0;34m\u001b[0m\u001b[0;34m\u001b[0m\u001b[0m\n",
      "\u001b[0;31mKeyboardInterrupt\u001b[0m: "
     ]
    }
   ],
   "source": [
    "t = []\n",
    "for i in range(len(ms_)):\n",
    "    t.append(tsne.fit_transform(x[i]))"
   ]
  },
  {
   "cell_type": "code",
   "execution_count": null,
   "id": "d7b8eb4a",
   "metadata": {},
   "outputs": [],
   "source": [
    "t = np.array(t)\n",
    "f = plt.figure(figsize=(8, 8))\n",
    "for i in range(len(ms_)):\n",
    "    ax = plt.subplot()\n",
    "    sc = ax.scatter(t[i][:,0], t[i][:,1])\n",
    "\n",
    "        \n",
    "plt.show()"
   ]
  },
  {
   "cell_type": "code",
   "execution_count": null,
   "id": "0e3e9593",
   "metadata": {},
   "outputs": [],
   "source": []
  },
  {
   "cell_type": "code",
   "execution_count": null,
   "id": "33f7470c",
   "metadata": {},
   "outputs": [],
   "source": []
  },
  {
   "cell_type": "code",
   "execution_count": null,
   "id": "0b81e867",
   "metadata": {},
   "outputs": [],
   "source": []
  },
  {
   "cell_type": "code",
   "execution_count": null,
   "id": "81d5d505",
   "metadata": {},
   "outputs": [],
   "source": []
  },
  {
   "cell_type": "code",
   "execution_count": null,
   "id": "ad398b1f",
   "metadata": {},
   "outputs": [],
   "source": []
  }
 ],
 "metadata": {
  "kernelspec": {
   "display_name": "Python 3 (ipykernel)",
   "language": "python",
   "name": "python3"
  },
  "language_info": {
   "codemirror_mode": {
    "name": "ipython",
    "version": 3
   },
   "file_extension": ".py",
   "mimetype": "text/x-python",
   "name": "python",
   "nbconvert_exporter": "python",
   "pygments_lexer": "ipython3",
   "version": "3.9.9"
  }
 },
 "nbformat": 4,
 "nbformat_minor": 5
}
