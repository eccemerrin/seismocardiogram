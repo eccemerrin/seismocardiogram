{
 "cells": [
  {
   "cell_type": "markdown",
   "id": "a10707b4",
   "metadata": {},
   "source": [
    "## Imports:"
   ]
  },
  {
   "cell_type": "code",
   "execution_count": 1,
   "id": "5b0b2dcc",
   "metadata": {},
   "outputs": [
    {
     "ename": "RuntimeError",
     "evalue": "module compiled against API version 0xe but this version of numpy is 0xd",
     "output_type": "error",
     "traceback": [
      "\u001b[0;31m---------------------------------------------------------------------------\u001b[0m",
      "\u001b[0;31mRuntimeError\u001b[0m                              Traceback (most recent call last)",
      "\u001b[0;31mRuntimeError\u001b[0m: module compiled against API version 0xe but this version of numpy is 0xd"
     ]
    }
   ],
   "source": [
    "import scipy.io\n",
    "import os\n",
    "import pandas\n",
    "import numpy as np\n",
    "import matplotlib.pyplot as plt\n",
    "import matplotlib.pylab as plt_lab\n",
    "import matplotlib.gridspec as gridspec\n",
    "import obspy\n",
    "import pandas as pd"
   ]
  },
  {
   "cell_type": "code",
   "execution_count": 2,
   "id": "995724bf",
   "metadata": {},
   "outputs": [],
   "source": [
    "import warnings\n",
    "warnings.filterwarnings('ignore')"
   ]
  },
  {
   "cell_type": "markdown",
   "id": "41b4c77f",
   "metadata": {},
   "source": [
    "## Load data:\n",
    "We are going to use this data to plot spectograms of SCG signals. "
   ]
  },
  {
   "cell_type": "code",
   "execution_count": 3,
   "id": "75a415fd",
   "metadata": {},
   "outputs": [],
   "source": [
    "dir_path = \"/Users/ecem/Documents/GitHub/seismocardiogram/data/diseased-dataset/Raw_Recordings\"\n",
    "csv_path = \"/Users/ecem/Desktop/csv of scgs\""
   ]
  },
  {
   "cell_type": "code",
   "execution_count": 4,
   "id": "71ee7502",
   "metadata": {},
   "outputs": [],
   "source": [
    "df = pd.read_csv((csv_path + \"/all-diseases-as-binary.csv\"), index_col = 0)"
   ]
  },
  {
   "cell_type": "code",
   "execution_count": 5,
   "id": "530c5f28",
   "metadata": {},
   "outputs": [],
   "source": [
    "list_ = [44,\n",
    "55,\n",
    "55,\n",
    "43,\n",
    "37,\n",
    "37,\n",
    "49,\n",
    "49,\n",
    "49,\n",
    "49,\n",
    "58,\n",
    "43,\n",
    "43,\n",
    "49,\n",
    "50,\n",
    "47,\n",
    "53,\n",
    "44,\n",
    "44,\n",
    "55,\n",
    "40,\n",
    "42,\n",
    "43,\n",
    "48,\n",
    "46,\n",
    "41,\n",
    "39,\n",
    "37,\n",
    "38,\n",
    "57,\n",
    "41,\n",
    "42,\n",
    "43,\n",
    "41,\n",
    "45,\n",
    "41,\n",
    "43,\n",
    "46,\n",
    "43,\n",
    "33,\n",
    "29,\n",
    "32,\n",
    "27,\n",
    "26,\n",
    "26,\n",
    "27,\n",
    "27,\n",
    "29,\n",
    "29,\n",
    "30,\n",
    "27,\n",
    "27,\n",
    "43,\n",
    "56,\n",
    "26,\n",
    "26,\n",
    "26,\n",
    "26,\n",
    "25,\n",
    "26]"
   ]
  },
  {
   "cell_type": "code",
   "execution_count": 6,
   "id": "be105ef8",
   "metadata": {},
   "outputs": [
    {
     "data": {
      "text/plain": [
       "60"
      ]
     },
     "execution_count": 6,
     "metadata": {},
     "output_type": "execute_result"
    }
   ],
   "source": [
    "len(list_)"
   ]
  },
  {
   "cell_type": "code",
   "execution_count": 7,
   "id": "70ec6a6e",
   "metadata": {},
   "outputs": [
    {
     "data": {
      "text/plain": [
       "2392"
      ]
     },
     "execution_count": 7,
     "metadata": {},
     "output_type": "execute_result"
    }
   ],
   "source": [
    "sum(list_)"
   ]
  },
  {
   "cell_type": "code",
   "execution_count": 8,
   "id": "a577be75",
   "metadata": {},
   "outputs": [
    {
     "data": {
      "text/plain": [
       "<enumerate at 0x124f88c40>"
      ]
     },
     "execution_count": 8,
     "metadata": {},
     "output_type": "execute_result"
    }
   ],
   "source": [
    "en = enumerate(list_)\n",
    "en"
   ]
  },
  {
   "cell_type": "code",
   "execution_count": 9,
   "id": "bfb38fa8",
   "metadata": {},
   "outputs": [
    {
     "name": "stdout",
     "output_type": "stream",
     "text": [
      "0 **** 44\n",
      "1 **** 55\n",
      "2 **** 55\n",
      "3 **** 43\n",
      "4 **** 37\n",
      "5 **** 37\n",
      "6 **** 49\n",
      "7 **** 49\n",
      "8 **** 49\n",
      "9 **** 49\n",
      "10 **** 58\n",
      "11 **** 43\n",
      "12 **** 43\n",
      "13 **** 49\n",
      "14 **** 50\n",
      "15 **** 47\n",
      "16 **** 53\n",
      "17 **** 44\n",
      "18 **** 44\n",
      "19 **** 55\n",
      "20 **** 40\n",
      "21 **** 42\n",
      "22 **** 43\n",
      "23 **** 48\n",
      "24 **** 46\n",
      "25 **** 41\n",
      "26 **** 39\n",
      "27 **** 37\n",
      "28 **** 38\n",
      "29 **** 57\n",
      "30 **** 41\n",
      "31 **** 42\n",
      "32 **** 43\n",
      "33 **** 41\n",
      "34 **** 45\n",
      "35 **** 41\n",
      "36 **** 43\n",
      "37 **** 46\n",
      "38 **** 43\n",
      "39 **** 33\n",
      "40 **** 29\n",
      "41 **** 32\n",
      "42 **** 27\n",
      "43 **** 26\n",
      "44 **** 26\n",
      "45 **** 27\n",
      "46 **** 27\n",
      "47 **** 29\n",
      "48 **** 29\n",
      "49 **** 30\n",
      "50 **** 27\n",
      "51 **** 27\n",
      "52 **** 43\n",
      "53 **** 56\n",
      "54 **** 26\n",
      "55 **** 26\n",
      "56 **** 26\n",
      "57 **** 26\n",
      "58 **** 25\n",
      "59 **** 26\n"
     ]
    }
   ],
   "source": [
    "for i, j in en:\n",
    "    print(i,\"****\", j)"
   ]
  },
  {
   "cell_type": "code",
   "execution_count": 10,
   "id": "7fb8340a",
   "metadata": {},
   "outputs": [],
   "source": [
    "array = df.to_csv()"
   ]
  },
  {
   "cell_type": "code",
   "execution_count": 11,
   "id": "991e32b9",
   "metadata": {},
   "outputs": [],
   "source": [
    "array_ = array[0]"
   ]
  },
  {
   "cell_type": "code",
   "execution_count": null,
   "id": "d2520769",
   "metadata": {},
   "outputs": [],
   "source": []
  },
  {
   "cell_type": "code",
   "execution_count": 12,
   "id": "e812682b",
   "metadata": {},
   "outputs": [],
   "source": [
    "for i, j in en: #0,43\n",
    "    dummy = array[i]\n",
    "    for k in range(j): #43\n",
    "        array_ = np.concatenate((array_, dummy), axis = 0)"
   ]
  },
  {
   "cell_type": "code",
   "execution_count": 13,
   "id": "31c2d591",
   "metadata": {},
   "outputs": [
    {
     "data": {
      "text/plain": [
       "','"
      ]
     },
     "execution_count": 13,
     "metadata": {},
     "output_type": "execute_result"
    }
   ],
   "source": [
    "array_"
   ]
  },
  {
   "cell_type": "code",
   "execution_count": 14,
   "id": "18556c0d",
   "metadata": {},
   "outputs": [],
   "source": [
    "array = df.to_numpy()\n"
   ]
  },
  {
   "cell_type": "code",
   "execution_count": 15,
   "id": "e53625e2",
   "metadata": {
    "scrolled": true
   },
   "outputs": [
    {
     "data": {
      "text/plain": [
       "array([[ 0.,  0.,  1.,  0.,  0.],\n",
       "       [ 1.,  1.,  1.,  1.,  1.],\n",
       "       [ 2.,  0.,  1.,  0.,  0.],\n",
       "       [ 4.,  0.,  0.,  1.,  1.],\n",
       "       [ 5.,  0.,  0.,  0.,  0.],\n",
       "       [ 6.,  0.,  0.,  0.,  0.],\n",
       "       [ 7.,  0.,  0.,  0.,  0.],\n",
       "       [ 8.,  1.,  0.,  0.,  0.],\n",
       "       [12.,  0.,  1.,  0.,  0.],\n",
       "       [14.,  1.,  1.,  1.,  1.],\n",
       "       [17.,  0.,  0.,  1.,  0.],\n",
       "       [19.,  0.,  1.,  0.,  0.],\n",
       "       [21.,  0.,  0.,  1.,  0.],\n",
       "       [25.,  0.,  1.,  1.,  0.],\n",
       "       [26.,  0.,  0.,  1.,  0.],\n",
       "       [27.,  0.,  1.,  0.,  0.],\n",
       "       [28.,  1.,  0.,  0.,  0.],\n",
       "       [29.,  0.,  0.,  0.,  0.],\n",
       "       [31.,  0.,  1.,  0.,  0.],\n",
       "       [32.,  0.,  1.,  0.,  0.],\n",
       "       [36.,  0.,  1.,  1.,  0.],\n",
       "       [37.,  0.,  1.,  0.,  0.],\n",
       "       [38.,  0.,  1.,  1.,  0.],\n",
       "       [39.,  0.,  0.,  1.,  0.],\n",
       "       [40.,  0.,  1.,  1.,  1.],\n",
       "       [43.,  0.,  1.,  1.,  0.],\n",
       "       [44.,  0.,  0.,  0.,  1.],\n",
       "       [45.,  0.,  1.,  0.,  0.],\n",
       "       [46.,  1.,  1.,  0.,  0.],\n",
       "       [49.,  1.,  1.,  0.,  1.],\n",
       "       [50.,  0.,  1.,  0.,  0.],\n",
       "       [52.,  1.,  1.,  1.,  0.],\n",
       "       [54.,  0.,  1.,  0.,  0.],\n",
       "       [58.,  0.,  1.,  1.,  0.],\n",
       "       [60.,  0.,  1.,  0.,  0.],\n",
       "       [62.,  1.,  0.,  0.,  0.],\n",
       "       [64.,  0.,  1.,  1.,  0.],\n",
       "       [65.,  0.,  1.,  0.,  0.],\n",
       "       [68.,  0.,  0.,  1.,  0.],\n",
       "       [71.,  0.,  0.,  0.,  1.],\n",
       "       [73.,  0.,  0.,  0.,  1.],\n",
       "       [76.,  0.,  0.,  0.,  1.],\n",
       "       [78.,  0.,  0.,  0.,  1.],\n",
       "       [79.,  1.,  0.,  0.,  1.],\n",
       "       [80.,  0.,  0.,  0.,  1.],\n",
       "       [81.,  1.,  0.,  0.,  1.],\n",
       "       [82.,  0.,  1.,  0.,  1.],\n",
       "       [83.,  1.,  0.,  0.,  1.],\n",
       "       [84.,  0.,  0.,  0.,  1.],\n",
       "       [85.,  0.,  0.,  0.,  1.],\n",
       "       [87.,  0.,  0.,  0.,  1.],\n",
       "       [88.,  0.,  0.,  0.,  1.],\n",
       "       [89.,  0.,  1.,  0.,  1.],\n",
       "       [92.,  0.,  0.,  0.,  1.],\n",
       "       [94.,  0.,  1.,  0.,  1.],\n",
       "       [95.,  0.,  0.,  0.,  1.],\n",
       "       [96.,  0.,  0.,  0.,  1.],\n",
       "       [97.,  0.,  0.,  0.,  1.],\n",
       "       [98.,  0.,  0.,  0.,  1.],\n",
       "       [99.,  0.,  0.,  0.,  1.]])"
      ]
     },
     "execution_count": 15,
     "metadata": {},
     "output_type": "execute_result"
    }
   ],
   "source": [
    "array"
   ]
  },
  {
   "cell_type": "code",
   "execution_count": 16,
   "id": "b7887787",
   "metadata": {},
   "outputs": [],
   "source": [
    "array_ = array[0]"
   ]
  },
  {
   "cell_type": "code",
   "execution_count": 17,
   "id": "027b3905",
   "metadata": {},
   "outputs": [
    {
     "name": "stdout",
     "output_type": "stream",
     "text": [
      "59\n",
      "58\n",
      "57\n",
      "56\n",
      "55\n",
      "54\n",
      "53\n",
      "52\n",
      "51\n",
      "50\n",
      "49\n",
      "48\n",
      "47\n",
      "46\n",
      "45\n",
      "44\n",
      "43\n",
      "42\n",
      "41\n",
      "40\n",
      "39\n",
      "38\n",
      "37\n",
      "36\n",
      "35\n",
      "34\n",
      "33\n",
      "32\n",
      "31\n",
      "30\n",
      "29\n",
      "28\n",
      "27\n",
      "26\n",
      "25\n",
      "24\n",
      "23\n",
      "22\n",
      "21\n",
      "20\n",
      "19\n",
      "18\n",
      "17\n",
      "16\n",
      "15\n",
      "14\n",
      "13\n",
      "12\n",
      "11\n",
      "10\n",
      "9\n",
      "8\n",
      "7\n",
      "6\n",
      "5\n",
      "4\n",
      "3\n",
      "2\n",
      "1\n",
      "0\n"
     ]
    }
   ],
   "source": [
    "for i in range(60):\n",
    "    a  = array[i]\n",
    "    for j in list_:\n",
    "        array_ = np.vstack([array_, a])\n",
    "        \n",
    "    list_.pop(0)\n",
    "    print(len(list_))"
   ]
  },
  {
   "cell_type": "code",
   "execution_count": 18,
   "id": "f1353cc3",
   "metadata": {},
   "outputs": [
    {
     "data": {
      "text/plain": [
       "(1831, 5)"
      ]
     },
     "execution_count": 18,
     "metadata": {},
     "output_type": "execute_result"
    }
   ],
   "source": [
    "array_.shape"
   ]
  },
  {
   "cell_type": "code",
   "execution_count": null,
   "id": "33d7e023",
   "metadata": {},
   "outputs": [],
   "source": []
  },
  {
   "cell_type": "code",
   "execution_count": 19,
   "id": "04845020",
   "metadata": {},
   "outputs": [],
   "source": [
    "for i, j in en: #0,43\n",
    "    for k in range(j): #43\n",
    "        df_dummy = df.iloc[i,:]\n",
    "        df_ = pd.concat([df_, df_dummy])"
   ]
  },
  {
   "cell_type": "code",
   "execution_count": 20,
   "id": "02a70565",
   "metadata": {},
   "outputs": [],
   "source": [
    "for k in range(43): #43\n",
    "        array_ = np.vstack([array_, a])"
   ]
  },
  {
   "cell_type": "code",
   "execution_count": 21,
   "id": "c7a9809f",
   "metadata": {},
   "outputs": [
    {
     "data": {
      "text/plain": [
       "array([[ 0.,  0.,  1.,  0.,  0.],\n",
       "       [ 0.,  0.,  1.,  0.,  0.],\n",
       "       [ 0.,  0.,  1.,  0.,  0.],\n",
       "       ...,\n",
       "       [99.,  0.,  0.,  0.,  1.],\n",
       "       [99.,  0.,  0.,  0.,  1.],\n",
       "       [99.,  0.,  0.,  0.,  1.]])"
      ]
     },
     "execution_count": 21,
     "metadata": {},
     "output_type": "execute_result"
    }
   ],
   "source": [
    "array_"
   ]
  },
  {
   "cell_type": "code",
   "execution_count": null,
   "id": "f06caf4f",
   "metadata": {},
   "outputs": [],
   "source": []
  },
  {
   "cell_type": "code",
   "execution_count": null,
   "id": "962a54a9",
   "metadata": {},
   "outputs": [],
   "source": []
  },
  {
   "cell_type": "code",
   "execution_count": null,
   "id": "994b3cb2",
   "metadata": {},
   "outputs": [],
   "source": []
  },
  {
   "cell_type": "code",
   "execution_count": null,
   "id": "fafa0774",
   "metadata": {},
   "outputs": [],
   "source": []
  },
  {
   "cell_type": "code",
   "execution_count": null,
   "id": "e3fca8b0",
   "metadata": {},
   "outputs": [],
   "source": []
  },
  {
   "cell_type": "code",
   "execution_count": null,
   "id": "788c290f",
   "metadata": {},
   "outputs": [],
   "source": []
  },
  {
   "cell_type": "code",
   "execution_count": 22,
   "id": "2ae00edc",
   "metadata": {},
   "outputs": [
    {
     "ename": "NameError",
     "evalue": "name 'all_diseases' is not defined",
     "output_type": "error",
     "traceback": [
      "\u001b[0;31m---------------------------------------------------------------------------\u001b[0m",
      "\u001b[0;31mNameError\u001b[0m                                 Traceback (most recent call last)",
      "\u001b[0;32m/var/folders/gd/3d6ckpdn4q30skhxnvs_p7b80000gn/T/ipykernel_13563/3448970219.py\u001b[0m in \u001b[0;36m<module>\u001b[0;34m\u001b[0m\n\u001b[0;32m----> 1\u001b[0;31m \u001b[0mall_diseases\u001b[0m\u001b[0;34m.\u001b[0m\u001b[0mloc\u001b[0m\u001b[0;34m[\u001b[0m\u001b[0mall_diseases\u001b[0m\u001b[0;34m[\u001b[0m\u001b[0;34m\"Moderate or greater MS\"\u001b[0m\u001b[0;34m]\u001b[0m \u001b[0;34m==\u001b[0m \u001b[0;36m1\u001b[0m\u001b[0;34m,\u001b[0m \u001b[0;34m\"Moderate or greater MS\"\u001b[0m\u001b[0;34m]\u001b[0m \u001b[0;34m=\u001b[0m \u001b[0;34m\"MS\"\u001b[0m\u001b[0;34m\u001b[0m\u001b[0;34m\u001b[0m\u001b[0m\n\u001b[0m\u001b[1;32m      2\u001b[0m \u001b[0;31m#all_diseases\u001b[0m\u001b[0;34m\u001b[0m\u001b[0;34m\u001b[0m\u001b[0m\n",
      "\u001b[0;31mNameError\u001b[0m: name 'all_diseases' is not defined"
     ]
    }
   ],
   "source": [
    "all_diseases.loc[all_diseases[\"Moderate or greater MS\"] == 1, \"Moderate or greater MS\"] = \"MS\"\n",
    "#all_diseases"
   ]
  },
  {
   "cell_type": "code",
   "execution_count": null,
   "id": "0a2244a7",
   "metadata": {},
   "outputs": [],
   "source": [
    "all_diseases.loc[all_diseases[\"Moderate or greater MR\"] == 1, \"Moderate or greater MR\"] = \"MR\"\n",
    "all_diseases.loc[all_diseases[\"Moderate or greater AS\"] == 1, \"Moderate or greater AS\"] = \"AS\"\n",
    "all_diseases.loc[all_diseases[\"Moderate or greater AR\"] == 1, \"Moderate or greater AR\"] = \"AR\"\n",
    "all_diseases"
   ]
  },
  {
   "cell_type": "code",
   "execution_count": null,
   "id": "9171ea64",
   "metadata": {},
   "outputs": [],
   "source": [
    "#all_diseases.to_csv(\"/Users/ecem/Desktop/csv of scgs\")"
   ]
  },
  {
   "cell_type": "code",
   "execution_count": null,
   "id": "baf1c5cd",
   "metadata": {},
   "outputs": [],
   "source": [
    "#all_diseases.to_csv(csv_path  + \"/all-diseases-as-string.csv\")"
   ]
  },
  {
   "cell_type": "code",
   "execution_count": null,
   "id": "2e45905a",
   "metadata": {},
   "outputs": [],
   "source": []
  }
 ],
 "metadata": {
  "kernelspec": {
   "display_name": "Python 3 (ipykernel)",
   "language": "python",
   "name": "python3"
  },
  "language_info": {
   "codemirror_mode": {
    "name": "ipython",
    "version": 3
   },
   "file_extension": ".py",
   "mimetype": "text/x-python",
   "name": "python",
   "nbconvert_exporter": "python",
   "pygments_lexer": "ipython3",
   "version": "3.9.9"
  }
 },
 "nbformat": 4,
 "nbformat_minor": 5
}
