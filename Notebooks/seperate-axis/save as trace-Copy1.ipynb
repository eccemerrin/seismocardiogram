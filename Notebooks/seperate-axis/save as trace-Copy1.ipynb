{
 "cells": [
  {
   "cell_type": "code",
   "execution_count": 1,
   "id": "ed8956c7",
   "metadata": {},
   "outputs": [
    {
     "ename": "RuntimeError",
     "evalue": "module compiled against API version 0xe but this version of numpy is 0xd",
     "output_type": "error",
     "traceback": [
      "\u001b[0;31m---------------------------------------------------------------------------\u001b[0m",
      "\u001b[0;31mRuntimeError\u001b[0m                              Traceback (most recent call last)",
      "\u001b[0;31mRuntimeError\u001b[0m: module compiled against API version 0xe but this version of numpy is 0xd"
     ]
    }
   ],
   "source": [
    "import scipy.io\n",
    "import os\n",
    "import pandas\n",
    "import numpy as np\n",
    "import obspy"
   ]
  },
  {
   "cell_type": "code",
   "execution_count": 2,
   "id": "f058dde3",
   "metadata": {},
   "outputs": [
    {
     "name": "stdout",
     "output_type": "stream",
     "text": [
      "1.19.5\n"
     ]
    }
   ],
   "source": [
    "print(np.__version__)"
   ]
  },
  {
   "cell_type": "code",
   "execution_count": 3,
   "id": "e104b3c9",
   "metadata": {},
   "outputs": [],
   "source": [
    "dir_path = \"/Users/ecem/Desktop/seperate-axis\""
   ]
  },
  {
   "cell_type": "code",
   "execution_count": 4,
   "id": "a2d09b08",
   "metadata": {},
   "outputs": [],
   "source": [
    "x = np.load(dir_path + \"/x-axis.npy\", allow_pickle= True)\n",
    "y = np.load(dir_path + \"/y-axis.npy\", allow_pickle= True)\n",
    "z = np.load(dir_path + \"/z-axis.npy\", allow_pickle= True)"
   ]
  },
  {
   "cell_type": "code",
   "execution_count": 5,
   "id": "6ae3e6c0",
   "metadata": {},
   "outputs": [
    {
     "data": {
      "text/plain": [
       "60"
      ]
     },
     "execution_count": 5,
     "metadata": {},
     "output_type": "execute_result"
    }
   ],
   "source": [
    "len(x)"
   ]
  },
  {
   "cell_type": "code",
   "execution_count": 8,
   "id": "b616ccb8",
   "metadata": {},
   "outputs": [
    {
     "data": {
      "text/plain": [
       "... | 1970-01-01T00:00:00.000000Z - 1970-01-01T00:08:07.640625Z | 256.0 Hz, 124837 samples"
      ]
     },
     "execution_count": 8,
     "metadata": {},
     "output_type": "execute_result"
    }
   ],
   "source": [
    "x[0]"
   ]
  },
  {
   "cell_type": "code",
   "execution_count": 6,
   "id": "fcc77fbc",
   "metadata": {},
   "outputs": [
    {
     "ename": "ValueError",
     "evalue": "Trace.data must be a NumPy array.",
     "output_type": "error",
     "traceback": [
      "\u001b[0;31m---------------------------------------------------------------------------\u001b[0m",
      "\u001b[0;31mValueError\u001b[0m                                Traceback (most recent call last)",
      "\u001b[0;32m/var/folders/gd/3d6ckpdn4q30skhxnvs_p7b80000gn/T/ipykernel_73970/2550316187.py\u001b[0m in \u001b[0;36m<module>\u001b[0;34m\u001b[0m\n\u001b[1;32m      2\u001b[0m \u001b[0;34m\u001b[0m\u001b[0m\n\u001b[1;32m      3\u001b[0m \u001b[0;32mfor\u001b[0m \u001b[0mi\u001b[0m \u001b[0;32min\u001b[0m \u001b[0mrange\u001b[0m\u001b[0;34m(\u001b[0m\u001b[0;36m91\u001b[0m\u001b[0;34m)\u001b[0m\u001b[0;34m:\u001b[0m\u001b[0;34m\u001b[0m\u001b[0;34m\u001b[0m\u001b[0m\n\u001b[0;32m----> 4\u001b[0;31m     \u001b[0mx_\u001b[0m \u001b[0;34m=\u001b[0m \u001b[0mobspy\u001b[0m\u001b[0;34m.\u001b[0m\u001b[0mcore\u001b[0m\u001b[0;34m.\u001b[0m\u001b[0mtrace\u001b[0m\u001b[0;34m.\u001b[0m\u001b[0mTrace\u001b[0m\u001b[0;34m(\u001b[0m\u001b[0mx\u001b[0m\u001b[0;34m[\u001b[0m\u001b[0mi\u001b[0m\u001b[0;34m]\u001b[0m\u001b[0;34m)\u001b[0m\u001b[0;34m.\u001b[0m\u001b[0mdetrend\u001b[0m\u001b[0;34m(\u001b[0m\u001b[0;34m\"linear\"\u001b[0m\u001b[0;34m)\u001b[0m\u001b[0;34m.\u001b[0m\u001b[0mtaper\u001b[0m\u001b[0;34m(\u001b[0m\u001b[0mmax_percentage\u001b[0m\u001b[0;34m=\u001b[0m\u001b[0;36m0.05\u001b[0m\u001b[0;34m,\u001b[0m \u001b[0mtype\u001b[0m\u001b[0;34m=\u001b[0m\u001b[0;34m\"hann\"\u001b[0m\u001b[0;34m)\u001b[0m\u001b[0;34m\u001b[0m\u001b[0;34m\u001b[0m\u001b[0m\n\u001b[0m\u001b[1;32m      5\u001b[0m     \u001b[0my_\u001b[0m \u001b[0;34m=\u001b[0m \u001b[0mobspy\u001b[0m\u001b[0;34m.\u001b[0m\u001b[0mcore\u001b[0m\u001b[0;34m.\u001b[0m\u001b[0mtrace\u001b[0m\u001b[0;34m.\u001b[0m\u001b[0mTrace\u001b[0m\u001b[0;34m(\u001b[0m\u001b[0my\u001b[0m\u001b[0;34m[\u001b[0m\u001b[0mi\u001b[0m\u001b[0;34m]\u001b[0m\u001b[0;34m)\u001b[0m\u001b[0;34m.\u001b[0m\u001b[0mdetrend\u001b[0m\u001b[0;34m(\u001b[0m\u001b[0;34m\"linear\"\u001b[0m\u001b[0;34m)\u001b[0m\u001b[0;34m.\u001b[0m\u001b[0mtaper\u001b[0m\u001b[0;34m(\u001b[0m\u001b[0mmax_percentage\u001b[0m\u001b[0;34m=\u001b[0m\u001b[0;36m0.05\u001b[0m\u001b[0;34m,\u001b[0m \u001b[0mtype\u001b[0m\u001b[0;34m=\u001b[0m\u001b[0;34m\"hann\"\u001b[0m\u001b[0;34m)\u001b[0m\u001b[0;34m\u001b[0m\u001b[0;34m\u001b[0m\u001b[0m\n\u001b[1;32m      6\u001b[0m     \u001b[0mz_\u001b[0m \u001b[0;34m=\u001b[0m \u001b[0mobspy\u001b[0m\u001b[0;34m.\u001b[0m\u001b[0mcore\u001b[0m\u001b[0;34m.\u001b[0m\u001b[0mtrace\u001b[0m\u001b[0;34m.\u001b[0m\u001b[0mTrace\u001b[0m\u001b[0;34m(\u001b[0m\u001b[0mz\u001b[0m\u001b[0;34m[\u001b[0m\u001b[0mi\u001b[0m\u001b[0;34m]\u001b[0m\u001b[0;34m)\u001b[0m\u001b[0;34m.\u001b[0m\u001b[0mdetrend\u001b[0m\u001b[0;34m(\u001b[0m\u001b[0;34m\"linear\"\u001b[0m\u001b[0;34m)\u001b[0m\u001b[0;34m.\u001b[0m\u001b[0mtaper\u001b[0m\u001b[0;34m(\u001b[0m\u001b[0mmax_percentage\u001b[0m\u001b[0;34m=\u001b[0m\u001b[0;36m0.05\u001b[0m\u001b[0;34m,\u001b[0m \u001b[0mtype\u001b[0m\u001b[0;34m=\u001b[0m\u001b[0;34m\"hann\"\u001b[0m\u001b[0;34m)\u001b[0m\u001b[0;34m\u001b[0m\u001b[0;34m\u001b[0m\u001b[0m\n",
      "\u001b[0;32m~/miniforge3/envs/tf-metal/lib/python3.9/site-packages/obspy/core/trace.py\u001b[0m in \u001b[0;36m__init__\u001b[0;34m(self, data, header)\u001b[0m\n\u001b[1;32m    331\u001b[0m         \u001b[0;31m# make sure Trace gets initialized with suitable ndarray as self.data\u001b[0m\u001b[0;34m\u001b[0m\u001b[0;34m\u001b[0m\u001b[0m\n\u001b[1;32m    332\u001b[0m         \u001b[0;31m# otherwise we could end up with e.g. a list object in self.data\u001b[0m\u001b[0;34m\u001b[0m\u001b[0;34m\u001b[0m\u001b[0m\n\u001b[0;32m--> 333\u001b[0;31m         \u001b[0m_data_sanity_checks\u001b[0m\u001b[0;34m(\u001b[0m\u001b[0mdata\u001b[0m\u001b[0;34m)\u001b[0m\u001b[0;34m\u001b[0m\u001b[0;34m\u001b[0m\u001b[0m\n\u001b[0m\u001b[1;32m    334\u001b[0m         \u001b[0;31m# set some defaults if not set yet\u001b[0m\u001b[0;34m\u001b[0m\u001b[0;34m\u001b[0m\u001b[0m\n\u001b[1;32m    335\u001b[0m         \u001b[0;32mif\u001b[0m \u001b[0mheader\u001b[0m \u001b[0;32mis\u001b[0m \u001b[0;32mNone\u001b[0m\u001b[0;34m:\u001b[0m\u001b[0;34m\u001b[0m\u001b[0;34m\u001b[0m\u001b[0m\n",
      "\u001b[0;32m~/miniforge3/envs/tf-metal/lib/python3.9/site-packages/obspy/core/trace.py\u001b[0m in \u001b[0;36m_data_sanity_checks\u001b[0;34m(value)\u001b[0m\n\u001b[1;32m   3006\u001b[0m     \u001b[0;32mif\u001b[0m \u001b[0;32mnot\u001b[0m \u001b[0misinstance\u001b[0m\u001b[0;34m(\u001b[0m\u001b[0mvalue\u001b[0m\u001b[0;34m,\u001b[0m \u001b[0mnp\u001b[0m\u001b[0;34m.\u001b[0m\u001b[0mndarray\u001b[0m\u001b[0;34m)\u001b[0m\u001b[0;34m:\u001b[0m\u001b[0;34m\u001b[0m\u001b[0;34m\u001b[0m\u001b[0m\n\u001b[1;32m   3007\u001b[0m         \u001b[0mmsg\u001b[0m \u001b[0;34m=\u001b[0m \u001b[0;34m\"Trace.data must be a NumPy array.\"\u001b[0m\u001b[0;34m\u001b[0m\u001b[0;34m\u001b[0m\u001b[0m\n\u001b[0;32m-> 3008\u001b[0;31m         \u001b[0;32mraise\u001b[0m \u001b[0mValueError\u001b[0m\u001b[0;34m(\u001b[0m\u001b[0mmsg\u001b[0m\u001b[0;34m)\u001b[0m\u001b[0;34m\u001b[0m\u001b[0;34m\u001b[0m\u001b[0m\n\u001b[0m\u001b[1;32m   3009\u001b[0m     \u001b[0;32mif\u001b[0m \u001b[0mvalue\u001b[0m\u001b[0;34m.\u001b[0m\u001b[0mndim\u001b[0m \u001b[0;34m!=\u001b[0m \u001b[0;36m1\u001b[0m\u001b[0;34m:\u001b[0m\u001b[0;34m\u001b[0m\u001b[0;34m\u001b[0m\u001b[0m\n\u001b[1;32m   3010\u001b[0m         msg = (\"NumPy array for Trace.data has bad shape ('%s'). Only 1-d \"\n",
      "\u001b[0;31mValueError\u001b[0m: Trace.data must be a NumPy array."
     ]
    }
   ],
   "source": [
    "tr_x, tr_y, tr_z = [],[],[]\n",
    "\n",
    "for i in range(91):\n",
    "    x_ = obspy.core.trace.Trace(x[i]).detrend(\"linear\").taper(max_percentage=0.05, type=\"hann\")\n",
    "    y_ = obspy.core.trace.Trace(y[i]).detrend(\"linear\").taper(max_percentage=0.05, type=\"hann\")\n",
    "    z_ = obspy.core.trace.Trace(z[i]).detrend(\"linear\").taper(max_percentage=0.05, type=\"hann\")\n",
    "\n",
    "    x_.stats.sampling_rate = 256\n",
    "    y_.stats.sampling_rate = 256\n",
    "    z_.stats.sampling_rate = 256\n",
    "\n",
    "    tr_x.append(x_)\n",
    "    tr_y.append(y_)\n",
    "    tr_z.append(z_)\n",
    "    \n"
   ]
  },
  {
   "cell_type": "code",
   "execution_count": 7,
   "id": "eb14b264",
   "metadata": {},
   "outputs": [
    {
     "data": {
      "text/plain": [
       "         network: \n",
       "         station: \n",
       "        location: \n",
       "         channel: \n",
       "       starttime: 1970-01-01T00:00:00.000000Z\n",
       "         endtime: 1970-01-04T13:17:57.000000Z\n",
       "   sampling_rate: 1.0\n",
       "           delta: 1.0\n",
       "            npts: 307078\n",
       "           calib: 1.0\n",
       "      processing: [\"ObsPy 1.3.0: detrend(options={}::type='linear')\", \"ObsPy 1.3.0: taper(max_length=None::max_percentage=0.05::side='both'::type='hann')\"]"
      ]
     },
     "execution_count": 7,
     "metadata": {},
     "output_type": "execute_result"
    }
   ],
   "source": [
    "a = obspy.core.trace.Trace(x[92]).detrend(\"linear\").taper(max_percentage=0.05, type=\"hann\")\n",
    "a.stats"
   ]
  },
  {
   "cell_type": "code",
   "execution_count": 8,
   "id": "aa37df85",
   "metadata": {},
   "outputs": [
    {
     "data": {
      "text/plain": [
       "         network: \n",
       "         station: \n",
       "        location: \n",
       "         channel: \n",
       "       starttime: 1970-01-01T00:00:00.000000Z\n",
       "         endtime: 1970-01-04T13:17:57.998047Z\n",
       "   sampling_rate: 512.0\n",
       "           delta: 0.001953125\n",
       "            npts: 157223936\n",
       "           calib: 1.0\n",
       "      processing: [\"ObsPy 1.3.0: detrend(options={}::type='linear')\", \"ObsPy 1.3.0: taper(max_length=None::max_percentage=0.05::side='both'::type='hann')\", \"ObsPy 1.3.0: resample(no_filter=True::sampling_rate=512::strict_length=False::window='hanning')\"]"
      ]
     },
     "execution_count": 8,
     "metadata": {},
     "output_type": "execute_result"
    }
   ],
   "source": [
    "a.resample(512)\n",
    "a.stats"
   ]
  },
  {
   "cell_type": "code",
   "execution_count": 9,
   "id": "2c9c311d",
   "metadata": {},
   "outputs": [
    {
     "data": {
      "text/plain": [
       "         network: \n",
       "         station: \n",
       "        location: \n",
       "         channel: \n",
       "       starttime: 1970-01-01T00:00:00.000000Z\n",
       "         endtime: 1970-01-01T00:09:59.757812Z\n",
       "   sampling_rate: 256.0\n",
       "           delta: 0.00390625\n",
       "            npts: 153539\n",
       "           calib: 1.0\n",
       "      processing: [\"ObsPy 1.3.0: resample(no_filter=True::sampling_rate=256::strict_length=False::window='hanning')\"]"
      ]
     },
     "execution_count": 9,
     "metadata": {},
     "output_type": "execute_result"
    }
   ],
   "source": [
    "b = obspy.core.trace.Trace(x[92])\n",
    "b.stats.sampling_rate = 512\n",
    "b.resample(256)\n",
    "b.stats"
   ]
  },
  {
   "cell_type": "code",
   "execution_count": 10,
   "id": "0d440416",
   "metadata": {},
   "outputs": [],
   "source": [
    "for i in range(91,100):\n",
    "    x_ = obspy.core.trace.Trace(x[i]).detrend(\"linear\").taper(max_percentage=0.05, type=\"hann\")\n",
    "    y_ = obspy.core.trace.Trace(y[i]).detrend(\"linear\").taper(max_percentage=0.05, type=\"hann\")\n",
    "    z_ = obspy.core.trace.Trace(z[i]).detrend(\"linear\").taper(max_percentage=0.05, type=\"hann\")\n",
    "\n",
    "    x_.stats.sampling_rate = 512\n",
    "    y_.stats.sampling_rate = 512\n",
    "    z_.stats.sampling_rate = 512\n",
    "    \n",
    "    x_.resample(256)\n",
    "    y_.resample(256)\n",
    "    z_.resample(256)\n",
    "\n",
    "    tr_x.append(x_)\n",
    "    tr_y.append(y_)\n",
    "    tr_z.append(z_)"
   ]
  },
  {
   "cell_type": "code",
   "execution_count": 11,
   "id": "b6b7966d",
   "metadata": {},
   "outputs": [
    {
     "data": {
      "text/plain": [
       "obspy.core.trace.Trace"
      ]
     },
     "execution_count": 11,
     "metadata": {},
     "output_type": "execute_result"
    }
   ],
   "source": [
    "type(tr_x[0])"
   ]
  },
  {
   "cell_type": "code",
   "execution_count": 12,
   "id": "a70efd57",
   "metadata": {},
   "outputs": [
    {
     "name": "stderr",
     "output_type": "stream",
     "text": [
      "/var/folders/gd/3d6ckpdn4q30skhxnvs_p7b80000gn/T/ipykernel_8856/1435633774.py:1: VisibleDeprecationWarning: Creating an ndarray from ragged nested sequences (which is a list-or-tuple of lists-or-tuples-or ndarrays with different lengths or shapes) is deprecated. If you meant to do this, you must specify 'dtype=object' when creating the ndarray\n",
      "  tr_x = np.array(tr_x)\n",
      "/var/folders/gd/3d6ckpdn4q30skhxnvs_p7b80000gn/T/ipykernel_8856/1435633774.py:2: VisibleDeprecationWarning: Creating an ndarray from ragged nested sequences (which is a list-or-tuple of lists-or-tuples-or ndarrays with different lengths or shapes) is deprecated. If you meant to do this, you must specify 'dtype=object' when creating the ndarray\n",
      "  tr_y = np.array(tr_y)\n",
      "/var/folders/gd/3d6ckpdn4q30skhxnvs_p7b80000gn/T/ipykernel_8856/1435633774.py:3: VisibleDeprecationWarning: Creating an ndarray from ragged nested sequences (which is a list-or-tuple of lists-or-tuples-or ndarrays with different lengths or shapes) is deprecated. If you meant to do this, you must specify 'dtype=object' when creating the ndarray\n",
      "  tr_z = np.array(tr_z)\n"
     ]
    }
   ],
   "source": [
    "tr_x = np.array(tr_x)\n",
    "tr_y = np.array(tr_y)\n",
    "tr_z = np.array(tr_z)"
   ]
  },
  {
   "cell_type": "code",
   "execution_count": 13,
   "id": "6359c4ca",
   "metadata": {},
   "outputs": [
    {
     "data": {
      "text/plain": [
       "obspy.core.trace.Trace"
      ]
     },
     "execution_count": 13,
     "metadata": {},
     "output_type": "execute_result"
    }
   ],
   "source": [
    "type(tr_x[0])"
   ]
  },
  {
   "cell_type": "code",
   "execution_count": 14,
   "id": "a0f75ba5",
   "metadata": {},
   "outputs": [
    {
     "data": {
      "text/plain": [
       "100"
      ]
     },
     "execution_count": 14,
     "metadata": {},
     "output_type": "execute_result"
    }
   ],
   "source": [
    "len(tr_y)"
   ]
  },
  {
   "cell_type": "code",
   "execution_count": 16,
   "id": "a2f44f63",
   "metadata": {},
   "outputs": [
    {
     "data": {
      "text/plain": [
       "... | 1970-01-01T00:00:00.000000Z - 1970-01-01T00:09:59.757812Z | 256.0 Hz, 153539 samples"
      ]
     },
     "execution_count": 16,
     "metadata": {},
     "output_type": "execute_result"
    }
   ],
   "source": [
    "tr_x[92]"
   ]
  },
  {
   "cell_type": "code",
   "execution_count": 17,
   "id": "542e4b05",
   "metadata": {},
   "outputs": [],
   "source": [
    "np.save(dir_path + \"/tr_x\", tr_x, allow_pickle= True)\n",
    "np.save(dir_path + \"/tr_y\", tr_y, allow_pickle= True)\n",
    "np.save(dir_path + \"/tr_z\", tr_z, allow_pickle= True)\n",
    "\n",
    "x = np.load(dir_path + \"/tr_x.npy\", allow_pickle= True)"
   ]
  },
  {
   "cell_type": "code",
   "execution_count": 18,
   "id": "7aeb7cbd",
   "metadata": {},
   "outputs": [
    {
     "data": {
      "text/plain": [
       "... | 1970-01-01T00:00:00.000000Z - 1970-01-01T00:04:59.621094Z | 256.0 Hz, 76704 samples"
      ]
     },
     "execution_count": 18,
     "metadata": {},
     "output_type": "execute_result"
    }
   ],
   "source": [
    "tr_x[99]"
   ]
  },
  {
   "cell_type": "code",
   "execution_count": 19,
   "id": "12043ac0",
   "metadata": {},
   "outputs": [
    {
     "data": {
      "text/plain": [
       "... | 1970-01-01T00:00:00.000000Z - 1970-01-01T00:04:59.621094Z | 256.0 Hz, 76704 samples"
      ]
     },
     "execution_count": 19,
     "metadata": {},
     "output_type": "execute_result"
    }
   ],
   "source": [
    "tr_x[-1]"
   ]
  },
  {
   "cell_type": "code",
   "execution_count": null,
   "id": "27e4c1ae",
   "metadata": {},
   "outputs": [],
   "source": []
  }
 ],
 "metadata": {
  "kernelspec": {
   "display_name": "Python 3 (ipykernel)",
   "language": "python",
   "name": "python3"
  },
  "language_info": {
   "codemirror_mode": {
    "name": "ipython",
    "version": 3
   },
   "file_extension": ".py",
   "mimetype": "text/x-python",
   "name": "python",
   "nbconvert_exporter": "python",
   "pygments_lexer": "ipython3",
   "version": "3.9.9"
  }
 },
 "nbformat": 4,
 "nbformat_minor": 5
}
