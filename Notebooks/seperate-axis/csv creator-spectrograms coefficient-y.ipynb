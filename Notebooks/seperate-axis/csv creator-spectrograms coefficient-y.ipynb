{
 "cells": [
  {
   "cell_type": "markdown",
   "id": "a10707b4",
   "metadata": {},
   "source": [
    "## Imports:"
   ]
  },
  {
   "cell_type": "code",
   "execution_count": 1,
   "id": "5b0b2dcc",
   "metadata": {},
   "outputs": [
    {
     "ename": "RuntimeError",
     "evalue": "module compiled against API version 0xe but this version of numpy is 0xd",
     "output_type": "error",
     "traceback": [
      "\u001b[0;31m---------------------------------------------------------------------------\u001b[0m",
      "\u001b[0;31mRuntimeError\u001b[0m                              Traceback (most recent call last)",
      "\u001b[0;31mRuntimeError\u001b[0m: module compiled against API version 0xe but this version of numpy is 0xd"
     ]
    }
   ],
   "source": [
    "import scipy.io\n",
    "import os\n",
    "import pandas\n",
    "import numpy as np\n",
    "import matplotlib.pyplot as plt\n",
    "import matplotlib.pylab as plt_lab\n",
    "import matplotlib.gridspec as gridspec\n",
    "import obspy\n",
    "import pandas as pd"
   ]
  },
  {
   "cell_type": "markdown",
   "id": "41b4c77f",
   "metadata": {},
   "source": [
    "## Load data:\n",
    "We are going to use this data to plot spectograms of SCG signals. "
   ]
  },
  {
   "cell_type": "code",
   "execution_count": 2,
   "id": "75a415fd",
   "metadata": {},
   "outputs": [],
   "source": [
    "dir_path = \"/Users/ecem/Desktop/seperate-axis\""
   ]
  },
  {
   "cell_type": "code",
   "execution_count": 3,
   "id": "4cf3f50e",
   "metadata": {},
   "outputs": [],
   "source": [
    "y = np.load(dir_path + \"/y-10sec.npy\", allow_pickle= True)"
   ]
  },
  {
   "cell_type": "code",
   "execution_count": 4,
   "id": "f6c1178a",
   "metadata": {},
   "outputs": [
    {
     "data": {
      "text/plain": [
       "(2392, 2560)"
      ]
     },
     "execution_count": 4,
     "metadata": {},
     "output_type": "execute_result"
    }
   ],
   "source": [
    "y.shape"
   ]
  },
  {
   "cell_type": "code",
   "execution_count": 5,
   "id": "e1d59219",
   "metadata": {},
   "outputs": [],
   "source": [
    "def converter(array):\n",
    "    x= []\n",
    "    for i in range(array.shape[0]):\n",
    "        x.append(obspy.core.trace.Trace(array[i]))\n",
    "        \n",
    "        x[i].stats.sampling_rate = 256\n",
    "    return np.array(x)"
   ]
  },
  {
   "cell_type": "code",
   "execution_count": 6,
   "id": "9cbf9437",
   "metadata": {},
   "outputs": [],
   "source": [
    "y = converter(y)\n"
   ]
  },
  {
   "cell_type": "markdown",
   "id": "8df87e77",
   "metadata": {},
   "source": [
    "## comparison of two dataset:\n",
    "\n",
    "Now we will to try visualize spectograms. So far we have used Obspy to visualize SCG signals. However, with obspy we are not able to plot spectograms side by side. This is important for us because we want to see spectograms of x,y and z components simultaneously for both healty and diseased people. So, from now on I will refer to those plots, for 3 components of healty and diseased (in total six plot, as \"PAIR\".\n",
    "\n",
    "\n",
    "I have mentioned that Obpsy has a problem in side by side plotting. So I changed it source code. I have added and deleted some part to operate according to my need. ???????????\n",
    "\n",
    "Thats why from now on we are going to use **output_spectogram** function to get values needed to plot spectogram."
   ]
  },
  {
   "cell_type": "markdown",
   "id": "0e61264a",
   "metadata": {},
   "source": [
    "These are the imports for output_spectogram function to work."
   ]
  },
  {
   "cell_type": "code",
   "execution_count": 7,
   "id": "d37506c8",
   "metadata": {},
   "outputs": [],
   "source": [
    "from obspy.imaging.cm import obspy_sequential\n",
    "import math\n",
    "from matplotlib import mlab\n",
    "from matplotlib.colors import Normalize"
   ]
  },
  {
   "cell_type": "code",
   "execution_count": 8,
   "id": "7422b887",
   "metadata": {},
   "outputs": [],
   "source": [
    "def _nearest_pow_2(x):\n",
    "    a = math.pow(2, math.ceil(np.log2(x)))\n",
    "    b = math.pow(2, math.floor(np.log2(x)))\n",
    "    if abs(a - x) < abs(b - x):\n",
    "        return a\n",
    "    else:\n",
    "        return b"
   ]
  },
  {
   "cell_type": "code",
   "execution_count": 9,
   "id": "abafe36e",
   "metadata": {},
   "outputs": [],
   "source": [
    "def output_spectrogram(data, samp_rate, per_lap=0.9, wlen=None, log=False,\n",
    "                outfile=None, fmt=None, axes=None, dbscale=False,\n",
    "                mult=8.0, cmap=obspy_sequential, zorder=None, title=None,\n",
    "                show=True, clip=[0.0, 1.0]):\n",
    " \n",
    "    import matplotlib.pyplot as plt\n",
    "    \n",
    "    # enforce float for samp_rate\n",
    "    samp_rate = float(samp_rate)\n",
    "\n",
    "    # set wlen from samp_rate if not specified otherwise\n",
    "    if not wlen:\n",
    "        wlen = samp_rate / 100.\n",
    "\n",
    "    npts = len(data)\n",
    "    # nfft needs to be an integer, otherwise a deprecation will be raised\n",
    "    # XXX add condition for too many windows => calculation takes for ever\n",
    "    nfft = int(_nearest_pow_2(wlen * samp_rate))\n",
    "    if nfft > npts:\n",
    "        nfft = int(_nearest_pow_2(npts / 8.0))\n",
    "\n",
    "    if mult is not None:\n",
    "        mult = int(_nearest_pow_2(mult))\n",
    "        mult = mult * nfft\n",
    "    nlap = int(nfft * float(per_lap))\n",
    "\n",
    "    data = data - np.array(data).mean()\n",
    "    end = npts / samp_rate\n",
    "\n",
    "    # Here we call not plt.specgram as this already produces a plot\n",
    "    # matplotlib.mlab.specgram should be faster as it computes only the\n",
    "    # arrays\n",
    "    # XXX mlab.specgram uses fft, would be better and faster use rfft\n",
    "    specgram, freq, time = mlab.specgram(data, Fs=samp_rate, NFFT=nfft,\n",
    "                                         pad_to=mult, noverlap=nlap, mode = 'psd')\n",
    "\n",
    "    # db scale and remove zero/offset for amplitude\n",
    "    if dbscale:\n",
    "        specgram = 10 * np.log10(specgram[1:, :])\n",
    "    else:\n",
    "        specgram = np.sqrt(specgram[1:, :])\n",
    "    freq = freq[1:]\n",
    "    \n",
    "    vmin, vmax = clip\n",
    "    if vmin < 0 or vmax > 1 or vmin >= vmax:\n",
    "        msg = \"Invalid parameters for clip option.\"\n",
    "        raise ValueError(msg)\n",
    "    _range = float(specgram.max() - specgram.min())\n",
    "    vmin = specgram.min() + vmin * _range\n",
    "    vmax = specgram.min() + vmax * _range\n",
    "    norm = Normalize(vmin, vmax, clip=True)\n",
    "\n",
    "    # calculate half bin width\n",
    "    halfbin_time = (time[1] - time[0]) / 2.0\n",
    "    halfbin_freq = (freq[1] - freq[0]) / 2.0\n",
    "\n",
    "    # argument None is not allowed for kwargs on matplotlib python 3.3\n",
    "    kwargs = {k: v for k, v in (('cmap', cmap), ('zorder', zorder))\n",
    "              if v is not None}\n",
    "\n",
    "    if log:\n",
    "        # pcolor expects one bin more at the right end\n",
    "        freq = np.concatenate((freq, [freq[-1] + 2 * halfbin_freq]))\n",
    "        time = np.concatenate((time, [time[-1] + 2 * halfbin_time]))\n",
    "        # center bin\n",
    "        time -= halfbin_time\n",
    "        freq -= halfbin_freq\n",
    "        # Log scaling for frequency values (y-axis)\n",
    "        ax.set_yscale('log')\n",
    "        # Plot times\n",
    "        ax.pcolormesh(time, freq, specgram, norm=norm, **kwargs)\n",
    "    else:\n",
    "        # this method is much much faster!\n",
    "        specgram = np.flipud(specgram)\n",
    "        # center bin\n",
    "        extent = (time[0] - halfbin_time, time[-1] + halfbin_time,\n",
    "                  freq[0] - halfbin_freq, freq[-1] + halfbin_freq)\n",
    "    return [specgram, extent, end]\n",
    "\n",
    "    \n",
    "\n"
   ]
  },
  {
   "cell_type": "markdown",
   "id": "ed4bb35c",
   "metadata": {},
   "source": [
    "## Plotting spectogram:"
   ]
  },
  {
   "cell_type": "markdown",
   "id": "029b8674",
   "metadata": {},
   "source": [
    "f is the frequency array, containing the frequencies of every band of the fft. Which can be used as the labels for a graph\n",
    "\n",
    "t is the time array, containing the time at which this FFT was made relative to the source signal. Again can be used for labels.\n",
    "\n",
    "The Sxx array contains the amplitudes and is a 2d array whose shape is the length of f by the length of t.\n",
    "\n",
    "\n",
    " The purpose of a spectogram is to take the FFT of small, equal-sized time chunks. This produces a 2D fourier transform where the X axis is the start time of the time chunk and the Y axis is the energy (or power, etc.) in each frequency in that time chunk. This allows you to see how the frequency components change over time.\n",
    " \n",
    "  A spectrogram is a representation of frequency over time with the addition of amplitude as a third dimension, denoting the intensity or volume of the signal at a frequency and a time."
   ]
  },
  {
   "cell_type": "code",
   "execution_count": 10,
   "id": "18a0b440",
   "metadata": {},
   "outputs": [],
   "source": [
    "def freq_average(array):\n",
    "    means= []\n",
    "    for i in range(array.shape[0]):\n",
    "        means.append(array[i][0:40].mean())\n",
    "    return np.array(means)\n",
    "        "
   ]
  },
  {
   "cell_type": "code",
   "execution_count": 11,
   "id": "3657c33b",
   "metadata": {},
   "outputs": [
    {
     "data": {
      "text/plain": [
       "(2048, 40)"
      ]
     },
     "execution_count": 11,
     "metadata": {},
     "output_type": "execute_result"
    }
   ],
   "source": [
    "output_spectrogram(y[0].data, 256)[0].shape"
   ]
  },
  {
   "cell_type": "code",
   "execution_count": 12,
   "id": "51ccd450",
   "metadata": {},
   "outputs": [
    {
     "data": {
      "text/plain": [
       "array([0.00031779, 0.0004522 , 0.00045476, ..., 0.01479482, 0.01494243,\n",
       "       0.01499889])"
      ]
     },
     "execution_count": 12,
     "metadata": {},
     "output_type": "execute_result"
    }
   ],
   "source": [
    "freq_average(array = output_spectrogram(y[0].data, 256)[0])"
   ]
  },
  {
   "cell_type": "code",
   "execution_count": 13,
   "id": "4ca7cef9",
   "metadata": {},
   "outputs": [
    {
     "data": {
      "text/plain": [
       "(2048,)"
      ]
     },
     "execution_count": 13,
     "metadata": {},
     "output_type": "execute_result"
    }
   ],
   "source": [
    "freq_average(array = output_spectrogram(y[0].data, 256)[0]).shape"
   ]
  },
  {
   "cell_type": "code",
   "execution_count": 14,
   "id": "58055a89",
   "metadata": {},
   "outputs": [],
   "source": [
    "def spec_values(array):\n",
    "    x_ = []\n",
    "    for i in range(array.shape[0]):\n",
    "        _x = output_spectrogram(array[i].data, 256)[0]\n",
    "\n",
    "        x_.append(freq_average(array = _x))\n",
    "        \n",
    "        \n",
    "    return np.array(x_)"
   ]
  },
  {
   "cell_type": "code",
   "execution_count": 15,
   "id": "bd30b8d0",
   "metadata": {},
   "outputs": [
    {
     "data": {
      "text/plain": [
       "numpy.ndarray"
      ]
     },
     "execution_count": 15,
     "metadata": {},
     "output_type": "execute_result"
    }
   ],
   "source": [
    "type(y)"
   ]
  },
  {
   "cell_type": "code",
   "execution_count": 16,
   "id": "298423aa",
   "metadata": {},
   "outputs": [],
   "source": [
    "y_ = spec_values(y)"
   ]
  },
  {
   "cell_type": "code",
   "execution_count": 17,
   "id": "33ff627a",
   "metadata": {},
   "outputs": [
    {
     "data": {
      "text/plain": [
       "array([0.00031779, 0.0004522 , 0.00045476, ..., 0.01479482, 0.01494243,\n",
       "       0.01499889])"
      ]
     },
     "execution_count": 17,
     "metadata": {},
     "output_type": "execute_result"
    }
   ],
   "source": [
    "y_[0]"
   ]
  },
  {
   "cell_type": "code",
   "execution_count": 18,
   "id": "a525dcf1",
   "metadata": {},
   "outputs": [
    {
     "name": "stdout",
     "output_type": "stream",
     "text": [
      "(2392, 2048)\n"
     ]
    }
   ],
   "source": [
    "print(y_.shape)\n"
   ]
  },
  {
   "cell_type": "code",
   "execution_count": 19,
   "id": "a4376fb8",
   "metadata": {},
   "outputs": [
    {
     "name": "stdout",
     "output_type": "stream",
     "text": [
      "['freq_y0', 'freq_y1', 'freq_y2', 'freq_y3', 'freq_y4', 'freq_y5', 'freq_y6', 'freq_y7', 'freq_y8', 'freq_y9', 'freq_y10', 'freq_y11', 'freq_y12', 'freq_y13', 'freq_y14', 'freq_y15', 'freq_y16', 'freq_y17', 'freq_y18', 'freq_y19', 'freq_y20', 'freq_y21', 'freq_y22', 'freq_y23', 'freq_y24', 'freq_y25', 'freq_y26', 'freq_y27', 'freq_y28', 'freq_y29', 'freq_y30', 'freq_y31', 'freq_y32', 'freq_y33', 'freq_y34', 'freq_y35', 'freq_y36', 'freq_y37', 'freq_y38', 'freq_y39', 'freq_y40', 'freq_y41', 'freq_y42', 'freq_y43', 'freq_y44', 'freq_y45', 'freq_y46', 'freq_y47', 'freq_y48', 'freq_y49', 'freq_y50', 'freq_y51', 'freq_y52', 'freq_y53', 'freq_y54', 'freq_y55', 'freq_y56', 'freq_y57', 'freq_y58', 'freq_y59', 'freq_y60', 'freq_y61', 'freq_y62', 'freq_y63', 'freq_y64', 'freq_y65', 'freq_y66', 'freq_y67', 'freq_y68', 'freq_y69', 'freq_y70', 'freq_y71', 'freq_y72', 'freq_y73', 'freq_y74', 'freq_y75', 'freq_y76', 'freq_y77', 'freq_y78', 'freq_y79', 'freq_y80', 'freq_y81', 'freq_y82', 'freq_y83', 'freq_y84', 'freq_y85', 'freq_y86', 'freq_y87', 'freq_y88', 'freq_y89', 'freq_y90', 'freq_y91', 'freq_y92', 'freq_y93', 'freq_y94', 'freq_y95', 'freq_y96', 'freq_y97', 'freq_y98', 'freq_y99', 'freq_y100', 'freq_y101', 'freq_y102', 'freq_y103', 'freq_y104', 'freq_y105', 'freq_y106', 'freq_y107', 'freq_y108', 'freq_y109', 'freq_y110', 'freq_y111', 'freq_y112', 'freq_y113', 'freq_y114', 'freq_y115', 'freq_y116', 'freq_y117', 'freq_y118', 'freq_y119', 'freq_y120', 'freq_y121', 'freq_y122', 'freq_y123', 'freq_y124', 'freq_y125', 'freq_y126', 'freq_y127', 'freq_y128', 'freq_y129', 'freq_y130', 'freq_y131', 'freq_y132', 'freq_y133', 'freq_y134', 'freq_y135', 'freq_y136', 'freq_y137', 'freq_y138', 'freq_y139', 'freq_y140', 'freq_y141', 'freq_y142', 'freq_y143', 'freq_y144', 'freq_y145', 'freq_y146', 'freq_y147', 'freq_y148', 'freq_y149', 'freq_y150', 'freq_y151', 'freq_y152', 'freq_y153', 'freq_y154', 'freq_y155', 'freq_y156', 'freq_y157', 'freq_y158', 'freq_y159', 'freq_y160', 'freq_y161', 'freq_y162', 'freq_y163', 'freq_y164', 'freq_y165', 'freq_y166', 'freq_y167', 'freq_y168', 'freq_y169', 'freq_y170', 'freq_y171', 'freq_y172', 'freq_y173', 'freq_y174', 'freq_y175', 'freq_y176', 'freq_y177', 'freq_y178', 'freq_y179', 'freq_y180', 'freq_y181', 'freq_y182', 'freq_y183', 'freq_y184', 'freq_y185', 'freq_y186', 'freq_y187', 'freq_y188', 'freq_y189', 'freq_y190', 'freq_y191', 'freq_y192', 'freq_y193', 'freq_y194', 'freq_y195', 'freq_y196', 'freq_y197', 'freq_y198', 'freq_y199', 'freq_y200', 'freq_y201', 'freq_y202', 'freq_y203', 'freq_y204', 'freq_y205', 'freq_y206', 'freq_y207', 'freq_y208', 'freq_y209', 'freq_y210', 'freq_y211', 'freq_y212', 'freq_y213', 'freq_y214', 'freq_y215', 'freq_y216', 'freq_y217', 'freq_y218', 'freq_y219', 'freq_y220', 'freq_y221', 'freq_y222', 'freq_y223', 'freq_y224', 'freq_y225', 'freq_y226', 'freq_y227', 'freq_y228', 'freq_y229', 'freq_y230', 'freq_y231', 'freq_y232', 'freq_y233', 'freq_y234', 'freq_y235', 'freq_y236', 'freq_y237', 'freq_y238', 'freq_y239', 'freq_y240', 'freq_y241', 'freq_y242', 'freq_y243', 'freq_y244', 'freq_y245', 'freq_y246', 'freq_y247', 'freq_y248', 'freq_y249', 'freq_y250', 'freq_y251', 'freq_y252', 'freq_y253', 'freq_y254', 'freq_y255', 'freq_y256', 'freq_y257', 'freq_y258', 'freq_y259', 'freq_y260', 'freq_y261', 'freq_y262', 'freq_y263', 'freq_y264', 'freq_y265', 'freq_y266', 'freq_y267', 'freq_y268', 'freq_y269', 'freq_y270', 'freq_y271', 'freq_y272', 'freq_y273', 'freq_y274', 'freq_y275', 'freq_y276', 'freq_y277', 'freq_y278', 'freq_y279', 'freq_y280', 'freq_y281', 'freq_y282', 'freq_y283', 'freq_y284', 'freq_y285', 'freq_y286', 'freq_y287', 'freq_y288', 'freq_y289', 'freq_y290', 'freq_y291', 'freq_y292', 'freq_y293', 'freq_y294', 'freq_y295', 'freq_y296', 'freq_y297', 'freq_y298', 'freq_y299', 'freq_y300', 'freq_y301', 'freq_y302', 'freq_y303', 'freq_y304', 'freq_y305', 'freq_y306', 'freq_y307', 'freq_y308', 'freq_y309', 'freq_y310', 'freq_y311', 'freq_y312', 'freq_y313', 'freq_y314', 'freq_y315', 'freq_y316', 'freq_y317', 'freq_y318', 'freq_y319', 'freq_y320', 'freq_y321', 'freq_y322', 'freq_y323', 'freq_y324', 'freq_y325', 'freq_y326', 'freq_y327', 'freq_y328', 'freq_y329', 'freq_y330', 'freq_y331', 'freq_y332', 'freq_y333', 'freq_y334', 'freq_y335', 'freq_y336', 'freq_y337', 'freq_y338', 'freq_y339', 'freq_y340', 'freq_y341', 'freq_y342', 'freq_y343', 'freq_y344', 'freq_y345', 'freq_y346', 'freq_y347', 'freq_y348', 'freq_y349', 'freq_y350', 'freq_y351', 'freq_y352', 'freq_y353', 'freq_y354', 'freq_y355', 'freq_y356', 'freq_y357', 'freq_y358', 'freq_y359', 'freq_y360', 'freq_y361', 'freq_y362', 'freq_y363', 'freq_y364', 'freq_y365', 'freq_y366', 'freq_y367', 'freq_y368', 'freq_y369', 'freq_y370', 'freq_y371', 'freq_y372', 'freq_y373', 'freq_y374', 'freq_y375', 'freq_y376', 'freq_y377', 'freq_y378', 'freq_y379', 'freq_y380', 'freq_y381', 'freq_y382', 'freq_y383', 'freq_y384', 'freq_y385', 'freq_y386', 'freq_y387', 'freq_y388', 'freq_y389', 'freq_y390', 'freq_y391', 'freq_y392', 'freq_y393', 'freq_y394', 'freq_y395', 'freq_y396', 'freq_y397', 'freq_y398', 'freq_y399', 'freq_y400', 'freq_y401', 'freq_y402', 'freq_y403', 'freq_y404', 'freq_y405', 'freq_y406', 'freq_y407', 'freq_y408', 'freq_y409', 'freq_y410', 'freq_y411', 'freq_y412', 'freq_y413', 'freq_y414', 'freq_y415', 'freq_y416', 'freq_y417', 'freq_y418', 'freq_y419', 'freq_y420', 'freq_y421', 'freq_y422', 'freq_y423', 'freq_y424', 'freq_y425', 'freq_y426', 'freq_y427', 'freq_y428', 'freq_y429', 'freq_y430', 'freq_y431', 'freq_y432', 'freq_y433', 'freq_y434', 'freq_y435', 'freq_y436', 'freq_y437', 'freq_y438', 'freq_y439', 'freq_y440', 'freq_y441', 'freq_y442', 'freq_y443', 'freq_y444', 'freq_y445', 'freq_y446', 'freq_y447', 'freq_y448', 'freq_y449', 'freq_y450', 'freq_y451', 'freq_y452', 'freq_y453', 'freq_y454', 'freq_y455', 'freq_y456', 'freq_y457', 'freq_y458', 'freq_y459', 'freq_y460', 'freq_y461', 'freq_y462', 'freq_y463', 'freq_y464', 'freq_y465', 'freq_y466', 'freq_y467', 'freq_y468', 'freq_y469', 'freq_y470', 'freq_y471', 'freq_y472', 'freq_y473', 'freq_y474', 'freq_y475', 'freq_y476', 'freq_y477', 'freq_y478', 'freq_y479', 'freq_y480', 'freq_y481', 'freq_y482', 'freq_y483', 'freq_y484', 'freq_y485', 'freq_y486', 'freq_y487', 'freq_y488', 'freq_y489', 'freq_y490', 'freq_y491', 'freq_y492', 'freq_y493', 'freq_y494', 'freq_y495', 'freq_y496', 'freq_y497', 'freq_y498', 'freq_y499', 'freq_y500', 'freq_y501', 'freq_y502', 'freq_y503', 'freq_y504', 'freq_y505', 'freq_y506', 'freq_y507', 'freq_y508', 'freq_y509', 'freq_y510', 'freq_y511', 'freq_y512', 'freq_y513', 'freq_y514', 'freq_y515', 'freq_y516', 'freq_y517', 'freq_y518', 'freq_y519', 'freq_y520', 'freq_y521', 'freq_y522', 'freq_y523', 'freq_y524', 'freq_y525', 'freq_y526', 'freq_y527', 'freq_y528', 'freq_y529', 'freq_y530', 'freq_y531', 'freq_y532', 'freq_y533', 'freq_y534', 'freq_y535', 'freq_y536', 'freq_y537', 'freq_y538', 'freq_y539', 'freq_y540', 'freq_y541', 'freq_y542', 'freq_y543', 'freq_y544', 'freq_y545', 'freq_y546', 'freq_y547', 'freq_y548', 'freq_y549', 'freq_y550', 'freq_y551', 'freq_y552', 'freq_y553', 'freq_y554', 'freq_y555', 'freq_y556', 'freq_y557', 'freq_y558', 'freq_y559', 'freq_y560', 'freq_y561', 'freq_y562', 'freq_y563', 'freq_y564', 'freq_y565', 'freq_y566', 'freq_y567', 'freq_y568', 'freq_y569', 'freq_y570', 'freq_y571', 'freq_y572', 'freq_y573', 'freq_y574', 'freq_y575', 'freq_y576', 'freq_y577', 'freq_y578', 'freq_y579', 'freq_y580', 'freq_y581', 'freq_y582', 'freq_y583', 'freq_y584', 'freq_y585', 'freq_y586', 'freq_y587', 'freq_y588', 'freq_y589', 'freq_y590', 'freq_y591', 'freq_y592', 'freq_y593', 'freq_y594', 'freq_y595', 'freq_y596', 'freq_y597', 'freq_y598', 'freq_y599', 'freq_y600', 'freq_y601', 'freq_y602', 'freq_y603', 'freq_y604', 'freq_y605', 'freq_y606', 'freq_y607', 'freq_y608', 'freq_y609', 'freq_y610', 'freq_y611', 'freq_y612', 'freq_y613', 'freq_y614', 'freq_y615', 'freq_y616', 'freq_y617', 'freq_y618', 'freq_y619', 'freq_y620', 'freq_y621', 'freq_y622', 'freq_y623', 'freq_y624', 'freq_y625', 'freq_y626', 'freq_y627', 'freq_y628', 'freq_y629', 'freq_y630', 'freq_y631', 'freq_y632', 'freq_y633', 'freq_y634', 'freq_y635', 'freq_y636', 'freq_y637', 'freq_y638', 'freq_y639', 'freq_y640', 'freq_y641', 'freq_y642', 'freq_y643', 'freq_y644', 'freq_y645', 'freq_y646', 'freq_y647', 'freq_y648', 'freq_y649', 'freq_y650', 'freq_y651', 'freq_y652', 'freq_y653', 'freq_y654', 'freq_y655', 'freq_y656', 'freq_y657', 'freq_y658', 'freq_y659', 'freq_y660', 'freq_y661', 'freq_y662', 'freq_y663', 'freq_y664', 'freq_y665', 'freq_y666', 'freq_y667', 'freq_y668', 'freq_y669', 'freq_y670', 'freq_y671', 'freq_y672', 'freq_y673', 'freq_y674', 'freq_y675', 'freq_y676', 'freq_y677', 'freq_y678', 'freq_y679', 'freq_y680', 'freq_y681', 'freq_y682', 'freq_y683', 'freq_y684', 'freq_y685', 'freq_y686', 'freq_y687', 'freq_y688', 'freq_y689', 'freq_y690', 'freq_y691', 'freq_y692', 'freq_y693', 'freq_y694', 'freq_y695', 'freq_y696', 'freq_y697', 'freq_y698', 'freq_y699', 'freq_y700', 'freq_y701', 'freq_y702', 'freq_y703', 'freq_y704', 'freq_y705', 'freq_y706', 'freq_y707', 'freq_y708', 'freq_y709', 'freq_y710', 'freq_y711', 'freq_y712', 'freq_y713', 'freq_y714', 'freq_y715', 'freq_y716', 'freq_y717', 'freq_y718', 'freq_y719', 'freq_y720', 'freq_y721', 'freq_y722', 'freq_y723', 'freq_y724', 'freq_y725', 'freq_y726', 'freq_y727', 'freq_y728', 'freq_y729', 'freq_y730', 'freq_y731', 'freq_y732', 'freq_y733', 'freq_y734', 'freq_y735', 'freq_y736', 'freq_y737', 'freq_y738', 'freq_y739', 'freq_y740', 'freq_y741', 'freq_y742', 'freq_y743', 'freq_y744', 'freq_y745', 'freq_y746', 'freq_y747', 'freq_y748', 'freq_y749', 'freq_y750', 'freq_y751', 'freq_y752', 'freq_y753', 'freq_y754', 'freq_y755', 'freq_y756', 'freq_y757', 'freq_y758', 'freq_y759', 'freq_y760', 'freq_y761', 'freq_y762', 'freq_y763', 'freq_y764', 'freq_y765', 'freq_y766', 'freq_y767', 'freq_y768', 'freq_y769', 'freq_y770', 'freq_y771', 'freq_y772', 'freq_y773', 'freq_y774', 'freq_y775', 'freq_y776', 'freq_y777', 'freq_y778', 'freq_y779', 'freq_y780', 'freq_y781', 'freq_y782', 'freq_y783', 'freq_y784', 'freq_y785', 'freq_y786', 'freq_y787', 'freq_y788', 'freq_y789', 'freq_y790', 'freq_y791', 'freq_y792', 'freq_y793', 'freq_y794', 'freq_y795', 'freq_y796', 'freq_y797', 'freq_y798', 'freq_y799', 'freq_y800', 'freq_y801', 'freq_y802', 'freq_y803', 'freq_y804', 'freq_y805', 'freq_y806', 'freq_y807', 'freq_y808', 'freq_y809', 'freq_y810', 'freq_y811', 'freq_y812', 'freq_y813', 'freq_y814', 'freq_y815', 'freq_y816', 'freq_y817', 'freq_y818', 'freq_y819', 'freq_y820', 'freq_y821', 'freq_y822', 'freq_y823', 'freq_y824', 'freq_y825', 'freq_y826', 'freq_y827', 'freq_y828', 'freq_y829', 'freq_y830', 'freq_y831', 'freq_y832', 'freq_y833', 'freq_y834', 'freq_y835', 'freq_y836', 'freq_y837', 'freq_y838', 'freq_y839', 'freq_y840', 'freq_y841', 'freq_y842', 'freq_y843', 'freq_y844', 'freq_y845', 'freq_y846', 'freq_y847', 'freq_y848', 'freq_y849', 'freq_y850', 'freq_y851', 'freq_y852', 'freq_y853', 'freq_y854', 'freq_y855', 'freq_y856', 'freq_y857', 'freq_y858', 'freq_y859', 'freq_y860', 'freq_y861', 'freq_y862', 'freq_y863', 'freq_y864', 'freq_y865', 'freq_y866', 'freq_y867', 'freq_y868', 'freq_y869', 'freq_y870', 'freq_y871', 'freq_y872', 'freq_y873', 'freq_y874', 'freq_y875', 'freq_y876', 'freq_y877', 'freq_y878', 'freq_y879', 'freq_y880', 'freq_y881', 'freq_y882', 'freq_y883', 'freq_y884', 'freq_y885', 'freq_y886', 'freq_y887', 'freq_y888', 'freq_y889', 'freq_y890', 'freq_y891', 'freq_y892', 'freq_y893', 'freq_y894', 'freq_y895', 'freq_y896', 'freq_y897', 'freq_y898', 'freq_y899', 'freq_y900', 'freq_y901', 'freq_y902', 'freq_y903', 'freq_y904', 'freq_y905', 'freq_y906', 'freq_y907', 'freq_y908', 'freq_y909', 'freq_y910', 'freq_y911', 'freq_y912', 'freq_y913', 'freq_y914', 'freq_y915', 'freq_y916', 'freq_y917', 'freq_y918', 'freq_y919', 'freq_y920', 'freq_y921', 'freq_y922', 'freq_y923', 'freq_y924', 'freq_y925', 'freq_y926', 'freq_y927', 'freq_y928', 'freq_y929', 'freq_y930', 'freq_y931', 'freq_y932', 'freq_y933', 'freq_y934', 'freq_y935', 'freq_y936', 'freq_y937', 'freq_y938', 'freq_y939', 'freq_y940', 'freq_y941', 'freq_y942', 'freq_y943', 'freq_y944', 'freq_y945', 'freq_y946', 'freq_y947', 'freq_y948', 'freq_y949', 'freq_y950', 'freq_y951', 'freq_y952', 'freq_y953', 'freq_y954', 'freq_y955', 'freq_y956', 'freq_y957', 'freq_y958', 'freq_y959', 'freq_y960', 'freq_y961', 'freq_y962', 'freq_y963', 'freq_y964', 'freq_y965', 'freq_y966', 'freq_y967', 'freq_y968', 'freq_y969', 'freq_y970', 'freq_y971', 'freq_y972', 'freq_y973', 'freq_y974', 'freq_y975', 'freq_y976', 'freq_y977', 'freq_y978', 'freq_y979', 'freq_y980', 'freq_y981', 'freq_y982', 'freq_y983', 'freq_y984', 'freq_y985', 'freq_y986', 'freq_y987', 'freq_y988', 'freq_y989', 'freq_y990', 'freq_y991', 'freq_y992', 'freq_y993', 'freq_y994', 'freq_y995', 'freq_y996', 'freq_y997', 'freq_y998', 'freq_y999', 'freq_y1000', 'freq_y1001', 'freq_y1002', 'freq_y1003', 'freq_y1004', 'freq_y1005', 'freq_y1006', 'freq_y1007', 'freq_y1008', 'freq_y1009', 'freq_y1010', 'freq_y1011', 'freq_y1012', 'freq_y1013', 'freq_y1014', 'freq_y1015', 'freq_y1016', 'freq_y1017', 'freq_y1018', 'freq_y1019', 'freq_y1020', 'freq_y1021', 'freq_y1022', 'freq_y1023', 'freq_y1024', 'freq_y1025', 'freq_y1026', 'freq_y1027', 'freq_y1028', 'freq_y1029', 'freq_y1030', 'freq_y1031', 'freq_y1032', 'freq_y1033', 'freq_y1034', 'freq_y1035', 'freq_y1036', 'freq_y1037', 'freq_y1038', 'freq_y1039', 'freq_y1040', 'freq_y1041', 'freq_y1042', 'freq_y1043', 'freq_y1044', 'freq_y1045', 'freq_y1046', 'freq_y1047', 'freq_y1048', 'freq_y1049', 'freq_y1050', 'freq_y1051', 'freq_y1052', 'freq_y1053', 'freq_y1054', 'freq_y1055', 'freq_y1056', 'freq_y1057', 'freq_y1058', 'freq_y1059', 'freq_y1060', 'freq_y1061', 'freq_y1062', 'freq_y1063', 'freq_y1064', 'freq_y1065', 'freq_y1066', 'freq_y1067', 'freq_y1068', 'freq_y1069', 'freq_y1070', 'freq_y1071', 'freq_y1072', 'freq_y1073', 'freq_y1074', 'freq_y1075', 'freq_y1076', 'freq_y1077', 'freq_y1078', 'freq_y1079', 'freq_y1080', 'freq_y1081', 'freq_y1082', 'freq_y1083', 'freq_y1084', 'freq_y1085', 'freq_y1086', 'freq_y1087', 'freq_y1088', 'freq_y1089', 'freq_y1090', 'freq_y1091', 'freq_y1092', 'freq_y1093', 'freq_y1094', 'freq_y1095', 'freq_y1096', 'freq_y1097', 'freq_y1098', 'freq_y1099', 'freq_y1100', 'freq_y1101', 'freq_y1102', 'freq_y1103', 'freq_y1104', 'freq_y1105', 'freq_y1106', 'freq_y1107', 'freq_y1108', 'freq_y1109', 'freq_y1110', 'freq_y1111', 'freq_y1112', 'freq_y1113', 'freq_y1114', 'freq_y1115', 'freq_y1116', 'freq_y1117', 'freq_y1118', 'freq_y1119', 'freq_y1120', 'freq_y1121', 'freq_y1122', 'freq_y1123', 'freq_y1124', 'freq_y1125', 'freq_y1126', 'freq_y1127', 'freq_y1128', 'freq_y1129', 'freq_y1130', 'freq_y1131', 'freq_y1132', 'freq_y1133', 'freq_y1134', 'freq_y1135', 'freq_y1136', 'freq_y1137', 'freq_y1138', 'freq_y1139', 'freq_y1140', 'freq_y1141', 'freq_y1142', 'freq_y1143', 'freq_y1144', 'freq_y1145', 'freq_y1146', 'freq_y1147', 'freq_y1148', 'freq_y1149', 'freq_y1150', 'freq_y1151', 'freq_y1152', 'freq_y1153', 'freq_y1154', 'freq_y1155', 'freq_y1156', 'freq_y1157', 'freq_y1158', 'freq_y1159', 'freq_y1160', 'freq_y1161', 'freq_y1162', 'freq_y1163', 'freq_y1164', 'freq_y1165', 'freq_y1166', 'freq_y1167', 'freq_y1168', 'freq_y1169', 'freq_y1170', 'freq_y1171', 'freq_y1172', 'freq_y1173', 'freq_y1174', 'freq_y1175', 'freq_y1176', 'freq_y1177', 'freq_y1178', 'freq_y1179', 'freq_y1180', 'freq_y1181', 'freq_y1182', 'freq_y1183', 'freq_y1184', 'freq_y1185', 'freq_y1186', 'freq_y1187', 'freq_y1188', 'freq_y1189', 'freq_y1190', 'freq_y1191', 'freq_y1192', 'freq_y1193', 'freq_y1194', 'freq_y1195', 'freq_y1196', 'freq_y1197', 'freq_y1198', 'freq_y1199', 'freq_y1200', 'freq_y1201', 'freq_y1202', 'freq_y1203', 'freq_y1204', 'freq_y1205', 'freq_y1206', 'freq_y1207', 'freq_y1208', 'freq_y1209', 'freq_y1210', 'freq_y1211', 'freq_y1212', 'freq_y1213', 'freq_y1214', 'freq_y1215', 'freq_y1216', 'freq_y1217', 'freq_y1218', 'freq_y1219', 'freq_y1220', 'freq_y1221', 'freq_y1222', 'freq_y1223', 'freq_y1224', 'freq_y1225', 'freq_y1226', 'freq_y1227', 'freq_y1228', 'freq_y1229', 'freq_y1230', 'freq_y1231', 'freq_y1232', 'freq_y1233', 'freq_y1234', 'freq_y1235', 'freq_y1236', 'freq_y1237', 'freq_y1238', 'freq_y1239', 'freq_y1240', 'freq_y1241', 'freq_y1242', 'freq_y1243', 'freq_y1244', 'freq_y1245', 'freq_y1246', 'freq_y1247', 'freq_y1248', 'freq_y1249', 'freq_y1250', 'freq_y1251', 'freq_y1252', 'freq_y1253', 'freq_y1254', 'freq_y1255', 'freq_y1256', 'freq_y1257', 'freq_y1258', 'freq_y1259', 'freq_y1260', 'freq_y1261', 'freq_y1262', 'freq_y1263', 'freq_y1264', 'freq_y1265', 'freq_y1266', 'freq_y1267', 'freq_y1268', 'freq_y1269', 'freq_y1270', 'freq_y1271', 'freq_y1272', 'freq_y1273', 'freq_y1274', 'freq_y1275', 'freq_y1276', 'freq_y1277', 'freq_y1278', 'freq_y1279', 'freq_y1280', 'freq_y1281', 'freq_y1282', 'freq_y1283', 'freq_y1284', 'freq_y1285', 'freq_y1286', 'freq_y1287', 'freq_y1288', 'freq_y1289', 'freq_y1290', 'freq_y1291', 'freq_y1292', 'freq_y1293', 'freq_y1294', 'freq_y1295', 'freq_y1296', 'freq_y1297', 'freq_y1298', 'freq_y1299', 'freq_y1300', 'freq_y1301', 'freq_y1302', 'freq_y1303', 'freq_y1304', 'freq_y1305', 'freq_y1306', 'freq_y1307', 'freq_y1308', 'freq_y1309', 'freq_y1310', 'freq_y1311', 'freq_y1312', 'freq_y1313', 'freq_y1314', 'freq_y1315', 'freq_y1316', 'freq_y1317', 'freq_y1318', 'freq_y1319', 'freq_y1320', 'freq_y1321', 'freq_y1322', 'freq_y1323', 'freq_y1324', 'freq_y1325', 'freq_y1326', 'freq_y1327', 'freq_y1328', 'freq_y1329', 'freq_y1330', 'freq_y1331', 'freq_y1332', 'freq_y1333', 'freq_y1334', 'freq_y1335', 'freq_y1336', 'freq_y1337', 'freq_y1338', 'freq_y1339', 'freq_y1340', 'freq_y1341', 'freq_y1342', 'freq_y1343', 'freq_y1344', 'freq_y1345', 'freq_y1346', 'freq_y1347', 'freq_y1348', 'freq_y1349', 'freq_y1350', 'freq_y1351', 'freq_y1352', 'freq_y1353', 'freq_y1354', 'freq_y1355', 'freq_y1356', 'freq_y1357', 'freq_y1358', 'freq_y1359', 'freq_y1360', 'freq_y1361', 'freq_y1362', 'freq_y1363', 'freq_y1364', 'freq_y1365', 'freq_y1366', 'freq_y1367', 'freq_y1368', 'freq_y1369', 'freq_y1370', 'freq_y1371', 'freq_y1372', 'freq_y1373', 'freq_y1374', 'freq_y1375', 'freq_y1376', 'freq_y1377', 'freq_y1378', 'freq_y1379', 'freq_y1380', 'freq_y1381', 'freq_y1382', 'freq_y1383', 'freq_y1384', 'freq_y1385', 'freq_y1386', 'freq_y1387', 'freq_y1388', 'freq_y1389', 'freq_y1390', 'freq_y1391', 'freq_y1392', 'freq_y1393', 'freq_y1394', 'freq_y1395', 'freq_y1396', 'freq_y1397', 'freq_y1398', 'freq_y1399', 'freq_y1400', 'freq_y1401', 'freq_y1402', 'freq_y1403', 'freq_y1404', 'freq_y1405', 'freq_y1406', 'freq_y1407', 'freq_y1408', 'freq_y1409', 'freq_y1410', 'freq_y1411', 'freq_y1412', 'freq_y1413', 'freq_y1414', 'freq_y1415', 'freq_y1416', 'freq_y1417', 'freq_y1418', 'freq_y1419', 'freq_y1420', 'freq_y1421', 'freq_y1422', 'freq_y1423', 'freq_y1424', 'freq_y1425', 'freq_y1426', 'freq_y1427', 'freq_y1428', 'freq_y1429', 'freq_y1430', 'freq_y1431', 'freq_y1432', 'freq_y1433', 'freq_y1434', 'freq_y1435', 'freq_y1436', 'freq_y1437', 'freq_y1438', 'freq_y1439', 'freq_y1440', 'freq_y1441', 'freq_y1442', 'freq_y1443', 'freq_y1444', 'freq_y1445', 'freq_y1446', 'freq_y1447', 'freq_y1448', 'freq_y1449', 'freq_y1450', 'freq_y1451', 'freq_y1452', 'freq_y1453', 'freq_y1454', 'freq_y1455', 'freq_y1456', 'freq_y1457', 'freq_y1458', 'freq_y1459', 'freq_y1460', 'freq_y1461', 'freq_y1462', 'freq_y1463', 'freq_y1464', 'freq_y1465', 'freq_y1466', 'freq_y1467', 'freq_y1468', 'freq_y1469', 'freq_y1470', 'freq_y1471', 'freq_y1472', 'freq_y1473', 'freq_y1474', 'freq_y1475', 'freq_y1476', 'freq_y1477', 'freq_y1478', 'freq_y1479', 'freq_y1480', 'freq_y1481', 'freq_y1482', 'freq_y1483', 'freq_y1484', 'freq_y1485', 'freq_y1486', 'freq_y1487', 'freq_y1488', 'freq_y1489', 'freq_y1490', 'freq_y1491', 'freq_y1492', 'freq_y1493', 'freq_y1494', 'freq_y1495', 'freq_y1496', 'freq_y1497', 'freq_y1498', 'freq_y1499', 'freq_y1500', 'freq_y1501', 'freq_y1502', 'freq_y1503', 'freq_y1504', 'freq_y1505', 'freq_y1506', 'freq_y1507', 'freq_y1508', 'freq_y1509', 'freq_y1510', 'freq_y1511', 'freq_y1512', 'freq_y1513', 'freq_y1514', 'freq_y1515', 'freq_y1516', 'freq_y1517', 'freq_y1518', 'freq_y1519', 'freq_y1520', 'freq_y1521', 'freq_y1522', 'freq_y1523', 'freq_y1524', 'freq_y1525', 'freq_y1526', 'freq_y1527', 'freq_y1528', 'freq_y1529', 'freq_y1530', 'freq_y1531', 'freq_y1532', 'freq_y1533', 'freq_y1534', 'freq_y1535', 'freq_y1536', 'freq_y1537', 'freq_y1538', 'freq_y1539', 'freq_y1540', 'freq_y1541', 'freq_y1542', 'freq_y1543', 'freq_y1544', 'freq_y1545', 'freq_y1546', 'freq_y1547', 'freq_y1548', 'freq_y1549', 'freq_y1550', 'freq_y1551', 'freq_y1552', 'freq_y1553', 'freq_y1554', 'freq_y1555', 'freq_y1556', 'freq_y1557', 'freq_y1558', 'freq_y1559', 'freq_y1560', 'freq_y1561', 'freq_y1562', 'freq_y1563', 'freq_y1564', 'freq_y1565', 'freq_y1566', 'freq_y1567', 'freq_y1568', 'freq_y1569', 'freq_y1570', 'freq_y1571', 'freq_y1572', 'freq_y1573', 'freq_y1574', 'freq_y1575', 'freq_y1576', 'freq_y1577', 'freq_y1578', 'freq_y1579', 'freq_y1580', 'freq_y1581', 'freq_y1582', 'freq_y1583', 'freq_y1584', 'freq_y1585', 'freq_y1586', 'freq_y1587', 'freq_y1588', 'freq_y1589', 'freq_y1590', 'freq_y1591', 'freq_y1592', 'freq_y1593', 'freq_y1594', 'freq_y1595', 'freq_y1596', 'freq_y1597', 'freq_y1598', 'freq_y1599', 'freq_y1600', 'freq_y1601', 'freq_y1602', 'freq_y1603', 'freq_y1604', 'freq_y1605', 'freq_y1606', 'freq_y1607', 'freq_y1608', 'freq_y1609', 'freq_y1610', 'freq_y1611', 'freq_y1612', 'freq_y1613', 'freq_y1614', 'freq_y1615', 'freq_y1616', 'freq_y1617', 'freq_y1618', 'freq_y1619', 'freq_y1620', 'freq_y1621', 'freq_y1622', 'freq_y1623', 'freq_y1624', 'freq_y1625', 'freq_y1626', 'freq_y1627', 'freq_y1628', 'freq_y1629', 'freq_y1630', 'freq_y1631', 'freq_y1632', 'freq_y1633', 'freq_y1634', 'freq_y1635', 'freq_y1636', 'freq_y1637', 'freq_y1638', 'freq_y1639', 'freq_y1640', 'freq_y1641', 'freq_y1642', 'freq_y1643', 'freq_y1644', 'freq_y1645', 'freq_y1646', 'freq_y1647', 'freq_y1648', 'freq_y1649', 'freq_y1650', 'freq_y1651', 'freq_y1652', 'freq_y1653', 'freq_y1654', 'freq_y1655', 'freq_y1656', 'freq_y1657', 'freq_y1658', 'freq_y1659', 'freq_y1660', 'freq_y1661', 'freq_y1662', 'freq_y1663', 'freq_y1664', 'freq_y1665', 'freq_y1666', 'freq_y1667', 'freq_y1668', 'freq_y1669', 'freq_y1670', 'freq_y1671', 'freq_y1672', 'freq_y1673', 'freq_y1674', 'freq_y1675', 'freq_y1676', 'freq_y1677', 'freq_y1678', 'freq_y1679', 'freq_y1680', 'freq_y1681', 'freq_y1682', 'freq_y1683', 'freq_y1684', 'freq_y1685', 'freq_y1686', 'freq_y1687', 'freq_y1688', 'freq_y1689', 'freq_y1690', 'freq_y1691', 'freq_y1692', 'freq_y1693', 'freq_y1694', 'freq_y1695', 'freq_y1696', 'freq_y1697', 'freq_y1698', 'freq_y1699', 'freq_y1700', 'freq_y1701', 'freq_y1702', 'freq_y1703', 'freq_y1704', 'freq_y1705', 'freq_y1706', 'freq_y1707', 'freq_y1708', 'freq_y1709', 'freq_y1710', 'freq_y1711', 'freq_y1712', 'freq_y1713', 'freq_y1714', 'freq_y1715', 'freq_y1716', 'freq_y1717', 'freq_y1718', 'freq_y1719', 'freq_y1720', 'freq_y1721', 'freq_y1722', 'freq_y1723', 'freq_y1724', 'freq_y1725', 'freq_y1726', 'freq_y1727', 'freq_y1728', 'freq_y1729', 'freq_y1730', 'freq_y1731', 'freq_y1732', 'freq_y1733', 'freq_y1734', 'freq_y1735', 'freq_y1736', 'freq_y1737', 'freq_y1738', 'freq_y1739', 'freq_y1740', 'freq_y1741', 'freq_y1742', 'freq_y1743', 'freq_y1744', 'freq_y1745', 'freq_y1746', 'freq_y1747', 'freq_y1748', 'freq_y1749', 'freq_y1750', 'freq_y1751', 'freq_y1752', 'freq_y1753', 'freq_y1754', 'freq_y1755', 'freq_y1756', 'freq_y1757', 'freq_y1758', 'freq_y1759', 'freq_y1760', 'freq_y1761', 'freq_y1762', 'freq_y1763', 'freq_y1764', 'freq_y1765', 'freq_y1766', 'freq_y1767', 'freq_y1768', 'freq_y1769', 'freq_y1770', 'freq_y1771', 'freq_y1772', 'freq_y1773', 'freq_y1774', 'freq_y1775', 'freq_y1776', 'freq_y1777', 'freq_y1778', 'freq_y1779', 'freq_y1780', 'freq_y1781', 'freq_y1782', 'freq_y1783', 'freq_y1784', 'freq_y1785', 'freq_y1786', 'freq_y1787', 'freq_y1788', 'freq_y1789', 'freq_y1790', 'freq_y1791', 'freq_y1792', 'freq_y1793', 'freq_y1794', 'freq_y1795', 'freq_y1796', 'freq_y1797', 'freq_y1798', 'freq_y1799', 'freq_y1800', 'freq_y1801', 'freq_y1802', 'freq_y1803', 'freq_y1804', 'freq_y1805', 'freq_y1806', 'freq_y1807', 'freq_y1808', 'freq_y1809', 'freq_y1810', 'freq_y1811', 'freq_y1812', 'freq_y1813', 'freq_y1814', 'freq_y1815', 'freq_y1816', 'freq_y1817', 'freq_y1818', 'freq_y1819', 'freq_y1820', 'freq_y1821', 'freq_y1822', 'freq_y1823', 'freq_y1824', 'freq_y1825', 'freq_y1826', 'freq_y1827', 'freq_y1828', 'freq_y1829', 'freq_y1830', 'freq_y1831', 'freq_y1832', 'freq_y1833', 'freq_y1834', 'freq_y1835', 'freq_y1836', 'freq_y1837', 'freq_y1838', 'freq_y1839', 'freq_y1840', 'freq_y1841', 'freq_y1842', 'freq_y1843', 'freq_y1844', 'freq_y1845', 'freq_y1846', 'freq_y1847', 'freq_y1848', 'freq_y1849', 'freq_y1850', 'freq_y1851', 'freq_y1852', 'freq_y1853', 'freq_y1854', 'freq_y1855', 'freq_y1856', 'freq_y1857', 'freq_y1858', 'freq_y1859', 'freq_y1860', 'freq_y1861', 'freq_y1862', 'freq_y1863', 'freq_y1864', 'freq_y1865', 'freq_y1866', 'freq_y1867', 'freq_y1868', 'freq_y1869', 'freq_y1870', 'freq_y1871', 'freq_y1872', 'freq_y1873', 'freq_y1874', 'freq_y1875', 'freq_y1876', 'freq_y1877', 'freq_y1878', 'freq_y1879', 'freq_y1880', 'freq_y1881', 'freq_y1882', 'freq_y1883', 'freq_y1884', 'freq_y1885', 'freq_y1886', 'freq_y1887', 'freq_y1888', 'freq_y1889', 'freq_y1890', 'freq_y1891', 'freq_y1892', 'freq_y1893', 'freq_y1894', 'freq_y1895', 'freq_y1896', 'freq_y1897', 'freq_y1898', 'freq_y1899', 'freq_y1900', 'freq_y1901', 'freq_y1902', 'freq_y1903', 'freq_y1904', 'freq_y1905', 'freq_y1906', 'freq_y1907', 'freq_y1908', 'freq_y1909', 'freq_y1910', 'freq_y1911', 'freq_y1912', 'freq_y1913', 'freq_y1914', 'freq_y1915', 'freq_y1916', 'freq_y1917', 'freq_y1918', 'freq_y1919', 'freq_y1920', 'freq_y1921', 'freq_y1922', 'freq_y1923', 'freq_y1924', 'freq_y1925', 'freq_y1926', 'freq_y1927', 'freq_y1928', 'freq_y1929', 'freq_y1930', 'freq_y1931', 'freq_y1932', 'freq_y1933', 'freq_y1934', 'freq_y1935', 'freq_y1936', 'freq_y1937', 'freq_y1938', 'freq_y1939', 'freq_y1940', 'freq_y1941', 'freq_y1942', 'freq_y1943', 'freq_y1944', 'freq_y1945', 'freq_y1946', 'freq_y1947', 'freq_y1948', 'freq_y1949', 'freq_y1950', 'freq_y1951', 'freq_y1952', 'freq_y1953', 'freq_y1954', 'freq_y1955', 'freq_y1956', 'freq_y1957', 'freq_y1958', 'freq_y1959', 'freq_y1960', 'freq_y1961', 'freq_y1962', 'freq_y1963', 'freq_y1964', 'freq_y1965', 'freq_y1966', 'freq_y1967', 'freq_y1968', 'freq_y1969', 'freq_y1970', 'freq_y1971', 'freq_y1972', 'freq_y1973', 'freq_y1974', 'freq_y1975', 'freq_y1976', 'freq_y1977', 'freq_y1978', 'freq_y1979', 'freq_y1980', 'freq_y1981', 'freq_y1982', 'freq_y1983', 'freq_y1984', 'freq_y1985', 'freq_y1986', 'freq_y1987', 'freq_y1988', 'freq_y1989', 'freq_y1990', 'freq_y1991', 'freq_y1992', 'freq_y1993', 'freq_y1994', 'freq_y1995', 'freq_y1996', 'freq_y1997', 'freq_y1998', 'freq_y1999', 'freq_y2000', 'freq_y2001', 'freq_y2002', 'freq_y2003', 'freq_y2004', 'freq_y2005', 'freq_y2006', 'freq_y2007', 'freq_y2008', 'freq_y2009', 'freq_y2010', 'freq_y2011', 'freq_y2012', 'freq_y2013', 'freq_y2014', 'freq_y2015', 'freq_y2016', 'freq_y2017', 'freq_y2018', 'freq_y2019', 'freq_y2020', 'freq_y2021', 'freq_y2022', 'freq_y2023', 'freq_y2024', 'freq_y2025', 'freq_y2026', 'freq_y2027', 'freq_y2028', 'freq_y2029', 'freq_y2030', 'freq_y2031', 'freq_y2032', 'freq_y2033', 'freq_y2034', 'freq_y2035', 'freq_y2036', 'freq_y2037', 'freq_y2038', 'freq_y2039', 'freq_y2040', 'freq_y2041', 'freq_y2042', 'freq_y2043', 'freq_y2044', 'freq_y2045', 'freq_y2046', 'freq_y2047']\n"
     ]
    }
   ],
   "source": [
    "columns = []\n",
    "for i in range(y_.shape[1]):\n",
    "    columns.append(\"freq_y{}\".format(i))\n",
    "print(columns)"
   ]
  },
  {
   "cell_type": "code",
   "execution_count": 20,
   "id": "129564fa",
   "metadata": {},
   "outputs": [
    {
     "name": "stdout",
     "output_type": "stream",
     "text": [
      "2048\n"
     ]
    }
   ],
   "source": [
    "print(len(columns))"
   ]
  },
  {
   "cell_type": "code",
   "execution_count": 21,
   "id": "c6294905",
   "metadata": {},
   "outputs": [],
   "source": [
    "def dataframe_creator(array, df = pd.DataFrame()):\n",
    "    values = []\n",
    "    for i in range(array.shape[0]):\n",
    "        values.append(array[i][0:2048].tolist())\n",
    "\n",
    "        \n",
    "        medium = pd.DataFrame([values[i]], columns = columns)\n",
    "        \n",
    "        \n",
    "        df = pd.concat([df, medium], axis = 0)\n",
    "    return df "
   ]
  },
  {
   "cell_type": "code",
   "execution_count": 22,
   "id": "14fe9239",
   "metadata": {},
   "outputs": [],
   "source": [
    "df = dataframe_creator(y_, \n",
    "                         df =pd.DataFrame(columns = columns))"
   ]
  },
  {
   "cell_type": "code",
   "execution_count": 23,
   "id": "a04e36d9",
   "metadata": {},
   "outputs": [],
   "source": [
    "#df = df.reset_index()"
   ]
  },
  {
   "cell_type": "code",
   "execution_count": 23,
   "id": "d8ce8bed",
   "metadata": {},
   "outputs": [
    {
     "data": {
      "text/html": [
       "<div>\n",
       "<style scoped>\n",
       "    .dataframe tbody tr th:only-of-type {\n",
       "        vertical-align: middle;\n",
       "    }\n",
       "\n",
       "    .dataframe tbody tr th {\n",
       "        vertical-align: top;\n",
       "    }\n",
       "\n",
       "    .dataframe thead th {\n",
       "        text-align: right;\n",
       "    }\n",
       "</style>\n",
       "<table border=\"1\" class=\"dataframe\">\n",
       "  <thead>\n",
       "    <tr style=\"text-align: right;\">\n",
       "      <th></th>\n",
       "      <th>freq_y0</th>\n",
       "      <th>freq_y1</th>\n",
       "      <th>freq_y2</th>\n",
       "      <th>freq_y3</th>\n",
       "      <th>freq_y4</th>\n",
       "      <th>freq_y5</th>\n",
       "      <th>freq_y6</th>\n",
       "      <th>freq_y7</th>\n",
       "      <th>freq_y8</th>\n",
       "      <th>freq_y9</th>\n",
       "      <th>...</th>\n",
       "      <th>freq_y2038</th>\n",
       "      <th>freq_y2039</th>\n",
       "      <th>freq_y2040</th>\n",
       "      <th>freq_y2041</th>\n",
       "      <th>freq_y2042</th>\n",
       "      <th>freq_y2043</th>\n",
       "      <th>freq_y2044</th>\n",
       "      <th>freq_y2045</th>\n",
       "      <th>freq_y2046</th>\n",
       "      <th>freq_y2047</th>\n",
       "    </tr>\n",
       "  </thead>\n",
       "  <tbody>\n",
       "    <tr>\n",
       "      <th>0</th>\n",
       "      <td>0.000318</td>\n",
       "      <td>0.000452</td>\n",
       "      <td>0.000455</td>\n",
       "      <td>0.000455</td>\n",
       "      <td>0.000451</td>\n",
       "      <td>0.000445</td>\n",
       "      <td>0.000438</td>\n",
       "      <td>0.000434</td>\n",
       "      <td>0.000433</td>\n",
       "      <td>0.000436</td>\n",
       "      <td>...</td>\n",
       "      <td>0.011028</td>\n",
       "      <td>0.011697</td>\n",
       "      <td>0.012383</td>\n",
       "      <td>0.013054</td>\n",
       "      <td>0.013653</td>\n",
       "      <td>0.014152</td>\n",
       "      <td>0.014534</td>\n",
       "      <td>0.014795</td>\n",
       "      <td>0.014942</td>\n",
       "      <td>0.014999</td>\n",
       "    </tr>\n",
       "    <tr>\n",
       "      <th>0</th>\n",
       "      <td>0.000242</td>\n",
       "      <td>0.000351</td>\n",
       "      <td>0.000367</td>\n",
       "      <td>0.000384</td>\n",
       "      <td>0.0004</td>\n",
       "      <td>0.000414</td>\n",
       "      <td>0.000424</td>\n",
       "      <td>0.00043</td>\n",
       "      <td>0.000432</td>\n",
       "      <td>0.000431</td>\n",
       "      <td>...</td>\n",
       "      <td>0.007156</td>\n",
       "      <td>0.007703</td>\n",
       "      <td>0.008175</td>\n",
       "      <td>0.008551</td>\n",
       "      <td>0.008815</td>\n",
       "      <td>0.008963</td>\n",
       "      <td>0.009001</td>\n",
       "      <td>0.008944</td>\n",
       "      <td>0.008821</td>\n",
       "      <td>0.008683</td>\n",
       "    </tr>\n",
       "    <tr>\n",
       "      <th>0</th>\n",
       "      <td>0.000418</td>\n",
       "      <td>0.000595</td>\n",
       "      <td>0.000603</td>\n",
       "      <td>0.000609</td>\n",
       "      <td>0.000617</td>\n",
       "      <td>0.000621</td>\n",
       "      <td>0.000621</td>\n",
       "      <td>0.000619</td>\n",
       "      <td>0.000615</td>\n",
       "      <td>0.000613</td>\n",
       "      <td>...</td>\n",
       "      <td>0.006355</td>\n",
       "      <td>0.006773</td>\n",
       "      <td>0.007094</td>\n",
       "      <td>0.007305</td>\n",
       "      <td>0.0074</td>\n",
       "      <td>0.007381</td>\n",
       "      <td>0.007262</td>\n",
       "      <td>0.007066</td>\n",
       "      <td>0.006827</td>\n",
       "      <td>0.006595</td>\n",
       "    </tr>\n",
       "    <tr>\n",
       "      <th>0</th>\n",
       "      <td>0.00028</td>\n",
       "      <td>0.000397</td>\n",
       "      <td>0.000399</td>\n",
       "      <td>0.000398</td>\n",
       "      <td>0.000394</td>\n",
       "      <td>0.000387</td>\n",
       "      <td>0.000378</td>\n",
       "      <td>0.000372</td>\n",
       "      <td>0.000368</td>\n",
       "      <td>0.000368</td>\n",
       "      <td>...</td>\n",
       "      <td>0.009184</td>\n",
       "      <td>0.010301</td>\n",
       "      <td>0.011396</td>\n",
       "      <td>0.012439</td>\n",
       "      <td>0.013396</td>\n",
       "      <td>0.014235</td>\n",
       "      <td>0.014929</td>\n",
       "      <td>0.015461</td>\n",
       "      <td>0.015824</td>\n",
       "      <td>0.016018</td>\n",
       "    </tr>\n",
       "    <tr>\n",
       "      <th>0</th>\n",
       "      <td>0.000229</td>\n",
       "      <td>0.00033</td>\n",
       "      <td>0.000339</td>\n",
       "      <td>0.000347</td>\n",
       "      <td>0.000353</td>\n",
       "      <td>0.000357</td>\n",
       "      <td>0.000358</td>\n",
       "      <td>0.000363</td>\n",
       "      <td>0.000375</td>\n",
       "      <td>0.000394</td>\n",
       "      <td>...</td>\n",
       "      <td>0.009635</td>\n",
       "      <td>0.010287</td>\n",
       "      <td>0.010849</td>\n",
       "      <td>0.011287</td>\n",
       "      <td>0.011581</td>\n",
       "      <td>0.011724</td>\n",
       "      <td>0.011724</td>\n",
       "      <td>0.011605</td>\n",
       "      <td>0.011405</td>\n",
       "      <td>0.011188</td>\n",
       "    </tr>\n",
       "    <tr>\n",
       "      <th>...</th>\n",
       "      <td>...</td>\n",
       "      <td>...</td>\n",
       "      <td>...</td>\n",
       "      <td>...</td>\n",
       "      <td>...</td>\n",
       "      <td>...</td>\n",
       "      <td>...</td>\n",
       "      <td>...</td>\n",
       "      <td>...</td>\n",
       "      <td>...</td>\n",
       "      <td>...</td>\n",
       "      <td>...</td>\n",
       "      <td>...</td>\n",
       "      <td>...</td>\n",
       "      <td>...</td>\n",
       "      <td>...</td>\n",
       "      <td>...</td>\n",
       "      <td>...</td>\n",
       "      <td>...</td>\n",
       "      <td>...</td>\n",
       "      <td>...</td>\n",
       "    </tr>\n",
       "    <tr>\n",
       "      <th>0</th>\n",
       "      <td>0.000119</td>\n",
       "      <td>0.000173</td>\n",
       "      <td>0.000183</td>\n",
       "      <td>0.000194</td>\n",
       "      <td>0.000205</td>\n",
       "      <td>0.000216</td>\n",
       "      <td>0.000227</td>\n",
       "      <td>0.000238</td>\n",
       "      <td>0.000249</td>\n",
       "      <td>0.00026</td>\n",
       "      <td>...</td>\n",
       "      <td>0.01076</td>\n",
       "      <td>0.012273</td>\n",
       "      <td>0.013703</td>\n",
       "      <td>0.015003</td>\n",
       "      <td>0.01613</td>\n",
       "      <td>0.017053</td>\n",
       "      <td>0.017752</td>\n",
       "      <td>0.018224</td>\n",
       "      <td>0.018482</td>\n",
       "      <td>0.018563</td>\n",
       "    </tr>\n",
       "    <tr>\n",
       "      <th>0</th>\n",
       "      <td>0.000158</td>\n",
       "      <td>0.000228</td>\n",
       "      <td>0.000238</td>\n",
       "      <td>0.000249</td>\n",
       "      <td>0.00026</td>\n",
       "      <td>0.000268</td>\n",
       "      <td>0.000274</td>\n",
       "      <td>0.000276</td>\n",
       "      <td>0.000275</td>\n",
       "      <td>0.000272</td>\n",
       "      <td>...</td>\n",
       "      <td>0.018895</td>\n",
       "      <td>0.021145</td>\n",
       "      <td>0.023195</td>\n",
       "      <td>0.024977</td>\n",
       "      <td>0.026438</td>\n",
       "      <td>0.027545</td>\n",
       "      <td>0.028288</td>\n",
       "      <td>0.028687</td>\n",
       "      <td>0.02879</td>\n",
       "      <td>0.028682</td>\n",
       "    </tr>\n",
       "    <tr>\n",
       "      <th>0</th>\n",
       "      <td>0.000148</td>\n",
       "      <td>0.000216</td>\n",
       "      <td>0.00023</td>\n",
       "      <td>0.000245</td>\n",
       "      <td>0.000261</td>\n",
       "      <td>0.000277</td>\n",
       "      <td>0.000293</td>\n",
       "      <td>0.000306</td>\n",
       "      <td>0.000317</td>\n",
       "      <td>0.000324</td>\n",
       "      <td>...</td>\n",
       "      <td>0.021136</td>\n",
       "      <td>0.023808</td>\n",
       "      <td>0.026277</td>\n",
       "      <td>0.028463</td>\n",
       "      <td>0.0303</td>\n",
       "      <td>0.031744</td>\n",
       "      <td>0.032777</td>\n",
       "      <td>0.033408</td>\n",
       "      <td>0.033675</td>\n",
       "      <td>0.033643</td>\n",
       "    </tr>\n",
       "    <tr>\n",
       "      <th>0</th>\n",
       "      <td>0.000245</td>\n",
       "      <td>0.000348</td>\n",
       "      <td>0.000349</td>\n",
       "      <td>0.000349</td>\n",
       "      <td>0.000346</td>\n",
       "      <td>0.000342</td>\n",
       "      <td>0.000336</td>\n",
       "      <td>0.000329</td>\n",
       "      <td>0.000322</td>\n",
       "      <td>0.000315</td>\n",
       "      <td>...</td>\n",
       "      <td>0.017589</td>\n",
       "      <td>0.020049</td>\n",
       "      <td>0.022394</td>\n",
       "      <td>0.024549</td>\n",
       "      <td>0.026446</td>\n",
       "      <td>0.028033</td>\n",
       "      <td>0.029274</td>\n",
       "      <td>0.030156</td>\n",
       "      <td>0.030692</td>\n",
       "      <td>0.030926</td>\n",
       "    </tr>\n",
       "    <tr>\n",
       "      <th>0</th>\n",
       "      <td>0.000084</td>\n",
       "      <td>0.000118</td>\n",
       "      <td>0.000118</td>\n",
       "      <td>0.000117</td>\n",
       "      <td>0.000114</td>\n",
       "      <td>0.000111</td>\n",
       "      <td>0.000108</td>\n",
       "      <td>0.000105</td>\n",
       "      <td>0.000102</td>\n",
       "      <td>0.000102</td>\n",
       "      <td>...</td>\n",
       "      <td>0.004755</td>\n",
       "      <td>0.005374</td>\n",
       "      <td>0.005953</td>\n",
       "      <td>0.006472</td>\n",
       "      <td>0.006916</td>\n",
       "      <td>0.007271</td>\n",
       "      <td>0.007532</td>\n",
       "      <td>0.007699</td>\n",
       "      <td>0.007781</td>\n",
       "      <td>0.007794</td>\n",
       "    </tr>\n",
       "  </tbody>\n",
       "</table>\n",
       "<p>2392 rows × 2048 columns</p>\n",
       "</div>"
      ],
      "text/plain": [
       "     freq_y0   freq_y1   freq_y2   freq_y3   freq_y4   freq_y5   freq_y6  \\\n",
       "0   0.000318  0.000452  0.000455  0.000455  0.000451  0.000445  0.000438   \n",
       "0   0.000242  0.000351  0.000367  0.000384    0.0004  0.000414  0.000424   \n",
       "0   0.000418  0.000595  0.000603  0.000609  0.000617  0.000621  0.000621   \n",
       "0    0.00028  0.000397  0.000399  0.000398  0.000394  0.000387  0.000378   \n",
       "0   0.000229   0.00033  0.000339  0.000347  0.000353  0.000357  0.000358   \n",
       "..       ...       ...       ...       ...       ...       ...       ...   \n",
       "0   0.000119  0.000173  0.000183  0.000194  0.000205  0.000216  0.000227   \n",
       "0   0.000158  0.000228  0.000238  0.000249   0.00026  0.000268  0.000274   \n",
       "0   0.000148  0.000216   0.00023  0.000245  0.000261  0.000277  0.000293   \n",
       "0   0.000245  0.000348  0.000349  0.000349  0.000346  0.000342  0.000336   \n",
       "0   0.000084  0.000118  0.000118  0.000117  0.000114  0.000111  0.000108   \n",
       "\n",
       "     freq_y7   freq_y8   freq_y9  ... freq_y2038 freq_y2039 freq_y2040  \\\n",
       "0   0.000434  0.000433  0.000436  ...   0.011028   0.011697   0.012383   \n",
       "0    0.00043  0.000432  0.000431  ...   0.007156   0.007703   0.008175   \n",
       "0   0.000619  0.000615  0.000613  ...   0.006355   0.006773   0.007094   \n",
       "0   0.000372  0.000368  0.000368  ...   0.009184   0.010301   0.011396   \n",
       "0   0.000363  0.000375  0.000394  ...   0.009635   0.010287   0.010849   \n",
       "..       ...       ...       ...  ...        ...        ...        ...   \n",
       "0   0.000238  0.000249   0.00026  ...    0.01076   0.012273   0.013703   \n",
       "0   0.000276  0.000275  0.000272  ...   0.018895   0.021145   0.023195   \n",
       "0   0.000306  0.000317  0.000324  ...   0.021136   0.023808   0.026277   \n",
       "0   0.000329  0.000322  0.000315  ...   0.017589   0.020049   0.022394   \n",
       "0   0.000105  0.000102  0.000102  ...   0.004755   0.005374   0.005953   \n",
       "\n",
       "   freq_y2041 freq_y2042 freq_y2043 freq_y2044 freq_y2045 freq_y2046  \\\n",
       "0    0.013054   0.013653   0.014152   0.014534   0.014795   0.014942   \n",
       "0    0.008551   0.008815   0.008963   0.009001   0.008944   0.008821   \n",
       "0    0.007305     0.0074   0.007381   0.007262   0.007066   0.006827   \n",
       "0    0.012439   0.013396   0.014235   0.014929   0.015461   0.015824   \n",
       "0    0.011287   0.011581   0.011724   0.011724   0.011605   0.011405   \n",
       "..        ...        ...        ...        ...        ...        ...   \n",
       "0    0.015003    0.01613   0.017053   0.017752   0.018224   0.018482   \n",
       "0    0.024977   0.026438   0.027545   0.028288   0.028687    0.02879   \n",
       "0    0.028463     0.0303   0.031744   0.032777   0.033408   0.033675   \n",
       "0    0.024549   0.026446   0.028033   0.029274   0.030156   0.030692   \n",
       "0    0.006472   0.006916   0.007271   0.007532   0.007699   0.007781   \n",
       "\n",
       "   freq_y2047  \n",
       "0    0.014999  \n",
       "0    0.008683  \n",
       "0    0.006595  \n",
       "0    0.016018  \n",
       "0    0.011188  \n",
       "..        ...  \n",
       "0    0.018563  \n",
       "0    0.028682  \n",
       "0    0.033643  \n",
       "0    0.030926  \n",
       "0    0.007794  \n",
       "\n",
       "[2392 rows x 2048 columns]"
      ]
     },
     "execution_count": 23,
     "metadata": {},
     "output_type": "execute_result"
    }
   ],
   "source": [
    "df"
   ]
  },
  {
   "cell_type": "code",
   "execution_count": 24,
   "id": "f37816e7",
   "metadata": {},
   "outputs": [],
   "source": [
    "df.to_csv(dir_path + '/y-axis-spectogram_coef.csv')"
   ]
  },
  {
   "cell_type": "code",
   "execution_count": null,
   "id": "b16403a3",
   "metadata": {},
   "outputs": [],
   "source": []
  },
  {
   "cell_type": "code",
   "execution_count": null,
   "id": "2da6a31d",
   "metadata": {},
   "outputs": [],
   "source": []
  }
 ],
 "metadata": {
  "kernelspec": {
   "display_name": "Python 3 (ipykernel)",
   "language": "python",
   "name": "python3"
  },
  "language_info": {
   "codemirror_mode": {
    "name": "ipython",
    "version": 3
   },
   "file_extension": ".py",
   "mimetype": "text/x-python",
   "name": "python",
   "nbconvert_exporter": "python",
   "pygments_lexer": "ipython3",
   "version": "3.9.9"
  }
 },
 "nbformat": 4,
 "nbformat_minor": 5
}
