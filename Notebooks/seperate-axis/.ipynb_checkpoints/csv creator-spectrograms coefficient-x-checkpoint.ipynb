{
 "cells": [
  {
   "cell_type": "markdown",
   "id": "a10707b4",
   "metadata": {},
   "source": [
    "## Imports:"
   ]
  },
  {
   "cell_type": "code",
   "execution_count": 1,
   "id": "5b0b2dcc",
   "metadata": {},
   "outputs": [
    {
     "ename": "RuntimeError",
     "evalue": "module compiled against API version 0xe but this version of numpy is 0xd",
     "output_type": "error",
     "traceback": [
      "\u001b[0;31m---------------------------------------------------------------------------\u001b[0m",
      "\u001b[0;31mRuntimeError\u001b[0m                              Traceback (most recent call last)",
      "\u001b[0;31mRuntimeError\u001b[0m: module compiled against API version 0xe but this version of numpy is 0xd"
     ]
    }
   ],
   "source": [
    "import scipy.io\n",
    "import os\n",
    "import pandas\n",
    "import numpy as np\n",
    "import matplotlib.pyplot as plt\n",
    "import matplotlib.pylab as plt_lab\n",
    "import matplotlib.gridspec as gridspec\n",
    "import obspy\n",
    "import pandas as pd"
   ]
  },
  {
   "cell_type": "markdown",
   "id": "41b4c77f",
   "metadata": {},
   "source": [
    "## Load data:\n",
    "We are going to use this data to plot spectograms of SCG signals. "
   ]
  },
  {
   "cell_type": "code",
   "execution_count": 2,
   "id": "75a415fd",
   "metadata": {},
   "outputs": [],
   "source": [
    "dir_path = \"/Users/ecem/Desktop/seperate-axis\""
   ]
  },
  {
   "cell_type": "code",
   "execution_count": 3,
   "id": "4cf3f50e",
   "metadata": {},
   "outputs": [],
   "source": [
    "x = np.load(dir_path + \"/x-10sec.npy\", allow_pickle= True)"
   ]
  },
  {
   "cell_type": "code",
   "execution_count": 4,
   "id": "f6c1178a",
   "metadata": {},
   "outputs": [
    {
     "data": {
      "text/plain": [
       "(2392, 2560)"
      ]
     },
     "execution_count": 4,
     "metadata": {},
     "output_type": "execute_result"
    }
   ],
   "source": [
    "x.shape"
   ]
  },
  {
   "cell_type": "code",
   "execution_count": 5,
   "id": "e1d59219",
   "metadata": {},
   "outputs": [],
   "source": [
    "def converter(array):\n",
    "    x= []\n",
    "    for i in range(array.shape[0]):\n",
    "        x.append(obspy.core.trace.Trace(array[i]))\n",
    "        \n",
    "        x[i].stats.sampling_rate = 256\n",
    "    return np.array(x)"
   ]
  },
  {
   "cell_type": "code",
   "execution_count": 6,
   "id": "9cbf9437",
   "metadata": {},
   "outputs": [],
   "source": [
    "x = converter(x)\n"
   ]
  },
  {
   "cell_type": "markdown",
   "id": "8df87e77",
   "metadata": {},
   "source": [
    "## comparison of two dataset:\n",
    "\n",
    "Now we will to try visualize spectograms. So far we have used Obspy to visualize SCG signals. However, with obspy we are not able to plot spectograms side by side. This is important for us because we want to see spectograms of x,y and z components simultaneously for both healty and diseased people. So, from now on I will refer to those plots, for 3 components of healty and diseased (in total six plot, as \"PAIR\".\n",
    "\n",
    "\n",
    "I have mentioned that Obpsy has a problem in side by side plotting. So I changed it source code. I have added and deleted some part to operate according to my need. ???????????\n",
    "\n",
    "Thats why from now on we are going to use **output_spectogram** function to get values needed to plot spectogram."
   ]
  },
  {
   "cell_type": "markdown",
   "id": "0e61264a",
   "metadata": {},
   "source": [
    "These are the imports for output_spectogram function to work."
   ]
  },
  {
   "cell_type": "code",
   "execution_count": 7,
   "id": "d37506c8",
   "metadata": {},
   "outputs": [],
   "source": [
    "from obspy.imaging.cm import obspy_sequential\n",
    "import math\n",
    "from matplotlib import mlab\n",
    "from matplotlib.colors import Normalize"
   ]
  },
  {
   "cell_type": "code",
   "execution_count": 8,
   "id": "7422b887",
   "metadata": {},
   "outputs": [],
   "source": [
    "def _nearest_pow_2(x):\n",
    "    a = math.pow(2, math.ceil(np.log2(x)))\n",
    "    b = math.pow(2, math.floor(np.log2(x)))\n",
    "    if abs(a - x) < abs(b - x):\n",
    "        return a\n",
    "    else:\n",
    "        return b"
   ]
  },
  {
   "cell_type": "code",
   "execution_count": 9,
   "id": "abafe36e",
   "metadata": {},
   "outputs": [],
   "source": [
    "def output_spectrogram(data, samp_rate, per_lap=0.9, wlen=None, log=False,\n",
    "                outfile=None, fmt=None, axes=None, dbscale=False,\n",
    "                mult=8.0, cmap=obspy_sequential, zorder=None, title=None,\n",
    "                show=True, clip=[0.0, 1.0]):\n",
    " \n",
    "    import matplotlib.pyplot as plt\n",
    "    \n",
    "    # enforce float for samp_rate\n",
    "    samp_rate = float(samp_rate)\n",
    "\n",
    "    # set wlen from samp_rate if not specified otherwise\n",
    "    if not wlen:\n",
    "        wlen = samp_rate / 100.\n",
    "\n",
    "    npts = len(data)\n",
    "    # nfft needs to be an integer, otherwise a deprecation will be raised\n",
    "    # XXX add condition for too many windows => calculation takes for ever\n",
    "    nfft = int(_nearest_pow_2(wlen * samp_rate))\n",
    "    if nfft > npts:\n",
    "        nfft = int(_nearest_pow_2(npts / 8.0))\n",
    "\n",
    "    if mult is not None:\n",
    "        mult = int(_nearest_pow_2(mult))\n",
    "        mult = mult * nfft\n",
    "    nlap = int(nfft * float(per_lap))\n",
    "\n",
    "    data = data - np.array(data).mean()\n",
    "    end = npts / samp_rate\n",
    "\n",
    "    # Here we call not plt.specgram as this already produces a plot\n",
    "    # matplotlib.mlab.specgram should be faster as it computes only the\n",
    "    # arrays\n",
    "    # XXX mlab.specgram uses fft, would be better and faster use rfft\n",
    "    specgram, freq, time = mlab.specgram(data, Fs=samp_rate, NFFT=nfft,\n",
    "                                         pad_to=mult, noverlap=nlap, mode = 'psd')\n",
    "\n",
    "    # db scale and remove zero/offset for amplitude\n",
    "    if dbscale:\n",
    "        specgram = 10 * np.log10(specgram[1:, :])\n",
    "    else:\n",
    "        specgram = np.sqrt(specgram[1:, :])\n",
    "    freq = freq[1:]\n",
    "    \n",
    "    vmin, vmax = clip\n",
    "    if vmin < 0 or vmax > 1 or vmin >= vmax:\n",
    "        msg = \"Invalid parameters for clip option.\"\n",
    "        raise ValueError(msg)\n",
    "    _range = float(specgram.max() - specgram.min())\n",
    "    vmin = specgram.min() + vmin * _range\n",
    "    vmax = specgram.min() + vmax * _range\n",
    "    norm = Normalize(vmin, vmax, clip=True)\n",
    "\n",
    "    # calculate half bin width\n",
    "    halfbin_time = (time[1] - time[0]) / 2.0\n",
    "    halfbin_freq = (freq[1] - freq[0]) / 2.0\n",
    "\n",
    "    # argument None is not allowed for kwargs on matplotlib python 3.3\n",
    "    kwargs = {k: v for k, v in (('cmap', cmap), ('zorder', zorder))\n",
    "              if v is not None}\n",
    "\n",
    "    if log:\n",
    "        # pcolor expects one bin more at the right end\n",
    "        freq = np.concatenate((freq, [freq[-1] + 2 * halfbin_freq]))\n",
    "        time = np.concatenate((time, [time[-1] + 2 * halfbin_time]))\n",
    "        # center bin\n",
    "        time -= halfbin_time\n",
    "        freq -= halfbin_freq\n",
    "        # Log scaling for frequency values (y-axis)\n",
    "        ax.set_yscale('log')\n",
    "        # Plot times\n",
    "        ax.pcolormesh(time, freq, specgram, norm=norm, **kwargs)\n",
    "    else:\n",
    "        # this method is much much faster!\n",
    "        specgram = np.flipud(specgram)\n",
    "        # center bin\n",
    "        extent = (time[0] - halfbin_time, time[-1] + halfbin_time,\n",
    "                  freq[0] - halfbin_freq, freq[-1] + halfbin_freq)\n",
    "    return [specgram, extent, end]\n",
    "\n",
    "    \n",
    "\n"
   ]
  },
  {
   "cell_type": "markdown",
   "id": "ed4bb35c",
   "metadata": {},
   "source": [
    "## Plotting spectogram:"
   ]
  },
  {
   "cell_type": "markdown",
   "id": "029b8674",
   "metadata": {},
   "source": [
    "f is the frequency array, containing the frequencies of every band of the fft. Which can be used as the labels for a graph\n",
    "\n",
    "t is the time array, containing the time at which this FFT was made relative to the source signal. Again can be used for labels.\n",
    "\n",
    "The Sxx array contains the amplitudes and is a 2d array whose shape is the length of f by the length of t.\n",
    "\n",
    "\n",
    " The purpose of a spectogram is to take the FFT of small, equal-sized time chunks. This produces a 2D fourier transform where the X axis is the start time of the time chunk and the Y axis is the energy (or power, etc.) in each frequency in that time chunk. This allows you to see how the frequency components change over time.\n",
    " \n",
    "  A spectrogram is a representation of frequency over time with the addition of amplitude as a third dimension, denoting the intensity or volume of the signal at a frequency and a time."
   ]
  },
  {
   "cell_type": "code",
   "execution_count": 10,
   "id": "18a0b440",
   "metadata": {},
   "outputs": [],
   "source": [
    "def freq_average(array):\n",
    "    means= []\n",
    "    for i in range(array.shape[0]):\n",
    "        means.append(array[i][0:40].mean())\n",
    "    return np.array(means)\n",
    "        "
   ]
  },
  {
   "cell_type": "code",
   "execution_count": 11,
   "id": "3657c33b",
   "metadata": {},
   "outputs": [
    {
     "data": {
      "text/plain": [
       "(2048, 40)"
      ]
     },
     "execution_count": 11,
     "metadata": {},
     "output_type": "execute_result"
    }
   ],
   "source": [
    "output_spectrogram(x[0].data, 256)[0].shape"
   ]
  },
  {
   "cell_type": "code",
   "execution_count": 12,
   "id": "51ccd450",
   "metadata": {},
   "outputs": [
    {
     "data": {
      "text/plain": [
       "array([0.00046219, 0.00065803, 0.00066728, ..., 0.01861373, 0.01935248,\n",
       "       0.01980302])"
      ]
     },
     "execution_count": 12,
     "metadata": {},
     "output_type": "execute_result"
    }
   ],
   "source": [
    "freq_average(array = output_spectrogram(x[0].data, 256)[0])"
   ]
  },
  {
   "cell_type": "code",
   "execution_count": 13,
   "id": "4ca7cef9",
   "metadata": {},
   "outputs": [
    {
     "data": {
      "text/plain": [
       "(2048,)"
      ]
     },
     "execution_count": 13,
     "metadata": {},
     "output_type": "execute_result"
    }
   ],
   "source": [
    "freq_average(array = output_spectrogram(x[0].data, 256)[0]).shape"
   ]
  },
  {
   "cell_type": "code",
   "execution_count": 14,
   "id": "58055a89",
   "metadata": {},
   "outputs": [],
   "source": [
    "def spec_values(array):\n",
    "    x_ = []\n",
    "    for i in range(array.shape[0]):\n",
    "        _x = output_spectrogram(array[i].data, 256)[0]\n",
    "\n",
    "        x_.append(freq_average(array = _x))\n",
    "        \n",
    "        \n",
    "    return np.array(x_)"
   ]
  },
  {
   "cell_type": "code",
   "execution_count": 15,
   "id": "bd30b8d0",
   "metadata": {},
   "outputs": [
    {
     "data": {
      "text/plain": [
       "numpy.ndarray"
      ]
     },
     "execution_count": 15,
     "metadata": {},
     "output_type": "execute_result"
    }
   ],
   "source": [
    "type(x)"
   ]
  },
  {
   "cell_type": "code",
   "execution_count": 16,
   "id": "298423aa",
   "metadata": {},
   "outputs": [],
   "source": [
    "x_ = spec_values(x)"
   ]
  },
  {
   "cell_type": "code",
   "execution_count": 17,
   "id": "33ff627a",
   "metadata": {},
   "outputs": [
    {
     "data": {
      "text/plain": [
       "array([0.00046219, 0.00065803, 0.00066728, ..., 0.01861373, 0.01935248,\n",
       "       0.01980302])"
      ]
     },
     "execution_count": 17,
     "metadata": {},
     "output_type": "execute_result"
    }
   ],
   "source": [
    "x_[0]"
   ]
  },
  {
   "cell_type": "code",
   "execution_count": 18,
   "id": "a525dcf1",
   "metadata": {},
   "outputs": [
    {
     "name": "stdout",
     "output_type": "stream",
     "text": [
      "(2392, 2048)\n"
     ]
    }
   ],
   "source": [
    "print(x_.shape)\n"
   ]
  },
  {
   "cell_type": "code",
   "execution_count": 19,
   "id": "a4376fb8",
   "metadata": {},
   "outputs": [
    {
     "name": "stdout",
     "output_type": "stream",
     "text": [
      "['freq_x0', 'freq_x1', 'freq_x2', 'freq_x3', 'freq_x4', 'freq_x5', 'freq_x6', 'freq_x7', 'freq_x8', 'freq_x9', 'freq_x10', 'freq_x11', 'freq_x12', 'freq_x13', 'freq_x14', 'freq_x15', 'freq_x16', 'freq_x17', 'freq_x18', 'freq_x19', 'freq_x20', 'freq_x21', 'freq_x22', 'freq_x23', 'freq_x24', 'freq_x25', 'freq_x26', 'freq_x27', 'freq_x28', 'freq_x29', 'freq_x30', 'freq_x31', 'freq_x32', 'freq_x33', 'freq_x34', 'freq_x35', 'freq_x36', 'freq_x37', 'freq_x38', 'freq_x39', 'freq_x40', 'freq_x41', 'freq_x42', 'freq_x43', 'freq_x44', 'freq_x45', 'freq_x46', 'freq_x47', 'freq_x48', 'freq_x49', 'freq_x50', 'freq_x51', 'freq_x52', 'freq_x53', 'freq_x54', 'freq_x55', 'freq_x56', 'freq_x57', 'freq_x58', 'freq_x59', 'freq_x60', 'freq_x61', 'freq_x62', 'freq_x63', 'freq_x64', 'freq_x65', 'freq_x66', 'freq_x67', 'freq_x68', 'freq_x69', 'freq_x70', 'freq_x71', 'freq_x72', 'freq_x73', 'freq_x74', 'freq_x75', 'freq_x76', 'freq_x77', 'freq_x78', 'freq_x79', 'freq_x80', 'freq_x81', 'freq_x82', 'freq_x83', 'freq_x84', 'freq_x85', 'freq_x86', 'freq_x87', 'freq_x88', 'freq_x89', 'freq_x90', 'freq_x91', 'freq_x92', 'freq_x93', 'freq_x94', 'freq_x95', 'freq_x96', 'freq_x97', 'freq_x98', 'freq_x99', 'freq_x100', 'freq_x101', 'freq_x102', 'freq_x103', 'freq_x104', 'freq_x105', 'freq_x106', 'freq_x107', 'freq_x108', 'freq_x109', 'freq_x110', 'freq_x111', 'freq_x112', 'freq_x113', 'freq_x114', 'freq_x115', 'freq_x116', 'freq_x117', 'freq_x118', 'freq_x119', 'freq_x120', 'freq_x121', 'freq_x122', 'freq_x123', 'freq_x124', 'freq_x125', 'freq_x126', 'freq_x127', 'freq_x128', 'freq_x129', 'freq_x130', 'freq_x131', 'freq_x132', 'freq_x133', 'freq_x134', 'freq_x135', 'freq_x136', 'freq_x137', 'freq_x138', 'freq_x139', 'freq_x140', 'freq_x141', 'freq_x142', 'freq_x143', 'freq_x144', 'freq_x145', 'freq_x146', 'freq_x147', 'freq_x148', 'freq_x149', 'freq_x150', 'freq_x151', 'freq_x152', 'freq_x153', 'freq_x154', 'freq_x155', 'freq_x156', 'freq_x157', 'freq_x158', 'freq_x159', 'freq_x160', 'freq_x161', 'freq_x162', 'freq_x163', 'freq_x164', 'freq_x165', 'freq_x166', 'freq_x167', 'freq_x168', 'freq_x169', 'freq_x170', 'freq_x171', 'freq_x172', 'freq_x173', 'freq_x174', 'freq_x175', 'freq_x176', 'freq_x177', 'freq_x178', 'freq_x179', 'freq_x180', 'freq_x181', 'freq_x182', 'freq_x183', 'freq_x184', 'freq_x185', 'freq_x186', 'freq_x187', 'freq_x188', 'freq_x189', 'freq_x190', 'freq_x191', 'freq_x192', 'freq_x193', 'freq_x194', 'freq_x195', 'freq_x196', 'freq_x197', 'freq_x198', 'freq_x199', 'freq_x200', 'freq_x201', 'freq_x202', 'freq_x203', 'freq_x204', 'freq_x205', 'freq_x206', 'freq_x207', 'freq_x208', 'freq_x209', 'freq_x210', 'freq_x211', 'freq_x212', 'freq_x213', 'freq_x214', 'freq_x215', 'freq_x216', 'freq_x217', 'freq_x218', 'freq_x219', 'freq_x220', 'freq_x221', 'freq_x222', 'freq_x223', 'freq_x224', 'freq_x225', 'freq_x226', 'freq_x227', 'freq_x228', 'freq_x229', 'freq_x230', 'freq_x231', 'freq_x232', 'freq_x233', 'freq_x234', 'freq_x235', 'freq_x236', 'freq_x237', 'freq_x238', 'freq_x239', 'freq_x240', 'freq_x241', 'freq_x242', 'freq_x243', 'freq_x244', 'freq_x245', 'freq_x246', 'freq_x247', 'freq_x248', 'freq_x249', 'freq_x250', 'freq_x251', 'freq_x252', 'freq_x253', 'freq_x254', 'freq_x255', 'freq_x256', 'freq_x257', 'freq_x258', 'freq_x259', 'freq_x260', 'freq_x261', 'freq_x262', 'freq_x263', 'freq_x264', 'freq_x265', 'freq_x266', 'freq_x267', 'freq_x268', 'freq_x269', 'freq_x270', 'freq_x271', 'freq_x272', 'freq_x273', 'freq_x274', 'freq_x275', 'freq_x276', 'freq_x277', 'freq_x278', 'freq_x279', 'freq_x280', 'freq_x281', 'freq_x282', 'freq_x283', 'freq_x284', 'freq_x285', 'freq_x286', 'freq_x287', 'freq_x288', 'freq_x289', 'freq_x290', 'freq_x291', 'freq_x292', 'freq_x293', 'freq_x294', 'freq_x295', 'freq_x296', 'freq_x297', 'freq_x298', 'freq_x299', 'freq_x300', 'freq_x301', 'freq_x302', 'freq_x303', 'freq_x304', 'freq_x305', 'freq_x306', 'freq_x307', 'freq_x308', 'freq_x309', 'freq_x310', 'freq_x311', 'freq_x312', 'freq_x313', 'freq_x314', 'freq_x315', 'freq_x316', 'freq_x317', 'freq_x318', 'freq_x319', 'freq_x320', 'freq_x321', 'freq_x322', 'freq_x323', 'freq_x324', 'freq_x325', 'freq_x326', 'freq_x327', 'freq_x328', 'freq_x329', 'freq_x330', 'freq_x331', 'freq_x332', 'freq_x333', 'freq_x334', 'freq_x335', 'freq_x336', 'freq_x337', 'freq_x338', 'freq_x339', 'freq_x340', 'freq_x341', 'freq_x342', 'freq_x343', 'freq_x344', 'freq_x345', 'freq_x346', 'freq_x347', 'freq_x348', 'freq_x349', 'freq_x350', 'freq_x351', 'freq_x352', 'freq_x353', 'freq_x354', 'freq_x355', 'freq_x356', 'freq_x357', 'freq_x358', 'freq_x359', 'freq_x360', 'freq_x361', 'freq_x362', 'freq_x363', 'freq_x364', 'freq_x365', 'freq_x366', 'freq_x367', 'freq_x368', 'freq_x369', 'freq_x370', 'freq_x371', 'freq_x372', 'freq_x373', 'freq_x374', 'freq_x375', 'freq_x376', 'freq_x377', 'freq_x378', 'freq_x379', 'freq_x380', 'freq_x381', 'freq_x382', 'freq_x383', 'freq_x384', 'freq_x385', 'freq_x386', 'freq_x387', 'freq_x388', 'freq_x389', 'freq_x390', 'freq_x391', 'freq_x392', 'freq_x393', 'freq_x394', 'freq_x395', 'freq_x396', 'freq_x397', 'freq_x398', 'freq_x399', 'freq_x400', 'freq_x401', 'freq_x402', 'freq_x403', 'freq_x404', 'freq_x405', 'freq_x406', 'freq_x407', 'freq_x408', 'freq_x409', 'freq_x410', 'freq_x411', 'freq_x412', 'freq_x413', 'freq_x414', 'freq_x415', 'freq_x416', 'freq_x417', 'freq_x418', 'freq_x419', 'freq_x420', 'freq_x421', 'freq_x422', 'freq_x423', 'freq_x424', 'freq_x425', 'freq_x426', 'freq_x427', 'freq_x428', 'freq_x429', 'freq_x430', 'freq_x431', 'freq_x432', 'freq_x433', 'freq_x434', 'freq_x435', 'freq_x436', 'freq_x437', 'freq_x438', 'freq_x439', 'freq_x440', 'freq_x441', 'freq_x442', 'freq_x443', 'freq_x444', 'freq_x445', 'freq_x446', 'freq_x447', 'freq_x448', 'freq_x449', 'freq_x450', 'freq_x451', 'freq_x452', 'freq_x453', 'freq_x454', 'freq_x455', 'freq_x456', 'freq_x457', 'freq_x458', 'freq_x459', 'freq_x460', 'freq_x461', 'freq_x462', 'freq_x463', 'freq_x464', 'freq_x465', 'freq_x466', 'freq_x467', 'freq_x468', 'freq_x469', 'freq_x470', 'freq_x471', 'freq_x472', 'freq_x473', 'freq_x474', 'freq_x475', 'freq_x476', 'freq_x477', 'freq_x478', 'freq_x479', 'freq_x480', 'freq_x481', 'freq_x482', 'freq_x483', 'freq_x484', 'freq_x485', 'freq_x486', 'freq_x487', 'freq_x488', 'freq_x489', 'freq_x490', 'freq_x491', 'freq_x492', 'freq_x493', 'freq_x494', 'freq_x495', 'freq_x496', 'freq_x497', 'freq_x498', 'freq_x499', 'freq_x500', 'freq_x501', 'freq_x502', 'freq_x503', 'freq_x504', 'freq_x505', 'freq_x506', 'freq_x507', 'freq_x508', 'freq_x509', 'freq_x510', 'freq_x511', 'freq_x512', 'freq_x513', 'freq_x514', 'freq_x515', 'freq_x516', 'freq_x517', 'freq_x518', 'freq_x519', 'freq_x520', 'freq_x521', 'freq_x522', 'freq_x523', 'freq_x524', 'freq_x525', 'freq_x526', 'freq_x527', 'freq_x528', 'freq_x529', 'freq_x530', 'freq_x531', 'freq_x532', 'freq_x533', 'freq_x534', 'freq_x535', 'freq_x536', 'freq_x537', 'freq_x538', 'freq_x539', 'freq_x540', 'freq_x541', 'freq_x542', 'freq_x543', 'freq_x544', 'freq_x545', 'freq_x546', 'freq_x547', 'freq_x548', 'freq_x549', 'freq_x550', 'freq_x551', 'freq_x552', 'freq_x553', 'freq_x554', 'freq_x555', 'freq_x556', 'freq_x557', 'freq_x558', 'freq_x559', 'freq_x560', 'freq_x561', 'freq_x562', 'freq_x563', 'freq_x564', 'freq_x565', 'freq_x566', 'freq_x567', 'freq_x568', 'freq_x569', 'freq_x570', 'freq_x571', 'freq_x572', 'freq_x573', 'freq_x574', 'freq_x575', 'freq_x576', 'freq_x577', 'freq_x578', 'freq_x579', 'freq_x580', 'freq_x581', 'freq_x582', 'freq_x583', 'freq_x584', 'freq_x585', 'freq_x586', 'freq_x587', 'freq_x588', 'freq_x589', 'freq_x590', 'freq_x591', 'freq_x592', 'freq_x593', 'freq_x594', 'freq_x595', 'freq_x596', 'freq_x597', 'freq_x598', 'freq_x599', 'freq_x600', 'freq_x601', 'freq_x602', 'freq_x603', 'freq_x604', 'freq_x605', 'freq_x606', 'freq_x607', 'freq_x608', 'freq_x609', 'freq_x610', 'freq_x611', 'freq_x612', 'freq_x613', 'freq_x614', 'freq_x615', 'freq_x616', 'freq_x617', 'freq_x618', 'freq_x619', 'freq_x620', 'freq_x621', 'freq_x622', 'freq_x623', 'freq_x624', 'freq_x625', 'freq_x626', 'freq_x627', 'freq_x628', 'freq_x629', 'freq_x630', 'freq_x631', 'freq_x632', 'freq_x633', 'freq_x634', 'freq_x635', 'freq_x636', 'freq_x637', 'freq_x638', 'freq_x639', 'freq_x640', 'freq_x641', 'freq_x642', 'freq_x643', 'freq_x644', 'freq_x645', 'freq_x646', 'freq_x647', 'freq_x648', 'freq_x649', 'freq_x650', 'freq_x651', 'freq_x652', 'freq_x653', 'freq_x654', 'freq_x655', 'freq_x656', 'freq_x657', 'freq_x658', 'freq_x659', 'freq_x660', 'freq_x661', 'freq_x662', 'freq_x663', 'freq_x664', 'freq_x665', 'freq_x666', 'freq_x667', 'freq_x668', 'freq_x669', 'freq_x670', 'freq_x671', 'freq_x672', 'freq_x673', 'freq_x674', 'freq_x675', 'freq_x676', 'freq_x677', 'freq_x678', 'freq_x679', 'freq_x680', 'freq_x681', 'freq_x682', 'freq_x683', 'freq_x684', 'freq_x685', 'freq_x686', 'freq_x687', 'freq_x688', 'freq_x689', 'freq_x690', 'freq_x691', 'freq_x692', 'freq_x693', 'freq_x694', 'freq_x695', 'freq_x696', 'freq_x697', 'freq_x698', 'freq_x699', 'freq_x700', 'freq_x701', 'freq_x702', 'freq_x703', 'freq_x704', 'freq_x705', 'freq_x706', 'freq_x707', 'freq_x708', 'freq_x709', 'freq_x710', 'freq_x711', 'freq_x712', 'freq_x713', 'freq_x714', 'freq_x715', 'freq_x716', 'freq_x717', 'freq_x718', 'freq_x719', 'freq_x720', 'freq_x721', 'freq_x722', 'freq_x723', 'freq_x724', 'freq_x725', 'freq_x726', 'freq_x727', 'freq_x728', 'freq_x729', 'freq_x730', 'freq_x731', 'freq_x732', 'freq_x733', 'freq_x734', 'freq_x735', 'freq_x736', 'freq_x737', 'freq_x738', 'freq_x739', 'freq_x740', 'freq_x741', 'freq_x742', 'freq_x743', 'freq_x744', 'freq_x745', 'freq_x746', 'freq_x747', 'freq_x748', 'freq_x749', 'freq_x750', 'freq_x751', 'freq_x752', 'freq_x753', 'freq_x754', 'freq_x755', 'freq_x756', 'freq_x757', 'freq_x758', 'freq_x759', 'freq_x760', 'freq_x761', 'freq_x762', 'freq_x763', 'freq_x764', 'freq_x765', 'freq_x766', 'freq_x767', 'freq_x768', 'freq_x769', 'freq_x770', 'freq_x771', 'freq_x772', 'freq_x773', 'freq_x774', 'freq_x775', 'freq_x776', 'freq_x777', 'freq_x778', 'freq_x779', 'freq_x780', 'freq_x781', 'freq_x782', 'freq_x783', 'freq_x784', 'freq_x785', 'freq_x786', 'freq_x787', 'freq_x788', 'freq_x789', 'freq_x790', 'freq_x791', 'freq_x792', 'freq_x793', 'freq_x794', 'freq_x795', 'freq_x796', 'freq_x797', 'freq_x798', 'freq_x799', 'freq_x800', 'freq_x801', 'freq_x802', 'freq_x803', 'freq_x804', 'freq_x805', 'freq_x806', 'freq_x807', 'freq_x808', 'freq_x809', 'freq_x810', 'freq_x811', 'freq_x812', 'freq_x813', 'freq_x814', 'freq_x815', 'freq_x816', 'freq_x817', 'freq_x818', 'freq_x819', 'freq_x820', 'freq_x821', 'freq_x822', 'freq_x823', 'freq_x824', 'freq_x825', 'freq_x826', 'freq_x827', 'freq_x828', 'freq_x829', 'freq_x830', 'freq_x831', 'freq_x832', 'freq_x833', 'freq_x834', 'freq_x835', 'freq_x836', 'freq_x837', 'freq_x838', 'freq_x839', 'freq_x840', 'freq_x841', 'freq_x842', 'freq_x843', 'freq_x844', 'freq_x845', 'freq_x846', 'freq_x847', 'freq_x848', 'freq_x849', 'freq_x850', 'freq_x851', 'freq_x852', 'freq_x853', 'freq_x854', 'freq_x855', 'freq_x856', 'freq_x857', 'freq_x858', 'freq_x859', 'freq_x860', 'freq_x861', 'freq_x862', 'freq_x863', 'freq_x864', 'freq_x865', 'freq_x866', 'freq_x867', 'freq_x868', 'freq_x869', 'freq_x870', 'freq_x871', 'freq_x872', 'freq_x873', 'freq_x874', 'freq_x875', 'freq_x876', 'freq_x877', 'freq_x878', 'freq_x879', 'freq_x880', 'freq_x881', 'freq_x882', 'freq_x883', 'freq_x884', 'freq_x885', 'freq_x886', 'freq_x887', 'freq_x888', 'freq_x889', 'freq_x890', 'freq_x891', 'freq_x892', 'freq_x893', 'freq_x894', 'freq_x895', 'freq_x896', 'freq_x897', 'freq_x898', 'freq_x899', 'freq_x900', 'freq_x901', 'freq_x902', 'freq_x903', 'freq_x904', 'freq_x905', 'freq_x906', 'freq_x907', 'freq_x908', 'freq_x909', 'freq_x910', 'freq_x911', 'freq_x912', 'freq_x913', 'freq_x914', 'freq_x915', 'freq_x916', 'freq_x917', 'freq_x918', 'freq_x919', 'freq_x920', 'freq_x921', 'freq_x922', 'freq_x923', 'freq_x924', 'freq_x925', 'freq_x926', 'freq_x927', 'freq_x928', 'freq_x929', 'freq_x930', 'freq_x931', 'freq_x932', 'freq_x933', 'freq_x934', 'freq_x935', 'freq_x936', 'freq_x937', 'freq_x938', 'freq_x939', 'freq_x940', 'freq_x941', 'freq_x942', 'freq_x943', 'freq_x944', 'freq_x945', 'freq_x946', 'freq_x947', 'freq_x948', 'freq_x949', 'freq_x950', 'freq_x951', 'freq_x952', 'freq_x953', 'freq_x954', 'freq_x955', 'freq_x956', 'freq_x957', 'freq_x958', 'freq_x959', 'freq_x960', 'freq_x961', 'freq_x962', 'freq_x963', 'freq_x964', 'freq_x965', 'freq_x966', 'freq_x967', 'freq_x968', 'freq_x969', 'freq_x970', 'freq_x971', 'freq_x972', 'freq_x973', 'freq_x974', 'freq_x975', 'freq_x976', 'freq_x977', 'freq_x978', 'freq_x979', 'freq_x980', 'freq_x981', 'freq_x982', 'freq_x983', 'freq_x984', 'freq_x985', 'freq_x986', 'freq_x987', 'freq_x988', 'freq_x989', 'freq_x990', 'freq_x991', 'freq_x992', 'freq_x993', 'freq_x994', 'freq_x995', 'freq_x996', 'freq_x997', 'freq_x998', 'freq_x999', 'freq_x1000', 'freq_x1001', 'freq_x1002', 'freq_x1003', 'freq_x1004', 'freq_x1005', 'freq_x1006', 'freq_x1007', 'freq_x1008', 'freq_x1009', 'freq_x1010', 'freq_x1011', 'freq_x1012', 'freq_x1013', 'freq_x1014', 'freq_x1015', 'freq_x1016', 'freq_x1017', 'freq_x1018', 'freq_x1019', 'freq_x1020', 'freq_x1021', 'freq_x1022', 'freq_x1023', 'freq_x1024', 'freq_x1025', 'freq_x1026', 'freq_x1027', 'freq_x1028', 'freq_x1029', 'freq_x1030', 'freq_x1031', 'freq_x1032', 'freq_x1033', 'freq_x1034', 'freq_x1035', 'freq_x1036', 'freq_x1037', 'freq_x1038', 'freq_x1039', 'freq_x1040', 'freq_x1041', 'freq_x1042', 'freq_x1043', 'freq_x1044', 'freq_x1045', 'freq_x1046', 'freq_x1047', 'freq_x1048', 'freq_x1049', 'freq_x1050', 'freq_x1051', 'freq_x1052', 'freq_x1053', 'freq_x1054', 'freq_x1055', 'freq_x1056', 'freq_x1057', 'freq_x1058', 'freq_x1059', 'freq_x1060', 'freq_x1061', 'freq_x1062', 'freq_x1063', 'freq_x1064', 'freq_x1065', 'freq_x1066', 'freq_x1067', 'freq_x1068', 'freq_x1069', 'freq_x1070', 'freq_x1071', 'freq_x1072', 'freq_x1073', 'freq_x1074', 'freq_x1075', 'freq_x1076', 'freq_x1077', 'freq_x1078', 'freq_x1079', 'freq_x1080', 'freq_x1081', 'freq_x1082', 'freq_x1083', 'freq_x1084', 'freq_x1085', 'freq_x1086', 'freq_x1087', 'freq_x1088', 'freq_x1089', 'freq_x1090', 'freq_x1091', 'freq_x1092', 'freq_x1093', 'freq_x1094', 'freq_x1095', 'freq_x1096', 'freq_x1097', 'freq_x1098', 'freq_x1099', 'freq_x1100', 'freq_x1101', 'freq_x1102', 'freq_x1103', 'freq_x1104', 'freq_x1105', 'freq_x1106', 'freq_x1107', 'freq_x1108', 'freq_x1109', 'freq_x1110', 'freq_x1111', 'freq_x1112', 'freq_x1113', 'freq_x1114', 'freq_x1115', 'freq_x1116', 'freq_x1117', 'freq_x1118', 'freq_x1119', 'freq_x1120', 'freq_x1121', 'freq_x1122', 'freq_x1123', 'freq_x1124', 'freq_x1125', 'freq_x1126', 'freq_x1127', 'freq_x1128', 'freq_x1129', 'freq_x1130', 'freq_x1131', 'freq_x1132', 'freq_x1133', 'freq_x1134', 'freq_x1135', 'freq_x1136', 'freq_x1137', 'freq_x1138', 'freq_x1139', 'freq_x1140', 'freq_x1141', 'freq_x1142', 'freq_x1143', 'freq_x1144', 'freq_x1145', 'freq_x1146', 'freq_x1147', 'freq_x1148', 'freq_x1149', 'freq_x1150', 'freq_x1151', 'freq_x1152', 'freq_x1153', 'freq_x1154', 'freq_x1155', 'freq_x1156', 'freq_x1157', 'freq_x1158', 'freq_x1159', 'freq_x1160', 'freq_x1161', 'freq_x1162', 'freq_x1163', 'freq_x1164', 'freq_x1165', 'freq_x1166', 'freq_x1167', 'freq_x1168', 'freq_x1169', 'freq_x1170', 'freq_x1171', 'freq_x1172', 'freq_x1173', 'freq_x1174', 'freq_x1175', 'freq_x1176', 'freq_x1177', 'freq_x1178', 'freq_x1179', 'freq_x1180', 'freq_x1181', 'freq_x1182', 'freq_x1183', 'freq_x1184', 'freq_x1185', 'freq_x1186', 'freq_x1187', 'freq_x1188', 'freq_x1189', 'freq_x1190', 'freq_x1191', 'freq_x1192', 'freq_x1193', 'freq_x1194', 'freq_x1195', 'freq_x1196', 'freq_x1197', 'freq_x1198', 'freq_x1199', 'freq_x1200', 'freq_x1201', 'freq_x1202', 'freq_x1203', 'freq_x1204', 'freq_x1205', 'freq_x1206', 'freq_x1207', 'freq_x1208', 'freq_x1209', 'freq_x1210', 'freq_x1211', 'freq_x1212', 'freq_x1213', 'freq_x1214', 'freq_x1215', 'freq_x1216', 'freq_x1217', 'freq_x1218', 'freq_x1219', 'freq_x1220', 'freq_x1221', 'freq_x1222', 'freq_x1223', 'freq_x1224', 'freq_x1225', 'freq_x1226', 'freq_x1227', 'freq_x1228', 'freq_x1229', 'freq_x1230', 'freq_x1231', 'freq_x1232', 'freq_x1233', 'freq_x1234', 'freq_x1235', 'freq_x1236', 'freq_x1237', 'freq_x1238', 'freq_x1239', 'freq_x1240', 'freq_x1241', 'freq_x1242', 'freq_x1243', 'freq_x1244', 'freq_x1245', 'freq_x1246', 'freq_x1247', 'freq_x1248', 'freq_x1249', 'freq_x1250', 'freq_x1251', 'freq_x1252', 'freq_x1253', 'freq_x1254', 'freq_x1255', 'freq_x1256', 'freq_x1257', 'freq_x1258', 'freq_x1259', 'freq_x1260', 'freq_x1261', 'freq_x1262', 'freq_x1263', 'freq_x1264', 'freq_x1265', 'freq_x1266', 'freq_x1267', 'freq_x1268', 'freq_x1269', 'freq_x1270', 'freq_x1271', 'freq_x1272', 'freq_x1273', 'freq_x1274', 'freq_x1275', 'freq_x1276', 'freq_x1277', 'freq_x1278', 'freq_x1279', 'freq_x1280', 'freq_x1281', 'freq_x1282', 'freq_x1283', 'freq_x1284', 'freq_x1285', 'freq_x1286', 'freq_x1287', 'freq_x1288', 'freq_x1289', 'freq_x1290', 'freq_x1291', 'freq_x1292', 'freq_x1293', 'freq_x1294', 'freq_x1295', 'freq_x1296', 'freq_x1297', 'freq_x1298', 'freq_x1299', 'freq_x1300', 'freq_x1301', 'freq_x1302', 'freq_x1303', 'freq_x1304', 'freq_x1305', 'freq_x1306', 'freq_x1307', 'freq_x1308', 'freq_x1309', 'freq_x1310', 'freq_x1311', 'freq_x1312', 'freq_x1313', 'freq_x1314', 'freq_x1315', 'freq_x1316', 'freq_x1317', 'freq_x1318', 'freq_x1319', 'freq_x1320', 'freq_x1321', 'freq_x1322', 'freq_x1323', 'freq_x1324', 'freq_x1325', 'freq_x1326', 'freq_x1327', 'freq_x1328', 'freq_x1329', 'freq_x1330', 'freq_x1331', 'freq_x1332', 'freq_x1333', 'freq_x1334', 'freq_x1335', 'freq_x1336', 'freq_x1337', 'freq_x1338', 'freq_x1339', 'freq_x1340', 'freq_x1341', 'freq_x1342', 'freq_x1343', 'freq_x1344', 'freq_x1345', 'freq_x1346', 'freq_x1347', 'freq_x1348', 'freq_x1349', 'freq_x1350', 'freq_x1351', 'freq_x1352', 'freq_x1353', 'freq_x1354', 'freq_x1355', 'freq_x1356', 'freq_x1357', 'freq_x1358', 'freq_x1359', 'freq_x1360', 'freq_x1361', 'freq_x1362', 'freq_x1363', 'freq_x1364', 'freq_x1365', 'freq_x1366', 'freq_x1367', 'freq_x1368', 'freq_x1369', 'freq_x1370', 'freq_x1371', 'freq_x1372', 'freq_x1373', 'freq_x1374', 'freq_x1375', 'freq_x1376', 'freq_x1377', 'freq_x1378', 'freq_x1379', 'freq_x1380', 'freq_x1381', 'freq_x1382', 'freq_x1383', 'freq_x1384', 'freq_x1385', 'freq_x1386', 'freq_x1387', 'freq_x1388', 'freq_x1389', 'freq_x1390', 'freq_x1391', 'freq_x1392', 'freq_x1393', 'freq_x1394', 'freq_x1395', 'freq_x1396', 'freq_x1397', 'freq_x1398', 'freq_x1399', 'freq_x1400', 'freq_x1401', 'freq_x1402', 'freq_x1403', 'freq_x1404', 'freq_x1405', 'freq_x1406', 'freq_x1407', 'freq_x1408', 'freq_x1409', 'freq_x1410', 'freq_x1411', 'freq_x1412', 'freq_x1413', 'freq_x1414', 'freq_x1415', 'freq_x1416', 'freq_x1417', 'freq_x1418', 'freq_x1419', 'freq_x1420', 'freq_x1421', 'freq_x1422', 'freq_x1423', 'freq_x1424', 'freq_x1425', 'freq_x1426', 'freq_x1427', 'freq_x1428', 'freq_x1429', 'freq_x1430', 'freq_x1431', 'freq_x1432', 'freq_x1433', 'freq_x1434', 'freq_x1435', 'freq_x1436', 'freq_x1437', 'freq_x1438', 'freq_x1439', 'freq_x1440', 'freq_x1441', 'freq_x1442', 'freq_x1443', 'freq_x1444', 'freq_x1445', 'freq_x1446', 'freq_x1447', 'freq_x1448', 'freq_x1449', 'freq_x1450', 'freq_x1451', 'freq_x1452', 'freq_x1453', 'freq_x1454', 'freq_x1455', 'freq_x1456', 'freq_x1457', 'freq_x1458', 'freq_x1459', 'freq_x1460', 'freq_x1461', 'freq_x1462', 'freq_x1463', 'freq_x1464', 'freq_x1465', 'freq_x1466', 'freq_x1467', 'freq_x1468', 'freq_x1469', 'freq_x1470', 'freq_x1471', 'freq_x1472', 'freq_x1473', 'freq_x1474', 'freq_x1475', 'freq_x1476', 'freq_x1477', 'freq_x1478', 'freq_x1479', 'freq_x1480', 'freq_x1481', 'freq_x1482', 'freq_x1483', 'freq_x1484', 'freq_x1485', 'freq_x1486', 'freq_x1487', 'freq_x1488', 'freq_x1489', 'freq_x1490', 'freq_x1491', 'freq_x1492', 'freq_x1493', 'freq_x1494', 'freq_x1495', 'freq_x1496', 'freq_x1497', 'freq_x1498', 'freq_x1499', 'freq_x1500', 'freq_x1501', 'freq_x1502', 'freq_x1503', 'freq_x1504', 'freq_x1505', 'freq_x1506', 'freq_x1507', 'freq_x1508', 'freq_x1509', 'freq_x1510', 'freq_x1511', 'freq_x1512', 'freq_x1513', 'freq_x1514', 'freq_x1515', 'freq_x1516', 'freq_x1517', 'freq_x1518', 'freq_x1519', 'freq_x1520', 'freq_x1521', 'freq_x1522', 'freq_x1523', 'freq_x1524', 'freq_x1525', 'freq_x1526', 'freq_x1527', 'freq_x1528', 'freq_x1529', 'freq_x1530', 'freq_x1531', 'freq_x1532', 'freq_x1533', 'freq_x1534', 'freq_x1535', 'freq_x1536', 'freq_x1537', 'freq_x1538', 'freq_x1539', 'freq_x1540', 'freq_x1541', 'freq_x1542', 'freq_x1543', 'freq_x1544', 'freq_x1545', 'freq_x1546', 'freq_x1547', 'freq_x1548', 'freq_x1549', 'freq_x1550', 'freq_x1551', 'freq_x1552', 'freq_x1553', 'freq_x1554', 'freq_x1555', 'freq_x1556', 'freq_x1557', 'freq_x1558', 'freq_x1559', 'freq_x1560', 'freq_x1561', 'freq_x1562', 'freq_x1563', 'freq_x1564', 'freq_x1565', 'freq_x1566', 'freq_x1567', 'freq_x1568', 'freq_x1569', 'freq_x1570', 'freq_x1571', 'freq_x1572', 'freq_x1573', 'freq_x1574', 'freq_x1575', 'freq_x1576', 'freq_x1577', 'freq_x1578', 'freq_x1579', 'freq_x1580', 'freq_x1581', 'freq_x1582', 'freq_x1583', 'freq_x1584', 'freq_x1585', 'freq_x1586', 'freq_x1587', 'freq_x1588', 'freq_x1589', 'freq_x1590', 'freq_x1591', 'freq_x1592', 'freq_x1593', 'freq_x1594', 'freq_x1595', 'freq_x1596', 'freq_x1597', 'freq_x1598', 'freq_x1599', 'freq_x1600', 'freq_x1601', 'freq_x1602', 'freq_x1603', 'freq_x1604', 'freq_x1605', 'freq_x1606', 'freq_x1607', 'freq_x1608', 'freq_x1609', 'freq_x1610', 'freq_x1611', 'freq_x1612', 'freq_x1613', 'freq_x1614', 'freq_x1615', 'freq_x1616', 'freq_x1617', 'freq_x1618', 'freq_x1619', 'freq_x1620', 'freq_x1621', 'freq_x1622', 'freq_x1623', 'freq_x1624', 'freq_x1625', 'freq_x1626', 'freq_x1627', 'freq_x1628', 'freq_x1629', 'freq_x1630', 'freq_x1631', 'freq_x1632', 'freq_x1633', 'freq_x1634', 'freq_x1635', 'freq_x1636', 'freq_x1637', 'freq_x1638', 'freq_x1639', 'freq_x1640', 'freq_x1641', 'freq_x1642', 'freq_x1643', 'freq_x1644', 'freq_x1645', 'freq_x1646', 'freq_x1647', 'freq_x1648', 'freq_x1649', 'freq_x1650', 'freq_x1651', 'freq_x1652', 'freq_x1653', 'freq_x1654', 'freq_x1655', 'freq_x1656', 'freq_x1657', 'freq_x1658', 'freq_x1659', 'freq_x1660', 'freq_x1661', 'freq_x1662', 'freq_x1663', 'freq_x1664', 'freq_x1665', 'freq_x1666', 'freq_x1667', 'freq_x1668', 'freq_x1669', 'freq_x1670', 'freq_x1671', 'freq_x1672', 'freq_x1673', 'freq_x1674', 'freq_x1675', 'freq_x1676', 'freq_x1677', 'freq_x1678', 'freq_x1679', 'freq_x1680', 'freq_x1681', 'freq_x1682', 'freq_x1683', 'freq_x1684', 'freq_x1685', 'freq_x1686', 'freq_x1687', 'freq_x1688', 'freq_x1689', 'freq_x1690', 'freq_x1691', 'freq_x1692', 'freq_x1693', 'freq_x1694', 'freq_x1695', 'freq_x1696', 'freq_x1697', 'freq_x1698', 'freq_x1699', 'freq_x1700', 'freq_x1701', 'freq_x1702', 'freq_x1703', 'freq_x1704', 'freq_x1705', 'freq_x1706', 'freq_x1707', 'freq_x1708', 'freq_x1709', 'freq_x1710', 'freq_x1711', 'freq_x1712', 'freq_x1713', 'freq_x1714', 'freq_x1715', 'freq_x1716', 'freq_x1717', 'freq_x1718', 'freq_x1719', 'freq_x1720', 'freq_x1721', 'freq_x1722', 'freq_x1723', 'freq_x1724', 'freq_x1725', 'freq_x1726', 'freq_x1727', 'freq_x1728', 'freq_x1729', 'freq_x1730', 'freq_x1731', 'freq_x1732', 'freq_x1733', 'freq_x1734', 'freq_x1735', 'freq_x1736', 'freq_x1737', 'freq_x1738', 'freq_x1739', 'freq_x1740', 'freq_x1741', 'freq_x1742', 'freq_x1743', 'freq_x1744', 'freq_x1745', 'freq_x1746', 'freq_x1747', 'freq_x1748', 'freq_x1749', 'freq_x1750', 'freq_x1751', 'freq_x1752', 'freq_x1753', 'freq_x1754', 'freq_x1755', 'freq_x1756', 'freq_x1757', 'freq_x1758', 'freq_x1759', 'freq_x1760', 'freq_x1761', 'freq_x1762', 'freq_x1763', 'freq_x1764', 'freq_x1765', 'freq_x1766', 'freq_x1767', 'freq_x1768', 'freq_x1769', 'freq_x1770', 'freq_x1771', 'freq_x1772', 'freq_x1773', 'freq_x1774', 'freq_x1775', 'freq_x1776', 'freq_x1777', 'freq_x1778', 'freq_x1779', 'freq_x1780', 'freq_x1781', 'freq_x1782', 'freq_x1783', 'freq_x1784', 'freq_x1785', 'freq_x1786', 'freq_x1787', 'freq_x1788', 'freq_x1789', 'freq_x1790', 'freq_x1791', 'freq_x1792', 'freq_x1793', 'freq_x1794', 'freq_x1795', 'freq_x1796', 'freq_x1797', 'freq_x1798', 'freq_x1799', 'freq_x1800', 'freq_x1801', 'freq_x1802', 'freq_x1803', 'freq_x1804', 'freq_x1805', 'freq_x1806', 'freq_x1807', 'freq_x1808', 'freq_x1809', 'freq_x1810', 'freq_x1811', 'freq_x1812', 'freq_x1813', 'freq_x1814', 'freq_x1815', 'freq_x1816', 'freq_x1817', 'freq_x1818', 'freq_x1819', 'freq_x1820', 'freq_x1821', 'freq_x1822', 'freq_x1823', 'freq_x1824', 'freq_x1825', 'freq_x1826', 'freq_x1827', 'freq_x1828', 'freq_x1829', 'freq_x1830', 'freq_x1831', 'freq_x1832', 'freq_x1833', 'freq_x1834', 'freq_x1835', 'freq_x1836', 'freq_x1837', 'freq_x1838', 'freq_x1839', 'freq_x1840', 'freq_x1841', 'freq_x1842', 'freq_x1843', 'freq_x1844', 'freq_x1845', 'freq_x1846', 'freq_x1847', 'freq_x1848', 'freq_x1849', 'freq_x1850', 'freq_x1851', 'freq_x1852', 'freq_x1853', 'freq_x1854', 'freq_x1855', 'freq_x1856', 'freq_x1857', 'freq_x1858', 'freq_x1859', 'freq_x1860', 'freq_x1861', 'freq_x1862', 'freq_x1863', 'freq_x1864', 'freq_x1865', 'freq_x1866', 'freq_x1867', 'freq_x1868', 'freq_x1869', 'freq_x1870', 'freq_x1871', 'freq_x1872', 'freq_x1873', 'freq_x1874', 'freq_x1875', 'freq_x1876', 'freq_x1877', 'freq_x1878', 'freq_x1879', 'freq_x1880', 'freq_x1881', 'freq_x1882', 'freq_x1883', 'freq_x1884', 'freq_x1885', 'freq_x1886', 'freq_x1887', 'freq_x1888', 'freq_x1889', 'freq_x1890', 'freq_x1891', 'freq_x1892', 'freq_x1893', 'freq_x1894', 'freq_x1895', 'freq_x1896', 'freq_x1897', 'freq_x1898', 'freq_x1899', 'freq_x1900', 'freq_x1901', 'freq_x1902', 'freq_x1903', 'freq_x1904', 'freq_x1905', 'freq_x1906', 'freq_x1907', 'freq_x1908', 'freq_x1909', 'freq_x1910', 'freq_x1911', 'freq_x1912', 'freq_x1913', 'freq_x1914', 'freq_x1915', 'freq_x1916', 'freq_x1917', 'freq_x1918', 'freq_x1919', 'freq_x1920', 'freq_x1921', 'freq_x1922', 'freq_x1923', 'freq_x1924', 'freq_x1925', 'freq_x1926', 'freq_x1927', 'freq_x1928', 'freq_x1929', 'freq_x1930', 'freq_x1931', 'freq_x1932', 'freq_x1933', 'freq_x1934', 'freq_x1935', 'freq_x1936', 'freq_x1937', 'freq_x1938', 'freq_x1939', 'freq_x1940', 'freq_x1941', 'freq_x1942', 'freq_x1943', 'freq_x1944', 'freq_x1945', 'freq_x1946', 'freq_x1947', 'freq_x1948', 'freq_x1949', 'freq_x1950', 'freq_x1951', 'freq_x1952', 'freq_x1953', 'freq_x1954', 'freq_x1955', 'freq_x1956', 'freq_x1957', 'freq_x1958', 'freq_x1959', 'freq_x1960', 'freq_x1961', 'freq_x1962', 'freq_x1963', 'freq_x1964', 'freq_x1965', 'freq_x1966', 'freq_x1967', 'freq_x1968', 'freq_x1969', 'freq_x1970', 'freq_x1971', 'freq_x1972', 'freq_x1973', 'freq_x1974', 'freq_x1975', 'freq_x1976', 'freq_x1977', 'freq_x1978', 'freq_x1979', 'freq_x1980', 'freq_x1981', 'freq_x1982', 'freq_x1983', 'freq_x1984', 'freq_x1985', 'freq_x1986', 'freq_x1987', 'freq_x1988', 'freq_x1989', 'freq_x1990', 'freq_x1991', 'freq_x1992', 'freq_x1993', 'freq_x1994', 'freq_x1995', 'freq_x1996', 'freq_x1997', 'freq_x1998', 'freq_x1999', 'freq_x2000', 'freq_x2001', 'freq_x2002', 'freq_x2003', 'freq_x2004', 'freq_x2005', 'freq_x2006', 'freq_x2007', 'freq_x2008', 'freq_x2009', 'freq_x2010', 'freq_x2011', 'freq_x2012', 'freq_x2013', 'freq_x2014', 'freq_x2015', 'freq_x2016', 'freq_x2017', 'freq_x2018', 'freq_x2019', 'freq_x2020', 'freq_x2021', 'freq_x2022', 'freq_x2023', 'freq_x2024', 'freq_x2025', 'freq_x2026', 'freq_x2027', 'freq_x2028', 'freq_x2029', 'freq_x2030', 'freq_x2031', 'freq_x2032', 'freq_x2033', 'freq_x2034', 'freq_x2035', 'freq_x2036', 'freq_x2037', 'freq_x2038', 'freq_x2039', 'freq_x2040', 'freq_x2041', 'freq_x2042', 'freq_x2043', 'freq_x2044', 'freq_x2045', 'freq_x2046', 'freq_x2047']\n"
     ]
    }
   ],
   "source": [
    "columns = []\n",
    "for i in range(x_.shape[1]):\n",
    "    columns.append(\"freq_x{}\".format(i))\n",
    "print(columns)"
   ]
  },
  {
   "cell_type": "code",
   "execution_count": 20,
   "id": "129564fa",
   "metadata": {},
   "outputs": [
    {
     "name": "stdout",
     "output_type": "stream",
     "text": [
      "2048\n"
     ]
    }
   ],
   "source": [
    "print(len(columns))"
   ]
  },
  {
   "cell_type": "code",
   "execution_count": 21,
   "id": "c6294905",
   "metadata": {},
   "outputs": [],
   "source": [
    "def dataframe_creator(array, df = pd.DataFrame()):\n",
    "    values = []\n",
    "    for i in range(array.shape[0]):\n",
    "        values.append(array[i][0:2048].tolist())\n",
    "\n",
    "        \n",
    "        medium = pd.DataFrame([values[i]], columns = columns)\n",
    "        \n",
    "        \n",
    "        df = pd.concat([df, medium], axis = 0)\n",
    "    return df "
   ]
  },
  {
   "cell_type": "code",
   "execution_count": 22,
   "id": "14fe9239",
   "metadata": {},
   "outputs": [],
   "source": [
    "df = dataframe_creator(x_, \n",
    "                         df =pd.DataFrame(columns = columns))"
   ]
  },
  {
   "cell_type": "code",
   "execution_count": 23,
   "id": "a04e36d9",
   "metadata": {},
   "outputs": [],
   "source": [
    "#df = df.reset_index()"
   ]
  },
  {
   "cell_type": "code",
   "execution_count": 24,
   "id": "d8ce8bed",
   "metadata": {},
   "outputs": [
    {
     "data": {
      "text/html": [
       "<div>\n",
       "<style scoped>\n",
       "    .dataframe tbody tr th:only-of-type {\n",
       "        vertical-align: middle;\n",
       "    }\n",
       "\n",
       "    .dataframe tbody tr th {\n",
       "        vertical-align: top;\n",
       "    }\n",
       "\n",
       "    .dataframe thead th {\n",
       "        text-align: right;\n",
       "    }\n",
       "</style>\n",
       "<table border=\"1\" class=\"dataframe\">\n",
       "  <thead>\n",
       "    <tr style=\"text-align: right;\">\n",
       "      <th></th>\n",
       "      <th>freq_x0</th>\n",
       "      <th>freq_x1</th>\n",
       "      <th>freq_x2</th>\n",
       "      <th>freq_x3</th>\n",
       "      <th>freq_x4</th>\n",
       "      <th>freq_x5</th>\n",
       "      <th>freq_x6</th>\n",
       "      <th>freq_x7</th>\n",
       "      <th>freq_x8</th>\n",
       "      <th>freq_x9</th>\n",
       "      <th>...</th>\n",
       "      <th>freq_x2038</th>\n",
       "      <th>freq_x2039</th>\n",
       "      <th>freq_x2040</th>\n",
       "      <th>freq_x2041</th>\n",
       "      <th>freq_x2042</th>\n",
       "      <th>freq_x2043</th>\n",
       "      <th>freq_x2044</th>\n",
       "      <th>freq_x2045</th>\n",
       "      <th>freq_x2046</th>\n",
       "      <th>freq_x2047</th>\n",
       "    </tr>\n",
       "  </thead>\n",
       "  <tbody>\n",
       "    <tr>\n",
       "      <th>0</th>\n",
       "      <td>0.000462</td>\n",
       "      <td>0.000658</td>\n",
       "      <td>0.000667</td>\n",
       "      <td>0.000676</td>\n",
       "      <td>0.000683</td>\n",
       "      <td>0.000685</td>\n",
       "      <td>0.000687</td>\n",
       "      <td>0.000686</td>\n",
       "      <td>0.000687</td>\n",
       "      <td>0.000691</td>\n",
       "      <td>...</td>\n",
       "      <td>0.009566</td>\n",
       "      <td>0.010833</td>\n",
       "      <td>0.012223</td>\n",
       "      <td>0.013661</td>\n",
       "      <td>0.015083</td>\n",
       "      <td>0.016425</td>\n",
       "      <td>0.017622</td>\n",
       "      <td>0.018614</td>\n",
       "      <td>0.019352</td>\n",
       "      <td>0.019803</td>\n",
       "    </tr>\n",
       "    <tr>\n",
       "      <th>0</th>\n",
       "      <td>0.000359</td>\n",
       "      <td>0.000513</td>\n",
       "      <td>0.000522</td>\n",
       "      <td>0.000531</td>\n",
       "      <td>0.000538</td>\n",
       "      <td>0.000542</td>\n",
       "      <td>0.000546</td>\n",
       "      <td>0.000552</td>\n",
       "      <td>0.000559</td>\n",
       "      <td>0.000569</td>\n",
       "      <td>...</td>\n",
       "      <td>0.005794</td>\n",
       "      <td>0.005593</td>\n",
       "      <td>0.005357</td>\n",
       "      <td>0.005115</td>\n",
       "      <td>0.004873</td>\n",
       "      <td>0.004623</td>\n",
       "      <td>0.004383</td>\n",
       "      <td>0.00415</td>\n",
       "      <td>0.003926</td>\n",
       "      <td>0.003737</td>\n",
       "    </tr>\n",
       "    <tr>\n",
       "      <th>0</th>\n",
       "      <td>0.000467</td>\n",
       "      <td>0.000674</td>\n",
       "      <td>0.000698</td>\n",
       "      <td>0.000725</td>\n",
       "      <td>0.000752</td>\n",
       "      <td>0.000779</td>\n",
       "      <td>0.000804</td>\n",
       "      <td>0.000824</td>\n",
       "      <td>0.000837</td>\n",
       "      <td>0.000841</td>\n",
       "      <td>...</td>\n",
       "      <td>0.006523</td>\n",
       "      <td>0.006523</td>\n",
       "      <td>0.006484</td>\n",
       "      <td>0.006415</td>\n",
       "      <td>0.006306</td>\n",
       "      <td>0.006176</td>\n",
       "      <td>0.006001</td>\n",
       "      <td>0.005789</td>\n",
       "      <td>0.005561</td>\n",
       "      <td>0.00535</td>\n",
       "    </tr>\n",
       "    <tr>\n",
       "      <th>0</th>\n",
       "      <td>0.000422</td>\n",
       "      <td>0.000606</td>\n",
       "      <td>0.000621</td>\n",
       "      <td>0.000636</td>\n",
       "      <td>0.000647</td>\n",
       "      <td>0.000654</td>\n",
       "      <td>0.000656</td>\n",
       "      <td>0.000653</td>\n",
       "      <td>0.000646</td>\n",
       "      <td>0.000641</td>\n",
       "      <td>...</td>\n",
       "      <td>0.008027</td>\n",
       "      <td>0.0085</td>\n",
       "      <td>0.008899</td>\n",
       "      <td>0.009197</td>\n",
       "      <td>0.009377</td>\n",
       "      <td>0.009434</td>\n",
       "      <td>0.009375</td>\n",
       "      <td>0.009219</td>\n",
       "      <td>0.008999</td>\n",
       "      <td>0.008765</td>\n",
       "    </tr>\n",
       "    <tr>\n",
       "      <th>0</th>\n",
       "      <td>0.000379</td>\n",
       "      <td>0.00054</td>\n",
       "      <td>0.000547</td>\n",
       "      <td>0.000553</td>\n",
       "      <td>0.000556</td>\n",
       "      <td>0.000557</td>\n",
       "      <td>0.000559</td>\n",
       "      <td>0.000569</td>\n",
       "      <td>0.000589</td>\n",
       "      <td>0.000613</td>\n",
       "      <td>...</td>\n",
       "      <td>0.007626</td>\n",
       "      <td>0.008042</td>\n",
       "      <td>0.008359</td>\n",
       "      <td>0.008565</td>\n",
       "      <td>0.008656</td>\n",
       "      <td>0.008636</td>\n",
       "      <td>0.008516</td>\n",
       "      <td>0.008321</td>\n",
       "      <td>0.008084</td>\n",
       "      <td>0.007861</td>\n",
       "    </tr>\n",
       "    <tr>\n",
       "      <th>...</th>\n",
       "      <td>...</td>\n",
       "      <td>...</td>\n",
       "      <td>...</td>\n",
       "      <td>...</td>\n",
       "      <td>...</td>\n",
       "      <td>...</td>\n",
       "      <td>...</td>\n",
       "      <td>...</td>\n",
       "      <td>...</td>\n",
       "      <td>...</td>\n",
       "      <td>...</td>\n",
       "      <td>...</td>\n",
       "      <td>...</td>\n",
       "      <td>...</td>\n",
       "      <td>...</td>\n",
       "      <td>...</td>\n",
       "      <td>...</td>\n",
       "      <td>...</td>\n",
       "      <td>...</td>\n",
       "      <td>...</td>\n",
       "      <td>...</td>\n",
       "    </tr>\n",
       "    <tr>\n",
       "      <th>0</th>\n",
       "      <td>0.000161</td>\n",
       "      <td>0.00023</td>\n",
       "      <td>0.000234</td>\n",
       "      <td>0.000237</td>\n",
       "      <td>0.00024</td>\n",
       "      <td>0.000243</td>\n",
       "      <td>0.000246</td>\n",
       "      <td>0.000249</td>\n",
       "      <td>0.00025</td>\n",
       "      <td>0.00025</td>\n",
       "      <td>...</td>\n",
       "      <td>0.020132</td>\n",
       "      <td>0.02292</td>\n",
       "      <td>0.02553</td>\n",
       "      <td>0.027868</td>\n",
       "      <td>0.029858</td>\n",
       "      <td>0.031441</td>\n",
       "      <td>0.032587</td>\n",
       "      <td>0.033298</td>\n",
       "      <td>0.033609</td>\n",
       "      <td>0.033594</td>\n",
       "    </tr>\n",
       "    <tr>\n",
       "      <th>0</th>\n",
       "      <td>0.00014</td>\n",
       "      <td>0.000202</td>\n",
       "      <td>0.000208</td>\n",
       "      <td>0.000214</td>\n",
       "      <td>0.000221</td>\n",
       "      <td>0.000227</td>\n",
       "      <td>0.000233</td>\n",
       "      <td>0.000237</td>\n",
       "      <td>0.000242</td>\n",
       "      <td>0.000248</td>\n",
       "      <td>...</td>\n",
       "      <td>0.029185</td>\n",
       "      <td>0.032617</td>\n",
       "      <td>0.035737</td>\n",
       "      <td>0.038437</td>\n",
       "      <td>0.040636</td>\n",
       "      <td>0.042283</td>\n",
       "      <td>0.043365</td>\n",
       "      <td>0.043915</td>\n",
       "      <td>0.044017</td>\n",
       "      <td>0.043826</td>\n",
       "    </tr>\n",
       "    <tr>\n",
       "      <th>0</th>\n",
       "      <td>0.000153</td>\n",
       "      <td>0.000218</td>\n",
       "      <td>0.000222</td>\n",
       "      <td>0.000226</td>\n",
       "      <td>0.00023</td>\n",
       "      <td>0.000234</td>\n",
       "      <td>0.000239</td>\n",
       "      <td>0.000244</td>\n",
       "      <td>0.000248</td>\n",
       "      <td>0.000251</td>\n",
       "      <td>...</td>\n",
       "      <td>0.037794</td>\n",
       "      <td>0.042437</td>\n",
       "      <td>0.046711</td>\n",
       "      <td>0.050472</td>\n",
       "      <td>0.053606</td>\n",
       "      <td>0.056039</td>\n",
       "      <td>0.057742</td>\n",
       "      <td>0.058741</td>\n",
       "      <td>0.059118</td>\n",
       "      <td>0.05903</td>\n",
       "    </tr>\n",
       "    <tr>\n",
       "      <th>0</th>\n",
       "      <td>0.000153</td>\n",
       "      <td>0.000221</td>\n",
       "      <td>0.00023</td>\n",
       "      <td>0.000242</td>\n",
       "      <td>0.000255</td>\n",
       "      <td>0.000269</td>\n",
       "      <td>0.000281</td>\n",
       "      <td>0.000291</td>\n",
       "      <td>0.000297</td>\n",
       "      <td>0.0003</td>\n",
       "      <td>...</td>\n",
       "      <td>0.031796</td>\n",
       "      <td>0.036175</td>\n",
       "      <td>0.04034</td>\n",
       "      <td>0.044157</td>\n",
       "      <td>0.047506</td>\n",
       "      <td>0.050294</td>\n",
       "      <td>0.052461</td>\n",
       "      <td>0.053986</td>\n",
       "      <td>0.054892</td>\n",
       "      <td>0.055269</td>\n",
       "    </tr>\n",
       "    <tr>\n",
       "      <th>0</th>\n",
       "      <td>0.000073</td>\n",
       "      <td>0.000105</td>\n",
       "      <td>0.000106</td>\n",
       "      <td>0.000106</td>\n",
       "      <td>0.000106</td>\n",
       "      <td>0.000105</td>\n",
       "      <td>0.000102</td>\n",
       "      <td>0.000099</td>\n",
       "      <td>0.000095</td>\n",
       "      <td>0.000091</td>\n",
       "      <td>...</td>\n",
       "      <td>0.00824</td>\n",
       "      <td>0.009302</td>\n",
       "      <td>0.010286</td>\n",
       "      <td>0.01116</td>\n",
       "      <td>0.011895</td>\n",
       "      <td>0.012472</td>\n",
       "      <td>0.012882</td>\n",
       "      <td>0.013127</td>\n",
       "      <td>0.013227</td>\n",
       "      <td>0.01322</td>\n",
       "    </tr>\n",
       "  </tbody>\n",
       "</table>\n",
       "<p>2392 rows × 2048 columns</p>\n",
       "</div>"
      ],
      "text/plain": [
       "     freq_x0   freq_x1   freq_x2   freq_x3   freq_x4   freq_x5   freq_x6  \\\n",
       "0   0.000462  0.000658  0.000667  0.000676  0.000683  0.000685  0.000687   \n",
       "0   0.000359  0.000513  0.000522  0.000531  0.000538  0.000542  0.000546   \n",
       "0   0.000467  0.000674  0.000698  0.000725  0.000752  0.000779  0.000804   \n",
       "0   0.000422  0.000606  0.000621  0.000636  0.000647  0.000654  0.000656   \n",
       "0   0.000379   0.00054  0.000547  0.000553  0.000556  0.000557  0.000559   \n",
       "..       ...       ...       ...       ...       ...       ...       ...   \n",
       "0   0.000161   0.00023  0.000234  0.000237   0.00024  0.000243  0.000246   \n",
       "0    0.00014  0.000202  0.000208  0.000214  0.000221  0.000227  0.000233   \n",
       "0   0.000153  0.000218  0.000222  0.000226   0.00023  0.000234  0.000239   \n",
       "0   0.000153  0.000221   0.00023  0.000242  0.000255  0.000269  0.000281   \n",
       "0   0.000073  0.000105  0.000106  0.000106  0.000106  0.000105  0.000102   \n",
       "\n",
       "     freq_x7   freq_x8   freq_x9  ... freq_x2038 freq_x2039 freq_x2040  \\\n",
       "0   0.000686  0.000687  0.000691  ...   0.009566   0.010833   0.012223   \n",
       "0   0.000552  0.000559  0.000569  ...   0.005794   0.005593   0.005357   \n",
       "0   0.000824  0.000837  0.000841  ...   0.006523   0.006523   0.006484   \n",
       "0   0.000653  0.000646  0.000641  ...   0.008027     0.0085   0.008899   \n",
       "0   0.000569  0.000589  0.000613  ...   0.007626   0.008042   0.008359   \n",
       "..       ...       ...       ...  ...        ...        ...        ...   \n",
       "0   0.000249   0.00025   0.00025  ...   0.020132    0.02292    0.02553   \n",
       "0   0.000237  0.000242  0.000248  ...   0.029185   0.032617   0.035737   \n",
       "0   0.000244  0.000248  0.000251  ...   0.037794   0.042437   0.046711   \n",
       "0   0.000291  0.000297    0.0003  ...   0.031796   0.036175    0.04034   \n",
       "0   0.000099  0.000095  0.000091  ...    0.00824   0.009302   0.010286   \n",
       "\n",
       "   freq_x2041 freq_x2042 freq_x2043 freq_x2044 freq_x2045 freq_x2046  \\\n",
       "0    0.013661   0.015083   0.016425   0.017622   0.018614   0.019352   \n",
       "0    0.005115   0.004873   0.004623   0.004383    0.00415   0.003926   \n",
       "0    0.006415   0.006306   0.006176   0.006001   0.005789   0.005561   \n",
       "0    0.009197   0.009377   0.009434   0.009375   0.009219   0.008999   \n",
       "0    0.008565   0.008656   0.008636   0.008516   0.008321   0.008084   \n",
       "..        ...        ...        ...        ...        ...        ...   \n",
       "0    0.027868   0.029858   0.031441   0.032587   0.033298   0.033609   \n",
       "0    0.038437   0.040636   0.042283   0.043365   0.043915   0.044017   \n",
       "0    0.050472   0.053606   0.056039   0.057742   0.058741   0.059118   \n",
       "0    0.044157   0.047506   0.050294   0.052461   0.053986   0.054892   \n",
       "0     0.01116   0.011895   0.012472   0.012882   0.013127   0.013227   \n",
       "\n",
       "   freq_x2047  \n",
       "0    0.019803  \n",
       "0    0.003737  \n",
       "0     0.00535  \n",
       "0    0.008765  \n",
       "0    0.007861  \n",
       "..        ...  \n",
       "0    0.033594  \n",
       "0    0.043826  \n",
       "0     0.05903  \n",
       "0    0.055269  \n",
       "0     0.01322  \n",
       "\n",
       "[2392 rows x 2048 columns]"
      ]
     },
     "execution_count": 24,
     "metadata": {},
     "output_type": "execute_result"
    }
   ],
   "source": [
    "df"
   ]
  },
  {
   "cell_type": "code",
   "execution_count": 25,
   "id": "f37816e7",
   "metadata": {},
   "outputs": [],
   "source": [
    "df.to_csv(dir_path + '/x-axis-spectogram_coef.csv')"
   ]
  },
  {
   "cell_type": "code",
   "execution_count": null,
   "id": "b16403a3",
   "metadata": {},
   "outputs": [],
   "source": []
  },
  {
   "cell_type": "code",
   "execution_count": null,
   "id": "2da6a31d",
   "metadata": {},
   "outputs": [],
   "source": []
  }
 ],
 "metadata": {
  "kernelspec": {
   "display_name": "Python 3 (ipykernel)",
   "language": "python",
   "name": "python3"
  },
  "language_info": {
   "codemirror_mode": {
    "name": "ipython",
    "version": 3
   },
   "file_extension": ".py",
   "mimetype": "text/x-python",
   "name": "python",
   "nbconvert_exporter": "python",
   "pygments_lexer": "ipython3",
   "version": "3.9.9"
  }
 },
 "nbformat": 4,
 "nbformat_minor": 5
}
