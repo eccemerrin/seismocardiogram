{
 "cells": [
  {
   "cell_type": "code",
   "execution_count": 1,
   "id": "2bc0ce10",
   "metadata": {},
   "outputs": [
    {
     "ename": "RuntimeError",
     "evalue": "module compiled against API version 0xe but this version of numpy is 0xd",
     "output_type": "error",
     "traceback": [
      "\u001b[0;31m---------------------------------------------------------------------------\u001b[0m",
      "\u001b[0;31mRuntimeError\u001b[0m                              Traceback (most recent call last)",
      "\u001b[0;31mRuntimeError\u001b[0m: module compiled against API version 0xe but this version of numpy is 0xd"
     ]
    }
   ],
   "source": [
    "import pandas as pd \n",
    "import numpy as np"
   ]
  },
  {
   "cell_type": "code",
   "execution_count": 2,
   "id": "87f847bf",
   "metadata": {},
   "outputs": [],
   "source": [
    "diseased_path = \"/Users/ecem/Desktop/seismocardiogram/data/diseased-dataset/Raw_Recordings\""
   ]
  },
  {
   "cell_type": "code",
   "execution_count": 3,
   "id": "4605fe9d",
   "metadata": {},
   "outputs": [],
   "source": [
    "def column_namer(level = 0, lenght = 48):\n",
    "    x, y, z = [], [], []\n",
    "    for i in range(lenght):\n",
    "        x.append(\"lvl{0}_x{1}\".format(level, i))\n",
    "        y.append(\"lvl{0}_y{1}\".format(level, i))\n",
    "        z.append(\"lvl{0}_z{1}\".format(level, i))\n",
    "    \n",
    "    return x + y + z"
   ]
  },
  {
   "cell_type": "code",
   "execution_count": 4,
   "id": "d398f5ff",
   "metadata": {},
   "outputs": [],
   "source": [
    "def dataframe_creator(path,  disease = \"None\", df = pd.DataFrame(), level = 0):\n",
    "    values, dis  = [], [] \n",
    "    dis.append(disease)\n",
    "    array = np.load(path + \"/\" + disease + \"_lvl_{}.npy\".format(level), allow_pickle = True)\n",
    "    columns = column_namer(level = level, lenght = array.shape[2])\n",
    "    \n",
    "    for i in range(array.shape[1]):\n",
    "        values.append(array[0][i].tolist()+ array[1][i].tolist()+ array[2][i].tolist() + dis) \n",
    "\n",
    "        medium = pd.DataFrame([values[i]], columns = columns + [\"disease\"])\n",
    "        \n",
    "        df = pd.concat([df, medium], axis = 0, ignore_index=True)\n",
    "        \n",
    "    \n",
    "    return df\n"
   ]
  },
  {
   "cell_type": "markdown",
   "id": "80e35d03",
   "metadata": {},
   "source": [
    "### Level 0"
   ]
  },
  {
   "cell_type": "code",
   "execution_count": 5,
   "id": "5b0fdb72",
   "metadata": {},
   "outputs": [],
   "source": [
    "df_lvl0 = dataframe_creator(diseased_path, 'MR',  level =0 )\n",
    "df_lvl0 = dataframe_creator(diseased_path, 'AR', df = df_lvl0, level =0 )\n",
    "df_lvl0 = dataframe_creator(diseased_path, 'MS', df = df_lvl0, level =0 )\n",
    "df_lvl0 = dataframe_creator(diseased_path, 'AS', df = df_lvl0, level =0 )"
   ]
  },
  {
   "cell_type": "code",
   "execution_count": 6,
   "id": "cb8a1b97",
   "metadata": {},
   "outputs": [],
   "source": [
    "#df_lvl0"
   ]
  },
  {
   "cell_type": "code",
   "execution_count": 7,
   "id": "f795f5f1",
   "metadata": {},
   "outputs": [],
   "source": [
    "#df_lvl0.to_csv(diseased_path + '/wavelet_lvl0.csv')"
   ]
  },
  {
   "cell_type": "markdown",
   "id": "4622b683",
   "metadata": {},
   "source": [
    "### Level 1"
   ]
  },
  {
   "cell_type": "code",
   "execution_count": 8,
   "id": "7d9f8954",
   "metadata": {},
   "outputs": [],
   "source": [
    "df_lvl1 = dataframe_creator(diseased_path, 'MR',  level = 1 )\n",
    "df_lvl1 = dataframe_creator(diseased_path, 'AR', df = df_lvl1, level =1 )\n",
    "df_lvl1 = dataframe_creator(diseased_path, 'MS', df = df_lvl1, level =1 )\n",
    "df_lvl1 = dataframe_creator(diseased_path, 'AS', df = df_lvl1, level =1 )"
   ]
  },
  {
   "cell_type": "code",
   "execution_count": 9,
   "id": "3190ea27",
   "metadata": {},
   "outputs": [],
   "source": [
    "#df_lvl1"
   ]
  },
  {
   "cell_type": "code",
   "execution_count": 10,
   "id": "93227e5c",
   "metadata": {},
   "outputs": [],
   "source": [
    "#df_lvl1.to_csv(diseased_path + '/wavelet_lvl1.csv')"
   ]
  },
  {
   "cell_type": "markdown",
   "id": "fecbf281",
   "metadata": {},
   "source": [
    "### Level 2"
   ]
  },
  {
   "cell_type": "code",
   "execution_count": 11,
   "id": "5e05315f",
   "metadata": {},
   "outputs": [],
   "source": [
    "df_lvl2 = dataframe_creator(diseased_path, 'MR',  level = 2)\n",
    "df_lvl2 = dataframe_creator(diseased_path, 'AR', df = df_lvl2, level = 2)\n",
    "df_lvl2 = dataframe_creator(diseased_path, 'MS', df = df_lvl2, level = 2)\n",
    "df_lvl2 = dataframe_creator(diseased_path, 'AS', df = df_lvl2, level = 2)"
   ]
  },
  {
   "cell_type": "code",
   "execution_count": 12,
   "id": "a117f242",
   "metadata": {},
   "outputs": [],
   "source": [
    "#df_lvl2"
   ]
  },
  {
   "cell_type": "code",
   "execution_count": 13,
   "id": "33179cff",
   "metadata": {},
   "outputs": [],
   "source": [
    "#df_lvl2.to_csv(diseased_path + '/wavelet_lvl2.csv')"
   ]
  },
  {
   "cell_type": "markdown",
   "id": "fef13274",
   "metadata": {},
   "source": [
    "### Level 3"
   ]
  },
  {
   "cell_type": "code",
   "execution_count": 14,
   "id": "204bec86",
   "metadata": {},
   "outputs": [],
   "source": [
    "df_lvl3 = dataframe_creator(diseased_path, 'MR',  level = 3)\n",
    "df_lvl3 = dataframe_creator(diseased_path, 'AR', df = df_lvl3, level = 3)\n",
    "df_lvl3 = dataframe_creator(diseased_path, 'MS', df = df_lvl3, level = 3)\n",
    "df_lvl3 = dataframe_creator(diseased_path, 'AS', df = df_lvl3, level = 3)"
   ]
  },
  {
   "cell_type": "code",
   "execution_count": 15,
   "id": "3337a681",
   "metadata": {},
   "outputs": [],
   "source": [
    "#df_lvl3"
   ]
  },
  {
   "cell_type": "code",
   "execution_count": 16,
   "id": "d1b018bb",
   "metadata": {},
   "outputs": [],
   "source": [
    "#df_lvl3.to_csv(diseased_path + '/wavelet_lvl3.csv')"
   ]
  },
  {
   "cell_type": "markdown",
   "id": "ef001422",
   "metadata": {},
   "source": [
    "### Level 4"
   ]
  },
  {
   "cell_type": "code",
   "execution_count": 17,
   "id": "257970cc",
   "metadata": {},
   "outputs": [],
   "source": [
    "df_lvl4 = dataframe_creator(diseased_path, 'MR',  level = 4)\n",
    "df_lvl4 = dataframe_creator(diseased_path, 'AR', df = df_lvl4, level = 4)\n",
    "df_lvl4 = dataframe_creator(diseased_path, 'MS', df = df_lvl4, level = 4)\n",
    "df_lvl4 = dataframe_creator(diseased_path, 'AS', df = df_lvl4, level = 4)"
   ]
  },
  {
   "cell_type": "code",
   "execution_count": 18,
   "id": "4d195535",
   "metadata": {},
   "outputs": [],
   "source": [
    "#df_lvl4"
   ]
  },
  {
   "cell_type": "code",
   "execution_count": 19,
   "id": "ec36c7a7",
   "metadata": {},
   "outputs": [],
   "source": [
    "#df_lvl4.to_csv(diseased_path + '/wavelet_lvl4.csv')"
   ]
  },
  {
   "cell_type": "markdown",
   "id": "2be4b135",
   "metadata": {},
   "source": [
    "### Level 5"
   ]
  },
  {
   "cell_type": "code",
   "execution_count": 20,
   "id": "75ee70c3",
   "metadata": {},
   "outputs": [],
   "source": [
    "df_lvl5 = dataframe_creator(diseased_path, 'MR',  level = 5)\n",
    "df_lvl5 = dataframe_creator(diseased_path, 'AR', df = df_lvl5, level = 5)\n",
    "df_lvl5 = dataframe_creator(diseased_path, 'MS', df = df_lvl5, level = 5)\n",
    "df_lvl5 = dataframe_creator(diseased_path, 'AS', df = df_lvl5, level = 5)"
   ]
  },
  {
   "cell_type": "code",
   "execution_count": 21,
   "id": "369ed60a",
   "metadata": {},
   "outputs": [],
   "source": [
    "#df_lvl5"
   ]
  },
  {
   "cell_type": "code",
   "execution_count": 22,
   "id": "25c25954",
   "metadata": {},
   "outputs": [],
   "source": [
    "#df_lvl5.to_csv(diseased_path + '/wavelet_lvl5.csv')"
   ]
  },
  {
   "cell_type": "markdown",
   "id": "4f90c80e",
   "metadata": {},
   "source": [
    "### Level 6"
   ]
  },
  {
   "cell_type": "code",
   "execution_count": 23,
   "id": "91cd0925",
   "metadata": {},
   "outputs": [],
   "source": [
    "df_lvl6 = dataframe_creator(diseased_path, 'MR',  level = 6)\n",
    "df_lvl6 = dataframe_creator(diseased_path, 'AR', df = df_lvl6, level = 6)\n",
    "df_lvl6 = dataframe_creator(diseased_path, 'MS', df = df_lvl6, level = 6)\n",
    "df_lvl6 = dataframe_creator(diseased_path, 'AS', df = df_lvl6, level = 6)"
   ]
  },
  {
   "cell_type": "code",
   "execution_count": 24,
   "id": "1cb57be8",
   "metadata": {},
   "outputs": [],
   "source": [
    "#df_lvl6"
   ]
  },
  {
   "cell_type": "code",
   "execution_count": 25,
   "id": "7d39cd57",
   "metadata": {},
   "outputs": [],
   "source": [
    "#df_lvl6.to_csv(diseased_path + '/wavelet_lvl6.csv')"
   ]
  },
  {
   "cell_type": "code",
   "execution_count": null,
   "id": "afd7400c",
   "metadata": {},
   "outputs": [],
   "source": []
  }
 ],
 "metadata": {
  "kernelspec": {
   "display_name": "Python 3 (ipykernel)",
   "language": "python",
   "name": "python3"
  },
  "language_info": {
   "codemirror_mode": {
    "name": "ipython",
    "version": 3
   },
   "file_extension": ".py",
   "mimetype": "text/x-python",
   "name": "python",
   "nbconvert_exporter": "python",
   "pygments_lexer": "ipython3",
   "version": "3.9.9"
  }
 },
 "nbformat": 4,
 "nbformat_minor": 5
}
