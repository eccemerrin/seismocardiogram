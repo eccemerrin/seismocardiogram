{
 "cells": [
  {
   "cell_type": "markdown",
   "id": "a10707b4",
   "metadata": {},
   "source": [
    "## Imports:"
   ]
  },
  {
   "cell_type": "code",
   "execution_count": 1,
   "id": "5b0b2dcc",
   "metadata": {},
   "outputs": [
    {
     "ename": "RuntimeError",
     "evalue": "module compiled against API version 0xe but this version of numpy is 0xd",
     "output_type": "error",
     "traceback": [
      "\u001b[0;31m---------------------------------------------------------------------------\u001b[0m",
      "\u001b[0;31mRuntimeError\u001b[0m                              Traceback (most recent call last)",
      "\u001b[0;31mRuntimeError\u001b[0m: module compiled against API version 0xe but this version of numpy is 0xd"
     ]
    }
   ],
   "source": [
    "import scipy.io\n",
    "import os\n",
    "import pandas\n",
    "import numpy as np\n",
    "import matplotlib.pyplot as plt\n",
    "import matplotlib.pylab as plt_lab\n",
    "import matplotlib.gridspec as gridspec\n",
    "import obspy\n",
    "import pandas as pd"
   ]
  },
  {
   "cell_type": "markdown",
   "id": "41b4c77f",
   "metadata": {},
   "source": [
    "## Load data:\n",
    "We are going to use this data to plot spectograms of SCG signals. "
   ]
  },
  {
   "cell_type": "code",
   "execution_count": 2,
   "id": "75a415fd",
   "metadata": {},
   "outputs": [],
   "source": [
    "dir_path = \"/Users/ecem/Desktop/seperate-axis\""
   ]
  },
  {
   "cell_type": "code",
   "execution_count": 3,
   "id": "4cf3f50e",
   "metadata": {},
   "outputs": [],
   "source": [
    "z = np.load(dir_path + \"/z-10sec.npy\", allow_pickle= True)"
   ]
  },
  {
   "cell_type": "code",
   "execution_count": 4,
   "id": "f6c1178a",
   "metadata": {},
   "outputs": [
    {
     "data": {
      "text/plain": [
       "(2392, 2560)"
      ]
     },
     "execution_count": 4,
     "metadata": {},
     "output_type": "execute_result"
    }
   ],
   "source": [
    "z.shape"
   ]
  },
  {
   "cell_type": "code",
   "execution_count": 5,
   "id": "e1d59219",
   "metadata": {},
   "outputs": [],
   "source": [
    "def converter(array):\n",
    "    x= []\n",
    "    for i in range(array.shape[0]):\n",
    "        x.append(obspy.core.trace.Trace(array[i]))\n",
    "        \n",
    "        x[i].stats.sampling_rate = 256\n",
    "    return np.array(x)"
   ]
  },
  {
   "cell_type": "code",
   "execution_count": 6,
   "id": "9cbf9437",
   "metadata": {},
   "outputs": [],
   "source": [
    "z = converter(z)\n"
   ]
  },
  {
   "cell_type": "markdown",
   "id": "8df87e77",
   "metadata": {},
   "source": [
    "## comparison of two dataset:\n",
    "\n",
    "Now we will to try visualize spectograms. So far we have used Obspy to visualize SCG signals. However, with obspy we are not able to plot spectograms side by side. This is important for us because we want to see spectograms of x,y and z components simultaneously for both healty and diseased people. So, from now on I will refer to those plots, for 3 components of healty and diseased (in total six plot, as \"PAIR\".\n",
    "\n",
    "\n",
    "I have mentioned that Obpsy has a problem in side by side plotting. So I changed it source code. I have added and deleted some part to operate according to my need. ???????????\n",
    "\n",
    "Thats why from now on we are going to use **output_spectogram** function to get values needed to plot spectogram."
   ]
  },
  {
   "cell_type": "markdown",
   "id": "0e61264a",
   "metadata": {},
   "source": [
    "These are the imports for output_spectogram function to work."
   ]
  },
  {
   "cell_type": "code",
   "execution_count": 7,
   "id": "d37506c8",
   "metadata": {},
   "outputs": [],
   "source": [
    "from obspy.imaging.cm import obspy_sequential\n",
    "import math\n",
    "from matplotlib import mlab\n",
    "from matplotlib.colors import Normalize"
   ]
  },
  {
   "cell_type": "code",
   "execution_count": 8,
   "id": "7422b887",
   "metadata": {},
   "outputs": [],
   "source": [
    "def _nearest_pow_2(x):\n",
    "    a = math.pow(2, math.ceil(np.log2(x)))\n",
    "    b = math.pow(2, math.floor(np.log2(x)))\n",
    "    if abs(a - x) < abs(b - x):\n",
    "        return a\n",
    "    else:\n",
    "        return b"
   ]
  },
  {
   "cell_type": "code",
   "execution_count": 9,
   "id": "abafe36e",
   "metadata": {},
   "outputs": [],
   "source": [
    "def output_spectrogram(data, samp_rate, per_lap=0.9, wlen=None, log=False,\n",
    "                outfile=None, fmt=None, axes=None, dbscale=False,\n",
    "                mult=8.0, cmap=obspy_sequential, zorder=None, title=None,\n",
    "                show=True, clip=[0.0, 1.0]):\n",
    " \n",
    "    import matplotlib.pyplot as plt\n",
    "    \n",
    "    # enforce float for samp_rate\n",
    "    samp_rate = float(samp_rate)\n",
    "\n",
    "    # set wlen from samp_rate if not specified otherwise\n",
    "    if not wlen:\n",
    "        wlen = samp_rate / 100.\n",
    "\n",
    "    npts = len(data)\n",
    "    # nfft needs to be an integer, otherwise a deprecation will be raised\n",
    "    # XXX add condition for too many windows => calculation takes for ever\n",
    "    nfft = int(_nearest_pow_2(wlen * samp_rate))\n",
    "    if nfft > npts:\n",
    "        nfft = int(_nearest_pow_2(npts / 8.0))\n",
    "\n",
    "    if mult is not None:\n",
    "        mult = int(_nearest_pow_2(mult))\n",
    "        mult = mult * nfft\n",
    "    nlap = int(nfft * float(per_lap))\n",
    "\n",
    "    data = data - np.array(data).mean()\n",
    "    end = npts / samp_rate\n",
    "\n",
    "    # Here we call not plt.specgram as this already produces a plot\n",
    "    # matplotlib.mlab.specgram should be faster as it computes only the\n",
    "    # arrays\n",
    "    # XXX mlab.specgram uses fft, would be better and faster use rfft\n",
    "    specgram, freq, time = mlab.specgram(data, Fs=samp_rate, NFFT=nfft,\n",
    "                                         pad_to=mult, noverlap=nlap, mode = 'psd')\n",
    "\n",
    "    # db scale and remove zero/offset for amplitude\n",
    "    if dbscale:\n",
    "        specgram = 10 * np.log10(specgram[1:, :])\n",
    "    else:\n",
    "        specgram = np.sqrt(specgram[1:, :])\n",
    "    freq = freq[1:]\n",
    "    \n",
    "    vmin, vmax = clip\n",
    "    if vmin < 0 or vmax > 1 or vmin >= vmax:\n",
    "        msg = \"Invalid parameters for clip option.\"\n",
    "        raise ValueError(msg)\n",
    "    _range = float(specgram.max() - specgram.min())\n",
    "    vmin = specgram.min() + vmin * _range\n",
    "    vmax = specgram.min() + vmax * _range\n",
    "    norm = Normalize(vmin, vmax, clip=True)\n",
    "\n",
    "    # calculate half bin width\n",
    "    halfbin_time = (time[1] - time[0]) / 2.0\n",
    "    halfbin_freq = (freq[1] - freq[0]) / 2.0\n",
    "\n",
    "    # argument None is not allowed for kwargs on matplotlib python 3.3\n",
    "    kwargs = {k: v for k, v in (('cmap', cmap), ('zorder', zorder))\n",
    "              if v is not None}\n",
    "\n",
    "    if log:\n",
    "        # pcolor expects one bin more at the right end\n",
    "        freq = np.concatenate((freq, [freq[-1] + 2 * halfbin_freq]))\n",
    "        time = np.concatenate((time, [time[-1] + 2 * halfbin_time]))\n",
    "        # center bin\n",
    "        time -= halfbin_time\n",
    "        freq -= halfbin_freq\n",
    "        # Log scaling for frequency values (y-axis)\n",
    "        ax.set_yscale('log')\n",
    "        # Plot times\n",
    "        ax.pcolormesh(time, freq, specgram, norm=norm, **kwargs)\n",
    "    else:\n",
    "        # this method is much much faster!\n",
    "        specgram = np.flipud(specgram)\n",
    "        # center bin\n",
    "        extent = (time[0] - halfbin_time, time[-1] + halfbin_time,\n",
    "                  freq[0] - halfbin_freq, freq[-1] + halfbin_freq)\n",
    "    return [specgram, extent, end]\n",
    "\n",
    "    \n",
    "\n"
   ]
  },
  {
   "cell_type": "markdown",
   "id": "ed4bb35c",
   "metadata": {},
   "source": [
    "## Plotting spectogram:"
   ]
  },
  {
   "cell_type": "markdown",
   "id": "029b8674",
   "metadata": {},
   "source": [
    "f is the frequency array, containing the frequencies of every band of the fft. Which can be used as the labels for a graph\n",
    "\n",
    "t is the time array, containing the time at which this FFT was made relative to the source signal. Again can be used for labels.\n",
    "\n",
    "The Sxx array contains the amplitudes and is a 2d array whose shape is the length of f by the length of t.\n",
    "\n",
    "\n",
    " The purpose of a spectogram is to take the FFT of small, equal-sized time chunks. This produces a 2D fourier transform where the X axis is the start time of the time chunk and the Y axis is the energy (or power, etc.) in each frequency in that time chunk. This allows you to see how the frequency components change over time.\n",
    " \n",
    "  A spectrogram is a representation of frequency over time with the addition of amplitude as a third dimension, denoting the intensity or volume of the signal at a frequency and a time."
   ]
  },
  {
   "cell_type": "code",
   "execution_count": 10,
   "id": "18a0b440",
   "metadata": {},
   "outputs": [],
   "source": [
    "def freq_average(array):\n",
    "    means= []\n",
    "    for i in range(array.shape[0]):\n",
    "        means.append(array[i][0:40].mean())\n",
    "    return np.array(means)\n",
    "        "
   ]
  },
  {
   "cell_type": "code",
   "execution_count": 12,
   "id": "3657c33b",
   "metadata": {},
   "outputs": [
    {
     "data": {
      "text/plain": [
       "(2048, 40)"
      ]
     },
     "execution_count": 12,
     "metadata": {},
     "output_type": "execute_result"
    }
   ],
   "source": [
    "output_spectrogram(z[0].data, 256)[0].shape"
   ]
  },
  {
   "cell_type": "code",
   "execution_count": 13,
   "id": "51ccd450",
   "metadata": {},
   "outputs": [
    {
     "data": {
      "text/plain": [
       "array([0.00043902, 0.00064348, 0.00068313, ..., 0.00291116, 0.00272995,\n",
       "       0.00258937])"
      ]
     },
     "execution_count": 13,
     "metadata": {},
     "output_type": "execute_result"
    }
   ],
   "source": [
    "freq_average(array = output_spectrogram(z[0].data, 256)[0])"
   ]
  },
  {
   "cell_type": "code",
   "execution_count": 14,
   "id": "4ca7cef9",
   "metadata": {},
   "outputs": [
    {
     "data": {
      "text/plain": [
       "(2048,)"
      ]
     },
     "execution_count": 14,
     "metadata": {},
     "output_type": "execute_result"
    }
   ],
   "source": [
    "freq_average(array = output_spectrogram(z[0].data, 256)[0]).shape"
   ]
  },
  {
   "cell_type": "code",
   "execution_count": 15,
   "id": "58055a89",
   "metadata": {},
   "outputs": [],
   "source": [
    "def spec_values(array):\n",
    "    x_ = []\n",
    "    for i in range(array.shape[0]):\n",
    "        _x = output_spectrogram(array[i].data, 256)[0]\n",
    "\n",
    "        x_.append(freq_average(array = _x))\n",
    "        \n",
    "        \n",
    "    return np.array(x_)"
   ]
  },
  {
   "cell_type": "code",
   "execution_count": 16,
   "id": "bd30b8d0",
   "metadata": {},
   "outputs": [
    {
     "data": {
      "text/plain": [
       "numpy.ndarray"
      ]
     },
     "execution_count": 16,
     "metadata": {},
     "output_type": "execute_result"
    }
   ],
   "source": [
    "type(z)"
   ]
  },
  {
   "cell_type": "code",
   "execution_count": 17,
   "id": "298423aa",
   "metadata": {},
   "outputs": [],
   "source": [
    "z_ = spec_values(z)"
   ]
  },
  {
   "cell_type": "code",
   "execution_count": 18,
   "id": "33ff627a",
   "metadata": {},
   "outputs": [
    {
     "data": {
      "text/plain": [
       "array([0.00043902, 0.00064348, 0.00068313, ..., 0.00291116, 0.00272995,\n",
       "       0.00258937])"
      ]
     },
     "execution_count": 18,
     "metadata": {},
     "output_type": "execute_result"
    }
   ],
   "source": [
    "z_[0]"
   ]
  },
  {
   "cell_type": "code",
   "execution_count": 19,
   "id": "a525dcf1",
   "metadata": {},
   "outputs": [
    {
     "name": "stdout",
     "output_type": "stream",
     "text": [
      "(2392, 2048)\n"
     ]
    }
   ],
   "source": [
    "print(z_.shape)\n"
   ]
  },
  {
   "cell_type": "code",
   "execution_count": 21,
   "id": "a4376fb8",
   "metadata": {},
   "outputs": [
    {
     "name": "stdout",
     "output_type": "stream",
     "text": [
      "['freq_z0', 'freq_z1', 'freq_z2', 'freq_z3', 'freq_z4', 'freq_z5', 'freq_z6', 'freq_z7', 'freq_z8', 'freq_z9', 'freq_z10', 'freq_z11', 'freq_z12', 'freq_z13', 'freq_z14', 'freq_z15', 'freq_z16', 'freq_z17', 'freq_z18', 'freq_z19', 'freq_z20', 'freq_z21', 'freq_z22', 'freq_z23', 'freq_z24', 'freq_z25', 'freq_z26', 'freq_z27', 'freq_z28', 'freq_z29', 'freq_z30', 'freq_z31', 'freq_z32', 'freq_z33', 'freq_z34', 'freq_z35', 'freq_z36', 'freq_z37', 'freq_z38', 'freq_z39', 'freq_z40', 'freq_z41', 'freq_z42', 'freq_z43', 'freq_z44', 'freq_z45', 'freq_z46', 'freq_z47', 'freq_z48', 'freq_z49', 'freq_z50', 'freq_z51', 'freq_z52', 'freq_z53', 'freq_z54', 'freq_z55', 'freq_z56', 'freq_z57', 'freq_z58', 'freq_z59', 'freq_z60', 'freq_z61', 'freq_z62', 'freq_z63', 'freq_z64', 'freq_z65', 'freq_z66', 'freq_z67', 'freq_z68', 'freq_z69', 'freq_z70', 'freq_z71', 'freq_z72', 'freq_z73', 'freq_z74', 'freq_z75', 'freq_z76', 'freq_z77', 'freq_z78', 'freq_z79', 'freq_z80', 'freq_z81', 'freq_z82', 'freq_z83', 'freq_z84', 'freq_z85', 'freq_z86', 'freq_z87', 'freq_z88', 'freq_z89', 'freq_z90', 'freq_z91', 'freq_z92', 'freq_z93', 'freq_z94', 'freq_z95', 'freq_z96', 'freq_z97', 'freq_z98', 'freq_z99', 'freq_z100', 'freq_z101', 'freq_z102', 'freq_z103', 'freq_z104', 'freq_z105', 'freq_z106', 'freq_z107', 'freq_z108', 'freq_z109', 'freq_z110', 'freq_z111', 'freq_z112', 'freq_z113', 'freq_z114', 'freq_z115', 'freq_z116', 'freq_z117', 'freq_z118', 'freq_z119', 'freq_z120', 'freq_z121', 'freq_z122', 'freq_z123', 'freq_z124', 'freq_z125', 'freq_z126', 'freq_z127', 'freq_z128', 'freq_z129', 'freq_z130', 'freq_z131', 'freq_z132', 'freq_z133', 'freq_z134', 'freq_z135', 'freq_z136', 'freq_z137', 'freq_z138', 'freq_z139', 'freq_z140', 'freq_z141', 'freq_z142', 'freq_z143', 'freq_z144', 'freq_z145', 'freq_z146', 'freq_z147', 'freq_z148', 'freq_z149', 'freq_z150', 'freq_z151', 'freq_z152', 'freq_z153', 'freq_z154', 'freq_z155', 'freq_z156', 'freq_z157', 'freq_z158', 'freq_z159', 'freq_z160', 'freq_z161', 'freq_z162', 'freq_z163', 'freq_z164', 'freq_z165', 'freq_z166', 'freq_z167', 'freq_z168', 'freq_z169', 'freq_z170', 'freq_z171', 'freq_z172', 'freq_z173', 'freq_z174', 'freq_z175', 'freq_z176', 'freq_z177', 'freq_z178', 'freq_z179', 'freq_z180', 'freq_z181', 'freq_z182', 'freq_z183', 'freq_z184', 'freq_z185', 'freq_z186', 'freq_z187', 'freq_z188', 'freq_z189', 'freq_z190', 'freq_z191', 'freq_z192', 'freq_z193', 'freq_z194', 'freq_z195', 'freq_z196', 'freq_z197', 'freq_z198', 'freq_z199', 'freq_z200', 'freq_z201', 'freq_z202', 'freq_z203', 'freq_z204', 'freq_z205', 'freq_z206', 'freq_z207', 'freq_z208', 'freq_z209', 'freq_z210', 'freq_z211', 'freq_z212', 'freq_z213', 'freq_z214', 'freq_z215', 'freq_z216', 'freq_z217', 'freq_z218', 'freq_z219', 'freq_z220', 'freq_z221', 'freq_z222', 'freq_z223', 'freq_z224', 'freq_z225', 'freq_z226', 'freq_z227', 'freq_z228', 'freq_z229', 'freq_z230', 'freq_z231', 'freq_z232', 'freq_z233', 'freq_z234', 'freq_z235', 'freq_z236', 'freq_z237', 'freq_z238', 'freq_z239', 'freq_z240', 'freq_z241', 'freq_z242', 'freq_z243', 'freq_z244', 'freq_z245', 'freq_z246', 'freq_z247', 'freq_z248', 'freq_z249', 'freq_z250', 'freq_z251', 'freq_z252', 'freq_z253', 'freq_z254', 'freq_z255', 'freq_z256', 'freq_z257', 'freq_z258', 'freq_z259', 'freq_z260', 'freq_z261', 'freq_z262', 'freq_z263', 'freq_z264', 'freq_z265', 'freq_z266', 'freq_z267', 'freq_z268', 'freq_z269', 'freq_z270', 'freq_z271', 'freq_z272', 'freq_z273', 'freq_z274', 'freq_z275', 'freq_z276', 'freq_z277', 'freq_z278', 'freq_z279', 'freq_z280', 'freq_z281', 'freq_z282', 'freq_z283', 'freq_z284', 'freq_z285', 'freq_z286', 'freq_z287', 'freq_z288', 'freq_z289', 'freq_z290', 'freq_z291', 'freq_z292', 'freq_z293', 'freq_z294', 'freq_z295', 'freq_z296', 'freq_z297', 'freq_z298', 'freq_z299', 'freq_z300', 'freq_z301', 'freq_z302', 'freq_z303', 'freq_z304', 'freq_z305', 'freq_z306', 'freq_z307', 'freq_z308', 'freq_z309', 'freq_z310', 'freq_z311', 'freq_z312', 'freq_z313', 'freq_z314', 'freq_z315', 'freq_z316', 'freq_z317', 'freq_z318', 'freq_z319', 'freq_z320', 'freq_z321', 'freq_z322', 'freq_z323', 'freq_z324', 'freq_z325', 'freq_z326', 'freq_z327', 'freq_z328', 'freq_z329', 'freq_z330', 'freq_z331', 'freq_z332', 'freq_z333', 'freq_z334', 'freq_z335', 'freq_z336', 'freq_z337', 'freq_z338', 'freq_z339', 'freq_z340', 'freq_z341', 'freq_z342', 'freq_z343', 'freq_z344', 'freq_z345', 'freq_z346', 'freq_z347', 'freq_z348', 'freq_z349', 'freq_z350', 'freq_z351', 'freq_z352', 'freq_z353', 'freq_z354', 'freq_z355', 'freq_z356', 'freq_z357', 'freq_z358', 'freq_z359', 'freq_z360', 'freq_z361', 'freq_z362', 'freq_z363', 'freq_z364', 'freq_z365', 'freq_z366', 'freq_z367', 'freq_z368', 'freq_z369', 'freq_z370', 'freq_z371', 'freq_z372', 'freq_z373', 'freq_z374', 'freq_z375', 'freq_z376', 'freq_z377', 'freq_z378', 'freq_z379', 'freq_z380', 'freq_z381', 'freq_z382', 'freq_z383', 'freq_z384', 'freq_z385', 'freq_z386', 'freq_z387', 'freq_z388', 'freq_z389', 'freq_z390', 'freq_z391', 'freq_z392', 'freq_z393', 'freq_z394', 'freq_z395', 'freq_z396', 'freq_z397', 'freq_z398', 'freq_z399', 'freq_z400', 'freq_z401', 'freq_z402', 'freq_z403', 'freq_z404', 'freq_z405', 'freq_z406', 'freq_z407', 'freq_z408', 'freq_z409', 'freq_z410', 'freq_z411', 'freq_z412', 'freq_z413', 'freq_z414', 'freq_z415', 'freq_z416', 'freq_z417', 'freq_z418', 'freq_z419', 'freq_z420', 'freq_z421', 'freq_z422', 'freq_z423', 'freq_z424', 'freq_z425', 'freq_z426', 'freq_z427', 'freq_z428', 'freq_z429', 'freq_z430', 'freq_z431', 'freq_z432', 'freq_z433', 'freq_z434', 'freq_z435', 'freq_z436', 'freq_z437', 'freq_z438', 'freq_z439', 'freq_z440', 'freq_z441', 'freq_z442', 'freq_z443', 'freq_z444', 'freq_z445', 'freq_z446', 'freq_z447', 'freq_z448', 'freq_z449', 'freq_z450', 'freq_z451', 'freq_z452', 'freq_z453', 'freq_z454', 'freq_z455', 'freq_z456', 'freq_z457', 'freq_z458', 'freq_z459', 'freq_z460', 'freq_z461', 'freq_z462', 'freq_z463', 'freq_z464', 'freq_z465', 'freq_z466', 'freq_z467', 'freq_z468', 'freq_z469', 'freq_z470', 'freq_z471', 'freq_z472', 'freq_z473', 'freq_z474', 'freq_z475', 'freq_z476', 'freq_z477', 'freq_z478', 'freq_z479', 'freq_z480', 'freq_z481', 'freq_z482', 'freq_z483', 'freq_z484', 'freq_z485', 'freq_z486', 'freq_z487', 'freq_z488', 'freq_z489', 'freq_z490', 'freq_z491', 'freq_z492', 'freq_z493', 'freq_z494', 'freq_z495', 'freq_z496', 'freq_z497', 'freq_z498', 'freq_z499', 'freq_z500', 'freq_z501', 'freq_z502', 'freq_z503', 'freq_z504', 'freq_z505', 'freq_z506', 'freq_z507', 'freq_z508', 'freq_z509', 'freq_z510', 'freq_z511', 'freq_z512', 'freq_z513', 'freq_z514', 'freq_z515', 'freq_z516', 'freq_z517', 'freq_z518', 'freq_z519', 'freq_z520', 'freq_z521', 'freq_z522', 'freq_z523', 'freq_z524', 'freq_z525', 'freq_z526', 'freq_z527', 'freq_z528', 'freq_z529', 'freq_z530', 'freq_z531', 'freq_z532', 'freq_z533', 'freq_z534', 'freq_z535', 'freq_z536', 'freq_z537', 'freq_z538', 'freq_z539', 'freq_z540', 'freq_z541', 'freq_z542', 'freq_z543', 'freq_z544', 'freq_z545', 'freq_z546', 'freq_z547', 'freq_z548', 'freq_z549', 'freq_z550', 'freq_z551', 'freq_z552', 'freq_z553', 'freq_z554', 'freq_z555', 'freq_z556', 'freq_z557', 'freq_z558', 'freq_z559', 'freq_z560', 'freq_z561', 'freq_z562', 'freq_z563', 'freq_z564', 'freq_z565', 'freq_z566', 'freq_z567', 'freq_z568', 'freq_z569', 'freq_z570', 'freq_z571', 'freq_z572', 'freq_z573', 'freq_z574', 'freq_z575', 'freq_z576', 'freq_z577', 'freq_z578', 'freq_z579', 'freq_z580', 'freq_z581', 'freq_z582', 'freq_z583', 'freq_z584', 'freq_z585', 'freq_z586', 'freq_z587', 'freq_z588', 'freq_z589', 'freq_z590', 'freq_z591', 'freq_z592', 'freq_z593', 'freq_z594', 'freq_z595', 'freq_z596', 'freq_z597', 'freq_z598', 'freq_z599', 'freq_z600', 'freq_z601', 'freq_z602', 'freq_z603', 'freq_z604', 'freq_z605', 'freq_z606', 'freq_z607', 'freq_z608', 'freq_z609', 'freq_z610', 'freq_z611', 'freq_z612', 'freq_z613', 'freq_z614', 'freq_z615', 'freq_z616', 'freq_z617', 'freq_z618', 'freq_z619', 'freq_z620', 'freq_z621', 'freq_z622', 'freq_z623', 'freq_z624', 'freq_z625', 'freq_z626', 'freq_z627', 'freq_z628', 'freq_z629', 'freq_z630', 'freq_z631', 'freq_z632', 'freq_z633', 'freq_z634', 'freq_z635', 'freq_z636', 'freq_z637', 'freq_z638', 'freq_z639', 'freq_z640', 'freq_z641', 'freq_z642', 'freq_z643', 'freq_z644', 'freq_z645', 'freq_z646', 'freq_z647', 'freq_z648', 'freq_z649', 'freq_z650', 'freq_z651', 'freq_z652', 'freq_z653', 'freq_z654', 'freq_z655', 'freq_z656', 'freq_z657', 'freq_z658', 'freq_z659', 'freq_z660', 'freq_z661', 'freq_z662', 'freq_z663', 'freq_z664', 'freq_z665', 'freq_z666', 'freq_z667', 'freq_z668', 'freq_z669', 'freq_z670', 'freq_z671', 'freq_z672', 'freq_z673', 'freq_z674', 'freq_z675', 'freq_z676', 'freq_z677', 'freq_z678', 'freq_z679', 'freq_z680', 'freq_z681', 'freq_z682', 'freq_z683', 'freq_z684', 'freq_z685', 'freq_z686', 'freq_z687', 'freq_z688', 'freq_z689', 'freq_z690', 'freq_z691', 'freq_z692', 'freq_z693', 'freq_z694', 'freq_z695', 'freq_z696', 'freq_z697', 'freq_z698', 'freq_z699', 'freq_z700', 'freq_z701', 'freq_z702', 'freq_z703', 'freq_z704', 'freq_z705', 'freq_z706', 'freq_z707', 'freq_z708', 'freq_z709', 'freq_z710', 'freq_z711', 'freq_z712', 'freq_z713', 'freq_z714', 'freq_z715', 'freq_z716', 'freq_z717', 'freq_z718', 'freq_z719', 'freq_z720', 'freq_z721', 'freq_z722', 'freq_z723', 'freq_z724', 'freq_z725', 'freq_z726', 'freq_z727', 'freq_z728', 'freq_z729', 'freq_z730', 'freq_z731', 'freq_z732', 'freq_z733', 'freq_z734', 'freq_z735', 'freq_z736', 'freq_z737', 'freq_z738', 'freq_z739', 'freq_z740', 'freq_z741', 'freq_z742', 'freq_z743', 'freq_z744', 'freq_z745', 'freq_z746', 'freq_z747', 'freq_z748', 'freq_z749', 'freq_z750', 'freq_z751', 'freq_z752', 'freq_z753', 'freq_z754', 'freq_z755', 'freq_z756', 'freq_z757', 'freq_z758', 'freq_z759', 'freq_z760', 'freq_z761', 'freq_z762', 'freq_z763', 'freq_z764', 'freq_z765', 'freq_z766', 'freq_z767', 'freq_z768', 'freq_z769', 'freq_z770', 'freq_z771', 'freq_z772', 'freq_z773', 'freq_z774', 'freq_z775', 'freq_z776', 'freq_z777', 'freq_z778', 'freq_z779', 'freq_z780', 'freq_z781', 'freq_z782', 'freq_z783', 'freq_z784', 'freq_z785', 'freq_z786', 'freq_z787', 'freq_z788', 'freq_z789', 'freq_z790', 'freq_z791', 'freq_z792', 'freq_z793', 'freq_z794', 'freq_z795', 'freq_z796', 'freq_z797', 'freq_z798', 'freq_z799', 'freq_z800', 'freq_z801', 'freq_z802', 'freq_z803', 'freq_z804', 'freq_z805', 'freq_z806', 'freq_z807', 'freq_z808', 'freq_z809', 'freq_z810', 'freq_z811', 'freq_z812', 'freq_z813', 'freq_z814', 'freq_z815', 'freq_z816', 'freq_z817', 'freq_z818', 'freq_z819', 'freq_z820', 'freq_z821', 'freq_z822', 'freq_z823', 'freq_z824', 'freq_z825', 'freq_z826', 'freq_z827', 'freq_z828', 'freq_z829', 'freq_z830', 'freq_z831', 'freq_z832', 'freq_z833', 'freq_z834', 'freq_z835', 'freq_z836', 'freq_z837', 'freq_z838', 'freq_z839', 'freq_z840', 'freq_z841', 'freq_z842', 'freq_z843', 'freq_z844', 'freq_z845', 'freq_z846', 'freq_z847', 'freq_z848', 'freq_z849', 'freq_z850', 'freq_z851', 'freq_z852', 'freq_z853', 'freq_z854', 'freq_z855', 'freq_z856', 'freq_z857', 'freq_z858', 'freq_z859', 'freq_z860', 'freq_z861', 'freq_z862', 'freq_z863', 'freq_z864', 'freq_z865', 'freq_z866', 'freq_z867', 'freq_z868', 'freq_z869', 'freq_z870', 'freq_z871', 'freq_z872', 'freq_z873', 'freq_z874', 'freq_z875', 'freq_z876', 'freq_z877', 'freq_z878', 'freq_z879', 'freq_z880', 'freq_z881', 'freq_z882', 'freq_z883', 'freq_z884', 'freq_z885', 'freq_z886', 'freq_z887', 'freq_z888', 'freq_z889', 'freq_z890', 'freq_z891', 'freq_z892', 'freq_z893', 'freq_z894', 'freq_z895', 'freq_z896', 'freq_z897', 'freq_z898', 'freq_z899', 'freq_z900', 'freq_z901', 'freq_z902', 'freq_z903', 'freq_z904', 'freq_z905', 'freq_z906', 'freq_z907', 'freq_z908', 'freq_z909', 'freq_z910', 'freq_z911', 'freq_z912', 'freq_z913', 'freq_z914', 'freq_z915', 'freq_z916', 'freq_z917', 'freq_z918', 'freq_z919', 'freq_z920', 'freq_z921', 'freq_z922', 'freq_z923', 'freq_z924', 'freq_z925', 'freq_z926', 'freq_z927', 'freq_z928', 'freq_z929', 'freq_z930', 'freq_z931', 'freq_z932', 'freq_z933', 'freq_z934', 'freq_z935', 'freq_z936', 'freq_z937', 'freq_z938', 'freq_z939', 'freq_z940', 'freq_z941', 'freq_z942', 'freq_z943', 'freq_z944', 'freq_z945', 'freq_z946', 'freq_z947', 'freq_z948', 'freq_z949', 'freq_z950', 'freq_z951', 'freq_z952', 'freq_z953', 'freq_z954', 'freq_z955', 'freq_z956', 'freq_z957', 'freq_z958', 'freq_z959', 'freq_z960', 'freq_z961', 'freq_z962', 'freq_z963', 'freq_z964', 'freq_z965', 'freq_z966', 'freq_z967', 'freq_z968', 'freq_z969', 'freq_z970', 'freq_z971', 'freq_z972', 'freq_z973', 'freq_z974', 'freq_z975', 'freq_z976', 'freq_z977', 'freq_z978', 'freq_z979', 'freq_z980', 'freq_z981', 'freq_z982', 'freq_z983', 'freq_z984', 'freq_z985', 'freq_z986', 'freq_z987', 'freq_z988', 'freq_z989', 'freq_z990', 'freq_z991', 'freq_z992', 'freq_z993', 'freq_z994', 'freq_z995', 'freq_z996', 'freq_z997', 'freq_z998', 'freq_z999', 'freq_z1000', 'freq_z1001', 'freq_z1002', 'freq_z1003', 'freq_z1004', 'freq_z1005', 'freq_z1006', 'freq_z1007', 'freq_z1008', 'freq_z1009', 'freq_z1010', 'freq_z1011', 'freq_z1012', 'freq_z1013', 'freq_z1014', 'freq_z1015', 'freq_z1016', 'freq_z1017', 'freq_z1018', 'freq_z1019', 'freq_z1020', 'freq_z1021', 'freq_z1022', 'freq_z1023', 'freq_z1024', 'freq_z1025', 'freq_z1026', 'freq_z1027', 'freq_z1028', 'freq_z1029', 'freq_z1030', 'freq_z1031', 'freq_z1032', 'freq_z1033', 'freq_z1034', 'freq_z1035', 'freq_z1036', 'freq_z1037', 'freq_z1038', 'freq_z1039', 'freq_z1040', 'freq_z1041', 'freq_z1042', 'freq_z1043', 'freq_z1044', 'freq_z1045', 'freq_z1046', 'freq_z1047', 'freq_z1048', 'freq_z1049', 'freq_z1050', 'freq_z1051', 'freq_z1052', 'freq_z1053', 'freq_z1054', 'freq_z1055', 'freq_z1056', 'freq_z1057', 'freq_z1058', 'freq_z1059', 'freq_z1060', 'freq_z1061', 'freq_z1062', 'freq_z1063', 'freq_z1064', 'freq_z1065', 'freq_z1066', 'freq_z1067', 'freq_z1068', 'freq_z1069', 'freq_z1070', 'freq_z1071', 'freq_z1072', 'freq_z1073', 'freq_z1074', 'freq_z1075', 'freq_z1076', 'freq_z1077', 'freq_z1078', 'freq_z1079', 'freq_z1080', 'freq_z1081', 'freq_z1082', 'freq_z1083', 'freq_z1084', 'freq_z1085', 'freq_z1086', 'freq_z1087', 'freq_z1088', 'freq_z1089', 'freq_z1090', 'freq_z1091', 'freq_z1092', 'freq_z1093', 'freq_z1094', 'freq_z1095', 'freq_z1096', 'freq_z1097', 'freq_z1098', 'freq_z1099', 'freq_z1100', 'freq_z1101', 'freq_z1102', 'freq_z1103', 'freq_z1104', 'freq_z1105', 'freq_z1106', 'freq_z1107', 'freq_z1108', 'freq_z1109', 'freq_z1110', 'freq_z1111', 'freq_z1112', 'freq_z1113', 'freq_z1114', 'freq_z1115', 'freq_z1116', 'freq_z1117', 'freq_z1118', 'freq_z1119', 'freq_z1120', 'freq_z1121', 'freq_z1122', 'freq_z1123', 'freq_z1124', 'freq_z1125', 'freq_z1126', 'freq_z1127', 'freq_z1128', 'freq_z1129', 'freq_z1130', 'freq_z1131', 'freq_z1132', 'freq_z1133', 'freq_z1134', 'freq_z1135', 'freq_z1136', 'freq_z1137', 'freq_z1138', 'freq_z1139', 'freq_z1140', 'freq_z1141', 'freq_z1142', 'freq_z1143', 'freq_z1144', 'freq_z1145', 'freq_z1146', 'freq_z1147', 'freq_z1148', 'freq_z1149', 'freq_z1150', 'freq_z1151', 'freq_z1152', 'freq_z1153', 'freq_z1154', 'freq_z1155', 'freq_z1156', 'freq_z1157', 'freq_z1158', 'freq_z1159', 'freq_z1160', 'freq_z1161', 'freq_z1162', 'freq_z1163', 'freq_z1164', 'freq_z1165', 'freq_z1166', 'freq_z1167', 'freq_z1168', 'freq_z1169', 'freq_z1170', 'freq_z1171', 'freq_z1172', 'freq_z1173', 'freq_z1174', 'freq_z1175', 'freq_z1176', 'freq_z1177', 'freq_z1178', 'freq_z1179', 'freq_z1180', 'freq_z1181', 'freq_z1182', 'freq_z1183', 'freq_z1184', 'freq_z1185', 'freq_z1186', 'freq_z1187', 'freq_z1188', 'freq_z1189', 'freq_z1190', 'freq_z1191', 'freq_z1192', 'freq_z1193', 'freq_z1194', 'freq_z1195', 'freq_z1196', 'freq_z1197', 'freq_z1198', 'freq_z1199', 'freq_z1200', 'freq_z1201', 'freq_z1202', 'freq_z1203', 'freq_z1204', 'freq_z1205', 'freq_z1206', 'freq_z1207', 'freq_z1208', 'freq_z1209', 'freq_z1210', 'freq_z1211', 'freq_z1212', 'freq_z1213', 'freq_z1214', 'freq_z1215', 'freq_z1216', 'freq_z1217', 'freq_z1218', 'freq_z1219', 'freq_z1220', 'freq_z1221', 'freq_z1222', 'freq_z1223', 'freq_z1224', 'freq_z1225', 'freq_z1226', 'freq_z1227', 'freq_z1228', 'freq_z1229', 'freq_z1230', 'freq_z1231', 'freq_z1232', 'freq_z1233', 'freq_z1234', 'freq_z1235', 'freq_z1236', 'freq_z1237', 'freq_z1238', 'freq_z1239', 'freq_z1240', 'freq_z1241', 'freq_z1242', 'freq_z1243', 'freq_z1244', 'freq_z1245', 'freq_z1246', 'freq_z1247', 'freq_z1248', 'freq_z1249', 'freq_z1250', 'freq_z1251', 'freq_z1252', 'freq_z1253', 'freq_z1254', 'freq_z1255', 'freq_z1256', 'freq_z1257', 'freq_z1258', 'freq_z1259', 'freq_z1260', 'freq_z1261', 'freq_z1262', 'freq_z1263', 'freq_z1264', 'freq_z1265', 'freq_z1266', 'freq_z1267', 'freq_z1268', 'freq_z1269', 'freq_z1270', 'freq_z1271', 'freq_z1272', 'freq_z1273', 'freq_z1274', 'freq_z1275', 'freq_z1276', 'freq_z1277', 'freq_z1278', 'freq_z1279', 'freq_z1280', 'freq_z1281', 'freq_z1282', 'freq_z1283', 'freq_z1284', 'freq_z1285', 'freq_z1286', 'freq_z1287', 'freq_z1288', 'freq_z1289', 'freq_z1290', 'freq_z1291', 'freq_z1292', 'freq_z1293', 'freq_z1294', 'freq_z1295', 'freq_z1296', 'freq_z1297', 'freq_z1298', 'freq_z1299', 'freq_z1300', 'freq_z1301', 'freq_z1302', 'freq_z1303', 'freq_z1304', 'freq_z1305', 'freq_z1306', 'freq_z1307', 'freq_z1308', 'freq_z1309', 'freq_z1310', 'freq_z1311', 'freq_z1312', 'freq_z1313', 'freq_z1314', 'freq_z1315', 'freq_z1316', 'freq_z1317', 'freq_z1318', 'freq_z1319', 'freq_z1320', 'freq_z1321', 'freq_z1322', 'freq_z1323', 'freq_z1324', 'freq_z1325', 'freq_z1326', 'freq_z1327', 'freq_z1328', 'freq_z1329', 'freq_z1330', 'freq_z1331', 'freq_z1332', 'freq_z1333', 'freq_z1334', 'freq_z1335', 'freq_z1336', 'freq_z1337', 'freq_z1338', 'freq_z1339', 'freq_z1340', 'freq_z1341', 'freq_z1342', 'freq_z1343', 'freq_z1344', 'freq_z1345', 'freq_z1346', 'freq_z1347', 'freq_z1348', 'freq_z1349', 'freq_z1350', 'freq_z1351', 'freq_z1352', 'freq_z1353', 'freq_z1354', 'freq_z1355', 'freq_z1356', 'freq_z1357', 'freq_z1358', 'freq_z1359', 'freq_z1360', 'freq_z1361', 'freq_z1362', 'freq_z1363', 'freq_z1364', 'freq_z1365', 'freq_z1366', 'freq_z1367', 'freq_z1368', 'freq_z1369', 'freq_z1370', 'freq_z1371', 'freq_z1372', 'freq_z1373', 'freq_z1374', 'freq_z1375', 'freq_z1376', 'freq_z1377', 'freq_z1378', 'freq_z1379', 'freq_z1380', 'freq_z1381', 'freq_z1382', 'freq_z1383', 'freq_z1384', 'freq_z1385', 'freq_z1386', 'freq_z1387', 'freq_z1388', 'freq_z1389', 'freq_z1390', 'freq_z1391', 'freq_z1392', 'freq_z1393', 'freq_z1394', 'freq_z1395', 'freq_z1396', 'freq_z1397', 'freq_z1398', 'freq_z1399', 'freq_z1400', 'freq_z1401', 'freq_z1402', 'freq_z1403', 'freq_z1404', 'freq_z1405', 'freq_z1406', 'freq_z1407', 'freq_z1408', 'freq_z1409', 'freq_z1410', 'freq_z1411', 'freq_z1412', 'freq_z1413', 'freq_z1414', 'freq_z1415', 'freq_z1416', 'freq_z1417', 'freq_z1418', 'freq_z1419', 'freq_z1420', 'freq_z1421', 'freq_z1422', 'freq_z1423', 'freq_z1424', 'freq_z1425', 'freq_z1426', 'freq_z1427', 'freq_z1428', 'freq_z1429', 'freq_z1430', 'freq_z1431', 'freq_z1432', 'freq_z1433', 'freq_z1434', 'freq_z1435', 'freq_z1436', 'freq_z1437', 'freq_z1438', 'freq_z1439', 'freq_z1440', 'freq_z1441', 'freq_z1442', 'freq_z1443', 'freq_z1444', 'freq_z1445', 'freq_z1446', 'freq_z1447', 'freq_z1448', 'freq_z1449', 'freq_z1450', 'freq_z1451', 'freq_z1452', 'freq_z1453', 'freq_z1454', 'freq_z1455', 'freq_z1456', 'freq_z1457', 'freq_z1458', 'freq_z1459', 'freq_z1460', 'freq_z1461', 'freq_z1462', 'freq_z1463', 'freq_z1464', 'freq_z1465', 'freq_z1466', 'freq_z1467', 'freq_z1468', 'freq_z1469', 'freq_z1470', 'freq_z1471', 'freq_z1472', 'freq_z1473', 'freq_z1474', 'freq_z1475', 'freq_z1476', 'freq_z1477', 'freq_z1478', 'freq_z1479', 'freq_z1480', 'freq_z1481', 'freq_z1482', 'freq_z1483', 'freq_z1484', 'freq_z1485', 'freq_z1486', 'freq_z1487', 'freq_z1488', 'freq_z1489', 'freq_z1490', 'freq_z1491', 'freq_z1492', 'freq_z1493', 'freq_z1494', 'freq_z1495', 'freq_z1496', 'freq_z1497', 'freq_z1498', 'freq_z1499', 'freq_z1500', 'freq_z1501', 'freq_z1502', 'freq_z1503', 'freq_z1504', 'freq_z1505', 'freq_z1506', 'freq_z1507', 'freq_z1508', 'freq_z1509', 'freq_z1510', 'freq_z1511', 'freq_z1512', 'freq_z1513', 'freq_z1514', 'freq_z1515', 'freq_z1516', 'freq_z1517', 'freq_z1518', 'freq_z1519', 'freq_z1520', 'freq_z1521', 'freq_z1522', 'freq_z1523', 'freq_z1524', 'freq_z1525', 'freq_z1526', 'freq_z1527', 'freq_z1528', 'freq_z1529', 'freq_z1530', 'freq_z1531', 'freq_z1532', 'freq_z1533', 'freq_z1534', 'freq_z1535', 'freq_z1536', 'freq_z1537', 'freq_z1538', 'freq_z1539', 'freq_z1540', 'freq_z1541', 'freq_z1542', 'freq_z1543', 'freq_z1544', 'freq_z1545', 'freq_z1546', 'freq_z1547', 'freq_z1548', 'freq_z1549', 'freq_z1550', 'freq_z1551', 'freq_z1552', 'freq_z1553', 'freq_z1554', 'freq_z1555', 'freq_z1556', 'freq_z1557', 'freq_z1558', 'freq_z1559', 'freq_z1560', 'freq_z1561', 'freq_z1562', 'freq_z1563', 'freq_z1564', 'freq_z1565', 'freq_z1566', 'freq_z1567', 'freq_z1568', 'freq_z1569', 'freq_z1570', 'freq_z1571', 'freq_z1572', 'freq_z1573', 'freq_z1574', 'freq_z1575', 'freq_z1576', 'freq_z1577', 'freq_z1578', 'freq_z1579', 'freq_z1580', 'freq_z1581', 'freq_z1582', 'freq_z1583', 'freq_z1584', 'freq_z1585', 'freq_z1586', 'freq_z1587', 'freq_z1588', 'freq_z1589', 'freq_z1590', 'freq_z1591', 'freq_z1592', 'freq_z1593', 'freq_z1594', 'freq_z1595', 'freq_z1596', 'freq_z1597', 'freq_z1598', 'freq_z1599', 'freq_z1600', 'freq_z1601', 'freq_z1602', 'freq_z1603', 'freq_z1604', 'freq_z1605', 'freq_z1606', 'freq_z1607', 'freq_z1608', 'freq_z1609', 'freq_z1610', 'freq_z1611', 'freq_z1612', 'freq_z1613', 'freq_z1614', 'freq_z1615', 'freq_z1616', 'freq_z1617', 'freq_z1618', 'freq_z1619', 'freq_z1620', 'freq_z1621', 'freq_z1622', 'freq_z1623', 'freq_z1624', 'freq_z1625', 'freq_z1626', 'freq_z1627', 'freq_z1628', 'freq_z1629', 'freq_z1630', 'freq_z1631', 'freq_z1632', 'freq_z1633', 'freq_z1634', 'freq_z1635', 'freq_z1636', 'freq_z1637', 'freq_z1638', 'freq_z1639', 'freq_z1640', 'freq_z1641', 'freq_z1642', 'freq_z1643', 'freq_z1644', 'freq_z1645', 'freq_z1646', 'freq_z1647', 'freq_z1648', 'freq_z1649', 'freq_z1650', 'freq_z1651', 'freq_z1652', 'freq_z1653', 'freq_z1654', 'freq_z1655', 'freq_z1656', 'freq_z1657', 'freq_z1658', 'freq_z1659', 'freq_z1660', 'freq_z1661', 'freq_z1662', 'freq_z1663', 'freq_z1664', 'freq_z1665', 'freq_z1666', 'freq_z1667', 'freq_z1668', 'freq_z1669', 'freq_z1670', 'freq_z1671', 'freq_z1672', 'freq_z1673', 'freq_z1674', 'freq_z1675', 'freq_z1676', 'freq_z1677', 'freq_z1678', 'freq_z1679', 'freq_z1680', 'freq_z1681', 'freq_z1682', 'freq_z1683', 'freq_z1684', 'freq_z1685', 'freq_z1686', 'freq_z1687', 'freq_z1688', 'freq_z1689', 'freq_z1690', 'freq_z1691', 'freq_z1692', 'freq_z1693', 'freq_z1694', 'freq_z1695', 'freq_z1696', 'freq_z1697', 'freq_z1698', 'freq_z1699', 'freq_z1700', 'freq_z1701', 'freq_z1702', 'freq_z1703', 'freq_z1704', 'freq_z1705', 'freq_z1706', 'freq_z1707', 'freq_z1708', 'freq_z1709', 'freq_z1710', 'freq_z1711', 'freq_z1712', 'freq_z1713', 'freq_z1714', 'freq_z1715', 'freq_z1716', 'freq_z1717', 'freq_z1718', 'freq_z1719', 'freq_z1720', 'freq_z1721', 'freq_z1722', 'freq_z1723', 'freq_z1724', 'freq_z1725', 'freq_z1726', 'freq_z1727', 'freq_z1728', 'freq_z1729', 'freq_z1730', 'freq_z1731', 'freq_z1732', 'freq_z1733', 'freq_z1734', 'freq_z1735', 'freq_z1736', 'freq_z1737', 'freq_z1738', 'freq_z1739', 'freq_z1740', 'freq_z1741', 'freq_z1742', 'freq_z1743', 'freq_z1744', 'freq_z1745', 'freq_z1746', 'freq_z1747', 'freq_z1748', 'freq_z1749', 'freq_z1750', 'freq_z1751', 'freq_z1752', 'freq_z1753', 'freq_z1754', 'freq_z1755', 'freq_z1756', 'freq_z1757', 'freq_z1758', 'freq_z1759', 'freq_z1760', 'freq_z1761', 'freq_z1762', 'freq_z1763', 'freq_z1764', 'freq_z1765', 'freq_z1766', 'freq_z1767', 'freq_z1768', 'freq_z1769', 'freq_z1770', 'freq_z1771', 'freq_z1772', 'freq_z1773', 'freq_z1774', 'freq_z1775', 'freq_z1776', 'freq_z1777', 'freq_z1778', 'freq_z1779', 'freq_z1780', 'freq_z1781', 'freq_z1782', 'freq_z1783', 'freq_z1784', 'freq_z1785', 'freq_z1786', 'freq_z1787', 'freq_z1788', 'freq_z1789', 'freq_z1790', 'freq_z1791', 'freq_z1792', 'freq_z1793', 'freq_z1794', 'freq_z1795', 'freq_z1796', 'freq_z1797', 'freq_z1798', 'freq_z1799', 'freq_z1800', 'freq_z1801', 'freq_z1802', 'freq_z1803', 'freq_z1804', 'freq_z1805', 'freq_z1806', 'freq_z1807', 'freq_z1808', 'freq_z1809', 'freq_z1810', 'freq_z1811', 'freq_z1812', 'freq_z1813', 'freq_z1814', 'freq_z1815', 'freq_z1816', 'freq_z1817', 'freq_z1818', 'freq_z1819', 'freq_z1820', 'freq_z1821', 'freq_z1822', 'freq_z1823', 'freq_z1824', 'freq_z1825', 'freq_z1826', 'freq_z1827', 'freq_z1828', 'freq_z1829', 'freq_z1830', 'freq_z1831', 'freq_z1832', 'freq_z1833', 'freq_z1834', 'freq_z1835', 'freq_z1836', 'freq_z1837', 'freq_z1838', 'freq_z1839', 'freq_z1840', 'freq_z1841', 'freq_z1842', 'freq_z1843', 'freq_z1844', 'freq_z1845', 'freq_z1846', 'freq_z1847', 'freq_z1848', 'freq_z1849', 'freq_z1850', 'freq_z1851', 'freq_z1852', 'freq_z1853', 'freq_z1854', 'freq_z1855', 'freq_z1856', 'freq_z1857', 'freq_z1858', 'freq_z1859', 'freq_z1860', 'freq_z1861', 'freq_z1862', 'freq_z1863', 'freq_z1864', 'freq_z1865', 'freq_z1866', 'freq_z1867', 'freq_z1868', 'freq_z1869', 'freq_z1870', 'freq_z1871', 'freq_z1872', 'freq_z1873', 'freq_z1874', 'freq_z1875', 'freq_z1876', 'freq_z1877', 'freq_z1878', 'freq_z1879', 'freq_z1880', 'freq_z1881', 'freq_z1882', 'freq_z1883', 'freq_z1884', 'freq_z1885', 'freq_z1886', 'freq_z1887', 'freq_z1888', 'freq_z1889', 'freq_z1890', 'freq_z1891', 'freq_z1892', 'freq_z1893', 'freq_z1894', 'freq_z1895', 'freq_z1896', 'freq_z1897', 'freq_z1898', 'freq_z1899', 'freq_z1900', 'freq_z1901', 'freq_z1902', 'freq_z1903', 'freq_z1904', 'freq_z1905', 'freq_z1906', 'freq_z1907', 'freq_z1908', 'freq_z1909', 'freq_z1910', 'freq_z1911', 'freq_z1912', 'freq_z1913', 'freq_z1914', 'freq_z1915', 'freq_z1916', 'freq_z1917', 'freq_z1918', 'freq_z1919', 'freq_z1920', 'freq_z1921', 'freq_z1922', 'freq_z1923', 'freq_z1924', 'freq_z1925', 'freq_z1926', 'freq_z1927', 'freq_z1928', 'freq_z1929', 'freq_z1930', 'freq_z1931', 'freq_z1932', 'freq_z1933', 'freq_z1934', 'freq_z1935', 'freq_z1936', 'freq_z1937', 'freq_z1938', 'freq_z1939', 'freq_z1940', 'freq_z1941', 'freq_z1942', 'freq_z1943', 'freq_z1944', 'freq_z1945', 'freq_z1946', 'freq_z1947', 'freq_z1948', 'freq_z1949', 'freq_z1950', 'freq_z1951', 'freq_z1952', 'freq_z1953', 'freq_z1954', 'freq_z1955', 'freq_z1956', 'freq_z1957', 'freq_z1958', 'freq_z1959', 'freq_z1960', 'freq_z1961', 'freq_z1962', 'freq_z1963', 'freq_z1964', 'freq_z1965', 'freq_z1966', 'freq_z1967', 'freq_z1968', 'freq_z1969', 'freq_z1970', 'freq_z1971', 'freq_z1972', 'freq_z1973', 'freq_z1974', 'freq_z1975', 'freq_z1976', 'freq_z1977', 'freq_z1978', 'freq_z1979', 'freq_z1980', 'freq_z1981', 'freq_z1982', 'freq_z1983', 'freq_z1984', 'freq_z1985', 'freq_z1986', 'freq_z1987', 'freq_z1988', 'freq_z1989', 'freq_z1990', 'freq_z1991', 'freq_z1992', 'freq_z1993', 'freq_z1994', 'freq_z1995', 'freq_z1996', 'freq_z1997', 'freq_z1998', 'freq_z1999', 'freq_z2000', 'freq_z2001', 'freq_z2002', 'freq_z2003', 'freq_z2004', 'freq_z2005', 'freq_z2006', 'freq_z2007', 'freq_z2008', 'freq_z2009', 'freq_z2010', 'freq_z2011', 'freq_z2012', 'freq_z2013', 'freq_z2014', 'freq_z2015', 'freq_z2016', 'freq_z2017', 'freq_z2018', 'freq_z2019', 'freq_z2020', 'freq_z2021', 'freq_z2022', 'freq_z2023', 'freq_z2024', 'freq_z2025', 'freq_z2026', 'freq_z2027', 'freq_z2028', 'freq_z2029', 'freq_z2030', 'freq_z2031', 'freq_z2032', 'freq_z2033', 'freq_z2034', 'freq_z2035', 'freq_z2036', 'freq_z2037', 'freq_z2038', 'freq_z2039', 'freq_z2040', 'freq_z2041', 'freq_z2042', 'freq_z2043', 'freq_z2044', 'freq_z2045', 'freq_z2046', 'freq_z2047']\n"
     ]
    }
   ],
   "source": [
    "columns = []\n",
    "for i in range(z_.shape[1]):\n",
    "    columns.append(\"freq_z{}\".format(i))\n",
    "print(columns)"
   ]
  },
  {
   "cell_type": "code",
   "execution_count": 22,
   "id": "129564fa",
   "metadata": {},
   "outputs": [
    {
     "name": "stdout",
     "output_type": "stream",
     "text": [
      "2048\n"
     ]
    }
   ],
   "source": [
    "print(len(columns))"
   ]
  },
  {
   "cell_type": "code",
   "execution_count": 23,
   "id": "c6294905",
   "metadata": {},
   "outputs": [],
   "source": [
    "def dataframe_creator(array, df = pd.DataFrame()):\n",
    "    values = []\n",
    "    for i in range(array.shape[0]):\n",
    "        values.append(array[i][0:2048].tolist())\n",
    "\n",
    "        \n",
    "        medium = pd.DataFrame([values[i]], columns = columns)\n",
    "        \n",
    "        \n",
    "        df = pd.concat([df, medium], axis = 0)\n",
    "    return df "
   ]
  },
  {
   "cell_type": "code",
   "execution_count": 24,
   "id": "14fe9239",
   "metadata": {},
   "outputs": [],
   "source": [
    "df = dataframe_creator(z_, \n",
    "                         df =pd.DataFrame(columns = columns))"
   ]
  },
  {
   "cell_type": "code",
   "execution_count": 23,
   "id": "a04e36d9",
   "metadata": {},
   "outputs": [],
   "source": [
    "#df = df.reset_index()"
   ]
  },
  {
   "cell_type": "code",
   "execution_count": 25,
   "id": "d8ce8bed",
   "metadata": {},
   "outputs": [
    {
     "data": {
      "text/html": [
       "<div>\n",
       "<style scoped>\n",
       "    .dataframe tbody tr th:only-of-type {\n",
       "        vertical-align: middle;\n",
       "    }\n",
       "\n",
       "    .dataframe tbody tr th {\n",
       "        vertical-align: top;\n",
       "    }\n",
       "\n",
       "    .dataframe thead th {\n",
       "        text-align: right;\n",
       "    }\n",
       "</style>\n",
       "<table border=\"1\" class=\"dataframe\">\n",
       "  <thead>\n",
       "    <tr style=\"text-align: right;\">\n",
       "      <th></th>\n",
       "      <th>freq_z0</th>\n",
       "      <th>freq_z1</th>\n",
       "      <th>freq_z2</th>\n",
       "      <th>freq_z3</th>\n",
       "      <th>freq_z4</th>\n",
       "      <th>freq_z5</th>\n",
       "      <th>freq_z6</th>\n",
       "      <th>freq_z7</th>\n",
       "      <th>freq_z8</th>\n",
       "      <th>freq_z9</th>\n",
       "      <th>...</th>\n",
       "      <th>freq_z2038</th>\n",
       "      <th>freq_z2039</th>\n",
       "      <th>freq_z2040</th>\n",
       "      <th>freq_z2041</th>\n",
       "      <th>freq_z2042</th>\n",
       "      <th>freq_z2043</th>\n",
       "      <th>freq_z2044</th>\n",
       "      <th>freq_z2045</th>\n",
       "      <th>freq_z2046</th>\n",
       "      <th>freq_z2047</th>\n",
       "    </tr>\n",
       "  </thead>\n",
       "  <tbody>\n",
       "    <tr>\n",
       "      <th>0</th>\n",
       "      <td>0.000439</td>\n",
       "      <td>0.000643</td>\n",
       "      <td>0.000683</td>\n",
       "      <td>0.000729</td>\n",
       "      <td>0.000776</td>\n",
       "      <td>0.000821</td>\n",
       "      <td>0.000862</td>\n",
       "      <td>0.0009</td>\n",
       "      <td>0.000933</td>\n",
       "      <td>0.000957</td>\n",
       "      <td>...</td>\n",
       "      <td>0.004169</td>\n",
       "      <td>0.004046</td>\n",
       "      <td>0.003889</td>\n",
       "      <td>0.003707</td>\n",
       "      <td>0.003516</td>\n",
       "      <td>0.003316</td>\n",
       "      <td>0.003111</td>\n",
       "      <td>0.002911</td>\n",
       "      <td>0.00273</td>\n",
       "      <td>0.002589</td>\n",
       "    </tr>\n",
       "    <tr>\n",
       "      <th>0</th>\n",
       "      <td>0.000571</td>\n",
       "      <td>0.000814</td>\n",
       "      <td>0.000826</td>\n",
       "      <td>0.000835</td>\n",
       "      <td>0.00084</td>\n",
       "      <td>0.000839</td>\n",
       "      <td>0.000833</td>\n",
       "      <td>0.000821</td>\n",
       "      <td>0.000802</td>\n",
       "      <td>0.000778</td>\n",
       "      <td>...</td>\n",
       "      <td>0.002818</td>\n",
       "      <td>0.002766</td>\n",
       "      <td>0.002698</td>\n",
       "      <td>0.002611</td>\n",
       "      <td>0.002504</td>\n",
       "      <td>0.002379</td>\n",
       "      <td>0.00224</td>\n",
       "      <td>0.002093</td>\n",
       "      <td>0.001949</td>\n",
       "      <td>0.001826</td>\n",
       "    </tr>\n",
       "    <tr>\n",
       "      <th>0</th>\n",
       "      <td>0.000585</td>\n",
       "      <td>0.00083</td>\n",
       "      <td>0.000835</td>\n",
       "      <td>0.000836</td>\n",
       "      <td>0.000832</td>\n",
       "      <td>0.000823</td>\n",
       "      <td>0.00081</td>\n",
       "      <td>0.000795</td>\n",
       "      <td>0.000783</td>\n",
       "      <td>0.000771</td>\n",
       "      <td>...</td>\n",
       "      <td>0.00215</td>\n",
       "      <td>0.002136</td>\n",
       "      <td>0.002101</td>\n",
       "      <td>0.002045</td>\n",
       "      <td>0.00197</td>\n",
       "      <td>0.00188</td>\n",
       "      <td>0.001784</td>\n",
       "      <td>0.001691</td>\n",
       "      <td>0.00161</td>\n",
       "      <td>0.001552</td>\n",
       "    </tr>\n",
       "    <tr>\n",
       "      <th>0</th>\n",
       "      <td>0.000314</td>\n",
       "      <td>0.000453</td>\n",
       "      <td>0.000472</td>\n",
       "      <td>0.000495</td>\n",
       "      <td>0.000518</td>\n",
       "      <td>0.000539</td>\n",
       "      <td>0.000557</td>\n",
       "      <td>0.00057</td>\n",
       "      <td>0.00058</td>\n",
       "      <td>0.000592</td>\n",
       "      <td>...</td>\n",
       "      <td>0.002976</td>\n",
       "      <td>0.002957</td>\n",
       "      <td>0.002908</td>\n",
       "      <td>0.002829</td>\n",
       "      <td>0.002725</td>\n",
       "      <td>0.002605</td>\n",
       "      <td>0.002481</td>\n",
       "      <td>0.002367</td>\n",
       "      <td>0.002256</td>\n",
       "      <td>0.002162</td>\n",
       "    </tr>\n",
       "    <tr>\n",
       "      <th>0</th>\n",
       "      <td>0.000533</td>\n",
       "      <td>0.000758</td>\n",
       "      <td>0.000765</td>\n",
       "      <td>0.00077</td>\n",
       "      <td>0.000772</td>\n",
       "      <td>0.000772</td>\n",
       "      <td>0.000774</td>\n",
       "      <td>0.00078</td>\n",
       "      <td>0.000785</td>\n",
       "      <td>0.000788</td>\n",
       "      <td>...</td>\n",
       "      <td>0.003026</td>\n",
       "      <td>0.003063</td>\n",
       "      <td>0.003083</td>\n",
       "      <td>0.003079</td>\n",
       "      <td>0.003047</td>\n",
       "      <td>0.002985</td>\n",
       "      <td>0.002897</td>\n",
       "      <td>0.00279</td>\n",
       "      <td>0.002677</td>\n",
       "      <td>0.002577</td>\n",
       "    </tr>\n",
       "    <tr>\n",
       "      <th>...</th>\n",
       "      <td>...</td>\n",
       "      <td>...</td>\n",
       "      <td>...</td>\n",
       "      <td>...</td>\n",
       "      <td>...</td>\n",
       "      <td>...</td>\n",
       "      <td>...</td>\n",
       "      <td>...</td>\n",
       "      <td>...</td>\n",
       "      <td>...</td>\n",
       "      <td>...</td>\n",
       "      <td>...</td>\n",
       "      <td>...</td>\n",
       "      <td>...</td>\n",
       "      <td>...</td>\n",
       "      <td>...</td>\n",
       "      <td>...</td>\n",
       "      <td>...</td>\n",
       "      <td>...</td>\n",
       "      <td>...</td>\n",
       "      <td>...</td>\n",
       "    </tr>\n",
       "    <tr>\n",
       "      <th>0</th>\n",
       "      <td>0.000174</td>\n",
       "      <td>0.00025</td>\n",
       "      <td>0.000257</td>\n",
       "      <td>0.000264</td>\n",
       "      <td>0.00027</td>\n",
       "      <td>0.000274</td>\n",
       "      <td>0.000275</td>\n",
       "      <td>0.000276</td>\n",
       "      <td>0.000276</td>\n",
       "      <td>0.000276</td>\n",
       "      <td>...</td>\n",
       "      <td>0.0028</td>\n",
       "      <td>0.00318</td>\n",
       "      <td>0.003539</td>\n",
       "      <td>0.003861</td>\n",
       "      <td>0.004137</td>\n",
       "      <td>0.004357</td>\n",
       "      <td>0.004518</td>\n",
       "      <td>0.004619</td>\n",
       "      <td>0.004665</td>\n",
       "      <td>0.004669</td>\n",
       "    </tr>\n",
       "    <tr>\n",
       "      <th>0</th>\n",
       "      <td>0.000139</td>\n",
       "      <td>0.000202</td>\n",
       "      <td>0.000211</td>\n",
       "      <td>0.000221</td>\n",
       "      <td>0.000229</td>\n",
       "      <td>0.000236</td>\n",
       "      <td>0.00024</td>\n",
       "      <td>0.000241</td>\n",
       "      <td>0.000239</td>\n",
       "      <td>0.000234</td>\n",
       "      <td>...</td>\n",
       "      <td>0.003768</td>\n",
       "      <td>0.004222</td>\n",
       "      <td>0.004637</td>\n",
       "      <td>0.004999</td>\n",
       "      <td>0.005298</td>\n",
       "      <td>0.005526</td>\n",
       "      <td>0.005683</td>\n",
       "      <td>0.00577</td>\n",
       "      <td>0.005798</td>\n",
       "      <td>0.00578</td>\n",
       "    </tr>\n",
       "    <tr>\n",
       "      <th>0</th>\n",
       "      <td>0.000153</td>\n",
       "      <td>0.000215</td>\n",
       "      <td>0.000211</td>\n",
       "      <td>0.000206</td>\n",
       "      <td>0.000198</td>\n",
       "      <td>0.00019</td>\n",
       "      <td>0.00018</td>\n",
       "      <td>0.000172</td>\n",
       "      <td>0.000167</td>\n",
       "      <td>0.000166</td>\n",
       "      <td>...</td>\n",
       "      <td>0.005018</td>\n",
       "      <td>0.005671</td>\n",
       "      <td>0.006279</td>\n",
       "      <td>0.00682</td>\n",
       "      <td>0.007277</td>\n",
       "      <td>0.007638</td>\n",
       "      <td>0.007897</td>\n",
       "      <td>0.008056</td>\n",
       "      <td>0.008126</td>\n",
       "      <td>0.00813</td>\n",
       "    </tr>\n",
       "    <tr>\n",
       "      <th>0</th>\n",
       "      <td>0.000162</td>\n",
       "      <td>0.000231</td>\n",
       "      <td>0.000234</td>\n",
       "      <td>0.000236</td>\n",
       "      <td>0.000239</td>\n",
       "      <td>0.000241</td>\n",
       "      <td>0.000243</td>\n",
       "      <td>0.000243</td>\n",
       "      <td>0.000243</td>\n",
       "      <td>0.000242</td>\n",
       "      <td>...</td>\n",
       "      <td>0.003965</td>\n",
       "      <td>0.004534</td>\n",
       "      <td>0.005081</td>\n",
       "      <td>0.005587</td>\n",
       "      <td>0.006036</td>\n",
       "      <td>0.006416</td>\n",
       "      <td>0.006716</td>\n",
       "      <td>0.006932</td>\n",
       "      <td>0.007066</td>\n",
       "      <td>0.007122</td>\n",
       "    </tr>\n",
       "    <tr>\n",
       "      <th>0</th>\n",
       "      <td>0.000088</td>\n",
       "      <td>0.000123</td>\n",
       "      <td>0.00012</td>\n",
       "      <td>0.000115</td>\n",
       "      <td>0.000108</td>\n",
       "      <td>0.0001</td>\n",
       "      <td>0.000091</td>\n",
       "      <td>0.000083</td>\n",
       "      <td>0.000076</td>\n",
       "      <td>0.000071</td>\n",
       "      <td>...</td>\n",
       "      <td>0.000964</td>\n",
       "      <td>0.001097</td>\n",
       "      <td>0.001223</td>\n",
       "      <td>0.001337</td>\n",
       "      <td>0.001435</td>\n",
       "      <td>0.001516</td>\n",
       "      <td>0.001576</td>\n",
       "      <td>0.001617</td>\n",
       "      <td>0.001638</td>\n",
       "      <td>0.001644</td>\n",
       "    </tr>\n",
       "  </tbody>\n",
       "</table>\n",
       "<p>2392 rows × 2048 columns</p>\n",
       "</div>"
      ],
      "text/plain": [
       "     freq_z0   freq_z1   freq_z2   freq_z3   freq_z4   freq_z5   freq_z6  \\\n",
       "0   0.000439  0.000643  0.000683  0.000729  0.000776  0.000821  0.000862   \n",
       "0   0.000571  0.000814  0.000826  0.000835   0.00084  0.000839  0.000833   \n",
       "0   0.000585   0.00083  0.000835  0.000836  0.000832  0.000823   0.00081   \n",
       "0   0.000314  0.000453  0.000472  0.000495  0.000518  0.000539  0.000557   \n",
       "0   0.000533  0.000758  0.000765   0.00077  0.000772  0.000772  0.000774   \n",
       "..       ...       ...       ...       ...       ...       ...       ...   \n",
       "0   0.000174   0.00025  0.000257  0.000264   0.00027  0.000274  0.000275   \n",
       "0   0.000139  0.000202  0.000211  0.000221  0.000229  0.000236   0.00024   \n",
       "0   0.000153  0.000215  0.000211  0.000206  0.000198   0.00019   0.00018   \n",
       "0   0.000162  0.000231  0.000234  0.000236  0.000239  0.000241  0.000243   \n",
       "0   0.000088  0.000123   0.00012  0.000115  0.000108    0.0001  0.000091   \n",
       "\n",
       "     freq_z7   freq_z8   freq_z9  ... freq_z2038 freq_z2039 freq_z2040  \\\n",
       "0     0.0009  0.000933  0.000957  ...   0.004169   0.004046   0.003889   \n",
       "0   0.000821  0.000802  0.000778  ...   0.002818   0.002766   0.002698   \n",
       "0   0.000795  0.000783  0.000771  ...    0.00215   0.002136   0.002101   \n",
       "0    0.00057   0.00058  0.000592  ...   0.002976   0.002957   0.002908   \n",
       "0    0.00078  0.000785  0.000788  ...   0.003026   0.003063   0.003083   \n",
       "..       ...       ...       ...  ...        ...        ...        ...   \n",
       "0   0.000276  0.000276  0.000276  ...     0.0028    0.00318   0.003539   \n",
       "0   0.000241  0.000239  0.000234  ...   0.003768   0.004222   0.004637   \n",
       "0   0.000172  0.000167  0.000166  ...   0.005018   0.005671   0.006279   \n",
       "0   0.000243  0.000243  0.000242  ...   0.003965   0.004534   0.005081   \n",
       "0   0.000083  0.000076  0.000071  ...   0.000964   0.001097   0.001223   \n",
       "\n",
       "   freq_z2041 freq_z2042 freq_z2043 freq_z2044 freq_z2045 freq_z2046  \\\n",
       "0    0.003707   0.003516   0.003316   0.003111   0.002911    0.00273   \n",
       "0    0.002611   0.002504   0.002379    0.00224   0.002093   0.001949   \n",
       "0    0.002045    0.00197    0.00188   0.001784   0.001691    0.00161   \n",
       "0    0.002829   0.002725   0.002605   0.002481   0.002367   0.002256   \n",
       "0    0.003079   0.003047   0.002985   0.002897    0.00279   0.002677   \n",
       "..        ...        ...        ...        ...        ...        ...   \n",
       "0    0.003861   0.004137   0.004357   0.004518   0.004619   0.004665   \n",
       "0    0.004999   0.005298   0.005526   0.005683    0.00577   0.005798   \n",
       "0     0.00682   0.007277   0.007638   0.007897   0.008056   0.008126   \n",
       "0    0.005587   0.006036   0.006416   0.006716   0.006932   0.007066   \n",
       "0    0.001337   0.001435   0.001516   0.001576   0.001617   0.001638   \n",
       "\n",
       "   freq_z2047  \n",
       "0    0.002589  \n",
       "0    0.001826  \n",
       "0    0.001552  \n",
       "0    0.002162  \n",
       "0    0.002577  \n",
       "..        ...  \n",
       "0    0.004669  \n",
       "0     0.00578  \n",
       "0     0.00813  \n",
       "0    0.007122  \n",
       "0    0.001644  \n",
       "\n",
       "[2392 rows x 2048 columns]"
      ]
     },
     "execution_count": 25,
     "metadata": {},
     "output_type": "execute_result"
    }
   ],
   "source": [
    "df"
   ]
  },
  {
   "cell_type": "code",
   "execution_count": 26,
   "id": "f37816e7",
   "metadata": {},
   "outputs": [],
   "source": [
    "df.to_csv(dir_path + '/z-axis-spectogram_coef.csv')"
   ]
  },
  {
   "cell_type": "code",
   "execution_count": null,
   "id": "b16403a3",
   "metadata": {},
   "outputs": [],
   "source": []
  },
  {
   "cell_type": "code",
   "execution_count": null,
   "id": "2da6a31d",
   "metadata": {},
   "outputs": [],
   "source": []
  }
 ],
 "metadata": {
  "kernelspec": {
   "display_name": "Python 3 (ipykernel)",
   "language": "python",
   "name": "python3"
  },
  "language_info": {
   "codemirror_mode": {
    "name": "ipython",
    "version": 3
   },
   "file_extension": ".py",
   "mimetype": "text/x-python",
   "name": "python",
   "nbconvert_exporter": "python",
   "pygments_lexer": "ipython3",
   "version": "3.9.9"
  }
 },
 "nbformat": 4,
 "nbformat_minor": 5
}
