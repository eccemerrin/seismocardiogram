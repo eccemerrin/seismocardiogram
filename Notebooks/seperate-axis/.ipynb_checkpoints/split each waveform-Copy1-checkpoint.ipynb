{
 "cells": [
  {
   "cell_type": "code",
   "execution_count": 1,
   "id": "466a2dc2",
   "metadata": {},
   "outputs": [],
   "source": [
    "import numpy as np"
   ]
  },
  {
   "cell_type": "code",
   "execution_count": 2,
   "id": "ce06ed57",
   "metadata": {},
   "outputs": [],
   "source": [
    "dir_path = \"/Users/ecem/Desktop/seperate-axis\""
   ]
  },
  {
   "cell_type": "code",
   "execution_count": 3,
   "id": "1ccbf715",
   "metadata": {},
   "outputs": [],
   "source": [
    "x = np.load(dir_path + \"/x-axis.npy\", allow_pickle= True)\n",
    "y = np.load(dir_path + \"/y-axis.npy\", allow_pickle= True)\n",
    "z = np.load(dir_path + \"/z-axis.npy\", allow_pickle= True)\n"
   ]
  },
  {
   "cell_type": "code",
   "execution_count": 4,
   "id": "ad5672a3",
   "metadata": {},
   "outputs": [
    {
     "data": {
      "text/plain": [
       "(60,)"
      ]
     },
     "execution_count": 4,
     "metadata": {},
     "output_type": "execute_result"
    }
   ],
   "source": [
    "x.shape"
   ]
  },
  {
   "cell_type": "code",
   "execution_count": 5,
   "id": "650771c8",
   "metadata": {
    "scrolled": true
   },
   "outputs": [
    {
     "data": {
      "text/plain": [
       "(60,)"
      ]
     },
     "execution_count": 5,
     "metadata": {},
     "output_type": "execute_result"
    }
   ],
   "source": [
    "y.shape"
   ]
  },
  {
   "cell_type": "code",
   "execution_count": 6,
   "id": "6e359f53",
   "metadata": {},
   "outputs": [
    {
     "data": {
      "text/plain": [
       "(60,)"
      ]
     },
     "execution_count": 6,
     "metadata": {},
     "output_type": "execute_result"
    }
   ],
   "source": [
    "z.shape"
   ]
  },
  {
   "cell_type": "code",
   "execution_count": 10,
   "id": "45cb241e",
   "metadata": {},
   "outputs": [
    {
     "data": {
      "text/plain": [
       "obspy.core.trace.Trace"
      ]
     },
     "execution_count": 10,
     "metadata": {},
     "output_type": "execute_result"
    }
   ],
   "source": [
    "type(x[0])"
   ]
  },
  {
   "cell_type": "code",
   "execution_count": 8,
   "id": "15d47046",
   "metadata": {
    "scrolled": true
   },
   "outputs": [
    {
     "name": "stdout",
     "output_type": "stream",
     "text": [
      "256.0\n",
      "256.0\n",
      "256.0\n",
      "256.0\n",
      "256.0\n",
      "256.0\n",
      "256.0\n",
      "256.0\n",
      "256.0\n",
      "256.0\n",
      "256.0\n",
      "256.0\n",
      "256.0\n",
      "256.0\n",
      "256.0\n",
      "256.0\n",
      "256.0\n",
      "256.0\n",
      "256.0\n",
      "256.0\n",
      "256.0\n",
      "256.0\n",
      "256.0\n",
      "256.0\n",
      "256.0\n",
      "256.0\n",
      "256.0\n",
      "256.0\n",
      "256.0\n",
      "256.0\n",
      "256.0\n",
      "256.0\n",
      "256.0\n",
      "256.0\n",
      "256.0\n",
      "256.0\n",
      "256.0\n",
      "256.0\n",
      "256.0\n",
      "256.0\n",
      "256.0\n",
      "256.0\n",
      "256.0\n",
      "256.0\n",
      "256.0\n",
      "256.0\n",
      "256.0\n",
      "256.0\n",
      "256.0\n",
      "256.0\n",
      "256.0\n",
      "256.0\n",
      "256.0\n",
      "256.0\n",
      "256.0\n",
      "256.0\n",
      "256.0\n",
      "256.0\n",
      "256.0\n",
      "256.0\n"
     ]
    }
   ],
   "source": [
    "#sanity check\n",
    "for i in range(x.shape[0]):\n",
    "    print(x[0].stats.sampling_rate)"
   ]
  },
  {
   "cell_type": "code",
   "execution_count": 13,
   "id": "a5cd1e24",
   "metadata": {},
   "outputs": [],
   "source": [
    "def splitter(array, slicing_point = 10000, duration = 10):\n",
    "    wanted_npts = int(array[0].stats.sampling_rate * duration) \n",
    "    npts = int(array[0].stats.npts - 10000)\n",
    "    lenght = npts // wanted_npts\n",
    "    remainder = int(np.around((((npts / wanted_npts - lenght)) * wanted_npts), 0))\n",
    "    \n",
    "    \n",
    "    return [np.array_split(array[0][slicing_point + remainder:],lenght),\n",
    "           np.array_split(array[1][slicing_point + remainder:],lenght),\n",
    "           np.array_split(array[2][slicing_point + remainder:],lenght)]\n",
    "    "
   ]
  },
  {
   "cell_type": "code",
   "execution_count": 14,
   "id": "fccd5a1c",
   "metadata": {},
   "outputs": [],
   "source": [
    "def merger(array, slicing_point = 10000, duration = 10):\n",
    "    _x, _y, _z  = [], [], []\n",
    "\n",
    "    for i in range(len(array)):\n",
    "        a, b, c = splitter(array[i], slicing_point = slicing_point, duration = duration)\n",
    "        _x = _x + a\n",
    "        _y = _y + b\n",
    "        _z = _z + c\n",
    "\n",
    "\n",
    "        \n",
    "    return [_x,_y,_z]"
   ]
  },
  {
   "cell_type": "code",
   "execution_count": 16,
   "id": "1323b282",
   "metadata": {},
   "outputs": [],
   "source": [
    "all_ =  np.stack((x, y, z), axis = -1)"
   ]
  },
  {
   "cell_type": "code",
   "execution_count": 18,
   "id": "2f5045a2",
   "metadata": {},
   "outputs": [
    {
     "data": {
      "text/plain": [
       "(60, 3)"
      ]
     },
     "execution_count": 18,
     "metadata": {},
     "output_type": "execute_result"
    }
   ],
   "source": [
    "all_.shape"
   ]
  },
  {
   "cell_type": "markdown",
   "id": "96c51d13",
   "metadata": {},
   "source": [
    "## Splitting into 10 sc frames"
   ]
  },
  {
   "cell_type": "code",
   "execution_count": 19,
   "id": "d3b59fd5",
   "metadata": {},
   "outputs": [],
   "source": [
    "_x, _y, _z = merger(all_, duration = 10)"
   ]
  },
  {
   "cell_type": "code",
   "execution_count": 20,
   "id": "b31e8c03",
   "metadata": {},
   "outputs": [
    {
     "data": {
      "text/plain": [
       "numpy.ndarray"
      ]
     },
     "execution_count": 20,
     "metadata": {},
     "output_type": "execute_result"
    }
   ],
   "source": [
    "type(_x[0])"
   ]
  },
  {
   "cell_type": "code",
   "execution_count": 21,
   "id": "7e2ed0a5",
   "metadata": {},
   "outputs": [
    {
     "data": {
      "text/plain": [
       "2392"
      ]
     },
     "execution_count": 21,
     "metadata": {},
     "output_type": "execute_result"
    }
   ],
   "source": [
    "#sanity check\n",
    "len(_x)"
   ]
  },
  {
   "cell_type": "code",
   "execution_count": 22,
   "id": "fb6f25dc",
   "metadata": {},
   "outputs": [
    {
     "name": "stdout",
     "output_type": "stream",
     "text": [
      "2392\n",
      "2392\n"
     ]
    }
   ],
   "source": [
    "print(len(_y))\n",
    "print(len(_z))"
   ]
  },
  {
   "cell_type": "code",
   "execution_count": 23,
   "id": "6a666bcf",
   "metadata": {},
   "outputs": [
    {
     "name": "stdout",
     "output_type": "stream",
     "text": [
      "2560\n",
      "2560\n",
      "2560\n"
     ]
    }
   ],
   "source": [
    "# sanity check\n",
    "print(len(_x[0]))\n",
    "print(len(_y[20]))\n",
    "print(len(_z[19]))"
   ]
  },
  {
   "cell_type": "code",
   "execution_count": 16,
   "id": "52cdac70",
   "metadata": {},
   "outputs": [],
   "source": [
    "#stacked_diseased = np.stack((diseased_x, diseased_y, diseased_z),axis = 0)\n"
   ]
  },
  {
   "cell_type": "code",
   "execution_count": 17,
   "id": "5eed2d4f",
   "metadata": {},
   "outputs": [
    {
     "name": "stdout",
     "output_type": "stream",
     "text": [
      "(3, 2392, 2560)\n"
     ]
    }
   ],
   "source": [
    "#print(stacked_diseased.shape)\n"
   ]
  },
  {
   "cell_type": "code",
   "execution_count": 24,
   "id": "a1c02d07",
   "metadata": {},
   "outputs": [],
   "source": [
    "np.save(dir_path + \"/x-10sec\", _x, allow_pickle= True)\n",
    "np.save(dir_path + \"/y-10sec\", _y, allow_pickle= True)\n",
    "np.save(dir_path + \"/z-10sec\", _z, allow_pickle= True)\n"
   ]
  },
  {
   "cell_type": "code",
   "execution_count": null,
   "id": "57703a2e",
   "metadata": {},
   "outputs": [],
   "source": [
    "\n"
   ]
  },
  {
   "cell_type": "code",
   "execution_count": null,
   "id": "6c9d085f",
   "metadata": {},
   "outputs": [],
   "source": []
  },
  {
   "cell_type": "code",
   "execution_count": null,
   "id": "ed3e25a8",
   "metadata": {},
   "outputs": [],
   "source": []
  }
 ],
 "metadata": {
  "kernelspec": {
   "display_name": "Python 3 (ipykernel)",
   "language": "python",
   "name": "python3"
  },
  "language_info": {
   "codemirror_mode": {
    "name": "ipython",
    "version": 3
   },
   "file_extension": ".py",
   "mimetype": "text/x-python",
   "name": "python",
   "nbconvert_exporter": "python",
   "pygments_lexer": "ipython3",
   "version": "3.9.9"
  }
 },
 "nbformat": 4,
 "nbformat_minor": 5
}
