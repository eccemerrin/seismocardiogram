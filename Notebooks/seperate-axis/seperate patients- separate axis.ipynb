{
 "cells": [
  {
   "cell_type": "markdown",
   "id": "a10707b4",
   "metadata": {},
   "source": [
    "## Imports:"
   ]
  },
  {
   "cell_type": "code",
   "execution_count": 1,
   "id": "5b0b2dcc",
   "metadata": {},
   "outputs": [
    {
     "ename": "RuntimeError",
     "evalue": "module compiled against API version 0xe but this version of numpy is 0xd",
     "output_type": "error",
     "traceback": [
      "\u001b[0;31m---------------------------------------------------------------------------\u001b[0m",
      "\u001b[0;31mRuntimeError\u001b[0m                              Traceback (most recent call last)",
      "\u001b[0;31mRuntimeError\u001b[0m: module compiled against API version 0xe but this version of numpy is 0xd"
     ]
    }
   ],
   "source": [
    "import scipy.io\n",
    "import os\n",
    "import pandas\n",
    "import numpy as np\n",
    "import matplotlib.pyplot as plt\n",
    "import matplotlib.pylab as plt_lab\n",
    "import matplotlib.gridspec as gridspec\n",
    "import obspy\n",
    "import pandas as pd"
   ]
  },
  {
   "cell_type": "code",
   "execution_count": 2,
   "id": "995724bf",
   "metadata": {},
   "outputs": [],
   "source": [
    "import warnings\n",
    "warnings.filterwarnings('ignore')"
   ]
  },
  {
   "cell_type": "markdown",
   "id": "41b4c77f",
   "metadata": {},
   "source": [
    "## Load data:\n",
    "We are going to use this data to plot spectograms of SCG signals. "
   ]
  },
  {
   "cell_type": "code",
   "execution_count": 3,
   "id": "75a415fd",
   "metadata": {},
   "outputs": [],
   "source": [
    "dir_path = \"/Users/ecem/Desktop/seismocardiogram/data/diseased-dataset/Raw_Recordings\"\n",
    "csv_path = \"/Users/ecem/Desktop/csv of scgs\"\n",
    "new_path = \"/Users/ecem/Desktop/seperate-axis\""
   ]
  },
  {
   "cell_type": "code",
   "execution_count": 4,
   "id": "cff5b561",
   "metadata": {},
   "outputs": [],
   "source": [
    "x = np.load(dir_path + \"/tr_x.npy\", allow_pickle= True)\n",
    "y = np.load(dir_path + \"/tr_y.npy\", allow_pickle= True)\n",
    "z = np.load(dir_path + \"/tr_z.npy\", allow_pickle= True)"
   ]
  },
  {
   "cell_type": "code",
   "execution_count": 5,
   "id": "1a7b8403",
   "metadata": {},
   "outputs": [
    {
     "data": {
      "text/plain": [
       "(100,)"
      ]
     },
     "execution_count": 5,
     "metadata": {},
     "output_type": "execute_result"
    }
   ],
   "source": [
    "x.shape"
   ]
  },
  {
   "cell_type": "markdown",
   "id": "45e75421",
   "metadata": {},
   "source": [
    "## Load csv and create two seperate dataframe:\n",
    "We are going to use heart dataframe to differentiate healty people from the people with diaseaes. Data's of healty people will be stored in the healty dataset while diseased people will be in diseased dataset."
   ]
  },
  {
   "cell_type": "code",
   "execution_count": 6,
   "id": "d770eb2f",
   "metadata": {},
   "outputs": [],
   "source": [
    "heart = pd.read_excel(\"/Users/ecem/Desktop/seismocardiogram/data/diseased-dataset/Summary_Pub_Deidentified.xlsx\")\n",
    "df = heart.copy().fillna(0)"
   ]
  },
  {
   "cell_type": "markdown",
   "id": "dbd6f79f",
   "metadata": {},
   "source": [
    "## only without TR"
   ]
  },
  {
   "cell_type": "code",
   "execution_count": 7,
   "id": "31039361",
   "metadata": {},
   "outputs": [],
   "source": [
    "idx = np.where(df['moderate or greater TR'] != 1.0)\n"
   ]
  },
  {
   "cell_type": "code",
   "execution_count": 8,
   "id": "a6e21993",
   "metadata": {},
   "outputs": [
    {
     "data": {
      "text/plain": [
       "(array([  0,   1,   2,   4,   5,   6,   7,   8,  12,  14,  17,  19,  21,\n",
       "         25,  26,  27,  28,  29,  31,  32,  36,  37,  38,  39,  40,  43,\n",
       "         44,  45,  46,  49,  50,  52,  54,  58,  60,  62,  64,  65,  68,\n",
       "         71,  73,  76,  78,  79,  80,  81,  82,  83,  84,  85,  87,  88,\n",
       "         89,  92,  94,  95,  96,  97,  98,  99, 100]),)"
      ]
     },
     "execution_count": 8,
     "metadata": {},
     "output_type": "execute_result"
    }
   ],
   "source": [
    "idx"
   ]
  },
  {
   "cell_type": "code",
   "execution_count": 9,
   "id": "bc1d8069",
   "metadata": {},
   "outputs": [
    {
     "data": {
      "text/plain": [
       "61"
      ]
     },
     "execution_count": 9,
     "metadata": {},
     "output_type": "execute_result"
    }
   ],
   "source": [
    "len(idx[0])"
   ]
  },
  {
   "cell_type": "code",
   "execution_count": 10,
   "id": "2f279480",
   "metadata": {},
   "outputs": [],
   "source": [
    "diseased = df.loc[idx]"
   ]
  },
  {
   "cell_type": "code",
   "execution_count": 11,
   "id": "636562ca",
   "metadata": {},
   "outputs": [
    {
     "data": {
      "text/html": [
       "<div>\n",
       "<style scoped>\n",
       "    .dataframe tbody tr th:only-of-type {\n",
       "        vertical-align: middle;\n",
       "    }\n",
       "\n",
       "    .dataframe tbody tr th {\n",
       "        vertical-align: top;\n",
       "    }\n",
       "\n",
       "    .dataframe thead th {\n",
       "        text-align: right;\n",
       "    }\n",
       "</style>\n",
       "<table border=\"1\" class=\"dataframe\">\n",
       "  <thead>\n",
       "    <tr style=\"text-align: right;\">\n",
       "      <th></th>\n",
       "      <th>Patient ID</th>\n",
       "      <th>Start</th>\n",
       "      <th>Duration</th>\n",
       "      <th>Sampling rate(Hz)</th>\n",
       "      <th>Date of collection</th>\n",
       "      <th>Age</th>\n",
       "      <th>Gender</th>\n",
       "      <th>Height (cm)</th>\n",
       "      <th>Weight (kg)</th>\n",
       "      <th>History of MI</th>\n",
       "      <th>...</th>\n",
       "      <th>Aortic valve area Mean gradient(mmHg)</th>\n",
       "      <th>Aortic valve area Peak velocity (m/sec)</th>\n",
       "      <th>Mitral valve area (cm2)</th>\n",
       "      <th>Mitral valve Mean gradient(mmHg)</th>\n",
       "      <th>Mitral valve Peak velocity (m/sec)</th>\n",
       "      <th>Moderate or greater MS</th>\n",
       "      <th>Moderate or greater MR</th>\n",
       "      <th>Moderate or greater AR</th>\n",
       "      <th>Moderate or greater AS</th>\n",
       "      <th>moderate or greater TR</th>\n",
       "    </tr>\n",
       "  </thead>\n",
       "  <tbody>\n",
       "    <tr>\n",
       "      <th>0</th>\n",
       "      <td>CP-01</td>\n",
       "      <td>00:00:08</td>\n",
       "      <td>00:07:42</td>\n",
       "      <td>256.000000</td>\n",
       "      <td>2021-04-13 00:00:00</td>\n",
       "      <td>59.0</td>\n",
       "      <td>M</td>\n",
       "      <td>174.0</td>\n",
       "      <td>74.0</td>\n",
       "      <td>0.0</td>\n",
       "      <td>...</td>\n",
       "      <td>0.0</td>\n",
       "      <td>0.0</td>\n",
       "      <td>0.0</td>\n",
       "      <td>0.0</td>\n",
       "      <td>0.0</td>\n",
       "      <td>0.0</td>\n",
       "      <td>1.0</td>\n",
       "      <td>0.0</td>\n",
       "      <td>0.0</td>\n",
       "      <td>0.0</td>\n",
       "    </tr>\n",
       "    <tr>\n",
       "      <th>1</th>\n",
       "      <td>CP-02</td>\n",
       "      <td>00:00:45</td>\n",
       "      <td>00:08:20</td>\n",
       "      <td>256.000000</td>\n",
       "      <td>2021-04-13 00:00:00</td>\n",
       "      <td>73.0</td>\n",
       "      <td>M</td>\n",
       "      <td>162.0</td>\n",
       "      <td>63.0</td>\n",
       "      <td>0.0</td>\n",
       "      <td>...</td>\n",
       "      <td>65.0</td>\n",
       "      <td>4.9</td>\n",
       "      <td>1.4</td>\n",
       "      <td>6.0</td>\n",
       "      <td>1.8</td>\n",
       "      <td>1.0</td>\n",
       "      <td>1.0</td>\n",
       "      <td>1.0</td>\n",
       "      <td>1.0</td>\n",
       "      <td>0.0</td>\n",
       "    </tr>\n",
       "    <tr>\n",
       "      <th>2</th>\n",
       "      <td>CP-03</td>\n",
       "      <td>00:00:40</td>\n",
       "      <td>00:08:50</td>\n",
       "      <td>256.000000</td>\n",
       "      <td>2021-04-13 00:00:00</td>\n",
       "      <td>70.0</td>\n",
       "      <td>M</td>\n",
       "      <td>167.0</td>\n",
       "      <td>84.0</td>\n",
       "      <td>0.0</td>\n",
       "      <td>...</td>\n",
       "      <td>0.0</td>\n",
       "      <td>0.0</td>\n",
       "      <td>0.0</td>\n",
       "      <td>0.0</td>\n",
       "      <td>0.0</td>\n",
       "      <td>0.0</td>\n",
       "      <td>1.0</td>\n",
       "      <td>0.0</td>\n",
       "      <td>0.0</td>\n",
       "      <td>0.0</td>\n",
       "    </tr>\n",
       "    <tr>\n",
       "      <th>4</th>\n",
       "      <td>CP-05</td>\n",
       "      <td>00:00:50</td>\n",
       "      <td>00:07:00</td>\n",
       "      <td>256.000000</td>\n",
       "      <td>2021-04-14 00:00:00</td>\n",
       "      <td>59.0</td>\n",
       "      <td>M</td>\n",
       "      <td>163.0</td>\n",
       "      <td>55.0</td>\n",
       "      <td>0.0</td>\n",
       "      <td>...</td>\n",
       "      <td>74.0</td>\n",
       "      <td>4.3</td>\n",
       "      <td>0.0</td>\n",
       "      <td>0.0</td>\n",
       "      <td>0.0</td>\n",
       "      <td>0.0</td>\n",
       "      <td>0.0</td>\n",
       "      <td>1.0</td>\n",
       "      <td>1.0</td>\n",
       "      <td>0.0</td>\n",
       "    </tr>\n",
       "    <tr>\n",
       "      <th>5</th>\n",
       "      <td>CP-06</td>\n",
       "      <td>00:00:20</td>\n",
       "      <td>00:06:00</td>\n",
       "      <td>256.000000</td>\n",
       "      <td>2021-04-14 00:00:00</td>\n",
       "      <td>65.0</td>\n",
       "      <td>M</td>\n",
       "      <td>180.0</td>\n",
       "      <td>78.0</td>\n",
       "      <td>0.0</td>\n",
       "      <td>...</td>\n",
       "      <td>88.0</td>\n",
       "      <td>6.2</td>\n",
       "      <td>0.0</td>\n",
       "      <td>0.0</td>\n",
       "      <td>0.0</td>\n",
       "      <td>0.0</td>\n",
       "      <td>0.0</td>\n",
       "      <td>0.0</td>\n",
       "      <td>0.0</td>\n",
       "      <td>0.0</td>\n",
       "    </tr>\n",
       "    <tr>\n",
       "      <th>...</th>\n",
       "      <td>...</td>\n",
       "      <td>...</td>\n",
       "      <td>...</td>\n",
       "      <td>...</td>\n",
       "      <td>...</td>\n",
       "      <td>...</td>\n",
       "      <td>...</td>\n",
       "      <td>...</td>\n",
       "      <td>...</td>\n",
       "      <td>...</td>\n",
       "      <td>...</td>\n",
       "      <td>...</td>\n",
       "      <td>...</td>\n",
       "      <td>...</td>\n",
       "      <td>...</td>\n",
       "      <td>...</td>\n",
       "      <td>...</td>\n",
       "      <td>...</td>\n",
       "      <td>...</td>\n",
       "      <td>...</td>\n",
       "      <td>...</td>\n",
       "    </tr>\n",
       "    <tr>\n",
       "      <th>96</th>\n",
       "      <td>UP-27</td>\n",
       "      <td>00:00:00</td>\n",
       "      <td>00:05:05</td>\n",
       "      <td>512.208333</td>\n",
       "      <td>2019-11-09 00:00:00</td>\n",
       "      <td>82.0</td>\n",
       "      <td>M</td>\n",
       "      <td>180.0</td>\n",
       "      <td>118.0</td>\n",
       "      <td>0.0</td>\n",
       "      <td>...</td>\n",
       "      <td>30.1</td>\n",
       "      <td>3.9</td>\n",
       "      <td>0.0</td>\n",
       "      <td>0.0</td>\n",
       "      <td>0.0</td>\n",
       "      <td>0.0</td>\n",
       "      <td>0.0</td>\n",
       "      <td>0.0</td>\n",
       "      <td>1.0</td>\n",
       "      <td>0.0</td>\n",
       "    </tr>\n",
       "    <tr>\n",
       "      <th>97</th>\n",
       "      <td>UP-28</td>\n",
       "      <td>00:00:00</td>\n",
       "      <td>00:05:02</td>\n",
       "      <td>512.250000</td>\n",
       "      <td>2019-11-26 00:00:00</td>\n",
       "      <td>71.0</td>\n",
       "      <td>M</td>\n",
       "      <td>175.0</td>\n",
       "      <td>117.0</td>\n",
       "      <td>0.0</td>\n",
       "      <td>...</td>\n",
       "      <td>56.0</td>\n",
       "      <td>4.9</td>\n",
       "      <td>0.0</td>\n",
       "      <td>0.0</td>\n",
       "      <td>0.0</td>\n",
       "      <td>0.0</td>\n",
       "      <td>0.0</td>\n",
       "      <td>0.0</td>\n",
       "      <td>1.0</td>\n",
       "      <td>0.0</td>\n",
       "    </tr>\n",
       "    <tr>\n",
       "      <th>98</th>\n",
       "      <td>UP-29</td>\n",
       "      <td>00:00:00</td>\n",
       "      <td>00:04:58</td>\n",
       "      <td>512.291667</td>\n",
       "      <td>2019-11-26 00:00:00</td>\n",
       "      <td>80.0</td>\n",
       "      <td>M</td>\n",
       "      <td>168.9</td>\n",
       "      <td>65.8</td>\n",
       "      <td>0.0</td>\n",
       "      <td>...</td>\n",
       "      <td>49.3</td>\n",
       "      <td>4.7</td>\n",
       "      <td>0.0</td>\n",
       "      <td>0.0</td>\n",
       "      <td>0.0</td>\n",
       "      <td>0.0</td>\n",
       "      <td>0.0</td>\n",
       "      <td>0.0</td>\n",
       "      <td>1.0</td>\n",
       "      <td>0.0</td>\n",
       "    </tr>\n",
       "    <tr>\n",
       "      <th>99</th>\n",
       "      <td>UP-30</td>\n",
       "      <td>00:00:00</td>\n",
       "      <td>00:04:59</td>\n",
       "      <td>512.333333</td>\n",
       "      <td>2019-11-26 00:00:00</td>\n",
       "      <td>71.0</td>\n",
       "      <td>M</td>\n",
       "      <td>177.8</td>\n",
       "      <td>81.6</td>\n",
       "      <td>0.0</td>\n",
       "      <td>...</td>\n",
       "      <td>60.7</td>\n",
       "      <td>5.4</td>\n",
       "      <td>0.0</td>\n",
       "      <td>0.0</td>\n",
       "      <td>0.0</td>\n",
       "      <td>0.0</td>\n",
       "      <td>0.0</td>\n",
       "      <td>0.0</td>\n",
       "      <td>1.0</td>\n",
       "      <td>0.0</td>\n",
       "    </tr>\n",
       "    <tr>\n",
       "      <th>100</th>\n",
       "      <td>0</td>\n",
       "      <td>0</td>\n",
       "      <td>11:19:21</td>\n",
       "      <td>0.000000</td>\n",
       "      <td>0</td>\n",
       "      <td>0.0</td>\n",
       "      <td>0</td>\n",
       "      <td>0.0</td>\n",
       "      <td>0.0</td>\n",
       "      <td>0.0</td>\n",
       "      <td>...</td>\n",
       "      <td>0.0</td>\n",
       "      <td>0.0</td>\n",
       "      <td>0.0</td>\n",
       "      <td>0.0</td>\n",
       "      <td>0.0</td>\n",
       "      <td>0.0</td>\n",
       "      <td>0.0</td>\n",
       "      <td>0.0</td>\n",
       "      <td>0.0</td>\n",
       "      <td>0.0</td>\n",
       "    </tr>\n",
       "  </tbody>\n",
       "</table>\n",
       "<p>61 rows × 36 columns</p>\n",
       "</div>"
      ],
      "text/plain": [
       "    Patient ID     Start  Duration  Sampling rate(Hz)   Date of collection  \\\n",
       "0        CP-01  00:00:08  00:07:42         256.000000  2021-04-13 00:00:00   \n",
       "1        CP-02  00:00:45  00:08:20         256.000000  2021-04-13 00:00:00   \n",
       "2        CP-03  00:00:40  00:08:50         256.000000  2021-04-13 00:00:00   \n",
       "4        CP-05  00:00:50  00:07:00         256.000000  2021-04-14 00:00:00   \n",
       "5        CP-06  00:00:20  00:06:00         256.000000  2021-04-14 00:00:00   \n",
       "..         ...       ...       ...                ...                  ...   \n",
       "96       UP-27  00:00:00  00:05:05         512.208333  2019-11-09 00:00:00   \n",
       "97       UP-28  00:00:00  00:05:02         512.250000  2019-11-26 00:00:00   \n",
       "98       UP-29  00:00:00  00:04:58         512.291667  2019-11-26 00:00:00   \n",
       "99       UP-30  00:00:00  00:04:59         512.333333  2019-11-26 00:00:00   \n",
       "100          0         0  11:19:21           0.000000                    0   \n",
       "\n",
       "      Age Gender  Height (cm)  Weight (kg)  History of MI  ...  \\\n",
       "0    59.0      M        174.0         74.0            0.0  ...   \n",
       "1    73.0      M        162.0         63.0            0.0  ...   \n",
       "2    70.0      M        167.0         84.0            0.0  ...   \n",
       "4    59.0      M        163.0         55.0            0.0  ...   \n",
       "5    65.0      M        180.0         78.0            0.0  ...   \n",
       "..    ...    ...          ...          ...            ...  ...   \n",
       "96   82.0      M        180.0        118.0            0.0  ...   \n",
       "97   71.0      M        175.0        117.0            0.0  ...   \n",
       "98   80.0      M        168.9         65.8            0.0  ...   \n",
       "99   71.0      M        177.8         81.6            0.0  ...   \n",
       "100   0.0      0          0.0          0.0            0.0  ...   \n",
       "\n",
       "     Aortic valve area Mean gradient(mmHg)  \\\n",
       "0                                      0.0   \n",
       "1                                     65.0   \n",
       "2                                      0.0   \n",
       "4                                     74.0   \n",
       "5                                     88.0   \n",
       "..                                     ...   \n",
       "96                                    30.1   \n",
       "97                                    56.0   \n",
       "98                                    49.3   \n",
       "99                                    60.7   \n",
       "100                                    0.0   \n",
       "\n",
       "     Aortic valve area Peak velocity (m/sec)  Mitral valve area (cm2)  \\\n",
       "0                                        0.0                      0.0   \n",
       "1                                        4.9                      1.4   \n",
       "2                                        0.0                      0.0   \n",
       "4                                        4.3                      0.0   \n",
       "5                                        6.2                      0.0   \n",
       "..                                       ...                      ...   \n",
       "96                                       3.9                      0.0   \n",
       "97                                       4.9                      0.0   \n",
       "98                                       4.7                      0.0   \n",
       "99                                       5.4                      0.0   \n",
       "100                                      0.0                      0.0   \n",
       "\n",
       "    Mitral valve Mean gradient(mmHg)  Mitral valve Peak velocity (m/sec)  \\\n",
       "0                                0.0                                 0.0   \n",
       "1                                6.0                                 1.8   \n",
       "2                                0.0                                 0.0   \n",
       "4                                0.0                                 0.0   \n",
       "5                                0.0                                 0.0   \n",
       "..                               ...                                 ...   \n",
       "96                               0.0                                 0.0   \n",
       "97                               0.0                                 0.0   \n",
       "98                               0.0                                 0.0   \n",
       "99                               0.0                                 0.0   \n",
       "100                              0.0                                 0.0   \n",
       "\n",
       "     Moderate or greater MS  Moderate or greater MR  Moderate or greater AR  \\\n",
       "0                       0.0                     1.0                     0.0   \n",
       "1                       1.0                     1.0                     1.0   \n",
       "2                       0.0                     1.0                     0.0   \n",
       "4                       0.0                     0.0                     1.0   \n",
       "5                       0.0                     0.0                     0.0   \n",
       "..                      ...                     ...                     ...   \n",
       "96                      0.0                     0.0                     0.0   \n",
       "97                      0.0                     0.0                     0.0   \n",
       "98                      0.0                     0.0                     0.0   \n",
       "99                      0.0                     0.0                     0.0   \n",
       "100                     0.0                     0.0                     0.0   \n",
       "\n",
       "     Moderate or greater AS  moderate or greater TR  \n",
       "0                       0.0                     0.0  \n",
       "1                       1.0                     0.0  \n",
       "2                       0.0                     0.0  \n",
       "4                       1.0                     0.0  \n",
       "5                       0.0                     0.0  \n",
       "..                      ...                     ...  \n",
       "96                      1.0                     0.0  \n",
       "97                      1.0                     0.0  \n",
       "98                      1.0                     0.0  \n",
       "99                      1.0                     0.0  \n",
       "100                     0.0                     0.0  \n",
       "\n",
       "[61 rows x 36 columns]"
      ]
     },
     "execution_count": 11,
     "metadata": {},
     "output_type": "execute_result"
    }
   ],
   "source": [
    "diseased"
   ]
  },
  {
   "cell_type": "code",
   "execution_count": 12,
   "id": "7a2c2752",
   "metadata": {},
   "outputs": [],
   "source": [
    "diseased_x, diseased_y, diseased_z = [],[],[]\n"
   ]
  },
  {
   "cell_type": "code",
   "execution_count": 13,
   "id": "46add168",
   "metadata": {},
   "outputs": [
    {
     "ename": "IndexError",
     "evalue": "index 100 is out of bounds for axis 0 with size 100",
     "output_type": "error",
     "traceback": [
      "\u001b[0;31m---------------------------------------------------------------------------\u001b[0m",
      "\u001b[0;31mIndexError\u001b[0m                                Traceback (most recent call last)",
      "\u001b[0;32m/var/folders/gd/3d6ckpdn4q30skhxnvs_p7b80000gn/T/ipykernel_21539/53909444.py\u001b[0m in \u001b[0;36m<module>\u001b[0;34m\u001b[0m\n\u001b[1;32m      1\u001b[0m \u001b[0;32mfor\u001b[0m \u001b[0mi\u001b[0m \u001b[0;32min\u001b[0m \u001b[0mrange\u001b[0m\u001b[0;34m(\u001b[0m\u001b[0mlen\u001b[0m\u001b[0;34m(\u001b[0m\u001b[0mdiseased\u001b[0m\u001b[0;34m[\u001b[0m\u001b[0;34m'Patient ID'\u001b[0m\u001b[0;34m]\u001b[0m\u001b[0;34m.\u001b[0m\u001b[0mindex\u001b[0m\u001b[0;34m)\u001b[0m\u001b[0;34m)\u001b[0m\u001b[0;34m:\u001b[0m\u001b[0;34m\u001b[0m\u001b[0;34m\u001b[0m\u001b[0m\n\u001b[0;32m----> 2\u001b[0;31m     \u001b[0mx_\u001b[0m \u001b[0;34m=\u001b[0m \u001b[0mx\u001b[0m\u001b[0;34m[\u001b[0m\u001b[0mdiseased\u001b[0m\u001b[0;34m[\u001b[0m\u001b[0;34m'Patient ID'\u001b[0m\u001b[0;34m]\u001b[0m\u001b[0;34m.\u001b[0m\u001b[0mindex\u001b[0m\u001b[0;34m[\u001b[0m\u001b[0mi\u001b[0m\u001b[0;34m]\u001b[0m\u001b[0;34m]\u001b[0m\u001b[0;34m\u001b[0m\u001b[0;34m\u001b[0m\u001b[0m\n\u001b[0m\u001b[1;32m      3\u001b[0m     \u001b[0my_\u001b[0m \u001b[0;34m=\u001b[0m \u001b[0my\u001b[0m\u001b[0;34m[\u001b[0m\u001b[0mdiseased\u001b[0m\u001b[0;34m[\u001b[0m\u001b[0;34m'Patient ID'\u001b[0m\u001b[0;34m]\u001b[0m\u001b[0;34m.\u001b[0m\u001b[0mindex\u001b[0m\u001b[0;34m[\u001b[0m\u001b[0mi\u001b[0m\u001b[0;34m]\u001b[0m\u001b[0;34m]\u001b[0m\u001b[0;34m\u001b[0m\u001b[0;34m\u001b[0m\u001b[0m\n\u001b[1;32m      4\u001b[0m     \u001b[0mz_\u001b[0m \u001b[0;34m=\u001b[0m \u001b[0mz\u001b[0m\u001b[0;34m[\u001b[0m\u001b[0mdiseased\u001b[0m\u001b[0;34m[\u001b[0m\u001b[0;34m'Patient ID'\u001b[0m\u001b[0;34m]\u001b[0m\u001b[0;34m.\u001b[0m\u001b[0mindex\u001b[0m\u001b[0;34m[\u001b[0m\u001b[0mi\u001b[0m\u001b[0;34m]\u001b[0m\u001b[0;34m]\u001b[0m\u001b[0;34m\u001b[0m\u001b[0;34m\u001b[0m\u001b[0m\n\u001b[1;32m      5\u001b[0m \u001b[0;34m\u001b[0m\u001b[0m\n",
      "\u001b[0;31mIndexError\u001b[0m: index 100 is out of bounds for axis 0 with size 100"
     ]
    }
   ],
   "source": [
    "for i in range(len(diseased['Patient ID'].index)):\n",
    "    x_ = x[diseased['Patient ID'].index[i]]\n",
    "    y_ = y[diseased['Patient ID'].index[i]]\n",
    "    z_ = z[diseased['Patient ID'].index[i]]\n",
    "    \n",
    "    diseased_x.append(x_)\n",
    "    diseased_y.append(y_) \n",
    "    diseased_z.append(z_) \n",
    "del x_, y_, z_"
   ]
  },
  {
   "cell_type": "code",
   "execution_count": null,
   "id": "15d27a10",
   "metadata": {},
   "outputs": [],
   "source": []
  },
  {
   "cell_type": "code",
   "execution_count": 14,
   "id": "a2c41f03",
   "metadata": {},
   "outputs": [],
   "source": [
    "x_array = np.array(diseased_x)"
   ]
  },
  {
   "cell_type": "code",
   "execution_count": 15,
   "id": "05698a5d",
   "metadata": {},
   "outputs": [
    {
     "data": {
      "text/plain": [
       "(60,)"
      ]
     },
     "execution_count": 15,
     "metadata": {},
     "output_type": "execute_result"
    }
   ],
   "source": [
    "x_array.shape"
   ]
  },
  {
   "cell_type": "code",
   "execution_count": 16,
   "id": "b6db657a",
   "metadata": {},
   "outputs": [],
   "source": [
    "y_array = np.array(diseased_y)"
   ]
  },
  {
   "cell_type": "code",
   "execution_count": 17,
   "id": "f8d63809",
   "metadata": {},
   "outputs": [
    {
     "data": {
      "text/plain": [
       "(60,)"
      ]
     },
     "execution_count": 17,
     "metadata": {},
     "output_type": "execute_result"
    }
   ],
   "source": [
    "y_array.shape"
   ]
  },
  {
   "cell_type": "code",
   "execution_count": 18,
   "id": "8a0ef9fd",
   "metadata": {},
   "outputs": [],
   "source": [
    "z_array = np.array(diseased_z)"
   ]
  },
  {
   "cell_type": "code",
   "execution_count": 19,
   "id": "093f21e4",
   "metadata": {},
   "outputs": [
    {
     "data": {
      "text/plain": [
       "(60,)"
      ]
     },
     "execution_count": 19,
     "metadata": {},
     "output_type": "execute_result"
    }
   ],
   "source": [
    "z_array.shape"
   ]
  },
  {
   "cell_type": "code",
   "execution_count": null,
   "id": "28f0b265",
   "metadata": {},
   "outputs": [],
   "source": [
    "#np.save(new_path + \"/x-axis\", x_array, allow_pickle= True)\n",
    "#np.save(new_path + \"/y-axis\", y_array, allow_pickle= True)\n",
    "#np.save(new_path + \"/z-axis\", z_array, allow_pickle= True)\n",
    "\n"
   ]
  },
  {
   "cell_type": "code",
   "execution_count": null,
   "id": "2e45905a",
   "metadata": {},
   "outputs": [],
   "source": []
  }
 ],
 "metadata": {
  "kernelspec": {
   "display_name": "Python 3 (ipykernel)",
   "language": "python",
   "name": "python3"
  },
  "language_info": {
   "codemirror_mode": {
    "name": "ipython",
    "version": 3
   },
   "file_extension": ".py",
   "mimetype": "text/x-python",
   "name": "python",
   "nbconvert_exporter": "python",
   "pygments_lexer": "ipython3",
   "version": "3.9.9"
  }
 },
 "nbformat": 4,
 "nbformat_minor": 5
}
